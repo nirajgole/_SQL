{
    "metadata": {
        "kernelspec": {
            "name": "SQL",
            "display_name": "SQL",
            "language": "sql"
        },
        "language_info": {
            "name": "sql",
            "version": ""
        }
    },
    "nbformat_minor": 2,
    "nbformat": 4,
    "cells": [
        {
            "cell_type": "code",
            "source": [
                "USE SQL_PRACTICE"
            ],
            "metadata": {
                "azdata_cell_guid": "850b1619-16f9-4570-a0a9-3f8d51c583a9",
                "language": "sql"
            },
            "outputs": [
                {
                    "output_type": "display_data",
                    "data": {
                        "text/html": "Commands completed successfully."
                    },
                    "metadata": {}
                },
                {
                    "output_type": "display_data",
                    "data": {
                        "text/html": "Total execution time: 00:00:00"
                    },
                    "metadata": {}
                }
            ],
            "execution_count": 4
        },
        {
            "cell_type": "code",
            "source": [
                "SELECT TOP(10) *\r\n",
                "FROM SOFTWARE"
            ],
            "metadata": {
                "azdata_cell_guid": "ade2be6a-1482-4008-9cb4-dfa9370ca484",
                "language": "sql",
                "tags": []
            },
            "outputs": [
                {
                    "output_type": "display_data",
                    "data": {
                        "text/html": "(10 rows affected)"
                    },
                    "metadata": {}
                },
                {
                    "output_type": "display_data",
                    "data": {
                        "text/html": "Total execution time: 00:00:00.002"
                    },
                    "metadata": {}
                },
                {
                    "output_type": "execute_result",
                    "metadata": {},
                    "execution_count": 5,
                    "data": {
                        "application/vnd.dataresource+json": {
                            "schema": {
                                "fields": [
                                    {
                                        "name": "PNAME"
                                    },
                                    {
                                        "name": "TITLE"
                                    },
                                    {
                                        "name": "DEVELOPIN"
                                    },
                                    {
                                        "name": "SCOST"
                                    },
                                    {
                                        "name": "DCOST"
                                    },
                                    {
                                        "name": "SOLD"
                                    }
                                ]
                            },
                            "data": [
                                {
                                    "0": "MARY",
                                    "1": "README",
                                    "2": "CPP",
                                    "3": "300",
                                    "4": "1200",
                                    "5": "84"
                                },
                                {
                                    "0": "ANAND",
                                    "1": "PARACHUTES",
                                    "2": "BASIC",
                                    "3": "399.95",
                                    "4": "6000",
                                    "5": "43"
                                },
                                {
                                    "0": "ANAND",
                                    "1": "VIDEO TITLING",
                                    "2": "PASCAL",
                                    "3": "7500",
                                    "4": "16000",
                                    "5": "9"
                                },
                                {
                                    "0": "JULIANA",
                                    "1": "INVENTORY",
                                    "2": "COBOL",
                                    "3": "3000",
                                    "4": "3500",
                                    "5": "0"
                                },
                                {
                                    "0": "KAMALA",
                                    "1": "PAYROLL PKG.",
                                    "2": "DBASE",
                                    "3": "9000",
                                    "4": "20000",
                                    "5": "7"
                                },
                                {
                                    "0": "MARY",
                                    "1": "FINANCIAL ACCT.",
                                    "2": "ORACLE",
                                    "3": "18000",
                                    "4": "85000",
                                    "5": "4"
                                },
                                {
                                    "0": "MARY",
                                    "1": "CODE GENERATOR",
                                    "2": "C",
                                    "3": "4500",
                                    "4": "20000",
                                    "5": "23"
                                },
                                {
                                    "0": "PATTRICK",
                                    "1": "README",
                                    "2": "CPP",
                                    "3": "300",
                                    "4": "1200",
                                    "5": "84"
                                },
                                {
                                    "0": "QADIR",
                                    "1": "BOMBS AWAY",
                                    "2": "ASSEMBLY",
                                    "3": "750",
                                    "4": "3000",
                                    "5": "11"
                                },
                                {
                                    "0": "QADIR",
                                    "1": "VACCINES",
                                    "2": "C",
                                    "3": "1900",
                                    "4": "3100",
                                    "5": "21"
                                }
                            ]
                        },
                        "text/html": [
                            "<table>",
                            "<tr><th>PNAME</th><th>TITLE</th><th>DEVELOPIN</th><th>SCOST</th><th>DCOST</th><th>SOLD</th></tr>",
                            "<tr><td>MARY</td><td>README</td><td>CPP</td><td>300</td><td>1200</td><td>84</td></tr>",
                            "<tr><td>ANAND</td><td>PARACHUTES</td><td>BASIC</td><td>399.95</td><td>6000</td><td>43</td></tr>",
                            "<tr><td>ANAND</td><td>VIDEO TITLING</td><td>PASCAL</td><td>7500</td><td>16000</td><td>9</td></tr>",
                            "<tr><td>JULIANA</td><td>INVENTORY</td><td>COBOL</td><td>3000</td><td>3500</td><td>0</td></tr>",
                            "<tr><td>KAMALA</td><td>PAYROLL PKG.</td><td>DBASE</td><td>9000</td><td>20000</td><td>7</td></tr>",
                            "<tr><td>MARY</td><td>FINANCIAL ACCT.</td><td>ORACLE</td><td>18000</td><td>85000</td><td>4</td></tr>",
                            "<tr><td>MARY</td><td>CODE GENERATOR</td><td>C</td><td>4500</td><td>20000</td><td>23</td></tr>",
                            "<tr><td>PATTRICK</td><td>README</td><td>CPP</td><td>300</td><td>1200</td><td>84</td></tr>",
                            "<tr><td>QADIR</td><td>BOMBS AWAY</td><td>ASSEMBLY</td><td>750</td><td>3000</td><td>11</td></tr>",
                            "<tr><td>QADIR</td><td>VACCINES</td><td>C</td><td>1900</td><td>3100</td><td>21</td></tr>",
                            "</table>"
                        ]
                    }
                }
            ],
            "execution_count": 5
        },
        {
            "cell_type": "code",
            "source": [
                "SELECT TOP(10) *\r\n",
                "FROM PROGRAMMER;"
            ],
            "metadata": {
                "language": "sql",
                "azdata_cell_guid": "24161fe8-c051-44fa-958b-c8eabff776a3",
                "tags": []
            },
            "outputs": [
                {
                    "output_type": "display_data",
                    "data": {
                        "text/html": "(10 rows affected)"
                    },
                    "metadata": {}
                },
                {
                    "output_type": "display_data",
                    "data": {
                        "text/html": "Total execution time: 00:00:00.031"
                    },
                    "metadata": {}
                },
                {
                    "output_type": "execute_result",
                    "metadata": {},
                    "execution_count": 6,
                    "data": {
                        "application/vnd.dataresource+json": {
                            "schema": {
                                "fields": [
                                    {
                                        "name": "PNAME"
                                    },
                                    {
                                        "name": "DOB"
                                    },
                                    {
                                        "name": "DOJ"
                                    },
                                    {
                                        "name": "GENDER"
                                    },
                                    {
                                        "name": "PROF1"
                                    },
                                    {
                                        "name": "PROF2"
                                    },
                                    {
                                        "name": "SALARY"
                                    }
                                ]
                            },
                            "data": [
                                {
                                    "0": "ANAND",
                                    "1": "1966-04-12",
                                    "2": "1992-04-21",
                                    "3": "M",
                                    "4": "PASCAL",
                                    "5": "BASIC",
                                    "6": "3200"
                                },
                                {
                                    "0": "ALTAF",
                                    "1": "1964-07-02",
                                    "2": "1990-11-13",
                                    "3": "M",
                                    "4": "CLIPPER",
                                    "5": "COBOL",
                                    "6": "2800"
                                },
                                {
                                    "0": "JULIANA",
                                    "1": "1960-01-31",
                                    "2": "1990-04-21",
                                    "3": "F",
                                    "4": "COBOL",
                                    "5": "DBASE",
                                    "6": "3000"
                                },
                                {
                                    "0": "KAMALA",
                                    "1": "1968-10-30",
                                    "2": "1992-01-02",
                                    "3": "F",
                                    "4": "C",
                                    "5": "DBASE",
                                    "6": "2900"
                                },
                                {
                                    "0": "MARY",
                                    "1": "1970-06-24",
                                    "2": "1991-02-01",
                                    "3": "F",
                                    "4": "CPP",
                                    "5": "ORACLE",
                                    "6": "4500"
                                },
                                {
                                    "0": "NELSON",
                                    "1": "1985-09-11",
                                    "2": "1989-10-11",
                                    "3": "M",
                                    "4": "COBOL",
                                    "5": "DBASE",
                                    "6": "2500"
                                },
                                {
                                    "0": "PATTRICK",
                                    "1": "1965-11-10",
                                    "2": "1990-04-21",
                                    "3": "M",
                                    "4": "PASCAL",
                                    "5": "CLIPPER",
                                    "6": "2800"
                                },
                                {
                                    "0": "QADIR",
                                    "1": "1965-08-31",
                                    "2": "1991-04-21",
                                    "3": "M",
                                    "4": "ASSEMBLY",
                                    "5": "C",
                                    "6": "3000"
                                },
                                {
                                    "0": "RAMESH",
                                    "1": "1967-05-03",
                                    "2": "1991-02-28",
                                    "3": "M",
                                    "4": "PASCAL",
                                    "5": "DBASE",
                                    "6": "3200"
                                },
                                {
                                    "0": "REBECCA",
                                    "1": "1967-01-01",
                                    "2": "1990-12-01",
                                    "3": "F",
                                    "4": "BASIC",
                                    "5": "COBOL",
                                    "6": "2500"
                                }
                            ]
                        },
                        "text/html": [
                            "<table>",
                            "<tr><th>PNAME</th><th>DOB</th><th>DOJ</th><th>GENDER</th><th>PROF1</th><th>PROF2</th><th>SALARY</th></tr>",
                            "<tr><td>ANAND</td><td>1966-04-12</td><td>1992-04-21</td><td>M</td><td>PASCAL</td><td>BASIC</td><td>3200</td></tr>",
                            "<tr><td>ALTAF</td><td>1964-07-02</td><td>1990-11-13</td><td>M</td><td>CLIPPER</td><td>COBOL</td><td>2800</td></tr>",
                            "<tr><td>JULIANA</td><td>1960-01-31</td><td>1990-04-21</td><td>F</td><td>COBOL</td><td>DBASE</td><td>3000</td></tr>",
                            "<tr><td>KAMALA</td><td>1968-10-30</td><td>1992-01-02</td><td>F</td><td>C</td><td>DBASE</td><td>2900</td></tr>",
                            "<tr><td>MARY</td><td>1970-06-24</td><td>1991-02-01</td><td>F</td><td>CPP</td><td>ORACLE</td><td>4500</td></tr>",
                            "<tr><td>NELSON</td><td>1985-09-11</td><td>1989-10-11</td><td>M</td><td>COBOL</td><td>DBASE</td><td>2500</td></tr>",
                            "<tr><td>PATTRICK</td><td>1965-11-10</td><td>1990-04-21</td><td>M</td><td>PASCAL</td><td>CLIPPER</td><td>2800</td></tr>",
                            "<tr><td>QADIR</td><td>1965-08-31</td><td>1991-04-21</td><td>M</td><td>ASSEMBLY</td><td>C</td><td>3000</td></tr>",
                            "<tr><td>RAMESH</td><td>1967-05-03</td><td>1991-02-28</td><td>M</td><td>PASCAL</td><td>DBASE</td><td>3200</td></tr>",
                            "<tr><td>REBECCA</td><td>1967-01-01</td><td>1990-12-01</td><td>F</td><td>BASIC</td><td>COBOL</td><td>2500</td></tr>",
                            "</table>"
                        ]
                    }
                }
            ],
            "execution_count": 6
        },
        {
            "cell_type": "code",
            "source": [
                "SELECT TOP(10) *\r\n",
                "FROM STUDIES;"
            ],
            "metadata": {
                "language": "sql",
                "azdata_cell_guid": "de456675-497d-41d0-9fc6-6af9b62f71a3",
                "tags": []
            },
            "outputs": [
                {
                    "output_type": "display_data",
                    "data": {
                        "text/html": "(10 rows affected)"
                    },
                    "metadata": {}
                },
                {
                    "output_type": "display_data",
                    "data": {
                        "text/html": "Total execution time: 00:00:00.030"
                    },
                    "metadata": {}
                },
                {
                    "output_type": "execute_result",
                    "metadata": {},
                    "execution_count": 7,
                    "data": {
                        "application/vnd.dataresource+json": {
                            "schema": {
                                "fields": [
                                    {
                                        "name": "PNAME"
                                    },
                                    {
                                        "name": "INSTITUTE"
                                    },
                                    {
                                        "name": "COURSE"
                                    },
                                    {
                                        "name": "COURSE FEE"
                                    }
                                ]
                            },
                            "data": [
                                {
                                    "0": "ANAND",
                                    "1": "SABHARI",
                                    "2": "PGDCA",
                                    "3": "4500"
                                },
                                {
                                    "0": "ALTAF",
                                    "1": "COIT",
                                    "2": "DCA",
                                    "3": "7200"
                                },
                                {
                                    "0": "JULIANA",
                                    "1": "BDPS",
                                    "2": "MCA",
                                    "3": "22000"
                                },
                                {
                                    "0": "KAMALA",
                                    "1": "PRAGATHI",
                                    "2": "DCA",
                                    "3": "5000"
                                },
                                {
                                    "0": "MARY",
                                    "1": "SABHARI",
                                    "2": "PGDCA",
                                    "3": "4500"
                                },
                                {
                                    "0": "NELSON",
                                    "1": "PRAGATHI",
                                    "2": "DAP",
                                    "3": "6200"
                                },
                                {
                                    "0": "PATRICK",
                                    "1": "PRAGATHI",
                                    "2": "DCAP",
                                    "3": "5200"
                                },
                                {
                                    "0": "QADIR",
                                    "1": "APPLE",
                                    "2": "HDCA",
                                    "3": "14000"
                                },
                                {
                                    "0": "RAMESH",
                                    "1": "SABHARI",
                                    "2": "PGDCA",
                                    "3": "4500"
                                },
                                {
                                    "0": "REBECCA",
                                    "1": "BRILLIANT",
                                    "2": "DCAP",
                                    "3": "11000"
                                }
                            ]
                        },
                        "text/html": [
                            "<table>",
                            "<tr><th>PNAME</th><th>INSTITUTE</th><th>COURSE</th><th>COURSE FEE</th></tr>",
                            "<tr><td>ANAND</td><td>SABHARI</td><td>PGDCA</td><td>4500</td></tr>",
                            "<tr><td>ALTAF</td><td>COIT</td><td>DCA</td><td>7200</td></tr>",
                            "<tr><td>JULIANA</td><td>BDPS</td><td>MCA</td><td>22000</td></tr>",
                            "<tr><td>KAMALA</td><td>PRAGATHI</td><td>DCA</td><td>5000</td></tr>",
                            "<tr><td>MARY</td><td>SABHARI</td><td>PGDCA</td><td>4500</td></tr>",
                            "<tr><td>NELSON</td><td>PRAGATHI</td><td>DAP</td><td>6200</td></tr>",
                            "<tr><td>PATRICK</td><td>PRAGATHI</td><td>DCAP</td><td>5200</td></tr>",
                            "<tr><td>QADIR</td><td>APPLE</td><td>HDCA</td><td>14000</td></tr>",
                            "<tr><td>RAMESH</td><td>SABHARI</td><td>PGDCA</td><td>4500</td></tr>",
                            "<tr><td>REBECCA</td><td>BRILLIANT</td><td>DCAP</td><td>11000</td></tr>",
                            "</table>"
                        ]
                    }
                }
            ],
            "execution_count": 7
        },
        {
            "cell_type": "code",
            "source": [
                "-- 1. Find out the selling cost AVG for packages developed in PascaL\r\n",
                "SELECT AVG(CAST(SCOST AS FLOAT)) AS PASCAL_SCOST_AVG\r\n",
                "FROM SOFTWARE\r\n",
                "WHERE DEVELOPIN='PASCAL';\r\n",
                ""
            ],
            "metadata": {
                "language": "sql",
                "azdata_cell_guid": "9b0884aa-4225-455e-bb18-b63d00f46fc7",
                "tags": []
            },
            "outputs": [
                {
                    "output_type": "display_data",
                    "data": {
                        "text/html": "(1 row affected)"
                    },
                    "metadata": {}
                },
                {
                    "output_type": "display_data",
                    "data": {
                        "text/html": "Total execution time: 00:00:00.005"
                    },
                    "metadata": {}
                },
                {
                    "output_type": "execute_result",
                    "metadata": {},
                    "execution_count": 8,
                    "data": {
                        "application/vnd.dataresource+json": {
                            "schema": {
                                "fields": [
                                    {
                                        "name": "PASCAL_SCOST_AVG"
                                    }
                                ]
                            },
                            "data": [
                                {
                                    "0": "3066.65"
                                }
                            ]
                        },
                        "text/html": [
                            "<table>",
                            "<tr><th>PASCAL_SCOST_AVG</th></tr>",
                            "<tr><td>3066.65</td></tr>",
                            "</table>"
                        ]
                    }
                }
            ],
            "execution_count": 8
        },
        {
            "cell_type": "code",
            "source": [
                "-- 2. Display Names, Ages of all Programmers\r\n",
                "-- SELECT * FROM INFORMATION_SCHEMA.COLUMNS WHERE TABLE_NAME='PROGRAMMER'\r\n",
                "SELECT PNAME AS NAME, DATEDIFF(YY,DOB,GETDATE()) AS \"AGES(YEARS)\" FROM PROGRAMMER;"
            ],
            "metadata": {
                "language": "sql",
                "azdata_cell_guid": "4503463d-0e61-4e13-b2c6-fb761d81454b",
                "tags": []
            },
            "outputs": [
                {
                    "output_type": "display_data",
                    "data": {
                        "text/html": "(13 rows affected)"
                    },
                    "metadata": {}
                },
                {
                    "output_type": "display_data",
                    "data": {
                        "text/html": "Total execution time: 00:00:00.003"
                    },
                    "metadata": {}
                },
                {
                    "output_type": "execute_result",
                    "metadata": {},
                    "execution_count": 9,
                    "data": {
                        "application/vnd.dataresource+json": {
                            "schema": {
                                "fields": [
                                    {
                                        "name": "NAME"
                                    },
                                    {
                                        "name": "AGES(YEARS)"
                                    }
                                ]
                            },
                            "data": [
                                {
                                    "0": "ANAND",
                                    "1": "57"
                                },
                                {
                                    "0": "ALTAF",
                                    "1": "59"
                                },
                                {
                                    "0": "JULIANA",
                                    "1": "63"
                                },
                                {
                                    "0": "KAMALA",
                                    "1": "55"
                                },
                                {
                                    "0": "MARY",
                                    "1": "53"
                                },
                                {
                                    "0": "NELSON",
                                    "1": "38"
                                },
                                {
                                    "0": "PATTRICK",
                                    "1": "58"
                                },
                                {
                                    "0": "QADIR",
                                    "1": "58"
                                },
                                {
                                    "0": "RAMESH",
                                    "1": "56"
                                },
                                {
                                    "0": "REBECCA",
                                    "1": "56"
                                },
                                {
                                    "0": "REMITHA",
                                    "1": "53"
                                },
                                {
                                    "0": "REVATHI",
                                    "1": "54"
                                },
                                {
                                    "0": "VIJAYA",
                                    "1": "58"
                                }
                            ]
                        },
                        "text/html": [
                            "<table>",
                            "<tr><th>NAME</th><th>AGES(YEARS)</th></tr>",
                            "<tr><td>ANAND</td><td>57</td></tr>",
                            "<tr><td>ALTAF</td><td>59</td></tr>",
                            "<tr><td>JULIANA</td><td>63</td></tr>",
                            "<tr><td>KAMALA</td><td>55</td></tr>",
                            "<tr><td>MARY</td><td>53</td></tr>",
                            "<tr><td>NELSON</td><td>38</td></tr>",
                            "<tr><td>PATTRICK</td><td>58</td></tr>",
                            "<tr><td>QADIR</td><td>58</td></tr>",
                            "<tr><td>RAMESH</td><td>56</td></tr>",
                            "<tr><td>REBECCA</td><td>56</td></tr>",
                            "<tr><td>REMITHA</td><td>53</td></tr>",
                            "<tr><td>REVATHI</td><td>54</td></tr>",
                            "<tr><td>VIJAYA</td><td>58</td></tr>",
                            "</table>"
                        ]
                    }
                }
            ],
            "execution_count": 9
        },
        {
            "cell_type": "code",
            "source": [
                "-- 3. Display the Names of those who have done the DAP Course.\r\n",
                "SELECT PNAME AS NAME\r\n",
                "FROM STUDIES\r\n",
                "WHERE COURSE='DAP'"
            ],
            "metadata": {
                "language": "sql",
                "azdata_cell_guid": "e7c91973-5623-4737-8040-a102b725c574",
                "tags": []
            },
            "outputs": [
                {
                    "output_type": "display_data",
                    "data": {
                        "text/html": "(2 rows affected)"
                    },
                    "metadata": {}
                },
                {
                    "output_type": "display_data",
                    "data": {
                        "text/html": "Total execution time: 00:00:00.002"
                    },
                    "metadata": {}
                },
                {
                    "output_type": "execute_result",
                    "metadata": {},
                    "execution_count": 10,
                    "data": {
                        "application/vnd.dataresource+json": {
                            "schema": {
                                "fields": [
                                    {
                                        "name": "NAME"
                                    }
                                ]
                            },
                            "data": [
                                {
                                    "0": "NELSON"
                                },
                                {
                                    "0": "REVATHI"
                                }
                            ]
                        },
                        "text/html": [
                            "<table>",
                            "<tr><th>NAME</th></tr>",
                            "<tr><td>NELSON</td></tr>",
                            "<tr><td>REVATHI</td></tr>",
                            "</table>"
                        ]
                    }
                }
            ],
            "execution_count": 10
        },
        {
            "cell_type": "code",
            "source": [
                "-- 4. Display the Names and Date of Births of all Programmers Born in January.\r\n",
                "SELECT \r\n",
                "    PNAME AS NAME,\r\n",
                "    DOB AS \"DATE OF BIRTH\"\r\n",
                "FROM PROGRAMMER\r\n",
                "WHERE DATENAME(MM,DOB) LIKE 'JAN%'"
            ],
            "metadata": {
                "language": "sql",
                "azdata_cell_guid": "e691e8ac-8807-48e2-9982-3d44016116f5"
            },
            "outputs": [
                {
                    "output_type": "display_data",
                    "data": {
                        "text/html": "(2 rows affected)"
                    },
                    "metadata": {}
                },
                {
                    "output_type": "display_data",
                    "data": {
                        "text/html": "Total execution time: 00:00:00.002"
                    },
                    "metadata": {}
                },
                {
                    "output_type": "execute_result",
                    "metadata": {},
                    "execution_count": 11,
                    "data": {
                        "application/vnd.dataresource+json": {
                            "schema": {
                                "fields": [
                                    {
                                        "name": "NAME"
                                    },
                                    {
                                        "name": "DATE OF BIRTH"
                                    }
                                ]
                            },
                            "data": [
                                {
                                    "0": "JULIANA",
                                    "1": "1960-01-31"
                                },
                                {
                                    "0": "REBECCA",
                                    "1": "1967-01-01"
                                }
                            ]
                        },
                        "text/html": [
                            "<table>",
                            "<tr><th>NAME</th><th>DATE OF BIRTH</th></tr>",
                            "<tr><td>JULIANA</td><td>1960-01-31</td></tr>",
                            "<tr><td>REBECCA</td><td>1967-01-01</td></tr>",
                            "</table>"
                        ]
                    }
                }
            ],
            "execution_count": 11
        },
        {
            "cell_type": "code",
            "source": [
                "-- 5. Display the Details of the Software Developed by Ramesh.\r\n",
                "SELECT \r\n",
                "    TITLE,\r\n",
                "    DEVELOPIN,\r\n",
                "    SCOST,\r\n",
                "    DCOST,\r\n",
                "    SOLD\r\n",
                "FROM SOFTWARE\r\n",
                "WHERE PNAME='RAMESH'"
            ],
            "metadata": {
                "language": "sql",
                "azdata_cell_guid": "ca9a1e63-f0d9-4d39-9ca5-a21e0ffe1fa7"
            },
            "outputs": [
                {
                    "output_type": "display_data",
                    "data": {
                        "text/html": "(2 rows affected)"
                    },
                    "metadata": {}
                },
                {
                    "output_type": "display_data",
                    "data": {
                        "text/html": "Total execution time: 00:00:00.002"
                    },
                    "metadata": {}
                },
                {
                    "output_type": "execute_result",
                    "metadata": {},
                    "execution_count": 12,
                    "data": {
                        "application/vnd.dataresource+json": {
                            "schema": {
                                "fields": [
                                    {
                                        "name": "TITLE"
                                    },
                                    {
                                        "name": "DEVELOPIN"
                                    },
                                    {
                                        "name": "SCOST"
                                    },
                                    {
                                        "name": "DCOST"
                                    },
                                    {
                                        "name": "SOLD"
                                    }
                                ]
                            },
                            "data": [
                                {
                                    "0": "HOTEL MGMT.",
                                    "1": "DBASE",
                                    "2": "13000",
                                    "3": "35000",
                                    "4": "4"
                                },
                                {
                                    "0": "DEAD LEE",
                                    "1": "PASCAL",
                                    "2": "599.95",
                                    "3": "4500",
                                    "4": "73"
                                }
                            ]
                        },
                        "text/html": [
                            "<table>",
                            "<tr><th>TITLE</th><th>DEVELOPIN</th><th>SCOST</th><th>DCOST</th><th>SOLD</th></tr>",
                            "<tr><td>HOTEL MGMT.</td><td>DBASE</td><td>13000</td><td>35000</td><td>4</td></tr>",
                            "<tr><td>DEAD LEE</td><td>PASCAL</td><td>599.95</td><td>4500</td><td>73</td></tr>",
                            "</table>"
                        ]
                    }
                }
            ],
            "execution_count": 12
        },
        {
            "cell_type": "code",
            "source": [
                "-- 6. Display the Details of Packages for which Development Cost have been recovered.\r\n",
                "SELECT \r\n",
                "    TITLE\r\n",
                "FROM SOFTWARE\r\n",
                "WHERE CAST(SCOST AS FLOAT) > CAST(DCOST AS FLOAT)\r\n",
                "GROUP BY TITLE\r\n",
                ""
            ],
            "metadata": {
                "language": "sql",
                "azdata_cell_guid": "f7973f48-88aa-44f0-955e-0d0a2c43b108",
                "tags": []
            },
            "outputs": [
                {
                    "output_type": "display_data",
                    "data": {
                        "text/html": "(1 row affected)"
                    },
                    "metadata": {}
                },
                {
                    "output_type": "display_data",
                    "data": {
                        "text/html": "Total execution time: 00:00:00.002"
                    },
                    "metadata": {}
                },
                {
                    "output_type": "execute_result",
                    "metadata": {},
                    "execution_count": 13,
                    "data": {
                        "application/vnd.dataresource+json": {
                            "schema": {
                                "fields": [
                                    {
                                        "name": "TITLE"
                                    }
                                ]
                            },
                            "data": [
                                {
                                    "0": "TSR EDITOR"
                                }
                            ]
                        },
                        "text/html": [
                            "<table>",
                            "<tr><th>TITLE</th></tr>",
                            "<tr><td>TSR EDITOR</td></tr>",
                            "</table>"
                        ]
                    }
                }
            ],
            "execution_count": 13
        },
        {
            "cell_type": "code",
            "source": [
                "-- 7. Display the details of the Programmers Knowing C.\r\n",
                "SELECT *\r\n",
                "FROM PROGRAMMER\r\n",
                "WHERE PROF1='C' OR PROF2='C'"
            ],
            "metadata": {
                "language": "sql",
                "azdata_cell_guid": "ac0eff14-4990-4543-880a-89a17b5be94f"
            },
            "outputs": [
                {
                    "output_type": "display_data",
                    "data": {
                        "text/html": "(4 rows affected)"
                    },
                    "metadata": {}
                },
                {
                    "output_type": "display_data",
                    "data": {
                        "text/html": "Total execution time: 00:00:00.015"
                    },
                    "metadata": {}
                },
                {
                    "output_type": "execute_result",
                    "metadata": {},
                    "execution_count": 14,
                    "data": {
                        "application/vnd.dataresource+json": {
                            "schema": {
                                "fields": [
                                    {
                                        "name": "PNAME"
                                    },
                                    {
                                        "name": "DOB"
                                    },
                                    {
                                        "name": "DOJ"
                                    },
                                    {
                                        "name": "GENDER"
                                    },
                                    {
                                        "name": "PROF1"
                                    },
                                    {
                                        "name": "PROF2"
                                    },
                                    {
                                        "name": "SALARY"
                                    }
                                ]
                            },
                            "data": [
                                {
                                    "0": "KAMALA",
                                    "1": "1968-10-30",
                                    "2": "1992-01-02",
                                    "3": "F",
                                    "4": "C",
                                    "5": "DBASE",
                                    "6": "2900"
                                },
                                {
                                    "0": "QADIR",
                                    "1": "1965-08-31",
                                    "2": "1991-04-21",
                                    "3": "M",
                                    "4": "ASSEMBLY",
                                    "5": "C",
                                    "6": "3000"
                                },
                                {
                                    "0": "REMITHA",
                                    "1": "1970-04-19",
                                    "2": "1993-04-20",
                                    "3": "F",
                                    "4": "C",
                                    "5": "ASSEMBLY",
                                    "6": "3600"
                                },
                                {
                                    "0": "VIJAYA",
                                    "1": "1965-12-14",
                                    "2": "1992-05-02",
                                    "3": "F",
                                    "4": "FOXPRO",
                                    "5": "C",
                                    "6": "3500"
                                }
                            ]
                        },
                        "text/html": [
                            "<table>",
                            "<tr><th>PNAME</th><th>DOB</th><th>DOJ</th><th>GENDER</th><th>PROF1</th><th>PROF2</th><th>SALARY</th></tr>",
                            "<tr><td>KAMALA</td><td>1968-10-30</td><td>1992-01-02</td><td>F</td><td>C</td><td>DBASE</td><td>2900</td></tr>",
                            "<tr><td>QADIR</td><td>1965-08-31</td><td>1991-04-21</td><td>M</td><td>ASSEMBLY</td><td>C</td><td>3000</td></tr>",
                            "<tr><td>REMITHA</td><td>1970-04-19</td><td>1993-04-20</td><td>F</td><td>C</td><td>ASSEMBLY</td><td>3600</td></tr>",
                            "<tr><td>VIJAYA</td><td>1965-12-14</td><td>1992-05-02</td><td>F</td><td>FOXPRO</td><td>C</td><td>3500</td></tr>",
                            "</table>"
                        ]
                    }
                }
            ],
            "execution_count": 14
        },
        {
            "cell_type": "code",
            "source": [
                "-- 8. What are the Languages studied by Male Programmers?\r\n",
                "SELECT PROF1 AS MALE_DEV_LAN FROM PROGRAMMER WHERE GENDER='M'\r\n",
                "UNION\r\n",
                "SELECT PROF2 FROM PROGRAMMER WHERE GENDER='M'"
            ],
            "metadata": {
                "language": "sql",
                "azdata_cell_guid": "7f769549-e345-4a34-81e5-1793c4b30f6d",
                "tags": []
            },
            "outputs": [
                {
                    "output_type": "display_data",
                    "data": {
                        "text/html": "(7 rows affected)"
                    },
                    "metadata": {}
                },
                {
                    "output_type": "display_data",
                    "data": {
                        "text/html": "Total execution time: 00:00:00.003"
                    },
                    "metadata": {}
                },
                {
                    "output_type": "execute_result",
                    "metadata": {},
                    "execution_count": 15,
                    "data": {
                        "application/vnd.dataresource+json": {
                            "schema": {
                                "fields": [
                                    {
                                        "name": "MALE_DEV_LAN"
                                    }
                                ]
                            },
                            "data": [
                                {
                                    "0": "ASSEMBLY"
                                },
                                {
                                    "0": "BASIC"
                                },
                                {
                                    "0": "C"
                                },
                                {
                                    "0": "CLIPPER"
                                },
                                {
                                    "0": "COBOL"
                                },
                                {
                                    "0": "DBASE"
                                },
                                {
                                    "0": "PASCAL"
                                }
                            ]
                        },
                        "text/html": [
                            "<table>",
                            "<tr><th>MALE_DEV_LAN</th></tr>",
                            "<tr><td>ASSEMBLY</td></tr>",
                            "<tr><td>BASIC</td></tr>",
                            "<tr><td>C</td></tr>",
                            "<tr><td>CLIPPER</td></tr>",
                            "<tr><td>COBOL</td></tr>",
                            "<tr><td>DBASE</td></tr>",
                            "<tr><td>PASCAL</td></tr>",
                            "</table>"
                        ]
                    }
                }
            ],
            "execution_count": 15
        },
        {
            "cell_type": "code",
            "source": [
                "-- 9. Display the details of the Programmers who joined before 1990.\r\n",
                "SELECT *\r\n",
                "FROM PROGRAMMER\r\n",
                "WHERE DATENAME(YY,DOJ) < 1990"
            ],
            "metadata": {
                "language": "sql",
                "azdata_cell_guid": "dd737118-e8e0-4738-8afa-1276f75bf1e3"
            },
            "outputs": [
                {
                    "output_type": "display_data",
                    "data": {
                        "text/html": "(1 row affected)"
                    },
                    "metadata": {}
                },
                {
                    "output_type": "display_data",
                    "data": {
                        "text/html": "Total execution time: 00:00:00.002"
                    },
                    "metadata": {}
                },
                {
                    "output_type": "execute_result",
                    "metadata": {},
                    "execution_count": 16,
                    "data": {
                        "application/vnd.dataresource+json": {
                            "schema": {
                                "fields": [
                                    {
                                        "name": "PNAME"
                                    },
                                    {
                                        "name": "DOB"
                                    },
                                    {
                                        "name": "DOJ"
                                    },
                                    {
                                        "name": "GENDER"
                                    },
                                    {
                                        "name": "PROF1"
                                    },
                                    {
                                        "name": "PROF2"
                                    },
                                    {
                                        "name": "SALARY"
                                    }
                                ]
                            },
                            "data": [
                                {
                                    "0": "NELSON",
                                    "1": "1985-09-11",
                                    "2": "1989-10-11",
                                    "3": "M",
                                    "4": "COBOL",
                                    "5": "DBASE",
                                    "6": "2500"
                                }
                            ]
                        },
                        "text/html": [
                            "<table>",
                            "<tr><th>PNAME</th><th>DOB</th><th>DOJ</th><th>GENDER</th><th>PROF1</th><th>PROF2</th><th>SALARY</th></tr>",
                            "<tr><td>NELSON</td><td>1985-09-11</td><td>1989-10-11</td><td>M</td><td>COBOL</td><td>DBASE</td><td>2500</td></tr>",
                            "</table>"
                        ]
                    }
                }
            ],
            "execution_count": 16
        },
        {
            "cell_type": "code",
            "source": [
                "-- 10. Who are the authors of the Packages, which have recovered more than double the Development cost\r\n",
                "SELECT \r\n",
                "    PNAME\r\n",
                "FROM SOFTWARE\r\n",
                "WHERE CAST(SCOST AS FLOAT) > CAST(DCOST AS FLOAT)*2\r\n",
                "GROUP BY PNAME"
            ],
            "metadata": {
                "language": "sql",
                "azdata_cell_guid": "4fee8aae-8246-4676-b690-15a9ad605913"
            },
            "outputs": [
                {
                    "output_type": "display_data",
                    "data": {
                        "text/html": "(0 rows affected)"
                    },
                    "metadata": {}
                },
                {
                    "output_type": "display_data",
                    "data": {
                        "text/html": "Total execution time: 00:00:00.002"
                    },
                    "metadata": {}
                },
                {
                    "output_type": "execute_result",
                    "metadata": {},
                    "execution_count": 17,
                    "data": {
                        "application/vnd.dataresource+json": {
                            "schema": {
                                "fields": [
                                    {
                                        "name": "PNAME"
                                    }
                                ]
                            },
                            "data": []
                        },
                        "text/html": [
                            "<table>",
                            "<tr><th>PNAME</th></tr>",
                            "</table>"
                        ]
                    }
                }
            ],
            "execution_count": 17
        }
    ]
}
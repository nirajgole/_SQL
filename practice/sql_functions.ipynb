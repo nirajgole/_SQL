{
    "metadata": {
        "kernelspec": {
            "name": "SQL",
            "display_name": "SQL",
            "language": "sql"
        },
        "language_info": {
            "name": "sql",
            "version": ""
        }
    },
    "nbformat_minor": 2,
    "nbformat": 4,
    "cells": [
        {
            "cell_type": "code",
            "source": [
                "use SQL_PRACTICE;\n",
                "SELECT *\n",
                "FROM EmployeeDetails;"
            ],
            "metadata": {
                "azdata_cell_guid": "3c0c48c2-d029-4a76-b205-6804ecc0f314",
                "language": "sql",
                "tags": []
            },
            "outputs": [
                {
                    "output_type": "display_data",
                    "data": {
                        "text/html": "(9 rows affected)"
                    },
                    "metadata": {}
                },
                {
                    "output_type": "display_data",
                    "data": {
                        "text/html": "Total execution time: 00:00:00.005"
                    },
                    "metadata": {}
                },
                {
                    "output_type": "execute_result",
                    "execution_count": 1,
                    "data": {
                        "application/vnd.dataresource+json": {
                            "schema": {
                                "fields": [
                                    {
                                        "name": "EmployeeID"
                                    },
                                    {
                                        "name": "FirstName"
                                    },
                                    {
                                        "name": "LastName"
                                    },
                                    {
                                        "name": "DepartmentID"
                                    },
                                    {
                                        "name": "ClientID"
                                    },
                                    {
                                        "name": "DOB"
                                    },
                                    {
                                        "name": "DOJ"
                                    },
                                    {
                                        "name": "Salary"
                                    },
                                    {
                                        "name": "Gender"
                                    }
                                ]
                            },
                            "data": [
                                {
                                    "0": "1",
                                    "1": "Sahil",
                                    "2": "Ahmed",
                                    "3": "1",
                                    "4": "2",
                                    "5": "1998-01-21",
                                    "6": "2022-01-28",
                                    "7": "61200",
                                    "8": "M"
                                },
                                {
                                    "0": "2",
                                    "1": "vaishnavi",
                                    "2": "arya",
                                    "3": "1",
                                    "4": "2",
                                    "5": "2000-01-12",
                                    "6": "2022-01-28",
                                    "7": "51726",
                                    "8": "M"
                                },
                                {
                                    "0": "3",
                                    "1": "saransh",
                                    "2": "aggarwal",
                                    "3": "2",
                                    "4": "1",
                                    "5": "2005-03-27",
                                    "6": "2022-01-28",
                                    "7": "62071",
                                    "8": "M"
                                },
                                {
                                    "0": "4",
                                    "1": "Aftab",
                                    "2": "Ahemadd",
                                    "3": "2",
                                    "4": "1",
                                    "5": "1998-01-01",
                                    "6": "2022-01-28",
                                    "7": "3240",
                                    "8": "M"
                                },
                                {
                                    "0": "5",
                                    "1": "Rohit",
                                    "2": "SIngh",
                                    "3": "3",
                                    "4": "4",
                                    "5": "1998-01-01",
                                    "6": "2022-01-28",
                                    "7": "2250",
                                    "8": "F"
                                },
                                {
                                    "0": "6",
                                    "1": "rOHiT",
                                    "2": "      Singh          ",
                                    "3": "3",
                                    "4": "4",
                                    "5": "1998-01-01",
                                    "6": "2022-01-28",
                                    "7": "40346",
                                    "8": "F"
                                },
                                {
                                    "0": "7",
                                    "1": "pRiYaNKA",
                                    "2": "chauhan",
                                    "3": "NULL",
                                    "4": "4",
                                    "5": "1998-01-01",
                                    "6": "2022-01-28",
                                    "7": "40346",
                                    "8": "F"
                                },
                                {
                                    "0": "8",
                                    "1": "Sakshi",
                                    "2": "verma",
                                    "3": "1",
                                    "4": "1",
                                    "5": "1999-01-01",
                                    "6": "2023-01-01",
                                    "7": "40346",
                                    "8": "F"
                                },
                                {
                                    "0": "9",
                                    "1": "Hemant",
                                    "2": "Patil",
                                    "3": "1",
                                    "4": "1",
                                    "5": "1999-01-01",
                                    "6": "2020-01-01",
                                    "7": "100000",
                                    "8": "NULL"
                                }
                            ]
                        },
                        "text/html": "<table><tr><th>EmployeeID</th><th>FirstName</th><th>LastName</th><th>DepartmentID</th><th>ClientID</th><th>DOB</th><th>DOJ</th><th>Salary</th><th>Gender</th></tr><tr><td>1</td><td>Sahil</td><td>Ahmed</td><td>1</td><td>2</td><td>1998-01-21</td><td>2022-01-28</td><td>61200</td><td>M</td></tr><tr><td>2</td><td>vaishnavi</td><td>arya</td><td>1</td><td>2</td><td>2000-01-12</td><td>2022-01-28</td><td>51726</td><td>M</td></tr><tr><td>3</td><td>saransh</td><td>aggarwal</td><td>2</td><td>1</td><td>2005-03-27</td><td>2022-01-28</td><td>62071</td><td>M</td></tr><tr><td>4</td><td>Aftab</td><td>Ahemadd</td><td>2</td><td>1</td><td>1998-01-01</td><td>2022-01-28</td><td>3240</td><td>M</td></tr><tr><td>5</td><td>Rohit</td><td>SIngh</td><td>3</td><td>4</td><td>1998-01-01</td><td>2022-01-28</td><td>2250</td><td>F</td></tr><tr><td>6</td><td>rOHiT</td><td>      Singh          </td><td>3</td><td>4</td><td>1998-01-01</td><td>2022-01-28</td><td>40346</td><td>F</td></tr><tr><td>7</td><td>pRiYaNKA</td><td>chauhan</td><td>NULL</td><td>4</td><td>1998-01-01</td><td>2022-01-28</td><td>40346</td><td>F</td></tr><tr><td>8</td><td>Sakshi</td><td>verma</td><td>1</td><td>1</td><td>1999-01-01</td><td>2023-01-01</td><td>40346</td><td>F</td></tr><tr><td>9</td><td>Hemant</td><td>Patil</td><td>1</td><td>1</td><td>1999-01-01</td><td>2020-01-01</td><td>100000</td><td>NULL</td></tr></table>"
                    },
                    "metadata": {}
                }
            ],
            "execution_count": 1
        },
        {
            "cell_type": "code",
            "source": [
                "SELECT *\r\n",
                "FROM Department;"
            ],
            "metadata": {
                "azdata_cell_guid": "91ec1089-ffeb-429d-aa38-8c038a556bbf",
                "language": "sql"
            },
            "outputs": [
                {
                    "output_type": "display_data",
                    "data": {
                        "text/html": "(5 rows affected)"
                    },
                    "metadata": {}
                },
                {
                    "output_type": "display_data",
                    "data": {
                        "text/html": "Total execution time: 00:00:00.002"
                    },
                    "metadata": {}
                },
                {
                    "output_type": "execute_result",
                    "execution_count": 7,
                    "data": {
                        "application/vnd.dataresource+json": {
                            "schema": {
                                "fields": [
                                    {
                                        "name": "DepartmentID"
                                    },
                                    {
                                        "name": "DepartmentName"
                                    }
                                ]
                            },
                            "data": [
                                {
                                    "0": "1",
                                    "1": "IT"
                                },
                                {
                                    "0": "2",
                                    "1": "Account"
                                },
                                {
                                    "0": "3",
                                    "1": "Electronics"
                                },
                                {
                                    "0": "4",
                                    "1": "Accounts"
                                },
                                {
                                    "0": "5",
                                    "1": "Admin"
                                }
                            ]
                        },
                        "text/html": "<table><tr><th>DepartmentID</th><th>DepartmentName</th></tr><tr><td>1</td><td>IT</td></tr><tr><td>2</td><td>Account</td></tr><tr><td>3</td><td>Electronics</td></tr><tr><td>4</td><td>Accounts</td></tr><tr><td>5</td><td>Admin</td></tr></table>"
                    },
                    "metadata": {}
                }
            ],
            "execution_count": 7
        },
        {
            "cell_type": "code",
            "source": [
                "SELECT *\r\n",
                "FROM Client;"
            ],
            "metadata": {
                "language": "sql",
                "azdata_cell_guid": "ed554998-9d9a-49eb-8c72-f730c8b9e3f1",
                "tags": []
            },
            "outputs": [
                {
                    "output_type": "display_data",
                    "data": {
                        "text/html": "(4 rows affected)"
                    },
                    "metadata": {}
                },
                {
                    "output_type": "display_data",
                    "data": {
                        "text/html": "Total execution time: 00:00:00.002"
                    },
                    "metadata": {}
                },
                {
                    "output_type": "execute_result",
                    "execution_count": 8,
                    "data": {
                        "application/vnd.dataresource+json": {
                            "schema": {
                                "fields": [
                                    {
                                        "name": "ClientID"
                                    },
                                    {
                                        "name": "ClientName"
                                    }
                                ]
                            },
                            "data": [
                                {
                                    "0": "1",
                                    "1": "TCS"
                                },
                                {
                                    "0": "2",
                                    "1": "Wipro"
                                },
                                {
                                    "0": "3",
                                    "1": "Infosys"
                                },
                                {
                                    "0": "4",
                                    "1": "Microsoft"
                                }
                            ]
                        },
                        "text/html": "<table><tr><th>ClientID</th><th>ClientName</th></tr><tr><td>1</td><td>TCS</td></tr><tr><td>2</td><td>Wipro</td></tr><tr><td>3</td><td>Infosys</td></tr><tr><td>4</td><td>Microsoft</td></tr></table>"
                    },
                    "metadata": {}
                }
            ],
            "execution_count": 8
        },
        {
            "cell_type": "code",
            "source": [
                "-- 1\r\n",
                "SELECT *\r\n",
                "FROM EmployeeDetails\r\n",
                "WHERE DATENAME(MM, DOB) = 'March';"
            ],
            "metadata": {
                "language": "sql",
                "azdata_cell_guid": "13af019b-411f-4ec2-9a21-7d1bdc3d4936",
                "tags": []
            },
            "outputs": [
                {
                    "output_type": "display_data",
                    "data": {
                        "text/html": "(1 row affected)"
                    },
                    "metadata": {}
                },
                {
                    "output_type": "display_data",
                    "data": {
                        "text/html": "Total execution time: 00:00:00.002"
                    },
                    "metadata": {}
                },
                {
                    "output_type": "execute_result",
                    "execution_count": 9,
                    "data": {
                        "application/vnd.dataresource+json": {
                            "schema": {
                                "fields": [
                                    {
                                        "name": "EmployeeID"
                                    },
                                    {
                                        "name": "FirstName"
                                    },
                                    {
                                        "name": "LastName"
                                    },
                                    {
                                        "name": "DepartmentID"
                                    },
                                    {
                                        "name": "ClientID"
                                    },
                                    {
                                        "name": "DOB"
                                    },
                                    {
                                        "name": "DOJ"
                                    },
                                    {
                                        "name": "Salary"
                                    },
                                    {
                                        "name": "Gender"
                                    }
                                ]
                            },
                            "data": [
                                {
                                    "0": "3",
                                    "1": "saransh",
                                    "2": "aggarwal",
                                    "3": "2",
                                    "4": "1",
                                    "5": "2005-03-27",
                                    "6": "2022-01-28",
                                    "7": "62071",
                                    "8": "M"
                                }
                            ]
                        },
                        "text/html": "<table><tr><th>EmployeeID</th><th>FirstName</th><th>LastName</th><th>DepartmentID</th><th>ClientID</th><th>DOB</th><th>DOJ</th><th>Salary</th><th>Gender</th></tr><tr><td>3</td><td>saransh</td><td>aggarwal</td><td>2</td><td>1</td><td>2005-03-27</td><td>2022-01-28</td><td>62071</td><td>M</td></tr></table>"
                    },
                    "metadata": {}
                }
            ],
            "execution_count": 9
        },
        {
            "cell_type": "code",
            "source": [
                "-- 2\r\n",
                "SELECT DATEDIFF(MONTH, DOJ, GETDATE()) AS \"EXPERIENCE(months)\"\r\n",
                "FROM EmployeeDetails;"
            ],
            "metadata": {
                "language": "sql",
                "azdata_cell_guid": "2e26a6ce-1f51-419a-ae48-7fb8f5d90474"
            },
            "outputs": [
                {
                    "output_type": "display_data",
                    "data": {
                        "text/html": "(9 rows affected)"
                    },
                    "metadata": {}
                },
                {
                    "output_type": "display_data",
                    "data": {
                        "text/html": "Total execution time: 00:00:00.002"
                    },
                    "metadata": {}
                },
                {
                    "output_type": "execute_result",
                    "execution_count": 10,
                    "data": {
                        "application/vnd.dataresource+json": {
                            "schema": {
                                "fields": [
                                    {
                                        "name": "EXPERIENCE(months)"
                                    }
                                ]
                            },
                            "data": [
                                {
                                    "0": "15"
                                },
                                {
                                    "0": "15"
                                },
                                {
                                    "0": "15"
                                },
                                {
                                    "0": "15"
                                },
                                {
                                    "0": "15"
                                },
                                {
                                    "0": "15"
                                },
                                {
                                    "0": "15"
                                },
                                {
                                    "0": "3"
                                },
                                {
                                    "0": "39"
                                }
                            ]
                        },
                        "text/html": "<table><tr><th>EXPERIENCE(months)</th></tr><tr><td>15</td></tr><tr><td>15</td></tr><tr><td>15</td></tr><tr><td>15</td></tr><tr><td>15</td></tr><tr><td>15</td></tr><tr><td>15</td></tr><tr><td>3</td></tr><tr><td>39</td></tr></table>"
                    },
                    "metadata": {}
                }
            ],
            "execution_count": 10
        },
        {
            "cell_type": "code",
            "source": [
                "-- 3\r\n",
                "SELECT CONCAT(SUBSTRING(firstname, 1, 3), RIGHT(LastName,3)) AS SHORT_NAME\r\n",
                "FROM EmployeeDetails;"
            ],
            "metadata": {
                "language": "sql",
                "azdata_cell_guid": "a42593c4-20ec-4ad3-a949-0c7517ce4214",
                "tags": []
            },
            "outputs": [
                {
                    "output_type": "display_data",
                    "data": {
                        "text/html": "(9 rows affected)"
                    },
                    "metadata": {}
                },
                {
                    "output_type": "display_data",
                    "data": {
                        "text/html": "Total execution time: 00:00:00.002"
                    },
                    "metadata": {}
                },
                {
                    "output_type": "execute_result",
                    "execution_count": 6,
                    "data": {
                        "application/vnd.dataresource+json": {
                            "schema": {
                                "fields": [
                                    {
                                        "name": "SHORT_NAME"
                                    }
                                ]
                            },
                            "data": [
                                {
                                    "0": "Sahmed"
                                },
                                {
                                    "0": "vairya"
                                },
                                {
                                    "0": "sarwal"
                                },
                                {
                                    "0": "Aftadd"
                                },
                                {
                                    "0": "Rohngh"
                                },
                                {
                                    "0": "rOH   "
                                },
                                {
                                    "0": "pRihan"
                                },
                                {
                                    "0": "Sakrma"
                                },
                                {
                                    "0": "Hemtil"
                                }
                            ]
                        },
                        "text/html": "<table><tr><th>SHORT_NAME</th></tr><tr><td>Sahmed</td></tr><tr><td>vairya</td></tr><tr><td>sarwal</td></tr><tr><td>Aftadd</td></tr><tr><td>Rohngh</td></tr><tr><td>rOH   </td></tr><tr><td>pRihan</td></tr><tr><td>Sakrma</td></tr><tr><td>Hemtil</td></tr></table>"
                    },
                    "metadata": {}
                }
            ],
            "execution_count": 6
        },
        {
            "cell_type": "code",
            "source": [
                "-- 4\r\n",
                "SELECT CONCAT(UPPER(SUBSTRING(firstname, 1, 1)), LOWER(SUBSTRING(firstname, 2, LEN(firstname)))) AS UPPER_NAME\r\n",
                "FROM EmployeeDetails;\r\n",
                "\r\n",
                "-- here instead of concat we can use '+' operator"
            ],
            "metadata": {
                "language": "sql",
                "azdata_cell_guid": "623ae99d-b5c9-4d2b-9064-2d347810a228"
            },
            "outputs": [
                {
                    "output_type": "display_data",
                    "data": {
                        "text/html": "(9 rows affected)"
                    },
                    "metadata": {}
                },
                {
                    "output_type": "display_data",
                    "data": {
                        "text/html": "Total execution time: 00:00:00.015"
                    },
                    "metadata": {}
                },
                {
                    "output_type": "execute_result",
                    "execution_count": 12,
                    "data": {
                        "application/vnd.dataresource+json": {
                            "schema": {
                                "fields": [
                                    {
                                        "name": "UPPER_NAME"
                                    }
                                ]
                            },
                            "data": [
                                {
                                    "0": "Sahil"
                                },
                                {
                                    "0": "Vaishnavi"
                                },
                                {
                                    "0": "Saransh"
                                },
                                {
                                    "0": "Aftab"
                                },
                                {
                                    "0": "Rohit"
                                },
                                {
                                    "0": "Rohit"
                                },
                                {
                                    "0": "Priyanka"
                                },
                                {
                                    "0": "Sakshi"
                                },
                                {
                                    "0": "Hemant"
                                }
                            ]
                        },
                        "text/html": "<table><tr><th>UPPER_NAME</th></tr><tr><td>Sahil</td></tr><tr><td>Vaishnavi</td></tr><tr><td>Saransh</td></tr><tr><td>Aftab</td></tr><tr><td>Rohit</td></tr><tr><td>Rohit</td></tr><tr><td>Priyanka</td></tr><tr><td>Sakshi</td></tr><tr><td>Hemant</td></tr></table>"
                    },
                    "metadata": {}
                }
            ],
            "execution_count": 12
        },
        {
            "cell_type": "code",
            "source": [
                "--5 \r\n",
                "SELECT DATENAME(WEEKDAY, DOB) AS Birth_Day,\r\n",
                "       DATENAME(MM, DOB) AS Birth_Month,\r\n",
                "       DATENAME(WEEKDAY, DOJ) AS Join_Day,\r\n",
                "       DATENAME(MM, DOB) AS Join_Month\r\n",
                "FROM EmployeeDetails;"
            ],
            "metadata": {
                "language": "sql",
                "azdata_cell_guid": "c4e47397-d3d8-4657-9b57-141cc9461d09",
                "tags": []
            },
            "outputs": [
                {
                    "output_type": "display_data",
                    "data": {
                        "text/html": "(9 rows affected)"
                    },
                    "metadata": {}
                },
                {
                    "output_type": "display_data",
                    "data": {
                        "text/html": "Total execution time: 00:00:00.002"
                    },
                    "metadata": {}
                },
                {
                    "output_type": "execute_result",
                    "execution_count": 13,
                    "data": {
                        "application/vnd.dataresource+json": {
                            "schema": {
                                "fields": [
                                    {
                                        "name": "Birth_Day"
                                    },
                                    {
                                        "name": "Birth_Month"
                                    },
                                    {
                                        "name": "Join_Day"
                                    },
                                    {
                                        "name": "Join_Month"
                                    }
                                ]
                            },
                            "data": [
                                {
                                    "0": "Wednesday",
                                    "1": "January",
                                    "2": "Friday",
                                    "3": "January"
                                },
                                {
                                    "0": "Wednesday",
                                    "1": "January",
                                    "2": "Friday",
                                    "3": "January"
                                },
                                {
                                    "0": "Sunday",
                                    "1": "March",
                                    "2": "Friday",
                                    "3": "March"
                                },
                                {
                                    "0": "Thursday",
                                    "1": "January",
                                    "2": "Friday",
                                    "3": "January"
                                },
                                {
                                    "0": "Thursday",
                                    "1": "January",
                                    "2": "Friday",
                                    "3": "January"
                                },
                                {
                                    "0": "Thursday",
                                    "1": "January",
                                    "2": "Friday",
                                    "3": "January"
                                },
                                {
                                    "0": "Thursday",
                                    "1": "January",
                                    "2": "Friday",
                                    "3": "January"
                                },
                                {
                                    "0": "Friday",
                                    "1": "January",
                                    "2": "Sunday",
                                    "3": "January"
                                },
                                {
                                    "0": "Friday",
                                    "1": "January",
                                    "2": "Wednesday",
                                    "3": "January"
                                }
                            ]
                        },
                        "text/html": "<table><tr><th>Birth_Day</th><th>Birth_Month</th><th>Join_Day</th><th>Join_Month</th></tr><tr><td>Wednesday</td><td>January</td><td>Friday</td><td>January</td></tr><tr><td>Wednesday</td><td>January</td><td>Friday</td><td>January</td></tr><tr><td>Sunday</td><td>March</td><td>Friday</td><td>March</td></tr><tr><td>Thursday</td><td>January</td><td>Friday</td><td>January</td></tr><tr><td>Thursday</td><td>January</td><td>Friday</td><td>January</td></tr><tr><td>Thursday</td><td>January</td><td>Friday</td><td>January</td></tr><tr><td>Thursday</td><td>January</td><td>Friday</td><td>January</td></tr><tr><td>Friday</td><td>January</td><td>Sunday</td><td>January</td></tr><tr><td>Friday</td><td>January</td><td>Wednesday</td><td>January</td></tr></table>"
                    },
                    "metadata": {}
                }
            ],
            "execution_count": 13
        },
        {
            "cell_type": "code",
            "source": [
                "-- 6\r\n",
                "SELECT d.DepartmentName,\r\n",
                "       COUNT(*) AS EmployeeCount\r\n",
                "FROM EmployeeDetails e\r\n",
                "    JOIN Department d\r\n",
                "        ON e.DepartmentID = d.DepartmentID\r\n",
                "GROUP BY d.DepartmentName;\r\n",
                "\r\n",
                "-- here use left join to display all records from department"
            ],
            "metadata": {
                "language": "sql",
                "azdata_cell_guid": "a90a0f7f-88c7-4dc9-8b87-8b1e2fa3faf7"
            },
            "outputs": [
                {
                    "output_type": "display_data",
                    "data": {
                        "text/html": "(3 rows affected)"
                    },
                    "metadata": {}
                },
                {
                    "output_type": "display_data",
                    "data": {
                        "text/html": "Total execution time: 00:00:00.004"
                    },
                    "metadata": {}
                },
                {
                    "output_type": "execute_result",
                    "metadata": {},
                    "execution_count": 2,
                    "data": {
                        "application/vnd.dataresource+json": {
                            "schema": {
                                "fields": [
                                    {
                                        "name": "DepartmentName"
                                    },
                                    {
                                        "name": "EmployeeCount"
                                    }
                                ]
                            },
                            "data": [
                                {
                                    "0": "Account",
                                    "1": "2"
                                },
                                {
                                    "0": "Electronics",
                                    "1": "2"
                                },
                                {
                                    "0": "IT",
                                    "1": "4"
                                }
                            ]
                        },
                        "text/html": [
                            "<table>",
                            "<tr><th>DepartmentName</th><th>EmployeeCount</th></tr>",
                            "<tr><td>Account</td><td>2</td></tr>",
                            "<tr><td>Electronics</td><td>2</td></tr>",
                            "<tr><td>IT</td><td>4</td></tr>",
                            "</table>"
                        ]
                    }
                }
            ],
            "execution_count": 2
        },
        {
            "cell_type": "code",
            "source": [
                "-- 7\r\n",
                "SELECT TOP(1)\r\n",
                "    MAX(e.Salary) AS MAX_SAL, d.DepartmentName\r\n",
                "FROM EmployeeDetails e\r\n",
                "    JOIN Department d\r\n",
                "    ON e.DepartmentID = d.DepartmentID\r\n",
                "GROUP BY d.DepartmentName\r\n",
                "ORDER BY MAX_SAL DESC;"
            ],
            "metadata": {
                "language": "sql",
                "azdata_cell_guid": "f8e2c325-0d65-406a-a226-c4e643fa33bf"
            },
            "outputs": [
                {
                    "output_type": "display_data",
                    "data": {
                        "text/html": "(1 row affected)"
                    },
                    "metadata": {}
                },
                {
                    "output_type": "display_data",
                    "data": {
                        "text/html": "Total execution time: 00:00:00.003"
                    },
                    "metadata": {}
                },
                {
                    "output_type": "execute_result",
                    "execution_count": 15,
                    "data": {
                        "application/vnd.dataresource+json": {
                            "schema": {
                                "fields": [
                                    {
                                        "name": "MAX_SAL"
                                    },
                                    {
                                        "name": "DepartmentName"
                                    }
                                ]
                            },
                            "data": [
                                {
                                    "0": "100000",
                                    "1": "IT"
                                }
                            ]
                        },
                        "text/html": "<table><tr><th>MAX_SAL</th><th>DepartmentName</th></tr><tr><td>100000</td><td>IT</td></tr></table>"
                    },
                    "metadata": {}
                }
            ],
            "execution_count": 15
        },
        {
            "cell_type": "code",
            "source": [
                "-- 7\r\n",
                "SELECT d.DepartmentName AS MAX_SAL_DEPT\r\n",
                "FROM Department d\r\n",
                "WHERE d.DepartmentID =\r\n",
                "(\r\n",
                "    SELECT e.DepartmentID\r\n",
                "    FROM EmployeeDetails e\r\n",
                "    WHERE e.Salary =\r\n",
                "    (\r\n",
                "        SELECT MAX(Salary)FROM EmployeeDetails\r\n",
                "    )\r\n",
                ");\r\n",
                "\r\n",
                "-- avoid subquery, most of the time it is expensive"
            ],
            "metadata": {
                "language": "sql",
                "azdata_cell_guid": "8572c698-33a1-4c17-9739-128468960046"
            },
            "outputs": [
                {
                    "output_type": "display_data",
                    "data": {
                        "text/html": "(1 row affected)"
                    },
                    "metadata": {}
                },
                {
                    "output_type": "display_data",
                    "data": {
                        "text/html": "Total execution time: 00:00:00.003"
                    },
                    "metadata": {}
                },
                {
                    "output_type": "execute_result",
                    "execution_count": 16,
                    "data": {
                        "application/vnd.dataresource+json": {
                            "schema": {
                                "fields": [
                                    {
                                        "name": "MAX_SAL_DEPT"
                                    }
                                ]
                            },
                            "data": [
                                {
                                    "0": "IT"
                                }
                            ]
                        },
                        "text/html": "<table><tr><th>MAX_SAL_DEPT</th></tr><tr><td>IT</td></tr></table>"
                    },
                    "metadata": {}
                }
            ],
            "execution_count": 16
        },
        {
            "cell_type": "code",
            "source": [
                "-- 8\r\n",
                "SELECT c.ClientName,\r\n",
                "       AVG(e.Salary) AS AvgSalary\r\n",
                "FROM EmployeeDetails e\r\n",
                "    JOIN Client c\r\n",
                "        ON e.ClientID = c.ClientID\r\n",
                "GROUP BY c.ClientName"
            ],
            "metadata": {
                "language": "sql",
                "azdata_cell_guid": "c72000b5-2728-47d2-810f-7811283de194"
            },
            "outputs": [
                {
                    "output_type": "display_data",
                    "data": {
                        "text/html": "(3 rows affected)"
                    },
                    "metadata": {}
                },
                {
                    "output_type": "display_data",
                    "data": {
                        "text/html": "Total execution time: 00:00:00.003"
                    },
                    "metadata": {}
                },
                {
                    "output_type": "execute_result",
                    "execution_count": 17,
                    "data": {
                        "application/vnd.dataresource+json": {
                            "schema": {
                                "fields": [
                                    {
                                        "name": "ClientName"
                                    },
                                    {
                                        "name": "AvgSalary"
                                    }
                                ]
                            },
                            "data": [
                                {
                                    "0": "Microsoft",
                                    "1": "27647"
                                },
                                {
                                    "0": "TCS",
                                    "1": "51414"
                                },
                                {
                                    "0": "Wipro",
                                    "1": "56463"
                                }
                            ]
                        },
                        "text/html": "<table><tr><th>ClientName</th><th>AvgSalary</th></tr><tr><td>Microsoft</td><td>27647</td></tr><tr><td>TCS</td><td>51414</td></tr><tr><td>Wipro</td><td>56463</td></tr></table>"
                    },
                    "metadata": {}
                }
            ],
            "execution_count": 17
        },
        {
            "cell_type": "code",
            "source": [
                "-- 9\r\n",
                "SELECT MAX(e.Salary) MAX_SAL,\r\n",
                "       d.DepartmentName\r\n",
                "FROM EmployeeDetails e\r\n",
                "    JOIN Department d\r\n",
                "        ON e.DepartmentID = d.DepartmentID\r\n",
                "GROUP BY d.DepartmentName"
            ],
            "metadata": {
                "language": "sql",
                "azdata_cell_guid": "9dab0e08-6b47-4c16-ad20-65e7a4e7a4b6"
            },
            "outputs": [
                {
                    "output_type": "display_data",
                    "data": {
                        "text/html": "(3 rows affected)"
                    },
                    "metadata": {}
                },
                {
                    "output_type": "display_data",
                    "data": {
                        "text/html": "Total execution time: 00:00:00.003"
                    },
                    "metadata": {}
                },
                {
                    "output_type": "execute_result",
                    "execution_count": 18,
                    "data": {
                        "application/vnd.dataresource+json": {
                            "schema": {
                                "fields": [
                                    {
                                        "name": "MAX_SAL"
                                    },
                                    {
                                        "name": "DepartmentName"
                                    }
                                ]
                            },
                            "data": [
                                {
                                    "0": "62071",
                                    "1": "Account"
                                },
                                {
                                    "0": "40346",
                                    "1": "Electronics"
                                },
                                {
                                    "0": "100000",
                                    "1": "IT"
                                }
                            ]
                        },
                        "text/html": "<table><tr><th>MAX_SAL</th><th>DepartmentName</th></tr><tr><td>62071</td><td>Account</td></tr><tr><td>40346</td><td>Electronics</td></tr><tr><td>100000</td><td>IT</td></tr></table>"
                    },
                    "metadata": {}
                }
            ],
            "execution_count": 18
        }
    ]
}
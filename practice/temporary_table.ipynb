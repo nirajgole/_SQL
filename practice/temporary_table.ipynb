{
    "metadata": {
        "kernelspec": {
            "name": "SQL",
            "display_name": "SQL",
            "language": "sql"
        },
        "language_info": {
            "name": "sql",
            "version": ""
        }
    },
    "nbformat_minor": 2,
    "nbformat": 4,
    "cells": [
        {
            "cell_type": "markdown",
            "source": [
                "# Temporary Table\r\n",
                "### 1. table dnotes with #\r\n",
                "### 2. temporary table is not stored in db\r\n",
                "### 3. temporary table is not accessible in other sessions \r\n",
                ""
            ],
            "metadata": {
                "language": "sql",
                "azdata_cell_guid": "b8bb9cca-34c8-4e43-b266-021f7acdbb24"
            },
            "attachments": {}
        },
        {
            "cell_type": "code",
            "source": [
                "CREATE TABLE #TemporaryTable(\r\n",
                "    id INT PRIMARY KEY,\r\n",
                "    name VARCHAR(255),\r\n",
                "    date DATE\r\n",
                ")"
            ],
            "metadata": {
                "azdata_cell_guid": "a635a47e-2bf3-44fd-b3d8-852c6664b6c5",
                "language": "sql"
            },
            "outputs": [
                {
                    "output_type": "display_data",
                    "data": {
                        "text/html": "Commands completed successfully."
                    },
                    "metadata": {}
                },
                {
                    "output_type": "display_data",
                    "data": {
                        "text/html": "Total execution time: 00:00:00.002"
                    },
                    "metadata": {}
                }
            ],
            "execution_count": 1
        },
        {
            "cell_type": "code",
            "source": [
                "INSERT INTO #TemporaryTable\r\n",
                "(\r\n",
                "    ID,\r\n",
                "    NAME,\r\n",
                "    DATE\r\n",
                ")\r\n",
                "VALUES\r\n",
                "(2, 'Barney', GETDATE())"
            ],
            "metadata": {
                "language": "sql",
                "azdata_cell_guid": "f6da4069-6534-4bb2-8133-1911e295babc"
            },
            "outputs": [
                {
                    "output_type": "display_data",
                    "data": {
                        "text/html": "(1 row affected)"
                    },
                    "metadata": {}
                },
                {
                    "output_type": "display_data",
                    "data": {
                        "text/html": "Total execution time: 00:00:00.006"
                    },
                    "metadata": {}
                }
            ],
            "execution_count": 7
        },
        {
            "cell_type": "code",
            "source": [
                "SELECT * FROM #TemporaryTable;"
            ],
            "metadata": {
                "language": "sql",
                "azdata_cell_guid": "6322033b-778f-4a0f-ac9b-5c746c75219e"
            },
            "outputs": [
                {
                    "output_type": "display_data",
                    "data": {
                        "text/html": "(2 rows affected)"
                    },
                    "metadata": {}
                },
                {
                    "output_type": "display_data",
                    "data": {
                        "text/html": "Total execution time: 00:00:00.002"
                    },
                    "metadata": {}
                },
                {
                    "output_type": "execute_result",
                    "metadata": {},
                    "execution_count": 8,
                    "data": {
                        "application/vnd.dataresource+json": {
                            "schema": {
                                "fields": [
                                    {
                                        "name": "id"
                                    },
                                    {
                                        "name": "name"
                                    },
                                    {
                                        "name": "date"
                                    }
                                ]
                            },
                            "data": [
                                {
                                    "0": "1",
                                    "1": "James",
                                    "2": "2023-04-02"
                                },
                                {
                                    "0": "2",
                                    "1": "Barney",
                                    "2": "2023-04-02"
                                }
                            ]
                        },
                        "text/html": [
                            "<table>",
                            "<tr><th>id</th><th>name</th><th>date</th></tr>",
                            "<tr><td>1</td><td>James</td><td>2023-04-02</td></tr>",
                            "<tr><td>2</td><td>Barney</td><td>2023-04-02</td></tr>",
                            "</table>"
                        ]
                    }
                }
            ],
            "execution_count": 8
        }
    ]
}
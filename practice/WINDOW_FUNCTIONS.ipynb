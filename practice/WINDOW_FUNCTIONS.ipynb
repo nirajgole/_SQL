{
    "metadata": {
        "kernelspec": {
            "name": "SQL",
            "display_name": "SQL",
            "language": "sql"
        },
        "language_info": {
            "name": "sql",
            "version": ""
        }
    },
    "nbformat_minor": 2,
    "nbformat": 4,
    "cells": [
        {
            "cell_type": "markdown",
            "source": [
                "# WINDOW FUNCTIONS (SEQUENCING)\r\n",
                "1. ROW_RANK()\r\n",
                "2. RANK()\r\n",
                "3. DENSE_RANK()\r\n",
                "4. NTILE()"
            ],
            "metadata": {
                "azdata_cell_guid": "7f23d4ca-b2b3-4c9c-9fc1-110fc47d7e48"
            },
            "attachments": {}
        },
        {
            "cell_type": "code",
            "source": [
                "SELECT * FROM EmployeeDetails"
            ],
            "metadata": {
                "azdata_cell_guid": "e3b7bc9d-c367-48a3-af2e-f37ef2c6e493",
                "language": "sql"
            },
            "outputs": [
                {
                    "output_type": "display_data",
                    "data": {
                        "text/html": "(9 rows affected)"
                    },
                    "metadata": {}
                },
                {
                    "output_type": "display_data",
                    "data": {
                        "text/html": "Total execution time: 00:00:00.003"
                    },
                    "metadata": {}
                },
                {
                    "output_type": "execute_result",
                    "execution_count": 1,
                    "data": {
                        "application/vnd.dataresource+json": {
                            "schema": {
                                "fields": [
                                    {
                                        "name": "EmployeeID"
                                    },
                                    {
                                        "name": "FirstName"
                                    },
                                    {
                                        "name": "LastName"
                                    },
                                    {
                                        "name": "DepartmentID"
                                    },
                                    {
                                        "name": "ClientID"
                                    },
                                    {
                                        "name": "DOB"
                                    },
                                    {
                                        "name": "DOJ"
                                    },
                                    {
                                        "name": "Salary"
                                    },
                                    {
                                        "name": "Gender"
                                    }
                                ]
                            },
                            "data": [
                                {
                                    "0": "1",
                                    "1": "Sahil",
                                    "2": "Ahmed",
                                    "3": "1",
                                    "4": "2",
                                    "5": "1998-01-21",
                                    "6": "2022-01-28",
                                    "7": "61200",
                                    "8": "M"
                                },
                                {
                                    "0": "2",
                                    "1": "vaishnavi",
                                    "2": "arya",
                                    "3": "1",
                                    "4": "2",
                                    "5": "2000-01-12",
                                    "6": "2022-01-28",
                                    "7": "51726",
                                    "8": "M"
                                },
                                {
                                    "0": "3",
                                    "1": "saransh",
                                    "2": "aggarwal",
                                    "3": "2",
                                    "4": "1",
                                    "5": "2005-03-27",
                                    "6": "2022-01-28",
                                    "7": "62071",
                                    "8": "M"
                                },
                                {
                                    "0": "4",
                                    "1": "Aftab",
                                    "2": "Ahemadd",
                                    "3": "2",
                                    "4": "1",
                                    "5": "1998-01-01",
                                    "6": "2022-01-28",
                                    "7": "3240",
                                    "8": "M"
                                },
                                {
                                    "0": "5",
                                    "1": "Rohit",
                                    "2": "SIngh",
                                    "3": "3",
                                    "4": "4",
                                    "5": "1998-01-01",
                                    "6": "2022-01-28",
                                    "7": "2250",
                                    "8": "F"
                                },
                                {
                                    "0": "6",
                                    "1": "rOHiT",
                                    "2": "      Singh          ",
                                    "3": "3",
                                    "4": "4",
                                    "5": "1998-01-01",
                                    "6": "2022-01-28",
                                    "7": "40346",
                                    "8": "F"
                                },
                                {
                                    "0": "7",
                                    "1": "pRiYaNKA",
                                    "2": "chauhan",
                                    "3": "NULL",
                                    "4": "4",
                                    "5": "1998-01-01",
                                    "6": "2022-01-28",
                                    "7": "40346",
                                    "8": "F"
                                },
                                {
                                    "0": "8",
                                    "1": "Sakshi",
                                    "2": "verma",
                                    "3": "1",
                                    "4": "1",
                                    "5": "1999-01-01",
                                    "6": "2023-01-01",
                                    "7": "40346",
                                    "8": "F"
                                },
                                {
                                    "0": "9",
                                    "1": "Hemant",
                                    "2": "Patil",
                                    "3": "1",
                                    "4": "1",
                                    "5": "1999-01-01",
                                    "6": "2020-01-01",
                                    "7": "100000",
                                    "8": "NULL"
                                }
                            ]
                        },
                        "text/html": "<table><tr><th>EmployeeID</th><th>FirstName</th><th>LastName</th><th>DepartmentID</th><th>ClientID</th><th>DOB</th><th>DOJ</th><th>Salary</th><th>Gender</th></tr><tr><td>1</td><td>Sahil</td><td>Ahmed</td><td>1</td><td>2</td><td>1998-01-21</td><td>2022-01-28</td><td>61200</td><td>M</td></tr><tr><td>2</td><td>vaishnavi</td><td>arya</td><td>1</td><td>2</td><td>2000-01-12</td><td>2022-01-28</td><td>51726</td><td>M</td></tr><tr><td>3</td><td>saransh</td><td>aggarwal</td><td>2</td><td>1</td><td>2005-03-27</td><td>2022-01-28</td><td>62071</td><td>M</td></tr><tr><td>4</td><td>Aftab</td><td>Ahemadd</td><td>2</td><td>1</td><td>1998-01-01</td><td>2022-01-28</td><td>3240</td><td>M</td></tr><tr><td>5</td><td>Rohit</td><td>SIngh</td><td>3</td><td>4</td><td>1998-01-01</td><td>2022-01-28</td><td>2250</td><td>F</td></tr><tr><td>6</td><td>rOHiT</td><td>      Singh          </td><td>3</td><td>4</td><td>1998-01-01</td><td>2022-01-28</td><td>40346</td><td>F</td></tr><tr><td>7</td><td>pRiYaNKA</td><td>chauhan</td><td>NULL</td><td>4</td><td>1998-01-01</td><td>2022-01-28</td><td>40346</td><td>F</td></tr><tr><td>8</td><td>Sakshi</td><td>verma</td><td>1</td><td>1</td><td>1999-01-01</td><td>2023-01-01</td><td>40346</td><td>F</td></tr><tr><td>9</td><td>Hemant</td><td>Patil</td><td>1</td><td>1</td><td>1999-01-01</td><td>2020-01-01</td><td>100000</td><td>NULL</td></tr></table>"
                    },
                    "metadata": {}
                }
            ],
            "execution_count": 1
        },
        {
            "cell_type": "code",
            "source": [
                "SELECT NTILE(2) OVER(ORDER BY Salary DESC) AS GroupID, * FROM EmployeeDetails"
            ],
            "metadata": {
                "language": "sql",
                "azdata_cell_guid": "9f9cc52e-4ca8-44cd-b255-3fbfed1f3b54"
            },
            "outputs": [
                {
                    "output_type": "display_data",
                    "data": {
                        "text/html": "(9 rows affected)"
                    },
                    "metadata": {}
                },
                {
                    "output_type": "display_data",
                    "data": {
                        "text/html": "Total execution time: 00:00:00.003"
                    },
                    "metadata": {}
                },
                {
                    "output_type": "execute_result",
                    "execution_count": 5,
                    "data": {
                        "application/vnd.dataresource+json": {
                            "schema": {
                                "fields": [
                                    {
                                        "name": "GroupID"
                                    },
                                    {
                                        "name": "EmployeeID"
                                    },
                                    {
                                        "name": "FirstName"
                                    },
                                    {
                                        "name": "LastName"
                                    },
                                    {
                                        "name": "DepartmentID"
                                    },
                                    {
                                        "name": "ClientID"
                                    },
                                    {
                                        "name": "DOB"
                                    },
                                    {
                                        "name": "DOJ"
                                    },
                                    {
                                        "name": "Salary"
                                    },
                                    {
                                        "name": "Gender"
                                    }
                                ]
                            },
                            "data": [
                                {
                                    "0": "1",
                                    "1": "9",
                                    "2": "Hemant",
                                    "3": "Patil",
                                    "4": "1",
                                    "5": "1",
                                    "6": "1999-01-01",
                                    "7": "2020-01-01",
                                    "8": "100000",
                                    "9": "NULL"
                                },
                                {
                                    "0": "1",
                                    "1": "3",
                                    "2": "saransh",
                                    "3": "aggarwal",
                                    "4": "2",
                                    "5": "1",
                                    "6": "2005-03-27",
                                    "7": "2022-01-28",
                                    "8": "62071",
                                    "9": "M"
                                },
                                {
                                    "0": "1",
                                    "1": "1",
                                    "2": "Sahil",
                                    "3": "Ahmed",
                                    "4": "1",
                                    "5": "2",
                                    "6": "1998-01-21",
                                    "7": "2022-01-28",
                                    "8": "61200",
                                    "9": "M"
                                },
                                {
                                    "0": "1",
                                    "1": "2",
                                    "2": "vaishnavi",
                                    "3": "arya",
                                    "4": "1",
                                    "5": "2",
                                    "6": "2000-01-12",
                                    "7": "2022-01-28",
                                    "8": "51726",
                                    "9": "M"
                                },
                                {
                                    "0": "1",
                                    "1": "6",
                                    "2": "rOHiT",
                                    "3": "      Singh          ",
                                    "4": "3",
                                    "5": "4",
                                    "6": "1998-01-01",
                                    "7": "2022-01-28",
                                    "8": "40346",
                                    "9": "F"
                                },
                                {
                                    "0": "2",
                                    "1": "7",
                                    "2": "pRiYaNKA",
                                    "3": "chauhan",
                                    "4": "NULL",
                                    "5": "4",
                                    "6": "1998-01-01",
                                    "7": "2022-01-28",
                                    "8": "40346",
                                    "9": "F"
                                },
                                {
                                    "0": "2",
                                    "1": "8",
                                    "2": "Sakshi",
                                    "3": "verma",
                                    "4": "1",
                                    "5": "1",
                                    "6": "1999-01-01",
                                    "7": "2023-01-01",
                                    "8": "40346",
                                    "9": "F"
                                },
                                {
                                    "0": "2",
                                    "1": "4",
                                    "2": "Aftab",
                                    "3": "Ahemadd",
                                    "4": "2",
                                    "5": "1",
                                    "6": "1998-01-01",
                                    "7": "2022-01-28",
                                    "8": "3240",
                                    "9": "M"
                                },
                                {
                                    "0": "2",
                                    "1": "5",
                                    "2": "Rohit",
                                    "3": "SIngh",
                                    "4": "3",
                                    "5": "4",
                                    "6": "1998-01-01",
                                    "7": "2022-01-28",
                                    "8": "2250",
                                    "9": "F"
                                }
                            ]
                        },
                        "text/html": "<table><tr><th>GroupID</th><th>EmployeeID</th><th>FirstName</th><th>LastName</th><th>DepartmentID</th><th>ClientID</th><th>DOB</th><th>DOJ</th><th>Salary</th><th>Gender</th></tr><tr><td>1</td><td>9</td><td>Hemant</td><td>Patil</td><td>1</td><td>1</td><td>1999-01-01</td><td>2020-01-01</td><td>100000</td><td>NULL</td></tr><tr><td>1</td><td>3</td><td>saransh</td><td>aggarwal</td><td>2</td><td>1</td><td>2005-03-27</td><td>2022-01-28</td><td>62071</td><td>M</td></tr><tr><td>1</td><td>1</td><td>Sahil</td><td>Ahmed</td><td>1</td><td>2</td><td>1998-01-21</td><td>2022-01-28</td><td>61200</td><td>M</td></tr><tr><td>1</td><td>2</td><td>vaishnavi</td><td>arya</td><td>1</td><td>2</td><td>2000-01-12</td><td>2022-01-28</td><td>51726</td><td>M</td></tr><tr><td>1</td><td>6</td><td>rOHiT</td><td>      Singh          </td><td>3</td><td>4</td><td>1998-01-01</td><td>2022-01-28</td><td>40346</td><td>F</td></tr><tr><td>2</td><td>7</td><td>pRiYaNKA</td><td>chauhan</td><td>NULL</td><td>4</td><td>1998-01-01</td><td>2022-01-28</td><td>40346</td><td>F</td></tr><tr><td>2</td><td>8</td><td>Sakshi</td><td>verma</td><td>1</td><td>1</td><td>1999-01-01</td><td>2023-01-01</td><td>40346</td><td>F</td></tr><tr><td>2</td><td>4</td><td>Aftab</td><td>Ahemadd</td><td>2</td><td>1</td><td>1998-01-01</td><td>2022-01-28</td><td>3240</td><td>M</td></tr><tr><td>2</td><td>5</td><td>Rohit</td><td>SIngh</td><td>3</td><td>4</td><td>1998-01-01</td><td>2022-01-28</td><td>2250</td><td>F</td></tr></table>"
                    },
                    "metadata": {}
                }
            ],
            "execution_count": 5
        },
        {
            "cell_type": "code",
            "source": [
                "CREATE TABLE #TempData(\r\n",
                "    grp VARCHAR(255),\r\n",
                "    val int\r\n",
                ")"
            ],
            "metadata": {
                "language": "sql",
                "azdata_cell_guid": "bac6a464-60ae-4999-b4e7-764d338e7960"
            },
            "outputs": [
                {
                    "output_type": "display_data",
                    "data": {
                        "text/html": "Commands completed successfully."
                    },
                    "metadata": {}
                },
                {
                    "output_type": "display_data",
                    "data": {
                        "text/html": "Total execution time: 00:00:00.001"
                    },
                    "metadata": {}
                }
            ],
            "execution_count": 12
        },
        {
            "cell_type": "code",
            "source": [
                "INSERT into #TempData VALUES('A', 1000)\r\n",
                "INSERT into #TempData VALUES('A', 500)\r\n",
                "INSERT into #TempData VALUES('A', 500)\r\n",
                "INSERT into #TempData VALUES('A', 2000)\r\n",
                "INSERT into #TempData VALUES('A', 600)\r\n",
                "INSERT into #TempData VALUES('B', 100)\r\n",
                "INSERT into #TempData VALUES('B', 200)\r\n",
                "INSERT into #TempData VALUES('B', 500)\r\n",
                "INSERT into #TempData VALUES('B', 200)\r\n",
                "INSERT into #TempData VALUES('B', 600)\r\n",
                "INSERT into #TempData VALUES('B', 700)"
            ],
            "metadata": {
                "language": "sql",
                "azdata_cell_guid": "f1f9d60a-6391-40c2-99d2-ecb05ece0e76"
            },
            "outputs": [
                {
                    "output_type": "display_data",
                    "data": {
                        "text/html": "(1 row affected)"
                    },
                    "metadata": {}
                },
                {
                    "output_type": "display_data",
                    "data": {
                        "text/html": "(1 row affected)"
                    },
                    "metadata": {}
                },
                {
                    "output_type": "display_data",
                    "data": {
                        "text/html": "(1 row affected)"
                    },
                    "metadata": {}
                },
                {
                    "output_type": "display_data",
                    "data": {
                        "text/html": "(1 row affected)"
                    },
                    "metadata": {}
                },
                {
                    "output_type": "display_data",
                    "data": {
                        "text/html": "(1 row affected)"
                    },
                    "metadata": {}
                },
                {
                    "output_type": "display_data",
                    "data": {
                        "text/html": "(1 row affected)"
                    },
                    "metadata": {}
                },
                {
                    "output_type": "display_data",
                    "data": {
                        "text/html": "(1 row affected)"
                    },
                    "metadata": {}
                },
                {
                    "output_type": "display_data",
                    "data": {
                        "text/html": "(1 row affected)"
                    },
                    "metadata": {}
                },
                {
                    "output_type": "display_data",
                    "data": {
                        "text/html": "(1 row affected)"
                    },
                    "metadata": {}
                },
                {
                    "output_type": "display_data",
                    "data": {
                        "text/html": "(1 row affected)"
                    },
                    "metadata": {}
                },
                {
                    "output_type": "display_data",
                    "data": {
                        "text/html": "(1 row affected)"
                    },
                    "metadata": {}
                },
                {
                    "output_type": "display_data",
                    "data": {
                        "text/html": "Total execution time: 00:00:00.006"
                    },
                    "metadata": {}
                }
            ],
            "execution_count": 13
        },
        {
            "cell_type": "code",
            "source": [
                "SELECT ROW_NUMBER() OVER(ORDER BY VAL ASC) AS ROW_NUMBER,* FROM #TEMPDATA;"
            ],
            "metadata": {
                "language": "sql",
                "azdata_cell_guid": "25bce83f-fb47-4b17-b975-b812480ce348"
            },
            "outputs": [
                {
                    "output_type": "display_data",
                    "data": {
                        "text/html": "(11 rows affected)"
                    },
                    "metadata": {}
                },
                {
                    "output_type": "display_data",
                    "data": {
                        "text/html": "Total execution time: 00:00:00.002"
                    },
                    "metadata": {}
                },
                {
                    "output_type": "execute_result",
                    "execution_count": 20,
                    "data": {
                        "application/vnd.dataresource+json": {
                            "schema": {
                                "fields": [
                                    {
                                        "name": "ROW_NUMBER"
                                    },
                                    {
                                        "name": "grp"
                                    },
                                    {
                                        "name": "val"
                                    }
                                ]
                            },
                            "data": [
                                {
                                    "0": "1",
                                    "1": "B",
                                    "2": "100"
                                },
                                {
                                    "0": "2",
                                    "1": "B",
                                    "2": "200"
                                },
                                {
                                    "0": "3",
                                    "1": "B",
                                    "2": "200"
                                },
                                {
                                    "0": "4",
                                    "1": "B",
                                    "2": "500"
                                },
                                {
                                    "0": "5",
                                    "1": "A",
                                    "2": "500"
                                },
                                {
                                    "0": "6",
                                    "1": "A",
                                    "2": "500"
                                },
                                {
                                    "0": "7",
                                    "1": "A",
                                    "2": "600"
                                },
                                {
                                    "0": "8",
                                    "1": "B",
                                    "2": "600"
                                },
                                {
                                    "0": "9",
                                    "1": "B",
                                    "2": "700"
                                },
                                {
                                    "0": "10",
                                    "1": "A",
                                    "2": "1000"
                                },
                                {
                                    "0": "11",
                                    "1": "A",
                                    "2": "2000"
                                }
                            ]
                        },
                        "text/html": "<table><tr><th>ROW_NUMBER</th><th>grp</th><th>val</th></tr><tr><td>1</td><td>B</td><td>100</td></tr><tr><td>2</td><td>B</td><td>200</td></tr><tr><td>3</td><td>B</td><td>200</td></tr><tr><td>4</td><td>B</td><td>500</td></tr><tr><td>5</td><td>A</td><td>500</td></tr><tr><td>6</td><td>A</td><td>500</td></tr><tr><td>7</td><td>A</td><td>600</td></tr><tr><td>8</td><td>B</td><td>600</td></tr><tr><td>9</td><td>B</td><td>700</td></tr><tr><td>10</td><td>A</td><td>1000</td></tr><tr><td>11</td><td>A</td><td>2000</td></tr></table>"
                    },
                    "metadata": {}
                }
            ],
            "execution_count": 20
        },
        {
            "cell_type": "code",
            "source": [
                "SELECT RANK() OVER(ORDER BY VAL ASC) AS RANK,* FROM #TEMPDATA;"
            ],
            "metadata": {
                "language": "sql",
                "azdata_cell_guid": "054b6c56-eaf2-4306-94a6-eaaa5da64f4a"
            },
            "outputs": [
                {
                    "output_type": "display_data",
                    "data": {
                        "text/html": "(11 rows affected)"
                    },
                    "metadata": {}
                },
                {
                    "output_type": "display_data",
                    "data": {
                        "text/html": "Total execution time: 00:00:00.002"
                    },
                    "metadata": {}
                },
                {
                    "output_type": "execute_result",
                    "execution_count": 21,
                    "data": {
                        "application/vnd.dataresource+json": {
                            "schema": {
                                "fields": [
                                    {
                                        "name": "RANK"
                                    },
                                    {
                                        "name": "grp"
                                    },
                                    {
                                        "name": "val"
                                    }
                                ]
                            },
                            "data": [
                                {
                                    "0": "1",
                                    "1": "B",
                                    "2": "100"
                                },
                                {
                                    "0": "2",
                                    "1": "B",
                                    "2": "200"
                                },
                                {
                                    "0": "2",
                                    "1": "B",
                                    "2": "200"
                                },
                                {
                                    "0": "4",
                                    "1": "B",
                                    "2": "500"
                                },
                                {
                                    "0": "4",
                                    "1": "A",
                                    "2": "500"
                                },
                                {
                                    "0": "4",
                                    "1": "A",
                                    "2": "500"
                                },
                                {
                                    "0": "7",
                                    "1": "A",
                                    "2": "600"
                                },
                                {
                                    "0": "7",
                                    "1": "B",
                                    "2": "600"
                                },
                                {
                                    "0": "9",
                                    "1": "B",
                                    "2": "700"
                                },
                                {
                                    "0": "10",
                                    "1": "A",
                                    "2": "1000"
                                },
                                {
                                    "0": "11",
                                    "1": "A",
                                    "2": "2000"
                                }
                            ]
                        },
                        "text/html": "<table><tr><th>RANK</th><th>grp</th><th>val</th></tr><tr><td>1</td><td>B</td><td>100</td></tr><tr><td>2</td><td>B</td><td>200</td></tr><tr><td>2</td><td>B</td><td>200</td></tr><tr><td>4</td><td>B</td><td>500</td></tr><tr><td>4</td><td>A</td><td>500</td></tr><tr><td>4</td><td>A</td><td>500</td></tr><tr><td>7</td><td>A</td><td>600</td></tr><tr><td>7</td><td>B</td><td>600</td></tr><tr><td>9</td><td>B</td><td>700</td></tr><tr><td>10</td><td>A</td><td>1000</td></tr><tr><td>11</td><td>A</td><td>2000</td></tr></table>"
                    },
                    "metadata": {}
                }
            ],
            "execution_count": 21
        },
        {
            "cell_type": "code",
            "source": [
                "SELECT DENSE_RANK() OVER(ORDER BY VAL ASC) AS DENSE_RANK,* FROM #TEMPDATA;"
            ],
            "metadata": {
                "language": "sql",
                "azdata_cell_guid": "e10522f9-64d3-4a84-afa3-606501319404"
            },
            "outputs": [
                {
                    "output_type": "display_data",
                    "data": {
                        "text/html": "(11 rows affected)"
                    },
                    "metadata": {}
                },
                {
                    "output_type": "display_data",
                    "data": {
                        "text/html": "Total execution time: 00:00:00.002"
                    },
                    "metadata": {}
                },
                {
                    "output_type": "execute_result",
                    "execution_count": 22,
                    "data": {
                        "application/vnd.dataresource+json": {
                            "schema": {
                                "fields": [
                                    {
                                        "name": "DENSE_RANK"
                                    },
                                    {
                                        "name": "grp"
                                    },
                                    {
                                        "name": "val"
                                    }
                                ]
                            },
                            "data": [
                                {
                                    "0": "1",
                                    "1": "B",
                                    "2": "100"
                                },
                                {
                                    "0": "2",
                                    "1": "B",
                                    "2": "200"
                                },
                                {
                                    "0": "2",
                                    "1": "B",
                                    "2": "200"
                                },
                                {
                                    "0": "3",
                                    "1": "B",
                                    "2": "500"
                                },
                                {
                                    "0": "3",
                                    "1": "A",
                                    "2": "500"
                                },
                                {
                                    "0": "3",
                                    "1": "A",
                                    "2": "500"
                                },
                                {
                                    "0": "4",
                                    "1": "A",
                                    "2": "600"
                                },
                                {
                                    "0": "4",
                                    "1": "B",
                                    "2": "600"
                                },
                                {
                                    "0": "5",
                                    "1": "B",
                                    "2": "700"
                                },
                                {
                                    "0": "6",
                                    "1": "A",
                                    "2": "1000"
                                },
                                {
                                    "0": "7",
                                    "1": "A",
                                    "2": "2000"
                                }
                            ]
                        },
                        "text/html": "<table><tr><th>DENSE_RANK</th><th>grp</th><th>val</th></tr><tr><td>1</td><td>B</td><td>100</td></tr><tr><td>2</td><td>B</td><td>200</td></tr><tr><td>2</td><td>B</td><td>200</td></tr><tr><td>3</td><td>B</td><td>500</td></tr><tr><td>3</td><td>A</td><td>500</td></tr><tr><td>3</td><td>A</td><td>500</td></tr><tr><td>4</td><td>A</td><td>600</td></tr><tr><td>4</td><td>B</td><td>600</td></tr><tr><td>5</td><td>B</td><td>700</td></tr><tr><td>6</td><td>A</td><td>1000</td></tr><tr><td>7</td><td>A</td><td>2000</td></tr></table>"
                    },
                    "metadata": {}
                }
            ],
            "execution_count": 22
        },
        {
            "cell_type": "markdown",
            "source": [
                "# Print table of 7"
            ],
            "metadata": {
                "language": "sql",
                "azdata_cell_guid": "cfabe9a5-7368-4c27-ae6c-cfd458237bce"
            },
            "attachments": {}
        },
        {
            "cell_type": "code",
            "source": [
                "DECLARE @I INT =0\r\n",
                "\r\n",
                "WHILE(@I<10)\r\n",
                "BEGIN\r\n",
                "SET @I=@I+1\r\n",
                "PRINT @I*7\r\n",
                "END"
            ],
            "metadata": {
                "language": "sql",
                "azdata_cell_guid": "e64b8899-f03c-40a0-8136-1df3d7854926"
            },
            "outputs": [
                {
                    "output_type": "display_data",
                    "data": {
                        "text/html": "7"
                    },
                    "metadata": {}
                },
                {
                    "output_type": "display_data",
                    "data": {
                        "text/html": "14"
                    },
                    "metadata": {}
                },
                {
                    "output_type": "display_data",
                    "data": {
                        "text/html": "21"
                    },
                    "metadata": {}
                },
                {
                    "output_type": "display_data",
                    "data": {
                        "text/html": "28"
                    },
                    "metadata": {}
                },
                {
                    "output_type": "display_data",
                    "data": {
                        "text/html": "35"
                    },
                    "metadata": {}
                },
                {
                    "output_type": "display_data",
                    "data": {
                        "text/html": "42"
                    },
                    "metadata": {}
                },
                {
                    "output_type": "display_data",
                    "data": {
                        "text/html": "49"
                    },
                    "metadata": {}
                },
                {
                    "output_type": "display_data",
                    "data": {
                        "text/html": "56"
                    },
                    "metadata": {}
                },
                {
                    "output_type": "display_data",
                    "data": {
                        "text/html": "63"
                    },
                    "metadata": {}
                },
                {
                    "output_type": "display_data",
                    "data": {
                        "text/html": "70"
                    },
                    "metadata": {}
                },
                {
                    "output_type": "display_data",
                    "data": {
                        "text/html": "Total execution time: 00:00:00"
                    },
                    "metadata": {}
                }
            ],
            "execution_count": 4
        }
    ]
}
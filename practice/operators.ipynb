{
    "metadata": {
        "kernelspec": {
            "name": "SQL",
            "display_name": "SQL",
            "language": "sql"
        },
        "language_info": {
            "name": "sql",
            "version": ""
        }
    },
    "nbformat_minor": 2,
    "nbformat": 4,
    "cells": [
        {
            "cell_type": "markdown",
            "source": [
                "# Create Table\r\n",
                "1. Table cannot have more than one `PRIMARY KEY`."
            ],
            "metadata": {
                "language": "sql",
                "azdata_cell_guid": "5b32b124-c852-448c-8378-8709aae72274"
            },
            "attachments": {}
        },
        {
            "cell_type": "code",
            "source": [
                "CREATE TABLE #EmployeeInfo(\r\n",
                "    id INT,\r\n",
                "    name VARCHAR(255),\r\n",
                "    PRIMARY KEY(ID)\r\n",
                ")\r\n",
                ""
            ],
            "metadata": {
                "azdata_cell_guid": "105938df-cd20-4d1b-ba9e-59d193ac52fd",
                "language": "sql",
                "tags": []
            },
            "outputs": [
                {
                    "output_type": "display_data",
                    "data": {
                        "text/html": "Commands completed successfully."
                    },
                    "metadata": {}
                },
                {
                    "output_type": "display_data",
                    "data": {
                        "text/html": "Total execution time: 00:00:00.004"
                    },
                    "metadata": {}
                }
            ],
            "execution_count": 2
        },
        {
            "cell_type": "markdown",
            "source": [
                "# Inser Into"
            ],
            "metadata": {
                "language": "sql",
                "azdata_cell_guid": "cb58e32d-d651-414d-8ce8-7023c7546533"
            },
            "attachments": {}
        },
        {
            "cell_type": "code",
            "source": [
                "INSERT INTO #EmployeeInfo\r\n",
                "VALUES\r\n",
                "(101, 'Barney Ross')\r\n",
                "INSERT INTO #EmployeeInfo\r\n",
                "VALUES\r\n",
                "(102, 'Barney Ross')\r\n",
                "INSERT INTO #EmployeeInfo\r\n",
                "VALUES\r\n",
                "(103, 'Barney Ross')"
            ],
            "metadata": {
                "language": "sql",
                "azdata_cell_guid": "c46855a5-81e2-4572-ad8f-27648ba393a7"
            },
            "outputs": [
                {
                    "output_type": "display_data",
                    "data": {
                        "text/html": "(1 row affected)"
                    },
                    "metadata": {}
                },
                {
                    "output_type": "display_data",
                    "data": {
                        "text/html": "(1 row affected)"
                    },
                    "metadata": {}
                },
                {
                    "output_type": "display_data",
                    "data": {
                        "text/html": "(1 row affected)"
                    },
                    "metadata": {}
                },
                {
                    "output_type": "display_data",
                    "data": {
                        "text/html": "Total execution time: 00:00:00.002"
                    },
                    "metadata": {}
                }
            ],
            "execution_count": 3
        },
        {
            "cell_type": "markdown",
            "source": [
                "# Select\r\n",
                "To extract/query records"
            ],
            "metadata": {
                "language": "sql",
                "azdata_cell_guid": "02c3acbc-2c08-4e76-b994-d29ea6db6f45"
            },
            "attachments": {}
        },
        {
            "cell_type": "code",
            "source": [
                "\r\n",
                "SELECT * FROM #EmployeeInfo"
            ],
            "metadata": {
                "language": "sql",
                "azdata_cell_guid": "be0076de-61e4-4438-b29a-d8c6b129f4d4"
            },
            "outputs": [
                {
                    "output_type": "display_data",
                    "data": {
                        "text/html": "(3 rows affected)"
                    },
                    "metadata": {}
                },
                {
                    "output_type": "display_data",
                    "data": {
                        "text/html": "Total execution time: 00:00:00.003"
                    },
                    "metadata": {}
                },
                {
                    "output_type": "execute_result",
                    "metadata": {},
                    "execution_count": 4,
                    "data": {
                        "application/vnd.dataresource+json": {
                            "schema": {
                                "fields": [
                                    {
                                        "name": "id"
                                    },
                                    {
                                        "name": "name"
                                    }
                                ]
                            },
                            "data": [
                                {
                                    "0": "101",
                                    "1": "Barney Ross"
                                },
                                {
                                    "0": "102",
                                    "1": "Barney Ross"
                                },
                                {
                                    "0": "103",
                                    "1": "Barney Ross"
                                }
                            ]
                        },
                        "text/html": [
                            "<table>",
                            "<tr><th>id</th><th>name</th></tr>",
                            "<tr><td>101</td><td>Barney Ross</td></tr>",
                            "<tr><td>102</td><td>Barney Ross</td></tr>",
                            "<tr><td>103</td><td>Barney Ross</td></tr>",
                            "</table>"
                        ]
                    }
                }
            ],
            "execution_count": 4
        },
        {
            "cell_type": "markdown",
            "source": [
                "# Where\r\n",
                "To filter out records"
            ],
            "metadata": {
                "language": "sql",
                "azdata_cell_guid": "d535bc52-993d-46fb-9710-3ee74f6d9c1d"
            },
            "attachments": {}
        },
        {
            "cell_type": "code",
            "source": [
                "SELECT e.name\r\n",
                "FROM #EmployeeInfo e\r\n",
                "WHERE e.id = 103"
            ],
            "metadata": {
                "language": "sql",
                "azdata_cell_guid": "17e2a503-63c7-4729-9b58-946fb8d55809"
            },
            "outputs": [
                {
                    "output_type": "display_data",
                    "data": {
                        "text/html": "(1 row affected)"
                    },
                    "metadata": {}
                },
                {
                    "output_type": "display_data",
                    "data": {
                        "text/html": "Total execution time: 00:00:00.002"
                    },
                    "metadata": {}
                },
                {
                    "output_type": "execute_result",
                    "metadata": {},
                    "execution_count": 5,
                    "data": {
                        "application/vnd.dataresource+json": {
                            "schema": {
                                "fields": [
                                    {
                                        "name": "name"
                                    }
                                ]
                            },
                            "data": [
                                {
                                    "0": "Barney Ross"
                                }
                            ]
                        },
                        "text/html": [
                            "<table>",
                            "<tr><th>name</th></tr>",
                            "<tr><td>Barney Ross</td></tr>",
                            "</table>"
                        ]
                    }
                }
            ],
            "execution_count": 5
        }
    ]
}
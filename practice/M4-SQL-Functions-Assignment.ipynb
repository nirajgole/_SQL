{
    "metadata": {
        "kernelspec": {
            "name": "SQL",
            "display_name": "SQL",
            "language": "sql"
        },
        "language_info": {
            "name": "sql",
            "version": ""
        }
    },
    "nbformat_minor": 2,
    "nbformat": 4,
    "cells": [
        {
            "cell_type": "markdown",
            "source": [
                "## Study Material-M4-SQL-Functions-Assignment"
            ],
            "metadata": {
                "azdata_cell_guid": "ac7bfb24-9f17-421b-9b42-b678e9216e24"
            },
            "attachments": {}
        },
        {
            "cell_type": "code",
            "source": [
                "-- 1. What is the cost of the costliest software development in Basic?\r\n",
                "SELECT TITLE, DCOST\r\n",
                "FROM SOFTWARE\r\n",
                "WHERE DEVELOPIN='BASIC' AND DCOST=(SELECT MAX(DCOST)\r\n",
                "FROM SOFTWARE WHERE DEVELOPIN='BASIC')\r\n",
                ""
            ],
            "metadata": {
                "azdata_cell_guid": "238a174a-e32f-4d5f-a2da-f09026c44b8e",
                "language": "sql"
            },
            "outputs": [
                {
                    "output_type": "display_data",
                    "data": {
                        "text/html": "(1 row affected)"
                    },
                    "metadata": {}
                },
                {
                    "output_type": "display_data",
                    "data": {
                        "text/html": "Total execution time: 00:00:00.004"
                    },
                    "metadata": {}
                },
                {
                    "output_type": "execute_result",
                    "metadata": {},
                    "execution_count": 5,
                    "data": {
                        "application/vnd.dataresource+json": {
                            "schema": {
                                "fields": [
                                    {
                                        "name": "TITLE"
                                    },
                                    {
                                        "name": "DCOST"
                                    }
                                ]
                            },
                            "data": [
                                {
                                    "0": "PARACHUTES",
                                    "1": "6000"
                                }
                            ]
                        },
                        "text/html": [
                            "<table>",
                            "<tr><th>TITLE</th><th>DCOST</th></tr>",
                            "<tr><td>PARACHUTES</td><td>6000</td></tr>",
                            "</table>"
                        ]
                    }
                }
            ],
            "execution_count": 5
        },
        {
            "cell_type": "code",
            "source": [
                "-- 2. Display details of Packages whose sales crossed the 2000 Mark.\r\n",
                "SELECT *\r\n",
                "FROM SOFTWARE S JOIN ( SELECT TITLE, SUM(SCOST*SOLD) AS TOTAL_SALES\r\n",
                "    FROM SOFTWARE\r\n",
                "    GROUP BY TITLE) A\r\n",
                "    ON S.TITLE=A.TITLE\r\n",
                "WHERE A.TOTAL_SALES>2000"
            ],
            "metadata": {
                "language": "sql",
                "azdata_cell_guid": "42c20efd-9f91-45b7-9268-a31b94d11bd9"
            },
            "outputs": [
                {
                    "output_type": "display_data",
                    "data": {
                        "text/html": "(15 rows affected)"
                    },
                    "metadata": {}
                },
                {
                    "output_type": "display_data",
                    "data": {
                        "text/html": "Total execution time: 00:00:00.003"
                    },
                    "metadata": {}
                },
                {
                    "output_type": "execute_result",
                    "metadata": {},
                    "execution_count": 32,
                    "data": {
                        "application/vnd.dataresource+json": {
                            "schema": {
                                "fields": [
                                    {
                                        "name": "PNAME"
                                    },
                                    {
                                        "name": "TITLE"
                                    },
                                    {
                                        "name": "DEVELOPIN"
                                    },
                                    {
                                        "name": "SCOST"
                                    },
                                    {
                                        "name": "DCOST"
                                    },
                                    {
                                        "name": "SOLD"
                                    },
                                    {
                                        "name": "TITLE"
                                    },
                                    {
                                        "name": "TOTAL_SALES"
                                    }
                                ]
                            },
                            "data": [
                                {
                                    "0": "QADIR",
                                    "1": "BOMBS AWAY",
                                    "2": "ASSEMBLY",
                                    "3": "750",
                                    "4": "3000",
                                    "5": "11",
                                    "6": "BOMBS AWAY",
                                    "7": "8250"
                                },
                                {
                                    "0": "MARY",
                                    "1": "CODE GENERATOR",
                                    "2": "C",
                                    "3": "4500",
                                    "4": "20000",
                                    "5": "23",
                                    "6": "CODE GENERATOR",
                                    "7": "103500"
                                },
                                {
                                    "0": "RAMESH",
                                    "1": "DEAD LEE",
                                    "2": "PASCAL",
                                    "3": "599.95",
                                    "4": "4500",
                                    "5": "73",
                                    "6": "DEAD LEE",
                                    "7": "43796.350000000006"
                                },
                                {
                                    "0": "MARY",
                                    "1": "FINANCIAL ACCT.",
                                    "2": "ORACLE",
                                    "3": "18000",
                                    "4": "85000",
                                    "5": "4",
                                    "6": "FINANCIAL ACCT.",
                                    "7": "72000"
                                },
                                {
                                    "0": "REVATHI",
                                    "1": "HOSPITAL MGMT.",
                                    "2": "PASCAL",
                                    "3": "1100",
                                    "4": "75000",
                                    "5": "2",
                                    "6": "HOSPITAL MGMT.",
                                    "7": "2200"
                                },
                                {
                                    "0": "RAMESH",
                                    "1": "HOTEL MGMT.",
                                    "2": "DBASE",
                                    "3": "13000",
                                    "4": "35000",
                                    "5": "4",
                                    "6": "HOTEL MGMT.",
                                    "7": "52000"
                                },
                                {
                                    "0": "ANAND",
                                    "1": "PARACHUTES",
                                    "2": "BASIC",
                                    "3": "399.95",
                                    "4": "6000",
                                    "5": "43",
                                    "6": "PARACHUTES",
                                    "7": "17197.85"
                                },
                                {
                                    "0": "KAMALA",
                                    "1": "PAYROLL PKG.",
                                    "2": "DBASE",
                                    "3": "9000",
                                    "4": "20000",
                                    "5": "7",
                                    "6": "PAYROLL PKG.",
                                    "7": "63000"
                                },
                                {
                                    "0": "REMITHA",
                                    "1": "PC UTILITIES",
                                    "2": "C",
                                    "3": "725",
                                    "4": "5000",
                                    "5": "51",
                                    "6": "PC UTILITIES",
                                    "7": "36975"
                                },
                                {
                                    "0": "MARY",
                                    "1": "README",
                                    "2": "CPP",
                                    "3": "300",
                                    "4": "1200",
                                    "5": "84",
                                    "6": "README",
                                    "7": "50400"
                                },
                                {
                                    "0": "PATTRICK",
                                    "1": "README",
                                    "2": "CPP",
                                    "3": "300",
                                    "4": "1200",
                                    "5": "84",
                                    "6": "README",
                                    "7": "50400"
                                },
                                {
                                    "0": "VIJAYA",
                                    "1": "TSR EDITOR",
                                    "2": "C",
                                    "3": "900",
                                    "4": "700",
                                    "5": "6",
                                    "6": "TSR EDITOR",
                                    "7": "5400"
                                },
                                {
                                    "0": "REMITHA",
                                    "1": "TSR HELP PKG.",
                                    "2": "ASSEMBLY",
                                    "3": "2500",
                                    "4": "6000",
                                    "5": "7",
                                    "6": "TSR HELP PKG.",
                                    "7": "17500"
                                },
                                {
                                    "0": "QADIR",
                                    "1": "VACCINES",
                                    "2": "C",
                                    "3": "1900",
                                    "4": "3100",
                                    "5": "21",
                                    "6": "VACCINES",
                                    "7": "39900"
                                },
                                {
                                    "0": "ANAND",
                                    "1": "VIDEO TITLING",
                                    "2": "PASCAL",
                                    "3": "7500",
                                    "4": "16000",
                                    "5": "9",
                                    "6": "VIDEO TITLING",
                                    "7": "67500"
                                }
                            ]
                        },
                        "text/html": [
                            "<table>",
                            "<tr><th>PNAME</th><th>TITLE</th><th>DEVELOPIN</th><th>SCOST</th><th>DCOST</th><th>SOLD</th><th>TITLE</th><th>TOTAL_SALES</th></tr>",
                            "<tr><td>QADIR</td><td>BOMBS AWAY</td><td>ASSEMBLY</td><td>750</td><td>3000</td><td>11</td><td>BOMBS AWAY</td><td>8250</td></tr>",
                            "<tr><td>MARY</td><td>CODE GENERATOR</td><td>C</td><td>4500</td><td>20000</td><td>23</td><td>CODE GENERATOR</td><td>103500</td></tr>",
                            "<tr><td>RAMESH</td><td>DEAD LEE</td><td>PASCAL</td><td>599.95</td><td>4500</td><td>73</td><td>DEAD LEE</td><td>43796.350000000006</td></tr>",
                            "<tr><td>MARY</td><td>FINANCIAL ACCT.</td><td>ORACLE</td><td>18000</td><td>85000</td><td>4</td><td>FINANCIAL ACCT.</td><td>72000</td></tr>",
                            "<tr><td>REVATHI</td><td>HOSPITAL MGMT.</td><td>PASCAL</td><td>1100</td><td>75000</td><td>2</td><td>HOSPITAL MGMT.</td><td>2200</td></tr>",
                            "<tr><td>RAMESH</td><td>HOTEL MGMT.</td><td>DBASE</td><td>13000</td><td>35000</td><td>4</td><td>HOTEL MGMT.</td><td>52000</td></tr>",
                            "<tr><td>ANAND</td><td>PARACHUTES</td><td>BASIC</td><td>399.95</td><td>6000</td><td>43</td><td>PARACHUTES</td><td>17197.85</td></tr>",
                            "<tr><td>KAMALA</td><td>PAYROLL PKG.</td><td>DBASE</td><td>9000</td><td>20000</td><td>7</td><td>PAYROLL PKG.</td><td>63000</td></tr>",
                            "<tr><td>REMITHA</td><td>PC UTILITIES</td><td>C</td><td>725</td><td>5000</td><td>51</td><td>PC UTILITIES</td><td>36975</td></tr>",
                            "<tr><td>MARY</td><td>README</td><td>CPP</td><td>300</td><td>1200</td><td>84</td><td>README</td><td>50400</td></tr>",
                            "<tr><td>PATTRICK</td><td>README</td><td>CPP</td><td>300</td><td>1200</td><td>84</td><td>README</td><td>50400</td></tr>",
                            "<tr><td>VIJAYA</td><td>TSR EDITOR</td><td>C</td><td>900</td><td>700</td><td>6</td><td>TSR EDITOR</td><td>5400</td></tr>",
                            "<tr><td>REMITHA</td><td>TSR HELP PKG.</td><td>ASSEMBLY</td><td>2500</td><td>6000</td><td>7</td><td>TSR HELP PKG.</td><td>17500</td></tr>",
                            "<tr><td>QADIR</td><td>VACCINES</td><td>C</td><td>1900</td><td>3100</td><td>21</td><td>VACCINES</td><td>39900</td></tr>",
                            "<tr><td>ANAND</td><td>VIDEO TITLING</td><td>PASCAL</td><td>7500</td><td>16000</td><td>9</td><td>VIDEO TITLING</td><td>67500</td></tr>",
                            "</table>"
                        ]
                    }
                }
            ],
            "execution_count": 32
        },
        {
            "cell_type": "code",
            "source": [
                "-- 3. Who are the Programmers who celebrate their Birthdays during the Current Month?\r\n",
                "SELECT * FROM PROGRAMMER WHERE MONTH(DOB) = MONTH(GETDATE())\r\n",
                ""
            ],
            "metadata": {
                "language": "sql",
                "azdata_cell_guid": "15e722b5-0951-4f5b-a442-d08142bae0b6"
            },
            "outputs": [
                {
                    "output_type": "display_data",
                    "data": {
                        "text/html": "(2 rows affected)"
                    },
                    "metadata": {}
                },
                {
                    "output_type": "display_data",
                    "data": {
                        "text/html": "Total execution time: 00:00:00.009"
                    },
                    "metadata": {}
                },
                {
                    "output_type": "execute_result",
                    "metadata": {},
                    "execution_count": 16,
                    "data": {
                        "application/vnd.dataresource+json": {
                            "schema": {
                                "fields": [
                                    {
                                        "name": "PNAME"
                                    },
                                    {
                                        "name": "DOB"
                                    },
                                    {
                                        "name": "DOJ"
                                    },
                                    {
                                        "name": "GENDER"
                                    },
                                    {
                                        "name": "PROF1"
                                    },
                                    {
                                        "name": "PROF2"
                                    },
                                    {
                                        "name": "SALARY"
                                    }
                                ]
                            },
                            "data": [
                                {
                                    "0": "ANAND",
                                    "1": "1966-04-12",
                                    "2": "1992-04-21",
                                    "3": "M",
                                    "4": "PASCAL",
                                    "5": "BASIC",
                                    "6": "3200"
                                },
                                {
                                    "0": "REMITHA",
                                    "1": "1970-04-19",
                                    "2": "1993-04-20",
                                    "3": "F",
                                    "4": "C",
                                    "5": "ASSEMBLY",
                                    "6": "3600"
                                }
                            ]
                        },
                        "text/html": [
                            "<table>",
                            "<tr><th>PNAME</th><th>DOB</th><th>DOJ</th><th>GENDER</th><th>PROF1</th><th>PROF2</th><th>SALARY</th></tr>",
                            "<tr><td>ANAND</td><td>1966-04-12</td><td>1992-04-21</td><td>M</td><td>PASCAL</td><td>BASIC</td><td>3200</td></tr>",
                            "<tr><td>REMITHA</td><td>1970-04-19</td><td>1993-04-20</td><td>F</td><td>C</td><td>ASSEMBLY</td><td>3600</td></tr>",
                            "</table>"
                        ]
                    }
                }
            ],
            "execution_count": 16
        },
        {
            "cell_type": "code",
            "source": [
                "-- 4. Display the Cost of Package Developed By each Programmer.\r\n",
                "SELECT PNAME,SUM(DCOST) TOTAL_DCOST FROM SOFTWARE GROUP BY PNAME\r\n",
                ""
            ],
            "metadata": {
                "language": "sql",
                "azdata_cell_guid": "1c01d339-c3ec-4221-90e3-77c09fc1f321"
            },
            "outputs": [
                {
                    "output_type": "display_data",
                    "data": {
                        "text/html": "(10 rows affected)"
                    },
                    "metadata": {}
                },
                {
                    "output_type": "display_data",
                    "data": {
                        "text/html": "Total execution time: 00:00:00.003"
                    },
                    "metadata": {}
                },
                {
                    "output_type": "execute_result",
                    "metadata": {},
                    "execution_count": 19,
                    "data": {
                        "application/vnd.dataresource+json": {
                            "schema": {
                                "fields": [
                                    {
                                        "name": "PNAME"
                                    },
                                    {
                                        "name": "TOTAL_DCOST"
                                    }
                                ]
                            },
                            "data": [
                                {
                                    "0": "ANAND",
                                    "1": "22000"
                                },
                                {
                                    "0": "JULIANA",
                                    "1": "3500"
                                },
                                {
                                    "0": "KAMALA",
                                    "1": "20000"
                                },
                                {
                                    "0": "MARY",
                                    "1": "106200"
                                },
                                {
                                    "0": "PATTRICK",
                                    "1": "1200"
                                },
                                {
                                    "0": "QADIR",
                                    "1": "6100"
                                },
                                {
                                    "0": "RAMESH",
                                    "1": "39500"
                                },
                                {
                                    "0": "REMITHA",
                                    "1": "11000"
                                },
                                {
                                    "0": "REVATHI",
                                    "1": "75000"
                                },
                                {
                                    "0": "VIJAYA",
                                    "1": "700"
                                }
                            ]
                        },
                        "text/html": [
                            "<table>",
                            "<tr><th>PNAME</th><th>TOTAL_DCOST</th></tr>",
                            "<tr><td>ANAND</td><td>22000</td></tr>",
                            "<tr><td>JULIANA</td><td>3500</td></tr>",
                            "<tr><td>KAMALA</td><td>20000</td></tr>",
                            "<tr><td>MARY</td><td>106200</td></tr>",
                            "<tr><td>PATTRICK</td><td>1200</td></tr>",
                            "<tr><td>QADIR</td><td>6100</td></tr>",
                            "<tr><td>RAMESH</td><td>39500</td></tr>",
                            "<tr><td>REMITHA</td><td>11000</td></tr>",
                            "<tr><td>REVATHI</td><td>75000</td></tr>",
                            "<tr><td>VIJAYA</td><td>700</td></tr>",
                            "</table>"
                        ]
                    }
                }
            ],
            "execution_count": 19
        },
        {
            "cell_type": "code",
            "source": [
                "-- 5. Display the sales values of the Packages Developed by each Programmer.\r\n",
                "SELECT PNAME,TITLE,SUM(SCOST*SOLD) TOTAL_SALES FROM SOFTWARE GROUP BY PNAME,TITLE"
            ],
            "metadata": {
                "language": "sql",
                "azdata_cell_guid": "43ec9aed-b5e8-45d6-a265-8be887a73bea",
                "tags": []
            },
            "outputs": [
                {
                    "output_type": "display_data",
                    "data": {
                        "text/html": "(16 rows affected)"
                    },
                    "metadata": {}
                },
                {
                    "output_type": "display_data",
                    "data": {
                        "text/html": "Total execution time: 00:00:00.002"
                    },
                    "metadata": {}
                },
                {
                    "output_type": "execute_result",
                    "metadata": {},
                    "execution_count": 28,
                    "data": {
                        "application/vnd.dataresource+json": {
                            "schema": {
                                "fields": [
                                    {
                                        "name": "PNAME"
                                    },
                                    {
                                        "name": "TITLE"
                                    },
                                    {
                                        "name": "TOTAL_SALES"
                                    }
                                ]
                            },
                            "data": [
                                {
                                    "0": "QADIR",
                                    "1": "BOMBS AWAY",
                                    "2": "8250"
                                },
                                {
                                    "0": "MARY",
                                    "1": "CODE GENERATOR",
                                    "2": "103500"
                                },
                                {
                                    "0": "RAMESH",
                                    "1": "DEAD LEE",
                                    "2": "43796.350000000006"
                                },
                                {
                                    "0": "MARY",
                                    "1": "FINANCIAL ACCT.",
                                    "2": "72000"
                                },
                                {
                                    "0": "REVATHI",
                                    "1": "HOSPITAL MGMT.",
                                    "2": "2200"
                                },
                                {
                                    "0": "RAMESH",
                                    "1": "HOTEL MGMT.",
                                    "2": "52000"
                                },
                                {
                                    "0": "JULIANA",
                                    "1": "INVENTORY",
                                    "2": "0"
                                },
                                {
                                    "0": "ANAND",
                                    "1": "PARACHUTES",
                                    "2": "17197.85"
                                },
                                {
                                    "0": "KAMALA",
                                    "1": "PAYROLL PKG.",
                                    "2": "63000"
                                },
                                {
                                    "0": "REMITHA",
                                    "1": "PC UTILITIES",
                                    "2": "36975"
                                },
                                {
                                    "0": "MARY",
                                    "1": "README",
                                    "2": "25200"
                                },
                                {
                                    "0": "PATTRICK",
                                    "1": "README",
                                    "2": "25200"
                                },
                                {
                                    "0": "VIJAYA",
                                    "1": "TSR EDITOR",
                                    "2": "5400"
                                },
                                {
                                    "0": "REMITHA",
                                    "1": "TSR HELP PKG.",
                                    "2": "17500"
                                },
                                {
                                    "0": "QADIR",
                                    "1": "VACCINES",
                                    "2": "39900"
                                },
                                {
                                    "0": "ANAND",
                                    "1": "VIDEO TITLING",
                                    "2": "67500"
                                }
                            ]
                        },
                        "text/html": [
                            "<table>",
                            "<tr><th>PNAME</th><th>TITLE</th><th>TOTAL_SALES</th></tr>",
                            "<tr><td>QADIR</td><td>BOMBS AWAY</td><td>8250</td></tr>",
                            "<tr><td>MARY</td><td>CODE GENERATOR</td><td>103500</td></tr>",
                            "<tr><td>RAMESH</td><td>DEAD LEE</td><td>43796.350000000006</td></tr>",
                            "<tr><td>MARY</td><td>FINANCIAL ACCT.</td><td>72000</td></tr>",
                            "<tr><td>REVATHI</td><td>HOSPITAL MGMT.</td><td>2200</td></tr>",
                            "<tr><td>RAMESH</td><td>HOTEL MGMT.</td><td>52000</td></tr>",
                            "<tr><td>JULIANA</td><td>INVENTORY</td><td>0</td></tr>",
                            "<tr><td>ANAND</td><td>PARACHUTES</td><td>17197.85</td></tr>",
                            "<tr><td>KAMALA</td><td>PAYROLL PKG.</td><td>63000</td></tr>",
                            "<tr><td>REMITHA</td><td>PC UTILITIES</td><td>36975</td></tr>",
                            "<tr><td>MARY</td><td>README</td><td>25200</td></tr>",
                            "<tr><td>PATTRICK</td><td>README</td><td>25200</td></tr>",
                            "<tr><td>VIJAYA</td><td>TSR EDITOR</td><td>5400</td></tr>",
                            "<tr><td>REMITHA</td><td>TSR HELP PKG.</td><td>17500</td></tr>",
                            "<tr><td>QADIR</td><td>VACCINES</td><td>39900</td></tr>",
                            "<tr><td>ANAND</td><td>VIDEO TITLING</td><td>67500</td></tr>",
                            "</table>"
                        ]
                    }
                }
            ],
            "execution_count": 28
        },
        {
            "cell_type": "code",
            "source": [
                "-- 6. Display the Number of Packages sold by Each Programmer.\r\n",
                "SELECT PNAME,SUM(SOLD) AS NO_OF_PACKAGES FROM SOFTWARE GROUP BY PNAME\r\n",
                ""
            ],
            "metadata": {
                "language": "sql",
                "azdata_cell_guid": "daa1467c-9a90-451e-a3a4-4a85af165b30"
            },
            "outputs": [
                {
                    "output_type": "display_data",
                    "data": {
                        "text/html": "(10 rows affected)"
                    },
                    "metadata": {}
                },
                {
                    "output_type": "display_data",
                    "data": {
                        "text/html": "Total execution time: 00:00:00.026"
                    },
                    "metadata": {}
                },
                {
                    "output_type": "execute_result",
                    "metadata": {},
                    "execution_count": 34,
                    "data": {
                        "application/vnd.dataresource+json": {
                            "schema": {
                                "fields": [
                                    {
                                        "name": "PNAME"
                                    },
                                    {
                                        "name": "NO_OF_PACKAGES"
                                    }
                                ]
                            },
                            "data": [
                                {
                                    "0": "ANAND",
                                    "1": "52"
                                },
                                {
                                    "0": "JULIANA",
                                    "1": "0"
                                },
                                {
                                    "0": "KAMALA",
                                    "1": "7"
                                },
                                {
                                    "0": "MARY",
                                    "1": "111"
                                },
                                {
                                    "0": "PATTRICK",
                                    "1": "84"
                                },
                                {
                                    "0": "QADIR",
                                    "1": "32"
                                },
                                {
                                    "0": "RAMESH",
                                    "1": "77"
                                },
                                {
                                    "0": "REMITHA",
                                    "1": "58"
                                },
                                {
                                    "0": "REVATHI",
                                    "1": "2"
                                },
                                {
                                    "0": "VIJAYA",
                                    "1": "6"
                                }
                            ]
                        },
                        "text/html": [
                            "<table>",
                            "<tr><th>PNAME</th><th>NO_OF_PACKAGES</th></tr>",
                            "<tr><td>ANAND</td><td>52</td></tr>",
                            "<tr><td>JULIANA</td><td>0</td></tr>",
                            "<tr><td>KAMALA</td><td>7</td></tr>",
                            "<tr><td>MARY</td><td>111</td></tr>",
                            "<tr><td>PATTRICK</td><td>84</td></tr>",
                            "<tr><td>QADIR</td><td>32</td></tr>",
                            "<tr><td>RAMESH</td><td>77</td></tr>",
                            "<tr><td>REMITHA</td><td>58</td></tr>",
                            "<tr><td>REVATHI</td><td>2</td></tr>",
                            "<tr><td>VIJAYA</td><td>6</td></tr>",
                            "</table>"
                        ]
                    }
                }
            ],
            "execution_count": 34
        },
        {
            "cell_type": "code",
            "source": [
                "CREATE FUNCTION get_details()\r\n",
                "returns table as return\r\n",
                "SELECT PNAME, MAX(SCOST) AS MAX_SCOST, MIN(SCOST) AS MIN_SCOST\r\n",
                "FROM SOFTWARE\r\n",
                "GROUP BY PNAME"
            ],
            "metadata": {
                "language": "sql",
                "azdata_cell_guid": "50099244-5e26-4126-91b3-85726e9df994"
            },
            "outputs": [
                {
                    "output_type": "display_data",
                    "data": {
                        "text/html": "Commands completed successfully."
                    },
                    "metadata": {}
                },
                {
                    "output_type": "display_data",
                    "data": {
                        "text/html": "Total execution time: 00:00:00.007"
                    },
                    "metadata": {}
                }
            ],
            "execution_count": 44
        },
        {
            "cell_type": "code",
            "source": [
                "-- CREATE FUNCTION get_result(@col_name varchar(50), @col varchar(50))\r\n",
                "-- returns table return\r\n",
                "-- SELECT S.PNAME, TITLE AS [@col_name]\r\n",
                "-- FROM SOFTWARE S JOIN dbo.get_details() C ON S.PNAME=C.PNAME AND S.SCOST=C.[@col]"
            ],
            "metadata": {
                "language": "sql",
                "azdata_cell_guid": "ae201cb3-eda0-4190-a830-349bb0c558b8",
                "tags": [
                    "hide_input"
                ]
            },
            "outputs": [
                {
                    "output_type": "display_data",
                    "data": {
                        "text/html": "Commands completed successfully."
                    },
                    "metadata": {}
                },
                {
                    "output_type": "display_data",
                    "data": {
                        "text/html": "Total execution time: 00:00:00.004"
                    },
                    "metadata": {}
                }
            ],
            "execution_count": 52
        },
        {
            "cell_type": "code",
            "source": [
                "-- 7. Display each programmer’s name, costliest and cheapest Packages Developed by him or her.\r\n",
                "SELECT C_MAX.PNAME,costliest,cheapest FROM \r\n",
                "(SELECT S.PNAME, TITLE AS costliest\r\n",
                "FROM SOFTWARE S JOIN dbo.get_details() C ON S.PNAME=C.PNAME AND S.SCOST=C.MAX_SCOST) C_MAX\r\n",
                "JOIN \r\n",
                "(SELECT S.PNAME, TITLE AS cheapest\r\n",
                "FROM SOFTWARE S JOIN dbo.get_details() C ON S.PNAME=C.PNAME AND S.SCOST=C.MIN_SCOST) C_MIN\r\n",
                "ON C_MAX.PNAME=C_MIN.PNAME"
            ],
            "metadata": {
                "language": "sql",
                "azdata_cell_guid": "c4dd5a6a-4dc4-4f3f-bc7f-11327dd1ce58"
            },
            "outputs": [
                {
                    "output_type": "display_data",
                    "data": {
                        "text/html": "(10 rows affected)"
                    },
                    "metadata": {}
                },
                {
                    "output_type": "display_data",
                    "data": {
                        "text/html": "Total execution time: 00:00:00.005"
                    },
                    "metadata": {}
                },
                {
                    "output_type": "execute_result",
                    "metadata": {},
                    "execution_count": 57,
                    "data": {
                        "application/vnd.dataresource+json": {
                            "schema": {
                                "fields": [
                                    {
                                        "name": "PNAME"
                                    },
                                    {
                                        "name": "costliest"
                                    },
                                    {
                                        "name": "cheapest"
                                    }
                                ]
                            },
                            "data": [
                                {
                                    "0": "MARY",
                                    "1": "FINANCIAL ACCT.",
                                    "2": "README"
                                },
                                {
                                    "0": "ANAND",
                                    "1": "VIDEO TITLING",
                                    "2": "PARACHUTES"
                                },
                                {
                                    "0": "JULIANA",
                                    "1": "INVENTORY",
                                    "2": "INVENTORY"
                                },
                                {
                                    "0": "KAMALA",
                                    "1": "PAYROLL PKG.",
                                    "2": "PAYROLL PKG."
                                },
                                {
                                    "0": "PATTRICK",
                                    "1": "README",
                                    "2": "README"
                                },
                                {
                                    "0": "QADIR",
                                    "1": "VACCINES",
                                    "2": "BOMBS AWAY"
                                },
                                {
                                    "0": "RAMESH",
                                    "1": "HOTEL MGMT.",
                                    "2": "DEAD LEE"
                                },
                                {
                                    "0": "REMITHA",
                                    "1": "TSR HELP PKG.",
                                    "2": "PC UTILITIES"
                                },
                                {
                                    "0": "REVATHI",
                                    "1": "HOSPITAL MGMT.",
                                    "2": "HOSPITAL MGMT."
                                },
                                {
                                    "0": "VIJAYA",
                                    "1": "TSR EDITOR",
                                    "2": "TSR EDITOR"
                                }
                            ]
                        },
                        "text/html": [
                            "<table>",
                            "<tr><th>PNAME</th><th>costliest</th><th>cheapest</th></tr>",
                            "<tr><td>MARY</td><td>FINANCIAL ACCT.</td><td>README</td></tr>",
                            "<tr><td>ANAND</td><td>VIDEO TITLING</td><td>PARACHUTES</td></tr>",
                            "<tr><td>JULIANA</td><td>INVENTORY</td><td>INVENTORY</td></tr>",
                            "<tr><td>KAMALA</td><td>PAYROLL PKG.</td><td>PAYROLL PKG.</td></tr>",
                            "<tr><td>PATTRICK</td><td>README</td><td>README</td></tr>",
                            "<tr><td>QADIR</td><td>VACCINES</td><td>BOMBS AWAY</td></tr>",
                            "<tr><td>RAMESH</td><td>HOTEL MGMT.</td><td>DEAD LEE</td></tr>",
                            "<tr><td>REMITHA</td><td>TSR HELP PKG.</td><td>PC UTILITIES</td></tr>",
                            "<tr><td>REVATHI</td><td>HOSPITAL MGMT.</td><td>HOSPITAL MGMT.</td></tr>",
                            "<tr><td>VIJAYA</td><td>TSR EDITOR</td><td>TSR EDITOR</td></tr>",
                            "</table>"
                        ]
                    }
                }
            ],
            "execution_count": 57
        },
        {
            "cell_type": "code",
            "source": [
                "-- 8. Display each institute name with the number of Courses, Average Cost per Course.\r\n",
                "SELECT INSTITUTE, COUNT(COURSE) AS NO_OF_COURSES, AVG([COURSE FEE]) AS AVG_COST_PER_COURSE\r\n",
                "FROM STUDIES\r\n",
                "GROUP BY INSTITUTE"
            ],
            "metadata": {
                "language": "sql",
                "azdata_cell_guid": "856112cf-30bf-48df-a8ee-1d8e3ea0cccc"
            },
            "outputs": [
                {
                    "output_type": "display_data",
                    "data": {
                        "text/html": "(6 rows affected)"
                    },
                    "metadata": {}
                },
                {
                    "output_type": "display_data",
                    "data": {
                        "text/html": "Total execution time: 00:00:00.006"
                    },
                    "metadata": {}
                },
                {
                    "output_type": "execute_result",
                    "metadata": {},
                    "execution_count": 58,
                    "data": {
                        "application/vnd.dataresource+json": {
                            "schema": {
                                "fields": [
                                    {
                                        "name": "INSTITUTE"
                                    },
                                    {
                                        "name": "NO_OF_COURSES"
                                    },
                                    {
                                        "name": "AVG_COST_PER_COURSE"
                                    }
                                ]
                            },
                            "data": [
                                {
                                    "0": "APPLE",
                                    "1": "1",
                                    "2": "14000"
                                },
                                {
                                    "0": "BDPS",
                                    "1": "3",
                                    "2": "25333"
                                },
                                {
                                    "0": "BRILLIANT",
                                    "1": "1",
                                    "2": "11000"
                                },
                                {
                                    "0": "COIT",
                                    "1": "1",
                                    "2": "7200"
                                },
                                {
                                    "0": "PRAGATHI",
                                    "1": "3",
                                    "2": "5466"
                                },
                                {
                                    "0": "SABHARI",
                                    "1": "4",
                                    "2": "4625"
                                }
                            ]
                        },
                        "text/html": [
                            "<table>",
                            "<tr><th>INSTITUTE</th><th>NO_OF_COURSES</th><th>AVG_COST_PER_COURSE</th></tr>",
                            "<tr><td>APPLE</td><td>1</td><td>14000</td></tr>",
                            "<tr><td>BDPS</td><td>3</td><td>25333</td></tr>",
                            "<tr><td>BRILLIANT</td><td>1</td><td>11000</td></tr>",
                            "<tr><td>COIT</td><td>1</td><td>7200</td></tr>",
                            "<tr><td>PRAGATHI</td><td>3</td><td>5466</td></tr>",
                            "<tr><td>SABHARI</td><td>4</td><td>4625</td></tr>",
                            "</table>"
                        ]
                    }
                }
            ],
            "execution_count": 58
        },
        {
            "cell_type": "code",
            "source": [
                "-- 9. Display each institute Name with Number of Students.\r\n",
                "SELECT INSTITUTE, COUNT(PNAME) AS \"Number of Students\"\r\n",
                "FROM STUDIES\r\n",
                "GROUP BY INSTITUTE"
            ],
            "metadata": {
                "language": "sql",
                "azdata_cell_guid": "2d2a9cf4-940b-42fc-8e36-dc2a27d100d2"
            },
            "outputs": [
                {
                    "output_type": "display_data",
                    "data": {
                        "text/html": "(6 rows affected)"
                    },
                    "metadata": {}
                },
                {
                    "output_type": "display_data",
                    "data": {
                        "text/html": "Total execution time: 00:00:00.034"
                    },
                    "metadata": {}
                },
                {
                    "output_type": "execute_result",
                    "metadata": {},
                    "execution_count": 59,
                    "data": {
                        "application/vnd.dataresource+json": {
                            "schema": {
                                "fields": [
                                    {
                                        "name": "INSTITUTE"
                                    },
                                    {
                                        "name": "Number of Students"
                                    }
                                ]
                            },
                            "data": [
                                {
                                    "0": "APPLE",
                                    "1": "1"
                                },
                                {
                                    "0": "BDPS",
                                    "1": "3"
                                },
                                {
                                    "0": "BRILLIANT",
                                    "1": "1"
                                },
                                {
                                    "0": "COIT",
                                    "1": "1"
                                },
                                {
                                    "0": "PRAGATHI",
                                    "1": "3"
                                },
                                {
                                    "0": "SABHARI",
                                    "1": "4"
                                }
                            ]
                        },
                        "text/html": [
                            "<table>",
                            "<tr><th>INSTITUTE</th><th>Number of Students</th></tr>",
                            "<tr><td>APPLE</td><td>1</td></tr>",
                            "<tr><td>BDPS</td><td>3</td></tr>",
                            "<tr><td>BRILLIANT</td><td>1</td></tr>",
                            "<tr><td>COIT</td><td>1</td></tr>",
                            "<tr><td>PRAGATHI</td><td>3</td></tr>",
                            "<tr><td>SABHARI</td><td>4</td></tr>",
                            "</table>"
                        ]
                    }
                }
            ],
            "execution_count": 59
        },
        {
            "cell_type": "code",
            "source": [
                "-- 10. List the programmers (form the software table) and the institutes they studied.\r\n",
                "SELECT DISTINCT S.PNAME, SS.INSTITUTE\r\n",
                "FROM SOFTWARE S LEFT JOIN STUDIES SS ON S.PNAME=SS.PNAME\r\n",
                ""
            ],
            "metadata": {
                "language": "sql",
                "azdata_cell_guid": "0f49753e-2c4d-4bd7-b715-dfb139fac757"
            },
            "outputs": [
                {
                    "output_type": "display_data",
                    "data": {
                        "text/html": "(10 rows affected)"
                    },
                    "metadata": {}
                },
                {
                    "output_type": "display_data",
                    "data": {
                        "text/html": "Total execution time: 00:00:00.004"
                    },
                    "metadata": {}
                },
                {
                    "output_type": "execute_result",
                    "metadata": {},
                    "execution_count": 62,
                    "data": {
                        "application/vnd.dataresource+json": {
                            "schema": {
                                "fields": [
                                    {
                                        "name": "PNAME"
                                    },
                                    {
                                        "name": "INSTITUTE"
                                    }
                                ]
                            },
                            "data": [
                                {
                                    "0": "ANAND",
                                    "1": "SABHARI"
                                },
                                {
                                    "0": "JULIANA",
                                    "1": "BDPS"
                                },
                                {
                                    "0": "KAMALA",
                                    "1": "PRAGATHI"
                                },
                                {
                                    "0": "MARY",
                                    "1": "SABHARI"
                                },
                                {
                                    "0": "PATTRICK",
                                    "1": "NULL"
                                },
                                {
                                    "0": "QADIR",
                                    "1": "APPLE"
                                },
                                {
                                    "0": "RAMESH",
                                    "1": "SABHARI"
                                },
                                {
                                    "0": "REMITHA",
                                    "1": "BDPS"
                                },
                                {
                                    "0": "REVATHI",
                                    "1": "SABHARI"
                                },
                                {
                                    "0": "VIJAYA",
                                    "1": "BDPS"
                                }
                            ]
                        },
                        "text/html": [
                            "<table>",
                            "<tr><th>PNAME</th><th>INSTITUTE</th></tr>",
                            "<tr><td>ANAND</td><td>SABHARI</td></tr>",
                            "<tr><td>JULIANA</td><td>BDPS</td></tr>",
                            "<tr><td>KAMALA</td><td>PRAGATHI</td></tr>",
                            "<tr><td>MARY</td><td>SABHARI</td></tr>",
                            "<tr><td>PATTRICK</td><td>NULL</td></tr>",
                            "<tr><td>QADIR</td><td>APPLE</td></tr>",
                            "<tr><td>RAMESH</td><td>SABHARI</td></tr>",
                            "<tr><td>REMITHA</td><td>BDPS</td></tr>",
                            "<tr><td>REVATHI</td><td>SABHARI</td></tr>",
                            "<tr><td>VIJAYA</td><td>BDPS</td></tr>",
                            "</table>"
                        ]
                    }
                }
            ],
            "execution_count": 62
        },
        {
            "cell_type": "code",
            "source": [
                "-- 11. How many packages were developed by students, \r\n",
                "-- who studied in institute that charge the lowest course fee?\r\n",
                "SELECT S.PNAME, COUNT(TITLE) AS NO_OF_PACKAGES\r\n",
                "FROM SOFTWARE S LEFT JOIN STUDIES SS ON S.PNAME=SS.PNAME\r\n",
                "GROUP BY S.PNAME,SS.[COURSE FEE]\r\n",
                "HAVING SS.[COURSE FEE]=(SELECT MIN([COURSE FEE])\r\n",
                "FROM STUDIES)"
            ],
            "metadata": {
                "language": "sql",
                "azdata_cell_guid": "bb4c22a6-aa6f-47b9-8e7f-b150d97c45ff"
            },
            "outputs": [
                {
                    "output_type": "display_data",
                    "data": {
                        "text/html": "(3 rows affected)"
                    },
                    "metadata": {}
                },
                {
                    "output_type": "display_data",
                    "data": {
                        "text/html": "Total execution time: 00:00:00.002"
                    },
                    "metadata": {}
                },
                {
                    "output_type": "execute_result",
                    "metadata": {},
                    "execution_count": 73,
                    "data": {
                        "application/vnd.dataresource+json": {
                            "schema": {
                                "fields": [
                                    {
                                        "name": "PNAME"
                                    },
                                    {
                                        "name": "NO_OF_PACKAGES"
                                    }
                                ]
                            },
                            "data": [
                                {
                                    "0": "ANAND",
                                    "1": "2"
                                },
                                {
                                    "0": "MARY",
                                    "1": "3"
                                },
                                {
                                    "0": "RAMESH",
                                    "1": "2"
                                }
                            ]
                        },
                        "text/html": [
                            "<table>",
                            "<tr><th>PNAME</th><th>NO_OF_PACKAGES</th></tr>",
                            "<tr><td>ANAND</td><td>2</td></tr>",
                            "<tr><td>MARY</td><td>3</td></tr>",
                            "<tr><td>RAMESH</td><td>2</td></tr>",
                            "</table>"
                        ]
                    }
                }
            ],
            "execution_count": 73
        },
        {
            "cell_type": "code",
            "source": [
                "-- 12. What is the AVG salary for those whose software sales is more than 50,000/-.\r\n",
                "SELECT AVG(P.SALARY) AS \"AVG salary for those whose software sales is more than 50,000\"\r\n",
                "FROM PROGRAMMER P JOIN (SELECT PNAME\r\n",
                "    FROM SOFTWARE\r\n",
                "    WHERE SCOST*SOLD>50000\r\n",
                "    GROUP BY PNAME) A ON P.PNAME=A.PNAME"
            ],
            "metadata": {
                "language": "sql",
                "azdata_cell_guid": "2053e9e4-bb8c-4139-9023-9f20f9109919"
            },
            "outputs": [
                {
                    "output_type": "display_data",
                    "data": {
                        "text/html": "(1 row affected)"
                    },
                    "metadata": {}
                },
                {
                    "output_type": "display_data",
                    "data": {
                        "text/html": "Total execution time: 00:00:00.002"
                    },
                    "metadata": {}
                },
                {
                    "output_type": "execute_result",
                    "metadata": {},
                    "execution_count": 83,
                    "data": {
                        "application/vnd.dataresource+json": {
                            "schema": {
                                "fields": [
                                    {
                                        "name": "AVG salary for those whose software sales is more than 50,000"
                                    }
                                ]
                            },
                            "data": [
                                {
                                    "0": "3450"
                                }
                            ]
                        },
                        "text/html": [
                            "<table>",
                            "<tr><th>AVG salary for those whose software sales is more than 50,000</th></tr>",
                            "<tr><td>3450</td></tr>",
                            "</table>"
                        ]
                    }
                }
            ],
            "execution_count": 84
        },
        {
            "cell_type": "code",
            "source": [
                "-- 13. Which language listed in prof1, prof2 has not been used to develop any package.\r\n",
                "SELECT PROF1\r\n",
                "FROM (SELECT PROF1\r\n",
                "        FROM PROGRAMMER\r\n",
                "    UNION\r\n",
                "        SELECT PROF2\r\n",
                "        FROM PROGRAMMER) P LEFT JOIN SOFTWARE S ON P.PROF1=S.DEVELOPIN\r\n",
                "WHERE DEVELOPIN IS NULL"
            ],
            "metadata": {
                "language": "sql",
                "azdata_cell_guid": "33a5c761-3f5a-4b07-8315-cc8343c68b4d"
            },
            "outputs": [
                {
                    "output_type": "display_data",
                    "data": {
                        "text/html": "(2 rows affected)"
                    },
                    "metadata": {}
                },
                {
                    "output_type": "display_data",
                    "data": {
                        "text/html": "Total execution time: 00:00:00.003"
                    },
                    "metadata": {}
                },
                {
                    "output_type": "execute_result",
                    "metadata": {},
                    "execution_count": 91,
                    "data": {
                        "application/vnd.dataresource+json": {
                            "schema": {
                                "fields": [
                                    {
                                        "name": "PROF1"
                                    }
                                ]
                            },
                            "data": [
                                {
                                    "0": "CLIPPER"
                                },
                                {
                                    "0": "FOXPRO"
                                }
                            ]
                        },
                        "text/html": [
                            "<table>",
                            "<tr><th>PROF1</th></tr>",
                            "<tr><td>CLIPPER</td></tr>",
                            "<tr><td>FOXPRO</td></tr>",
                            "</table>"
                        ]
                    }
                }
            ],
            "execution_count": 91
        },
        {
            "cell_type": "code",
            "source": [
                "-- 14. Display the total sales value of the software, institute wise.\r\n",
                "SELECT INSTITUTE,SUM(SCOST*SOLD) AS TOTAL_SALES_VALUE\r\n",
                "FROM SOFTWARE S LEFT JOIN STUDIES SS ON S.PNAME=SS.PNAME\r\n",
                "GROUP BY SS.INSTITUTE"
            ],
            "metadata": {
                "language": "sql",
                "azdata_cell_guid": "1712b4e1-03e0-4b93-919e-d593d22d960d"
            },
            "outputs": [
                {
                    "output_type": "display_data",
                    "data": {
                        "text/html": "(5 rows affected)"
                    },
                    "metadata": {}
                },
                {
                    "output_type": "display_data",
                    "data": {
                        "text/html": "Total execution time: 00:00:00.004"
                    },
                    "metadata": {}
                },
                {
                    "output_type": "execute_result",
                    "metadata": {},
                    "execution_count": 95,
                    "data": {
                        "application/vnd.dataresource+json": {
                            "schema": {
                                "fields": [
                                    {
                                        "name": "INSTITUTE"
                                    },
                                    {
                                        "name": "TOTAL_SALES_VALUE"
                                    }
                                ]
                            },
                            "data": [
                                {
                                    "0": "NULL",
                                    "1": "25200"
                                },
                                {
                                    "0": "APPLE",
                                    "1": "48150"
                                },
                                {
                                    "0": "BDPS",
                                    "1": "59875"
                                },
                                {
                                    "0": "PRAGATHI",
                                    "1": "63000"
                                },
                                {
                                    "0": "SABHARI",
                                    "1": "383394.19999999995"
                                }
                            ]
                        },
                        "text/html": [
                            "<table>",
                            "<tr><th>INSTITUTE</th><th>TOTAL_SALES_VALUE</th></tr>",
                            "<tr><td>NULL</td><td>25200</td></tr>",
                            "<tr><td>APPLE</td><td>48150</td></tr>",
                            "<tr><td>BDPS</td><td>59875</td></tr>",
                            "<tr><td>PRAGATHI</td><td>63000</td></tr>",
                            "<tr><td>SABHARI</td><td>383394.19999999995</td></tr>",
                            "</table>"
                        ]
                    }
                }
            ],
            "execution_count": 95
        },
        {
            "cell_type": "code",
            "source": [
                "-- 15. Display the details of the Software Developed in C By female programmers of Pragathi\r\n",
                "SELECT *\r\n",
                "FROM SOFTWARE S LEFT JOIN PROGRAMMER P ON S.PNAME=P.PNAME LEFT JOIN STUDIES SS ON S.PNAME=SS.PNAME WHERE\r\n",
                "DEVELOPIN='C' AND GENDER='F' AND SS.INSTITUTE='Pragathi'"
            ],
            "metadata": {
                "language": "sql",
                "azdata_cell_guid": "939e5ed9-fed0-458d-a3df-cc7ac180c7bc",
                "tags": []
            },
            "outputs": [
                {
                    "output_type": "display_data",
                    "data": {
                        "text/html": "(0 rows affected)"
                    },
                    "metadata": {}
                },
                {
                    "output_type": "display_data",
                    "data": {
                        "text/html": "Total execution time: 00:00:00.005"
                    },
                    "metadata": {}
                },
                {
                    "output_type": "execute_result",
                    "metadata": {},
                    "execution_count": 98,
                    "data": {
                        "application/vnd.dataresource+json": {
                            "schema": {
                                "fields": [
                                    {
                                        "name": "PNAME"
                                    },
                                    {
                                        "name": "TITLE"
                                    },
                                    {
                                        "name": "DEVELOPIN"
                                    },
                                    {
                                        "name": "SCOST"
                                    },
                                    {
                                        "name": "DCOST"
                                    },
                                    {
                                        "name": "SOLD"
                                    },
                                    {
                                        "name": "PNAME"
                                    },
                                    {
                                        "name": "DOB"
                                    },
                                    {
                                        "name": "DOJ"
                                    },
                                    {
                                        "name": "GENDER"
                                    },
                                    {
                                        "name": "PROF1"
                                    },
                                    {
                                        "name": "PROF2"
                                    },
                                    {
                                        "name": "SALARY"
                                    },
                                    {
                                        "name": "PNAME"
                                    },
                                    {
                                        "name": "INSTITUTE"
                                    },
                                    {
                                        "name": "COURSE"
                                    },
                                    {
                                        "name": "COURSE FEE"
                                    }
                                ]
                            },
                            "data": []
                        },
                        "text/html": [
                            "<table>",
                            "<tr><th>PNAME</th><th>TITLE</th><th>DEVELOPIN</th><th>SCOST</th><th>DCOST</th><th>SOLD</th><th>PNAME</th><th>DOB</th><th>DOJ</th><th>GENDER</th><th>PROF1</th><th>PROF2</th><th>SALARY</th><th>PNAME</th><th>INSTITUTE</th><th>COURSE</th><th>COURSE FEE</th></tr>",
                            "</table>"
                        ]
                    }
                }
            ],
            "execution_count": 98
        },
        {
            "cell_type": "code",
            "source": [
                "-- 16. Display the details of the packages developed in Pascal by the Female Programmers.\r\n",
                "SELECT S.TITLE,S.PNAME,S.DCOST,S.DEVELOPIN,S.SCOST,S.SOLD FROM SOFTWARE S LEFT JOIN PROGRAMMER P ON S.PNAME=P.PNAME WHERE GENDER='F' AND DEVELOPIN='PASCAL'"
            ],
            "metadata": {
                "language": "sql",
                "azdata_cell_guid": "33ede900-f304-4b2c-8a71-6789703bc6ea"
            },
            "outputs": [
                {
                    "output_type": "display_data",
                    "data": {
                        "text/html": "(1 row affected)"
                    },
                    "metadata": {}
                },
                {
                    "output_type": "display_data",
                    "data": {
                        "text/html": "Total execution time: 00:00:00.003"
                    },
                    "metadata": {}
                },
                {
                    "output_type": "execute_result",
                    "metadata": {},
                    "execution_count": 100,
                    "data": {
                        "application/vnd.dataresource+json": {
                            "schema": {
                                "fields": [
                                    {
                                        "name": "TITLE"
                                    },
                                    {
                                        "name": "PNAME"
                                    },
                                    {
                                        "name": "DCOST"
                                    },
                                    {
                                        "name": "DEVELOPIN"
                                    },
                                    {
                                        "name": "SCOST"
                                    },
                                    {
                                        "name": "SOLD"
                                    }
                                ]
                            },
                            "data": [
                                {
                                    "0": "HOSPITAL MGMT.",
                                    "1": "REVATHI",
                                    "2": "75000",
                                    "3": "PASCAL",
                                    "4": "1100",
                                    "5": "2"
                                }
                            ]
                        },
                        "text/html": [
                            "<table>",
                            "<tr><th>TITLE</th><th>PNAME</th><th>DCOST</th><th>DEVELOPIN</th><th>SCOST</th><th>SOLD</th></tr>",
                            "<tr><td>HOSPITAL MGMT.</td><td>REVATHI</td><td>75000</td><td>PASCAL</td><td>1100</td><td>2</td></tr>",
                            "</table>"
                        ]
                    }
                }
            ],
            "execution_count": 100
        },
        {
            "cell_type": "code",
            "source": [
                "-- 17. Which language has been stated as the proficiency by most of the Programmers?\r\n",
                "SELECT PROF1\r\n",
                "FROM (SELECT PROF1, DENSE_RANK()OVER(ORDER BY COUNT(PROF1) DESC) AS RANK\r\n",
                "    FROM (            SELECT PROF1\r\n",
                "            FROM PROGRAMMER\r\n",
                "        UNION ALL\r\n",
                "            SELECT PROF2\r\n",
                "            FROM PROGRAMMER) A\r\n",
                "    GROUP BY PROF1) B\r\n",
                "WHERE RANK=1"
            ],
            "metadata": {
                "language": "sql",
                "azdata_cell_guid": "a9c22fd3-4526-4d62-96dd-5f52b10f8fcd"
            },
            "outputs": [
                {
                    "output_type": "display_data",
                    "data": {
                        "text/html": "(4 rows affected)"
                    },
                    "metadata": {}
                },
                {
                    "output_type": "display_data",
                    "data": {
                        "text/html": "Total execution time: 00:00:00.004"
                    },
                    "metadata": {}
                },
                {
                    "output_type": "execute_result",
                    "metadata": {},
                    "execution_count": 107,
                    "data": {
                        "application/vnd.dataresource+json": {
                            "schema": {
                                "fields": [
                                    {
                                        "name": "PROF1"
                                    }
                                ]
                            },
                            "data": [
                                {
                                    "0": "C"
                                },
                                {
                                    "0": "COBOL"
                                },
                                {
                                    "0": "DBASE"
                                },
                                {
                                    "0": "PASCAL"
                                }
                            ]
                        },
                        "text/html": [
                            "<table>",
                            "<tr><th>PROF1</th></tr>",
                            "<tr><td>C</td></tr>",
                            "<tr><td>COBOL</td></tr>",
                            "<tr><td>DBASE</td></tr>",
                            "<tr><td>PASCAL</td></tr>",
                            "</table>"
                        ]
                    }
                }
            ],
            "execution_count": 107
        },
        {
            "cell_type": "code",
            "source": [
                "-- 18. Who is the Author of the Costliest Package?\r\n",
                "SELECT PNAME FROM SOFTWARE WHERE SCOST = (SELECT MAX(SCOST) FROM SOFTWARE)"
            ],
            "metadata": {
                "language": "sql",
                "azdata_cell_guid": "c6a5dfb6-56ee-4379-84ad-d08fb3cca68f"
            },
            "outputs": [
                {
                    "output_type": "display_data",
                    "data": {
                        "text/html": "(1 row affected)"
                    },
                    "metadata": {}
                },
                {
                    "output_type": "display_data",
                    "data": {
                        "text/html": "Total execution time: 00:00:00.004"
                    },
                    "metadata": {}
                },
                {
                    "output_type": "execute_result",
                    "metadata": {},
                    "execution_count": 108,
                    "data": {
                        "application/vnd.dataresource+json": {
                            "schema": {
                                "fields": [
                                    {
                                        "name": "PNAME"
                                    }
                                ]
                            },
                            "data": [
                                {
                                    "0": "MARY"
                                }
                            ]
                        },
                        "text/html": [
                            "<table>",
                            "<tr><th>PNAME</th></tr>",
                            "<tr><td>MARY</td></tr>",
                            "</table>"
                        ]
                    }
                }
            ],
            "execution_count": 108
        },
        {
            "cell_type": "code",
            "source": [
                "-- 19. Which package has the Highest Development cost?\r\n",
                "SELECT TITLE FROM SOFTWARE WHERE DCOST = (SELECT MAX(DCOST) FROM SOFTWARE)"
            ],
            "metadata": {
                "language": "sql",
                "azdata_cell_guid": "49a82eb9-f3df-4552-b51c-09c3b7fe788c"
            },
            "outputs": [
                {
                    "output_type": "display_data",
                    "data": {
                        "text/html": "(1 row affected)"
                    },
                    "metadata": {}
                },
                {
                    "output_type": "display_data",
                    "data": {
                        "text/html": "Total execution time: 00:00:00.003"
                    },
                    "metadata": {}
                },
                {
                    "output_type": "execute_result",
                    "metadata": {},
                    "execution_count": 109,
                    "data": {
                        "application/vnd.dataresource+json": {
                            "schema": {
                                "fields": [
                                    {
                                        "name": "TITLE"
                                    }
                                ]
                            },
                            "data": [
                                {
                                    "0": "FINANCIAL ACCT."
                                }
                            ]
                        },
                        "text/html": [
                            "<table>",
                            "<tr><th>TITLE</th></tr>",
                            "<tr><td>FINANCIAL ACCT.</td></tr>",
                            "</table>"
                        ]
                    }
                }
            ],
            "execution_count": 109
        },
        {
            "cell_type": "code",
            "source": [
                "-- 20. Who is the Highest Paid Female COBOL Programmer?\r\n",
                "SELECT PNAME FROM (SELECT PNAME, DENSE_RANK()OVER(ORDER BY SALARY DESC) AS RANK\r\n",
                "FROM PROGRAMMER\r\n",
                "WHERE GENDER='F' AND 'COBOL' IN (PROF1,PROF2)) A WHERE RANK=1"
            ],
            "metadata": {
                "language": "sql",
                "azdata_cell_guid": "e8e4fed1-d1bf-4c10-92eb-82a9d3a6c13a"
            },
            "outputs": [
                {
                    "output_type": "display_data",
                    "data": {
                        "text/html": "(1 row affected)"
                    },
                    "metadata": {}
                },
                {
                    "output_type": "display_data",
                    "data": {
                        "text/html": "Total execution time: 00:00:00.003"
                    },
                    "metadata": {}
                },
                {
                    "output_type": "execute_result",
                    "metadata": {},
                    "execution_count": 114,
                    "data": {
                        "application/vnd.dataresource+json": {
                            "schema": {
                                "fields": [
                                    {
                                        "name": "PNAME"
                                    }
                                ]
                            },
                            "data": [
                                {
                                    "0": "JULIANA"
                                }
                            ]
                        },
                        "text/html": [
                            "<table>",
                            "<tr><th>PNAME</th></tr>",
                            "<tr><td>JULIANA</td></tr>",
                            "</table>"
                        ]
                    }
                }
            ],
            "execution_count": 114
        },
        {
            "cell_type": "code",
            "source": [
                "-- 21. Display the Name of Programmers and Their Packages.\r\n",
                "SELECT P.PNAME, S.TITLE\r\n",
                "FROM PROGRAMMER P LEFT JOIN SOFTWARE S ON P.PNAME=S.PNAME\r\n",
                "GROUP BY P.PNAME,S.TITLE\r\n",
                ""
            ],
            "metadata": {
                "azdata_cell_guid": "2434005e-5b3e-49b9-b676-e45346a92b64",
                "language": "sql"
            },
            "outputs": [
                {
                    "output_type": "display_data",
                    "data": {
                        "text/html": "(19 rows affected)"
                    },
                    "metadata": {}
                },
                {
                    "output_type": "display_data",
                    "data": {
                        "text/html": "Total execution time: 00:00:00.003"
                    },
                    "metadata": {}
                },
                {
                    "output_type": "execute_result",
                    "metadata": {},
                    "execution_count": 119,
                    "data": {
                        "application/vnd.dataresource+json": {
                            "schema": {
                                "fields": [
                                    {
                                        "name": "PNAME"
                                    },
                                    {
                                        "name": "TITLE"
                                    }
                                ]
                            },
                            "data": [
                                {
                                    "0": "ALTAF",
                                    "1": "NULL"
                                },
                                {
                                    "0": "ANAND",
                                    "1": "PARACHUTES"
                                },
                                {
                                    "0": "ANAND",
                                    "1": "VIDEO TITLING"
                                },
                                {
                                    "0": "JULIANA",
                                    "1": "INVENTORY"
                                },
                                {
                                    "0": "KAMALA",
                                    "1": "PAYROLL PKG."
                                },
                                {
                                    "0": "MARY",
                                    "1": "CODE GENERATOR"
                                },
                                {
                                    "0": "MARY",
                                    "1": "FINANCIAL ACCT."
                                },
                                {
                                    "0": "MARY",
                                    "1": "README"
                                },
                                {
                                    "0": "NELSON",
                                    "1": "NULL"
                                },
                                {
                                    "0": "PATTRICK",
                                    "1": "README"
                                },
                                {
                                    "0": "QADIR",
                                    "1": "BOMBS AWAY"
                                },
                                {
                                    "0": "QADIR",
                                    "1": "VACCINES"
                                },
                                {
                                    "0": "RAMESH",
                                    "1": "DEAD LEE"
                                },
                                {
                                    "0": "RAMESH",
                                    "1": "HOTEL MGMT."
                                },
                                {
                                    "0": "REBECCA",
                                    "1": "NULL"
                                },
                                {
                                    "0": "REMITHA",
                                    "1": "PC UTILITIES"
                                },
                                {
                                    "0": "REMITHA",
                                    "1": "TSR HELP PKG."
                                },
                                {
                                    "0": "REVATHI",
                                    "1": "HOSPITAL MGMT."
                                },
                                {
                                    "0": "VIJAYA",
                                    "1": "TSR EDITOR"
                                }
                            ]
                        },
                        "text/html": [
                            "<table>",
                            "<tr><th>PNAME</th><th>TITLE</th></tr>",
                            "<tr><td>ALTAF</td><td>NULL</td></tr>",
                            "<tr><td>ANAND</td><td>PARACHUTES</td></tr>",
                            "<tr><td>ANAND</td><td>VIDEO TITLING</td></tr>",
                            "<tr><td>JULIANA</td><td>INVENTORY</td></tr>",
                            "<tr><td>KAMALA</td><td>PAYROLL PKG.</td></tr>",
                            "<tr><td>MARY</td><td>CODE GENERATOR</td></tr>",
                            "<tr><td>MARY</td><td>FINANCIAL ACCT.</td></tr>",
                            "<tr><td>MARY</td><td>README</td></tr>",
                            "<tr><td>NELSON</td><td>NULL</td></tr>",
                            "<tr><td>PATTRICK</td><td>README</td></tr>",
                            "<tr><td>QADIR</td><td>BOMBS AWAY</td></tr>",
                            "<tr><td>QADIR</td><td>VACCINES</td></tr>",
                            "<tr><td>RAMESH</td><td>DEAD LEE</td></tr>",
                            "<tr><td>RAMESH</td><td>HOTEL MGMT.</td></tr>",
                            "<tr><td>REBECCA</td><td>NULL</td></tr>",
                            "<tr><td>REMITHA</td><td>PC UTILITIES</td></tr>",
                            "<tr><td>REMITHA</td><td>TSR HELP PKG.</td></tr>",
                            "<tr><td>REVATHI</td><td>HOSPITAL MGMT.</td></tr>",
                            "<tr><td>VIJAYA</td><td>TSR EDITOR</td></tr>",
                            "</table>"
                        ]
                    }
                }
            ],
            "execution_count": 119
        },
        {
            "cell_type": "code",
            "source": [
                "-- 22. Display the Number of Packages in Each Language Except C and C++.\r\n",
                "SELECT DEVELOPIN,COUNT(TITLE) AS NO_OF_PACKAGES FROM SOFTWARE WHERE DEVELOPIN NOT IN ('C','C++') GROUP BY DEVELOPIN"
            ],
            "metadata": {
                "azdata_cell_guid": "70304696-0b30-46fd-a7e3-65500942c3e9",
                "language": "sql"
            },
            "outputs": [
                {
                    "output_type": "display_data",
                    "data": {
                        "text/html": "(7 rows affected)"
                    },
                    "metadata": {}
                },
                {
                    "output_type": "display_data",
                    "data": {
                        "text/html": "Total execution time: 00:00:00.003"
                    },
                    "metadata": {}
                },
                {
                    "output_type": "execute_result",
                    "metadata": {},
                    "execution_count": 122,
                    "data": {
                        "application/vnd.dataresource+json": {
                            "schema": {
                                "fields": [
                                    {
                                        "name": "DEVELOPIN"
                                    },
                                    {
                                        "name": "NO_OF_PACKAGES"
                                    }
                                ]
                            },
                            "data": [
                                {
                                    "0": "ASSEMBLY",
                                    "1": "2"
                                },
                                {
                                    "0": "BASIC",
                                    "1": "1"
                                },
                                {
                                    "0": "COBOL",
                                    "1": "1"
                                },
                                {
                                    "0": "CPP",
                                    "1": "2"
                                },
                                {
                                    "0": "DBASE",
                                    "1": "2"
                                },
                                {
                                    "0": "ORACLE",
                                    "1": "1"
                                },
                                {
                                    "0": "PASCAL",
                                    "1": "3"
                                }
                            ]
                        },
                        "text/html": [
                            "<table>",
                            "<tr><th>DEVELOPIN</th><th>NO_OF_PACKAGES</th></tr>",
                            "<tr><td>ASSEMBLY</td><td>2</td></tr>",
                            "<tr><td>BASIC</td><td>1</td></tr>",
                            "<tr><td>COBOL</td><td>1</td></tr>",
                            "<tr><td>CPP</td><td>2</td></tr>",
                            "<tr><td>DBASE</td><td>2</td></tr>",
                            "<tr><td>ORACLE</td><td>1</td></tr>",
                            "<tr><td>PASCAL</td><td>3</td></tr>",
                            "</table>"
                        ]
                    }
                }
            ],
            "execution_count": 122
        },
        {
            "cell_type": "code",
            "source": [
                "-- 23. Display AVG Difference between SCOST, DCOST for Each Package.\r\n",
                "SELECT TITLE,ABS(AVG(SCOST)-AVG(DCOST)) AVG_DIFFERENCE FROM SOFTWARE GROUP BY TITLE"
            ],
            "metadata": {
                "language": "sql",
                "azdata_cell_guid": "dfd02fb5-f797-4bc5-8c7e-e7937ae157ff"
            },
            "outputs": [
                {
                    "output_type": "display_data",
                    "data": {
                        "text/html": "(15 rows affected)"
                    },
                    "metadata": {}
                },
                {
                    "output_type": "display_data",
                    "data": {
                        "text/html": "Total execution time: 00:00:00.003"
                    },
                    "metadata": {}
                },
                {
                    "output_type": "execute_result",
                    "metadata": {},
                    "execution_count": 124,
                    "data": {
                        "application/vnd.dataresource+json": {
                            "schema": {
                                "fields": [
                                    {
                                        "name": "TITLE"
                                    },
                                    {
                                        "name": "AVG_DIFFERENCE"
                                    }
                                ]
                            },
                            "data": [
                                {
                                    "0": "BOMBS AWAY",
                                    "1": "2250"
                                },
                                {
                                    "0": "CODE GENERATOR",
                                    "1": "15500"
                                },
                                {
                                    "0": "DEAD LEE",
                                    "1": "3900.05"
                                },
                                {
                                    "0": "FINANCIAL ACCT.",
                                    "1": "67000"
                                },
                                {
                                    "0": "HOSPITAL MGMT.",
                                    "1": "73900"
                                },
                                {
                                    "0": "HOTEL MGMT.",
                                    "1": "22000"
                                },
                                {
                                    "0": "INVENTORY",
                                    "1": "500"
                                },
                                {
                                    "0": "PARACHUTES",
                                    "1": "5600.05"
                                },
                                {
                                    "0": "PAYROLL PKG.",
                                    "1": "11000"
                                },
                                {
                                    "0": "PC UTILITIES",
                                    "1": "4275"
                                },
                                {
                                    "0": "README",
                                    "1": "900"
                                },
                                {
                                    "0": "TSR EDITOR",
                                    "1": "200"
                                },
                                {
                                    "0": "TSR HELP PKG.",
                                    "1": "3500"
                                },
                                {
                                    "0": "VACCINES",
                                    "1": "1200"
                                },
                                {
                                    "0": "VIDEO TITLING",
                                    "1": "8500"
                                }
                            ]
                        },
                        "text/html": [
                            "<table>",
                            "<tr><th>TITLE</th><th>AVG_DIFFERENCE</th></tr>",
                            "<tr><td>BOMBS AWAY</td><td>2250</td></tr>",
                            "<tr><td>CODE GENERATOR</td><td>15500</td></tr>",
                            "<tr><td>DEAD LEE</td><td>3900.05</td></tr>",
                            "<tr><td>FINANCIAL ACCT.</td><td>67000</td></tr>",
                            "<tr><td>HOSPITAL MGMT.</td><td>73900</td></tr>",
                            "<tr><td>HOTEL MGMT.</td><td>22000</td></tr>",
                            "<tr><td>INVENTORY</td><td>500</td></tr>",
                            "<tr><td>PARACHUTES</td><td>5600.05</td></tr>",
                            "<tr><td>PAYROLL PKG.</td><td>11000</td></tr>",
                            "<tr><td>PC UTILITIES</td><td>4275</td></tr>",
                            "<tr><td>README</td><td>900</td></tr>",
                            "<tr><td>TSR EDITOR</td><td>200</td></tr>",
                            "<tr><td>TSR HELP PKG.</td><td>3500</td></tr>",
                            "<tr><td>VACCINES</td><td>1200</td></tr>",
                            "<tr><td>VIDEO TITLING</td><td>8500</td></tr>",
                            "</table>"
                        ]
                    }
                }
            ],
            "execution_count": 124
        },
        {
            "cell_type": "code",
            "source": [
                "-- 24. Display the total SCOST, DCOST and amount to Be Recovered for each Programmer for\r\n",
                "-- Those Whose Cost has not yet been Recovered.\r\n",
                "SELECT P.PNAME,SUM(SCOST*SOLD) AS TOTAL_SCOST,SUM(DCOST) AS TOTAL_DCOST,(SUM(DCOST)-SUM(SCOST*SOLD)) AS AMOUNT_TO_BE_RECOVER6\r\n",
                "FROM SOFTWARE S LEFT JOIN PROGRAMMER P ON S.PNAME=P.PNAME\r\n",
                "WHERE (SCOST*SOLD) <DCOST\r\n",
                "GROUP BY P.PNAME\r\n",
                ""
            ],
            "metadata": {
                "language": "sql",
                "azdata_cell_guid": "987868d6-f5f7-4dbb-ada1-9cb45f20db25"
            },
            "outputs": [
                {
                    "output_type": "display_data",
                    "data": {
                        "text/html": "(3 rows affected)"
                    },
                    "metadata": {}
                },
                {
                    "output_type": "display_data",
                    "data": {
                        "text/html": "Total execution time: 00:00:00.005"
                    },
                    "metadata": {}
                },
                {
                    "output_type": "execute_result",
                    "metadata": {},
                    "execution_count": 137,
                    "data": {
                        "application/vnd.dataresource+json": {
                            "schema": {
                                "fields": [
                                    {
                                        "name": "PNAME"
                                    },
                                    {
                                        "name": "TOTAL_SCOST"
                                    },
                                    {
                                        "name": "TOTAL_DCOST"
                                    },
                                    {
                                        "name": "AMOUNT_TO_BE_RECOVER6"
                                    }
                                ]
                            },
                            "data": [
                                {
                                    "0": "JULIANA",
                                    "1": "0",
                                    "2": "3500",
                                    "3": "3500"
                                },
                                {
                                    "0": "MARY",
                                    "1": "72000",
                                    "2": "85000",
                                    "3": "13000"
                                },
                                {
                                    "0": "REVATHI",
                                    "1": "2200",
                                    "2": "75000",
                                    "3": "72800"
                                }
                            ]
                        },
                        "text/html": [
                            "<table>",
                            "<tr><th>PNAME</th><th>TOTAL_SCOST</th><th>TOTAL_DCOST</th><th>AMOUNT_TO_BE_RECOVER6</th></tr>",
                            "<tr><td>JULIANA</td><td>0</td><td>3500</td><td>3500</td></tr>",
                            "<tr><td>MARY</td><td>72000</td><td>85000</td><td>13000</td></tr>",
                            "<tr><td>REVATHI</td><td>2200</td><td>75000</td><td>72800</td></tr>",
                            "</table>"
                        ]
                    }
                }
            ],
            "execution_count": 137
        },
        {
            "cell_type": "code",
            "source": [
                "-- 25. Who is the Highest Paid C Programmers?\r\n",
                "WITH CTE AS (\r\n",
                "    SELECT * FROM PROGRAMMER WHERE 'C' IN (PROF1,PROF2)\r\n",
                ")\r\n",
                "\r\n",
                "SELECT PNAME FROM CTE WHERE SALARY=(SELECT MAX(SALARY) FROM CTE)\r\n",
                ""
            ],
            "metadata": {
                "language": "sql",
                "azdata_cell_guid": "29cebddc-972d-43e2-95f0-d5a2abdc95c0"
            },
            "outputs": [
                {
                    "output_type": "display_data",
                    "data": {
                        "text/html": "(1 row affected)"
                    },
                    "metadata": {}
                },
                {
                    "output_type": "display_data",
                    "data": {
                        "text/html": "Total execution time: 00:00:00.005"
                    },
                    "metadata": {}
                },
                {
                    "output_type": "execute_result",
                    "metadata": {},
                    "execution_count": 139,
                    "data": {
                        "application/vnd.dataresource+json": {
                            "schema": {
                                "fields": [
                                    {
                                        "name": "PNAME"
                                    }
                                ]
                            },
                            "data": [
                                {
                                    "0": "REMITHA"
                                }
                            ]
                        },
                        "text/html": [
                            "<table>",
                            "<tr><th>PNAME</th></tr>",
                            "<tr><td>REMITHA</td></tr>",
                            "</table>"
                        ]
                    }
                }
            ],
            "execution_count": 139
        },
        {
            "cell_type": "code",
            "source": [
                "-- 26. Who is the Highest Paid Female COBOL Programmer\r\n",
                "WITH\r\n",
                "    CTE\r\n",
                "    AS\r\n",
                "    \r\n",
                "    (\r\n",
                "        SELECT *\r\n",
                "        FROM PROGRAMMER\r\n",
                "        WHERE GENDER='F' AND 'COBOL' IN (PROF1,PROF2)\r\n",
                "    )\r\n",
                "SELECT PNAME FROM CTE WHERE SALARY=(SELECT MAX(SALARY) FROM CTE)"
            ],
            "metadata": {
                "language": "sql",
                "azdata_cell_guid": "acfe4f19-cdc9-4373-8c6d-36ca5abfeb6a"
            },
            "outputs": [
                {
                    "output_type": "display_data",
                    "data": {
                        "text/html": "(1 row affected)"
                    },
                    "metadata": {}
                },
                {
                    "output_type": "display_data",
                    "data": {
                        "text/html": "Total execution time: 00:00:00.004"
                    },
                    "metadata": {}
                },
                {
                    "output_type": "execute_result",
                    "metadata": {},
                    "execution_count": 140,
                    "data": {
                        "application/vnd.dataresource+json": {
                            "schema": {
                                "fields": [
                                    {
                                        "name": "PNAME"
                                    }
                                ]
                            },
                            "data": [
                                {
                                    "0": "JULIANA"
                                }
                            ]
                        },
                        "text/html": [
                            "<table>",
                            "<tr><th>PNAME</th></tr>",
                            "<tr><td>JULIANA</td></tr>",
                            "</table>"
                        ]
                    }
                }
            ],
            "execution_count": 140
        }
    ]
}
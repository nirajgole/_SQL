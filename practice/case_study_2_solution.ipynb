{
    "metadata": {
        "kernelspec": {
            "name": "SQL",
            "display_name": "SQL",
            "language": "sql"
        },
        "language_info": {
            "name": "sql",
            "version": ""
        }
    },
    "nbformat_minor": 2,
    "nbformat": 4,
    "cells": [
        {
            "cell_type": "markdown",
            "source": [
                "## Simple Queries"
            ],
            "metadata": {
                "azdata_cell_guid": "d5017a02-8a3f-4735-a4c6-aa04839d7502"
            },
            "attachments": {}
        },
        {
            "cell_type": "code",
            "source": [
                "-- 1. LIST ALL THE EMPLOYEE DETAILS.\n",
                "SELECT * FROM EMPLOYEE"
            ],
            "metadata": {
                "azdata_cell_guid": "552e8741-6315-41ca-9051-9e8bc1d6d311",
                "language": "sql",
                "tags": [],
                "vscode": {
                    "languageId": "sql"
                }
            },
            "outputs": [
                {
                    "output_type": "display_data",
                    "data": {
                        "text/html": "(6 rows affected)"
                    },
                    "metadata": {}
                },
                {
                    "output_type": "display_data",
                    "data": {
                        "text/html": "Total execution time: 00:00:00.003"
                    },
                    "metadata": {}
                },
                {
                    "output_type": "execute_result",
                    "execution_count": 1,
                    "data": {
                        "application/vnd.dataresource+json": {
                            "schema": {
                                "fields": [
                                    {
                                        "name": "Employee_ID"
                                    },
                                    {
                                        "name": "Last_Name"
                                    },
                                    {
                                        "name": "First_Name"
                                    },
                                    {
                                        "name": "Middle_Name"
                                    },
                                    {
                                        "name": "Job_ID"
                                    },
                                    {
                                        "name": "Manager_ID"
                                    },
                                    {
                                        "name": "Hire_Date"
                                    },
                                    {
                                        "name": "Salary"
                                    },
                                    {
                                        "name": "Comm"
                                    },
                                    {
                                        "name": "Department_ID"
                                    }
                                ]
                            },
                            "data": [
                                {
                                    "0": "7369",
                                    "1": "SMITH",
                                    "2": "JOHN",
                                    "3": "Q",
                                    "4": "667",
                                    "5": "7902",
                                    "6": "1984-12-17",
                                    "7": "800.00",
                                    "8": "NULL",
                                    "9": "20"
                                },
                                {
                                    "0": "7499",
                                    "1": "ALLEN",
                                    "2": "KEVIN",
                                    "3": "J",
                                    "4": "670",
                                    "5": "7698",
                                    "6": "1985-02-20",
                                    "7": "1600.00",
                                    "8": "300",
                                    "9": "30"
                                },
                                {
                                    "0": "7505",
                                    "1": "DOYLE",
                                    "2": "JEAN",
                                    "3": "K",
                                    "4": "671",
                                    "5": "7839",
                                    "6": "1985-04-04",
                                    "7": "2850.00",
                                    "8": "NULL",
                                    "9": "30"
                                },
                                {
                                    "0": "7506",
                                    "1": "DENNIS",
                                    "2": "LYNN",
                                    "3": "S",
                                    "4": "671",
                                    "5": "7839",
                                    "6": "1985-05-15",
                                    "7": "2750.00",
                                    "8": "NULL",
                                    "9": "30"
                                },
                                {
                                    "0": "7507",
                                    "1": "BAKER",
                                    "2": "LESLIE",
                                    "3": "D",
                                    "4": "671",
                                    "5": "7839",
                                    "6": "1985-06-10",
                                    "7": "2200.00",
                                    "8": "NULL",
                                    "9": "40"
                                },
                                {
                                    "0": "7521",
                                    "1": "WARK",
                                    "2": "CYNTHIA",
                                    "3": "D",
                                    "4": "670",
                                    "5": "7698",
                                    "6": "1985-02-22",
                                    "7": "1250.00",
                                    "8": "500",
                                    "9": "30"
                                }
                            ]
                        },
                        "text/html": "<table><tr><th>Employee_ID</th><th>Last_Name</th><th>First_Name</th><th>Middle_Name</th><th>Job_ID</th><th>Manager_ID</th><th>Hire_Date</th><th>Salary</th><th>Comm</th><th>Department_ID</th></tr><tr><td>7369</td><td>SMITH</td><td>JOHN</td><td>Q</td><td>667</td><td>7902</td><td>1984-12-17</td><td>800.00</td><td>NULL</td><td>20</td></tr><tr><td>7499</td><td>ALLEN</td><td>KEVIN</td><td>J</td><td>670</td><td>7698</td><td>1985-02-20</td><td>1600.00</td><td>300</td><td>30</td></tr><tr><td>7505</td><td>DOYLE</td><td>JEAN</td><td>K</td><td>671</td><td>7839</td><td>1985-04-04</td><td>2850.00</td><td>NULL</td><td>30</td></tr><tr><td>7506</td><td>DENNIS</td><td>LYNN</td><td>S</td><td>671</td><td>7839</td><td>1985-05-15</td><td>2750.00</td><td>NULL</td><td>30</td></tr><tr><td>7507</td><td>BAKER</td><td>LESLIE</td><td>D</td><td>671</td><td>7839</td><td>1985-06-10</td><td>2200.00</td><td>NULL</td><td>40</td></tr><tr><td>7521</td><td>WARK</td><td>CYNTHIA</td><td>D</td><td>670</td><td>7698</td><td>1985-02-22</td><td>1250.00</td><td>500</td><td>30</td></tr></table>"
                    },
                    "metadata": {}
                }
            ],
            "execution_count": 1
        },
        {
            "cell_type": "code",
            "source": [
                "-- 2. LIST ALL THE DEPARTMENT DETAILS\n",
                "SELECT * FROM DEPARTMENT"
            ],
            "metadata": {
                "azdata_cell_guid": "7d18f8fc-869b-4c4d-a40c-ef95f388f9f9",
                "language": "sql",
                "vscode": {
                    "languageId": "sql"
                }
            },
            "outputs": [
                {
                    "output_type": "display_data",
                    "data": {
                        "text/html": "(4 rows affected)"
                    },
                    "metadata": {}
                },
                {
                    "output_type": "display_data",
                    "data": {
                        "text/html": "Total execution time: 00:00:00.023"
                    },
                    "metadata": {}
                },
                {
                    "output_type": "execute_result",
                    "execution_count": 2,
                    "data": {
                        "application/vnd.dataresource+json": {
                            "schema": {
                                "fields": [
                                    {
                                        "name": "DEPARTMENT_ID"
                                    },
                                    {
                                        "name": "NAME"
                                    },
                                    {
                                        "name": "LOCATION_ID"
                                    }
                                ]
                            },
                            "data": [
                                {
                                    "0": "10",
                                    "1": "Accounting",
                                    "2": "122"
                                },
                                {
                                    "0": "20",
                                    "1": "Sales",
                                    "2": "124"
                                },
                                {
                                    "0": "30",
                                    "1": "Research",
                                    "2": "123"
                                },
                                {
                                    "0": "40",
                                    "1": "Operations",
                                    "2": "167"
                                }
                            ]
                        },
                        "text/html": "<table><tr><th>DEPARTMENT_ID</th><th>NAME</th><th>LOCATION_ID</th></tr><tr><td>10</td><td>Accounting</td><td>122</td></tr><tr><td>20</td><td>Sales</td><td>124</td></tr><tr><td>30</td><td>Research</td><td>123</td></tr><tr><td>40</td><td>Operations</td><td>167</td></tr></table>"
                    },
                    "metadata": {}
                }
            ],
            "execution_count": 2
        },
        {
            "cell_type": "code",
            "source": [
                "-- 3. LIST ALL JOB DETAILS.\n",
                "SELECT * FROM JOB"
            ],
            "metadata": {
                "azdata_cell_guid": "6d458735-38f0-4ba9-8819-5180dc7e04d8",
                "language": "sql",
                "vscode": {
                    "languageId": "sql"
                }
            },
            "outputs": [
                {
                    "output_type": "display_data",
                    "data": {
                        "text/html": "(6 rows affected)"
                    },
                    "metadata": {}
                },
                {
                    "output_type": "display_data",
                    "data": {
                        "text/html": "Total execution time: 00:00:00.006"
                    },
                    "metadata": {}
                },
                {
                    "output_type": "execute_result",
                    "execution_count": 3,
                    "data": {
                        "application/vnd.dataresource+json": {
                            "schema": {
                                "fields": [
                                    {
                                        "name": "JOB_ID"
                                    },
                                    {
                                        "name": "DESIGNATION"
                                    }
                                ]
                            },
                            "data": [
                                {
                                    "0": "667",
                                    "1": "Clerk"
                                },
                                {
                                    "0": "668",
                                    "1": "Staff"
                                },
                                {
                                    "0": "669",
                                    "1": "Analyst"
                                },
                                {
                                    "0": "670",
                                    "1": "Sales Person"
                                },
                                {
                                    "0": "671",
                                    "1": "Manager"
                                },
                                {
                                    "0": "672",
                                    "1": "President"
                                }
                            ]
                        },
                        "text/html": "<table><tr><th>JOB_ID</th><th>DESIGNATION</th></tr><tr><td>667</td><td>Clerk</td></tr><tr><td>668</td><td>Staff</td></tr><tr><td>669</td><td>Analyst</td></tr><tr><td>670</td><td>Sales Person</td></tr><tr><td>671</td><td>Manager</td></tr><tr><td>672</td><td>President</td></tr></table>"
                    },
                    "metadata": {}
                }
            ],
            "execution_count": 3
        },
        {
            "cell_type": "code",
            "source": [
                "-- 4. LIST ALL THE LOCATIONS.\n",
                "SELECT * FROM LOCATION"
            ],
            "metadata": {
                "azdata_cell_guid": "4c30ce63-00d7-4887-9dbc-6a9b1413d15f",
                "language": "sql",
                "vscode": {
                    "languageId": "sql"
                }
            },
            "outputs": [
                {
                    "output_type": "display_data",
                    "data": {
                        "text/html": "(4 rows affected)"
                    },
                    "metadata": {}
                },
                {
                    "output_type": "display_data",
                    "data": {
                        "text/html": "Total execution time: 00:00:00.023"
                    },
                    "metadata": {}
                },
                {
                    "output_type": "execute_result",
                    "execution_count": 4,
                    "data": {
                        "application/vnd.dataresource+json": {
                            "schema": {
                                "fields": [
                                    {
                                        "name": "LOCATION_ID"
                                    },
                                    {
                                        "name": "CITY"
                                    }
                                ]
                            },
                            "data": [
                                {
                                    "0": "122",
                                    "1": "New York"
                                },
                                {
                                    "0": "123",
                                    "1": "Dallas"
                                },
                                {
                                    "0": "124",
                                    "1": "Chicago"
                                },
                                {
                                    "0": "167",
                                    "1": "Boston"
                                }
                            ]
                        },
                        "text/html": "<table><tr><th>LOCATION_ID</th><th>CITY</th></tr><tr><td>122</td><td>New York</td></tr><tr><td>123</td><td>Dallas</td></tr><tr><td>124</td><td>Chicago</td></tr><tr><td>167</td><td>Boston</td></tr></table>"
                    },
                    "metadata": {}
                }
            ],
            "execution_count": 4
        },
        {
            "cell_type": "code",
            "source": [
                "-- 5. LIST OUT THE FIRSTNAME, LASTNAME, SALARY, COMMISSION FOR ALL EMPLOYEES.\n",
                "SELECT FIRST_NAME, LAST_NAME, SALARY, COMM FROM EMPLOYEE"
            ],
            "metadata": {
                "azdata_cell_guid": "f1e3d428-763c-405c-a161-361941e2ec8f",
                "language": "sql",
                "vscode": {
                    "languageId": "sql"
                }
            },
            "outputs": [
                {
                    "output_type": "display_data",
                    "data": {
                        "text/html": "(6 rows affected)"
                    },
                    "metadata": {}
                },
                {
                    "output_type": "display_data",
                    "data": {
                        "text/html": "Total execution time: 00:00:00.002"
                    },
                    "metadata": {}
                },
                {
                    "output_type": "execute_result",
                    "execution_count": 5,
                    "data": {
                        "application/vnd.dataresource+json": {
                            "schema": {
                                "fields": [
                                    {
                                        "name": "FIRST_NAME"
                                    },
                                    {
                                        "name": "LAST_NAME"
                                    },
                                    {
                                        "name": "SALARY"
                                    },
                                    {
                                        "name": "COMM"
                                    }
                                ]
                            },
                            "data": [
                                {
                                    "0": "JOHN",
                                    "1": "SMITH",
                                    "2": "800.00",
                                    "3": "NULL"
                                },
                                {
                                    "0": "KEVIN",
                                    "1": "ALLEN",
                                    "2": "1600.00",
                                    "3": "300"
                                },
                                {
                                    "0": "JEAN",
                                    "1": "DOYLE",
                                    "2": "2850.00",
                                    "3": "NULL"
                                },
                                {
                                    "0": "LYNN",
                                    "1": "DENNIS",
                                    "2": "2750.00",
                                    "3": "NULL"
                                },
                                {
                                    "0": "LESLIE",
                                    "1": "BAKER",
                                    "2": "2200.00",
                                    "3": "NULL"
                                },
                                {
                                    "0": "CYNTHIA",
                                    "1": "WARK",
                                    "2": "1250.00",
                                    "3": "500"
                                }
                            ]
                        },
                        "text/html": "<table><tr><th>FIRST_NAME</th><th>LAST_NAME</th><th>SALARY</th><th>COMM</th></tr><tr><td>JOHN</td><td>SMITH</td><td>800.00</td><td>NULL</td></tr><tr><td>KEVIN</td><td>ALLEN</td><td>1600.00</td><td>300</td></tr><tr><td>JEAN</td><td>DOYLE</td><td>2850.00</td><td>NULL</td></tr><tr><td>LYNN</td><td>DENNIS</td><td>2750.00</td><td>NULL</td></tr><tr><td>LESLIE</td><td>BAKER</td><td>2200.00</td><td>NULL</td></tr><tr><td>CYNTHIA</td><td>WARK</td><td>1250.00</td><td>500</td></tr></table>"
                    },
                    "metadata": {}
                }
            ],
            "execution_count": 5
        },
        {
            "cell_type": "code",
            "source": [
                "-- 6. LIST OUT EMPLOYEEID,LAST NAME, DEPARTMENT ID FOR ALL EMPLOYEES AND ALIAS\n",
                "-- EMPLOYEEID AS \"ID OF THE EMPLOYEE\", LAST NAME AS \"NAME OF THE EMPLOYEE\",\n",
                "-- DEPARTMENTID AS \"DEP_ID\".\n",
                "\n",
                "SELECT Employee_ID AS \"ID OF THE EMPLOYEE\", LAST_NAME \"NAME OF THE EMPLOYEE\", DEPARTMENT_ID \"DEP_ID\"\n",
                "FROM EMPLOYEE"
            ],
            "metadata": {
                "azdata_cell_guid": "e88d8448-110c-49a3-9c85-aae5df40061e",
                "language": "sql",
                "vscode": {
                    "languageId": "sql"
                }
            },
            "outputs": [
                {
                    "output_type": "display_data",
                    "data": {
                        "text/html": "(6 rows affected)"
                    },
                    "metadata": {}
                },
                {
                    "output_type": "display_data",
                    "data": {
                        "text/html": "Total execution time: 00:00:00.001"
                    },
                    "metadata": {}
                },
                {
                    "output_type": "execute_result",
                    "execution_count": 6,
                    "data": {
                        "application/vnd.dataresource+json": {
                            "schema": {
                                "fields": [
                                    {
                                        "name": "ID OF THE EMPLOYEE"
                                    },
                                    {
                                        "name": "NAME OF THE EMPLOYEE"
                                    },
                                    {
                                        "name": "DEP_ID"
                                    }
                                ]
                            },
                            "data": [
                                {
                                    "0": "7369",
                                    "1": "SMITH",
                                    "2": "20"
                                },
                                {
                                    "0": "7499",
                                    "1": "ALLEN",
                                    "2": "30"
                                },
                                {
                                    "0": "7505",
                                    "1": "DOYLE",
                                    "2": "30"
                                },
                                {
                                    "0": "7506",
                                    "1": "DENNIS",
                                    "2": "30"
                                },
                                {
                                    "0": "7507",
                                    "1": "BAKER",
                                    "2": "40"
                                },
                                {
                                    "0": "7521",
                                    "1": "WARK",
                                    "2": "30"
                                }
                            ]
                        },
                        "text/html": "<table><tr><th>ID OF THE EMPLOYEE</th><th>NAME OF THE EMPLOYEE</th><th>DEP_ID</th></tr><tr><td>7369</td><td>SMITH</td><td>20</td></tr><tr><td>7499</td><td>ALLEN</td><td>30</td></tr><tr><td>7505</td><td>DOYLE</td><td>30</td></tr><tr><td>7506</td><td>DENNIS</td><td>30</td></tr><tr><td>7507</td><td>BAKER</td><td>40</td></tr><tr><td>7521</td><td>WARK</td><td>30</td></tr></table>"
                    },
                    "metadata": {}
                }
            ],
            "execution_count": 6
        },
        {
            "cell_type": "code",
            "source": [
                "-- 7. LIST OUT THE EMPLOYEES ANNUAL SALARY WITH THEIR NAMES ONLY.\n",
                "SELECT FIRST_NAME, SALARY*12 AS \"ANNUAL SALARY\" FROM EMPLOYEE"
            ],
            "metadata": {
                "azdata_cell_guid": "c1de53c5-056b-4402-8255-4d0076b899ff",
                "language": "sql",
                "vscode": {
                    "languageId": "sql"
                }
            },
            "outputs": [
                {
                    "output_type": "display_data",
                    "data": {
                        "text/html": "(6 rows affected)"
                    },
                    "metadata": {}
                },
                {
                    "output_type": "display_data",
                    "data": {
                        "text/html": "Total execution time: 00:00:00.002"
                    },
                    "metadata": {}
                },
                {
                    "output_type": "execute_result",
                    "execution_count": 7,
                    "data": {
                        "application/vnd.dataresource+json": {
                            "schema": {
                                "fields": [
                                    {
                                        "name": "FIRST_NAME"
                                    },
                                    {
                                        "name": "ANNUAL SALARY"
                                    }
                                ]
                            },
                            "data": [
                                {
                                    "0": "JOHN",
                                    "1": "9600.00"
                                },
                                {
                                    "0": "KEVIN",
                                    "1": "19200.00"
                                },
                                {
                                    "0": "JEAN",
                                    "1": "34200.00"
                                },
                                {
                                    "0": "LYNN",
                                    "1": "33000.00"
                                },
                                {
                                    "0": "LESLIE",
                                    "1": "26400.00"
                                },
                                {
                                    "0": "CYNTHIA",
                                    "1": "15000.00"
                                }
                            ]
                        },
                        "text/html": "<table><tr><th>FIRST_NAME</th><th>ANNUAL SALARY</th></tr><tr><td>JOHN</td><td>9600.00</td></tr><tr><td>KEVIN</td><td>19200.00</td></tr><tr><td>JEAN</td><td>34200.00</td></tr><tr><td>LYNN</td><td>33000.00</td></tr><tr><td>LESLIE</td><td>26400.00</td></tr><tr><td>CYNTHIA</td><td>15000.00</td></tr></table>"
                    },
                    "metadata": {}
                }
            ],
            "execution_count": 7
        },
        {
            "cell_type": "markdown",
            "source": [
                "## WHERE"
            ],
            "metadata": {
                "azdata_cell_guid": "793d14de-7977-48fa-98a8-448d13ee3c18",
                "language": "sql"
            },
            "attachments": {}
        },
        {
            "cell_type": "code",
            "source": [
                "-- 1. LIST THE DETAILS ABOUT \"SMITH\"\n",
                "SELECT * FROM EMPLOYEE WHERE 'SMITH' in (First_Name,Last_Name)"
            ],
            "metadata": {
                "azdata_cell_guid": "d98fd642-196e-4d18-b033-d2390a7f6e48",
                "language": "sql",
                "vscode": {
                    "languageId": "sql"
                }
            },
            "outputs": [
                {
                    "output_type": "display_data",
                    "data": {
                        "text/html": "(1 row affected)"
                    },
                    "metadata": {}
                },
                {
                    "output_type": "display_data",
                    "data": {
                        "text/html": "Total execution time: 00:00:00.010"
                    },
                    "metadata": {}
                },
                {
                    "output_type": "execute_result",
                    "execution_count": 8,
                    "data": {
                        "application/vnd.dataresource+json": {
                            "schema": {
                                "fields": [
                                    {
                                        "name": "Employee_ID"
                                    },
                                    {
                                        "name": "Last_Name"
                                    },
                                    {
                                        "name": "First_Name"
                                    },
                                    {
                                        "name": "Middle_Name"
                                    },
                                    {
                                        "name": "Job_ID"
                                    },
                                    {
                                        "name": "Manager_ID"
                                    },
                                    {
                                        "name": "Hire_Date"
                                    },
                                    {
                                        "name": "Salary"
                                    },
                                    {
                                        "name": "Comm"
                                    },
                                    {
                                        "name": "Department_ID"
                                    }
                                ]
                            },
                            "data": [
                                {
                                    "0": "7369",
                                    "1": "SMITH",
                                    "2": "JOHN",
                                    "3": "Q",
                                    "4": "667",
                                    "5": "7902",
                                    "6": "1984-12-17",
                                    "7": "800.00",
                                    "8": "NULL",
                                    "9": "20"
                                }
                            ]
                        },
                        "text/html": "<table><tr><th>Employee_ID</th><th>Last_Name</th><th>First_Name</th><th>Middle_Name</th><th>Job_ID</th><th>Manager_ID</th><th>Hire_Date</th><th>Salary</th><th>Comm</th><th>Department_ID</th></tr><tr><td>7369</td><td>SMITH</td><td>JOHN</td><td>Q</td><td>667</td><td>7902</td><td>1984-12-17</td><td>800.00</td><td>NULL</td><td>20</td></tr></table>"
                    },
                    "metadata": {}
                }
            ],
            "execution_count": 8
        },
        {
            "cell_type": "code",
            "source": [
                "-- 2. LIST OUT THE EMPLOYEES WHO ARE WORKING IN DEPARTMENT 20.\n",
                "SELECT * FROM EMPLOYEE WHERE Department_ID=20"
            ],
            "metadata": {
                "azdata_cell_guid": "8d0660fa-105d-4489-97fa-5594966a5ad2",
                "language": "sql",
                "tags": [],
                "vscode": {
                    "languageId": "sql"
                }
            },
            "outputs": [
                {
                    "output_type": "display_data",
                    "data": {
                        "text/html": "(1 row affected)"
                    },
                    "metadata": {}
                },
                {
                    "output_type": "display_data",
                    "data": {
                        "text/html": "Total execution time: 00:00:00.007"
                    },
                    "metadata": {}
                },
                {
                    "output_type": "execute_result",
                    "execution_count": 9,
                    "data": {
                        "application/vnd.dataresource+json": {
                            "schema": {
                                "fields": [
                                    {
                                        "name": "Employee_ID"
                                    },
                                    {
                                        "name": "Last_Name"
                                    },
                                    {
                                        "name": "First_Name"
                                    },
                                    {
                                        "name": "Middle_Name"
                                    },
                                    {
                                        "name": "Job_ID"
                                    },
                                    {
                                        "name": "Manager_ID"
                                    },
                                    {
                                        "name": "Hire_Date"
                                    },
                                    {
                                        "name": "Salary"
                                    },
                                    {
                                        "name": "Comm"
                                    },
                                    {
                                        "name": "Department_ID"
                                    }
                                ]
                            },
                            "data": [
                                {
                                    "0": "7369",
                                    "1": "SMITH",
                                    "2": "JOHN",
                                    "3": "Q",
                                    "4": "667",
                                    "5": "7902",
                                    "6": "1984-12-17",
                                    "7": "800.00",
                                    "8": "NULL",
                                    "9": "20"
                                }
                            ]
                        },
                        "text/html": "<table><tr><th>Employee_ID</th><th>Last_Name</th><th>First_Name</th><th>Middle_Name</th><th>Job_ID</th><th>Manager_ID</th><th>Hire_Date</th><th>Salary</th><th>Comm</th><th>Department_ID</th></tr><tr><td>7369</td><td>SMITH</td><td>JOHN</td><td>Q</td><td>667</td><td>7902</td><td>1984-12-17</td><td>800.00</td><td>NULL</td><td>20</td></tr></table>"
                    },
                    "metadata": {}
                }
            ],
            "execution_count": 9
        },
        {
            "cell_type": "code",
            "source": [
                "-- 3. LIST OUT THE EMPLOYEES WHO ARE EARNING SALARY BETWEEN 3000 AND 4500.\n",
                "SELECT * FROM EMPLOYEE WHERE Salary BETWEEN 3000 AND 4500"
            ],
            "metadata": {
                "azdata_cell_guid": "854465b5-2e57-4cee-a4de-591b67d26dfd",
                "language": "sql",
                "vscode": {
                    "languageId": "sql"
                }
            },
            "outputs": [
                {
                    "output_type": "display_data",
                    "data": {
                        "text/html": "(0 rows affected)"
                    },
                    "metadata": {}
                },
                {
                    "output_type": "display_data",
                    "data": {
                        "text/html": "Total execution time: 00:00:00.006"
                    },
                    "metadata": {}
                },
                {
                    "output_type": "execute_result",
                    "execution_count": 10,
                    "data": {
                        "application/vnd.dataresource+json": {
                            "schema": {
                                "fields": [
                                    {
                                        "name": "Employee_ID"
                                    },
                                    {
                                        "name": "Last_Name"
                                    },
                                    {
                                        "name": "First_Name"
                                    },
                                    {
                                        "name": "Middle_Name"
                                    },
                                    {
                                        "name": "Job_ID"
                                    },
                                    {
                                        "name": "Manager_ID"
                                    },
                                    {
                                        "name": "Hire_Date"
                                    },
                                    {
                                        "name": "Salary"
                                    },
                                    {
                                        "name": "Comm"
                                    },
                                    {
                                        "name": "Department_ID"
                                    }
                                ]
                            },
                            "data": []
                        },
                        "text/html": "<table><tr><th>Employee_ID</th><th>Last_Name</th><th>First_Name</th><th>Middle_Name</th><th>Job_ID</th><th>Manager_ID</th><th>Hire_Date</th><th>Salary</th><th>Comm</th><th>Department_ID</th></tr></table>"
                    },
                    "metadata": {}
                }
            ],
            "execution_count": 10
        },
        {
            "cell_type": "code",
            "source": [
                "-- 4. LIST OUT THE EMPLOYEES WHO ARE WORKING IN DEPARTMENT 10 OR 20.\n",
                "SELECT * FROM EMPLOYEE WHERE Department_ID IN (10,20)"
            ],
            "metadata": {
                "azdata_cell_guid": "05313bb0-f66c-44dc-aee9-2c9006437930",
                "language": "sql",
                "tags": [],
                "vscode": {
                    "languageId": "sql"
                }
            },
            "outputs": [
                {
                    "output_type": "display_data",
                    "data": {
                        "text/html": "(1 row affected)"
                    },
                    "metadata": {}
                },
                {
                    "output_type": "display_data",
                    "data": {
                        "text/html": "Total execution time: 00:00:00.002"
                    },
                    "metadata": {}
                },
                {
                    "output_type": "execute_result",
                    "execution_count": 11,
                    "data": {
                        "application/vnd.dataresource+json": {
                            "schema": {
                                "fields": [
                                    {
                                        "name": "Employee_ID"
                                    },
                                    {
                                        "name": "Last_Name"
                                    },
                                    {
                                        "name": "First_Name"
                                    },
                                    {
                                        "name": "Middle_Name"
                                    },
                                    {
                                        "name": "Job_ID"
                                    },
                                    {
                                        "name": "Manager_ID"
                                    },
                                    {
                                        "name": "Hire_Date"
                                    },
                                    {
                                        "name": "Salary"
                                    },
                                    {
                                        "name": "Comm"
                                    },
                                    {
                                        "name": "Department_ID"
                                    }
                                ]
                            },
                            "data": [
                                {
                                    "0": "7369",
                                    "1": "SMITH",
                                    "2": "JOHN",
                                    "3": "Q",
                                    "4": "667",
                                    "5": "7902",
                                    "6": "1984-12-17",
                                    "7": "800.00",
                                    "8": "NULL",
                                    "9": "20"
                                }
                            ]
                        },
                        "text/html": "<table><tr><th>Employee_ID</th><th>Last_Name</th><th>First_Name</th><th>Middle_Name</th><th>Job_ID</th><th>Manager_ID</th><th>Hire_Date</th><th>Salary</th><th>Comm</th><th>Department_ID</th></tr><tr><td>7369</td><td>SMITH</td><td>JOHN</td><td>Q</td><td>667</td><td>7902</td><td>1984-12-17</td><td>800.00</td><td>NULL</td><td>20</td></tr></table>"
                    },
                    "metadata": {}
                }
            ],
            "execution_count": 11
        },
        {
            "cell_type": "code",
            "source": [
                "-- 5. FIND OUT THE EMPLOYEES WHO ARE NOT WORKING IN DEPARTMENT 10 OR 30.\n",
                "SELECT * FROM EMPLOYEE WHERE Department_ID NOT IN (10,30)"
            ],
            "metadata": {
                "azdata_cell_guid": "363efa47-e85e-493a-89f4-734bf61baed4",
                "language": "sql",
                "vscode": {
                    "languageId": "sql"
                }
            },
            "outputs": [
                {
                    "output_type": "display_data",
                    "data": {
                        "text/html": "(2 rows affected)"
                    },
                    "metadata": {}
                },
                {
                    "output_type": "display_data",
                    "data": {
                        "text/html": "Total execution time: 00:00:00.002"
                    },
                    "metadata": {}
                },
                {
                    "output_type": "execute_result",
                    "execution_count": 12,
                    "data": {
                        "application/vnd.dataresource+json": {
                            "schema": {
                                "fields": [
                                    {
                                        "name": "Employee_ID"
                                    },
                                    {
                                        "name": "Last_Name"
                                    },
                                    {
                                        "name": "First_Name"
                                    },
                                    {
                                        "name": "Middle_Name"
                                    },
                                    {
                                        "name": "Job_ID"
                                    },
                                    {
                                        "name": "Manager_ID"
                                    },
                                    {
                                        "name": "Hire_Date"
                                    },
                                    {
                                        "name": "Salary"
                                    },
                                    {
                                        "name": "Comm"
                                    },
                                    {
                                        "name": "Department_ID"
                                    }
                                ]
                            },
                            "data": [
                                {
                                    "0": "7369",
                                    "1": "SMITH",
                                    "2": "JOHN",
                                    "3": "Q",
                                    "4": "667",
                                    "5": "7902",
                                    "6": "1984-12-17",
                                    "7": "800.00",
                                    "8": "NULL",
                                    "9": "20"
                                },
                                {
                                    "0": "7507",
                                    "1": "BAKER",
                                    "2": "LESLIE",
                                    "3": "D",
                                    "4": "671",
                                    "5": "7839",
                                    "6": "1985-06-10",
                                    "7": "2200.00",
                                    "8": "NULL",
                                    "9": "40"
                                }
                            ]
                        },
                        "text/html": "<table><tr><th>Employee_ID</th><th>Last_Name</th><th>First_Name</th><th>Middle_Name</th><th>Job_ID</th><th>Manager_ID</th><th>Hire_Date</th><th>Salary</th><th>Comm</th><th>Department_ID</th></tr><tr><td>7369</td><td>SMITH</td><td>JOHN</td><td>Q</td><td>667</td><td>7902</td><td>1984-12-17</td><td>800.00</td><td>NULL</td><td>20</td></tr><tr><td>7507</td><td>BAKER</td><td>LESLIE</td><td>D</td><td>671</td><td>7839</td><td>1985-06-10</td><td>2200.00</td><td>NULL</td><td>40</td></tr></table>"
                    },
                    "metadata": {}
                }
            ],
            "execution_count": 12
        },
        {
            "cell_type": "code",
            "source": [
                "-- 6. LIST OUT THE EMPLOYEES WHOSE NAME STARTS WITH 'S'.\n",
                "SELECT * FROM EMPLOYEE WHERE First_Name LIKE 'S%' OR Last_Name LIKE 'S%'"
            ],
            "metadata": {
                "azdata_cell_guid": "7f85262f-62d2-4ab7-96d4-2fbe70c22fb2",
                "language": "sql",
                "vscode": {
                    "languageId": "sql"
                }
            },
            "outputs": [
                {
                    "output_type": "display_data",
                    "data": {
                        "text/html": "(1 row affected)"
                    },
                    "metadata": {}
                },
                {
                    "output_type": "display_data",
                    "data": {
                        "text/html": "Total execution time: 00:00:00.002"
                    },
                    "metadata": {}
                },
                {
                    "output_type": "execute_result",
                    "execution_count": 13,
                    "data": {
                        "application/vnd.dataresource+json": {
                            "schema": {
                                "fields": [
                                    {
                                        "name": "Employee_ID"
                                    },
                                    {
                                        "name": "Last_Name"
                                    },
                                    {
                                        "name": "First_Name"
                                    },
                                    {
                                        "name": "Middle_Name"
                                    },
                                    {
                                        "name": "Job_ID"
                                    },
                                    {
                                        "name": "Manager_ID"
                                    },
                                    {
                                        "name": "Hire_Date"
                                    },
                                    {
                                        "name": "Salary"
                                    },
                                    {
                                        "name": "Comm"
                                    },
                                    {
                                        "name": "Department_ID"
                                    }
                                ]
                            },
                            "data": [
                                {
                                    "0": "7369",
                                    "1": "SMITH",
                                    "2": "JOHN",
                                    "3": "Q",
                                    "4": "667",
                                    "5": "7902",
                                    "6": "1984-12-17",
                                    "7": "800.00",
                                    "8": "NULL",
                                    "9": "20"
                                }
                            ]
                        },
                        "text/html": "<table><tr><th>Employee_ID</th><th>Last_Name</th><th>First_Name</th><th>Middle_Name</th><th>Job_ID</th><th>Manager_ID</th><th>Hire_Date</th><th>Salary</th><th>Comm</th><th>Department_ID</th></tr><tr><td>7369</td><td>SMITH</td><td>JOHN</td><td>Q</td><td>667</td><td>7902</td><td>1984-12-17</td><td>800.00</td><td>NULL</td><td>20</td></tr></table>"
                    },
                    "metadata": {}
                }
            ],
            "execution_count": 13
        },
        {
            "cell_type": "code",
            "source": [
                "-- 7. LIST OUT THE EMPLOYEES WHOSE NAME STARTS WITH 'S' AND ENDS WITH 'H'.\n",
                "SELECT *\n",
                "FROM EMPLOYEE\n",
                "WHERE (First_Name LIKE 'S%H' OR Last_Name LIKE 'S%H')"
            ],
            "metadata": {
                "azdata_cell_guid": "a26790c8-61bf-4a28-9da6-95b873ef8a3e",
                "language": "sql",
                "tags": [],
                "vscode": {
                    "languageId": "sql"
                }
            },
            "outputs": [
                {
                    "output_type": "display_data",
                    "data": {
                        "text/html": "(1 row affected)"
                    },
                    "metadata": {}
                },
                {
                    "output_type": "display_data",
                    "data": {
                        "text/html": "Total execution time: 00:00:00.003"
                    },
                    "metadata": {}
                },
                {
                    "output_type": "execute_result",
                    "execution_count": 14,
                    "data": {
                        "application/vnd.dataresource+json": {
                            "schema": {
                                "fields": [
                                    {
                                        "name": "Employee_ID"
                                    },
                                    {
                                        "name": "Last_Name"
                                    },
                                    {
                                        "name": "First_Name"
                                    },
                                    {
                                        "name": "Middle_Name"
                                    },
                                    {
                                        "name": "Job_ID"
                                    },
                                    {
                                        "name": "Manager_ID"
                                    },
                                    {
                                        "name": "Hire_Date"
                                    },
                                    {
                                        "name": "Salary"
                                    },
                                    {
                                        "name": "Comm"
                                    },
                                    {
                                        "name": "Department_ID"
                                    }
                                ]
                            },
                            "data": [
                                {
                                    "0": "7369",
                                    "1": "SMITH",
                                    "2": "JOHN",
                                    "3": "Q",
                                    "4": "667",
                                    "5": "7902",
                                    "6": "1984-12-17",
                                    "7": "800.00",
                                    "8": "NULL",
                                    "9": "20"
                                }
                            ]
                        },
                        "text/html": "<table><tr><th>Employee_ID</th><th>Last_Name</th><th>First_Name</th><th>Middle_Name</th><th>Job_ID</th><th>Manager_ID</th><th>Hire_Date</th><th>Salary</th><th>Comm</th><th>Department_ID</th></tr><tr><td>7369</td><td>SMITH</td><td>JOHN</td><td>Q</td><td>667</td><td>7902</td><td>1984-12-17</td><td>800.00</td><td>NULL</td><td>20</td></tr></table>"
                    },
                    "metadata": {}
                }
            ],
            "execution_count": 14
        },
        {
            "cell_type": "code",
            "source": [
                "-- 8. LIST OUT THE EMPLOYEES WHOSE NAME LENGTH IS 4 AND START WITH 'S'.\n",
                "SELECT *\n",
                "FROM EMPLOYEE\n",
                "WHERE 4 IN (LEN(First_Name),LEN(LAST_NAME)) AND (First_Name LIKE 'S%' OR Last_Name LIKE 'S%')"
            ],
            "metadata": {
                "azdata_cell_guid": "9e8bcb96-2d2c-487e-ab2f-5094f14a3a28",
                "language": "sql",
                "vscode": {
                    "languageId": "sql"
                }
            },
            "outputs": [
                {
                    "output_type": "display_data",
                    "data": {
                        "text/html": "(1 row affected)"
                    },
                    "metadata": {}
                },
                {
                    "output_type": "display_data",
                    "data": {
                        "text/html": "Total execution time: 00:00:00.002"
                    },
                    "metadata": {}
                },
                {
                    "output_type": "execute_result",
                    "execution_count": 15,
                    "data": {
                        "application/vnd.dataresource+json": {
                            "schema": {
                                "fields": [
                                    {
                                        "name": "Employee_ID"
                                    },
                                    {
                                        "name": "Last_Name"
                                    },
                                    {
                                        "name": "First_Name"
                                    },
                                    {
                                        "name": "Middle_Name"
                                    },
                                    {
                                        "name": "Job_ID"
                                    },
                                    {
                                        "name": "Manager_ID"
                                    },
                                    {
                                        "name": "Hire_Date"
                                    },
                                    {
                                        "name": "Salary"
                                    },
                                    {
                                        "name": "Comm"
                                    },
                                    {
                                        "name": "Department_ID"
                                    }
                                ]
                            },
                            "data": [
                                {
                                    "0": "7369",
                                    "1": "SMITH",
                                    "2": "JOHN",
                                    "3": "Q",
                                    "4": "667",
                                    "5": "7902",
                                    "6": "1984-12-17",
                                    "7": "800.00",
                                    "8": "NULL",
                                    "9": "20"
                                }
                            ]
                        },
                        "text/html": "<table><tr><th>Employee_ID</th><th>Last_Name</th><th>First_Name</th><th>Middle_Name</th><th>Job_ID</th><th>Manager_ID</th><th>Hire_Date</th><th>Salary</th><th>Comm</th><th>Department_ID</th></tr><tr><td>7369</td><td>SMITH</td><td>JOHN</td><td>Q</td><td>667</td><td>7902</td><td>1984-12-17</td><td>800.00</td><td>NULL</td><td>20</td></tr></table>"
                    },
                    "metadata": {}
                }
            ],
            "execution_count": 15
        },
        {
            "cell_type": "code",
            "source": [
                "-- 9. LIST OUT EMPLOYEES WHO ARE WORKING IN DEPARRTMENT 10 AND DRAW THE\n",
                "-- SALARIES MORE THAN 3500.\n",
                "\n",
                "SELECT * FROM EMPLOYEE WHERE Department_ID=10 AND Salary>3500"
            ],
            "metadata": {
                "azdata_cell_guid": "b1fd4990-c416-49f3-be5c-204e7931b21a",
                "language": "sql",
                "vscode": {
                    "languageId": "sql"
                }
            },
            "outputs": [
                {
                    "output_type": "display_data",
                    "data": {
                        "text/html": "(0 rows affected)"
                    },
                    "metadata": {}
                },
                {
                    "output_type": "display_data",
                    "data": {
                        "text/html": "Total execution time: 00:00:00.003"
                    },
                    "metadata": {}
                },
                {
                    "output_type": "execute_result",
                    "execution_count": 16,
                    "data": {
                        "application/vnd.dataresource+json": {
                            "schema": {
                                "fields": [
                                    {
                                        "name": "Employee_ID"
                                    },
                                    {
                                        "name": "Last_Name"
                                    },
                                    {
                                        "name": "First_Name"
                                    },
                                    {
                                        "name": "Middle_Name"
                                    },
                                    {
                                        "name": "Job_ID"
                                    },
                                    {
                                        "name": "Manager_ID"
                                    },
                                    {
                                        "name": "Hire_Date"
                                    },
                                    {
                                        "name": "Salary"
                                    },
                                    {
                                        "name": "Comm"
                                    },
                                    {
                                        "name": "Department_ID"
                                    }
                                ]
                            },
                            "data": []
                        },
                        "text/html": "<table><tr><th>Employee_ID</th><th>Last_Name</th><th>First_Name</th><th>Middle_Name</th><th>Job_ID</th><th>Manager_ID</th><th>Hire_Date</th><th>Salary</th><th>Comm</th><th>Department_ID</th></tr></table>"
                    },
                    "metadata": {}
                }
            ],
            "execution_count": 16
        },
        {
            "cell_type": "code",
            "source": [
                "-- 10. LIST OUT THE EMPLOYEES WHO ARE NOT RECEVING COMMISSION.\n",
                "SELECT * FROM EMPLOYEE WHERE COMM IS NULL"
            ],
            "metadata": {
                "azdata_cell_guid": "bd4049ae-554e-4f16-baa1-f71268d36fb1",
                "language": "sql",
                "tags": [],
                "vscode": {
                    "languageId": "sql"
                }
            },
            "outputs": [
                {
                    "output_type": "display_data",
                    "data": {
                        "text/html": "(4 rows affected)"
                    },
                    "metadata": {}
                },
                {
                    "output_type": "display_data",
                    "data": {
                        "text/html": "Total execution time: 00:00:00.006"
                    },
                    "metadata": {}
                },
                {
                    "output_type": "execute_result",
                    "execution_count": 17,
                    "data": {
                        "application/vnd.dataresource+json": {
                            "schema": {
                                "fields": [
                                    {
                                        "name": "Employee_ID"
                                    },
                                    {
                                        "name": "Last_Name"
                                    },
                                    {
                                        "name": "First_Name"
                                    },
                                    {
                                        "name": "Middle_Name"
                                    },
                                    {
                                        "name": "Job_ID"
                                    },
                                    {
                                        "name": "Manager_ID"
                                    },
                                    {
                                        "name": "Hire_Date"
                                    },
                                    {
                                        "name": "Salary"
                                    },
                                    {
                                        "name": "Comm"
                                    },
                                    {
                                        "name": "Department_ID"
                                    }
                                ]
                            },
                            "data": [
                                {
                                    "0": "7369",
                                    "1": "SMITH",
                                    "2": "JOHN",
                                    "3": "Q",
                                    "4": "667",
                                    "5": "7902",
                                    "6": "1984-12-17",
                                    "7": "800.00",
                                    "8": "NULL",
                                    "9": "20"
                                },
                                {
                                    "0": "7505",
                                    "1": "DOYLE",
                                    "2": "JEAN",
                                    "3": "K",
                                    "4": "671",
                                    "5": "7839",
                                    "6": "1985-04-04",
                                    "7": "2850.00",
                                    "8": "NULL",
                                    "9": "30"
                                },
                                {
                                    "0": "7506",
                                    "1": "DENNIS",
                                    "2": "LYNN",
                                    "3": "S",
                                    "4": "671",
                                    "5": "7839",
                                    "6": "1985-05-15",
                                    "7": "2750.00",
                                    "8": "NULL",
                                    "9": "30"
                                },
                                {
                                    "0": "7507",
                                    "1": "BAKER",
                                    "2": "LESLIE",
                                    "3": "D",
                                    "4": "671",
                                    "5": "7839",
                                    "6": "1985-06-10",
                                    "7": "2200.00",
                                    "8": "NULL",
                                    "9": "40"
                                }
                            ]
                        },
                        "text/html": "<table><tr><th>Employee_ID</th><th>Last_Name</th><th>First_Name</th><th>Middle_Name</th><th>Job_ID</th><th>Manager_ID</th><th>Hire_Date</th><th>Salary</th><th>Comm</th><th>Department_ID</th></tr><tr><td>7369</td><td>SMITH</td><td>JOHN</td><td>Q</td><td>667</td><td>7902</td><td>1984-12-17</td><td>800.00</td><td>NULL</td><td>20</td></tr><tr><td>7505</td><td>DOYLE</td><td>JEAN</td><td>K</td><td>671</td><td>7839</td><td>1985-04-04</td><td>2850.00</td><td>NULL</td><td>30</td></tr><tr><td>7506</td><td>DENNIS</td><td>LYNN</td><td>S</td><td>671</td><td>7839</td><td>1985-05-15</td><td>2750.00</td><td>NULL</td><td>30</td></tr><tr><td>7507</td><td>BAKER</td><td>LESLIE</td><td>D</td><td>671</td><td>7839</td><td>1985-06-10</td><td>2200.00</td><td>NULL</td><td>40</td></tr></table>"
                    },
                    "metadata": {}
                }
            ],
            "execution_count": 17
        },
        {
            "cell_type": "markdown",
            "source": [
                "## ORDER BY CLAUSE"
            ],
            "metadata": {
                "azdata_cell_guid": "6d9ee031-45dc-4049-9568-fbe0cfe71051",
                "language": "sql"
            },
            "attachments": {}
        },
        {
            "cell_type": "code",
            "source": [
                "-- 1. LIST OUT THE EMPLOYEE ID, LAST NAME IN ASCENDING ORDER BASED ON THE EMPLOYEE ID.\n",
                "SELECT Employee_ID, LAST_NAME FROM EMPLOYEE ORDER BY Employee_ID"
            ],
            "metadata": {
                "azdata_cell_guid": "34bc57bf-b3af-43d7-a698-b95da6f384fc",
                "language": "sql",
                "vscode": {
                    "languageId": "sql"
                }
            },
            "outputs": [
                {
                    "output_type": "display_data",
                    "data": {
                        "text/html": "(6 rows affected)"
                    },
                    "metadata": {}
                },
                {
                    "output_type": "display_data",
                    "data": {
                        "text/html": "Total execution time: 00:00:00.002"
                    },
                    "metadata": {}
                },
                {
                    "output_type": "execute_result",
                    "execution_count": 18,
                    "data": {
                        "application/vnd.dataresource+json": {
                            "schema": {
                                "fields": [
                                    {
                                        "name": "Employee_ID"
                                    },
                                    {
                                        "name": "LAST_NAME"
                                    }
                                ]
                            },
                            "data": [
                                {
                                    "0": "7369",
                                    "1": "SMITH"
                                },
                                {
                                    "0": "7499",
                                    "1": "ALLEN"
                                },
                                {
                                    "0": "7505",
                                    "1": "DOYLE"
                                },
                                {
                                    "0": "7506",
                                    "1": "DENNIS"
                                },
                                {
                                    "0": "7507",
                                    "1": "BAKER"
                                },
                                {
                                    "0": "7521",
                                    "1": "WARK"
                                }
                            ]
                        },
                        "text/html": "<table><tr><th>Employee_ID</th><th>LAST_NAME</th></tr><tr><td>7369</td><td>SMITH</td></tr><tr><td>7499</td><td>ALLEN</td></tr><tr><td>7505</td><td>DOYLE</td></tr><tr><td>7506</td><td>DENNIS</td></tr><tr><td>7507</td><td>BAKER</td></tr><tr><td>7521</td><td>WARK</td></tr></table>"
                    },
                    "metadata": {}
                }
            ],
            "execution_count": 18
        },
        {
            "cell_type": "code",
            "source": [
                "-- 2. LIST OUT THE EMPLOYEE ID, NAME IN DESCENDING ORDER BASED ON SALARY.\n",
                "SELECT Employee_ID, First_Name AS [NAME]\n",
                "FROM EMPLOYEE\n",
                "ORDER BY Salary DESC"
            ],
            "metadata": {
                "azdata_cell_guid": "b45e6abd-60a5-426f-beab-1623dabdd2ed",
                "language": "sql",
                "vscode": {
                    "languageId": "sql"
                }
            },
            "outputs": [
                {
                    "output_type": "display_data",
                    "data": {
                        "text/html": "(6 rows affected)"
                    },
                    "metadata": {}
                },
                {
                    "output_type": "display_data",
                    "data": {
                        "text/html": "Total execution time: 00:00:00.002"
                    },
                    "metadata": {}
                },
                {
                    "output_type": "execute_result",
                    "execution_count": 19,
                    "data": {
                        "application/vnd.dataresource+json": {
                            "schema": {
                                "fields": [
                                    {
                                        "name": "Employee_ID"
                                    },
                                    {
                                        "name": "NAME"
                                    }
                                ]
                            },
                            "data": [
                                {
                                    "0": "7505",
                                    "1": "JEAN"
                                },
                                {
                                    "0": "7506",
                                    "1": "LYNN"
                                },
                                {
                                    "0": "7507",
                                    "1": "LESLIE"
                                },
                                {
                                    "0": "7499",
                                    "1": "KEVIN"
                                },
                                {
                                    "0": "7521",
                                    "1": "CYNTHIA"
                                },
                                {
                                    "0": "7369",
                                    "1": "JOHN"
                                }
                            ]
                        },
                        "text/html": "<table><tr><th>Employee_ID</th><th>NAME</th></tr><tr><td>7505</td><td>JEAN</td></tr><tr><td>7506</td><td>LYNN</td></tr><tr><td>7507</td><td>LESLIE</td></tr><tr><td>7499</td><td>KEVIN</td></tr><tr><td>7521</td><td>CYNTHIA</td></tr><tr><td>7369</td><td>JOHN</td></tr></table>"
                    },
                    "metadata": {}
                }
            ],
            "execution_count": 19
        },
        {
            "cell_type": "code",
            "source": [
                "-- 3. LIST OUT THE EMPLOYEE DETAILS ACCORDING TO THEIR LAST-NAME IN ASCENDING ORDER\n",
                "SELECT * FROM EMPLOYEE ORDER BY Last_Name"
            ],
            "metadata": {
                "azdata_cell_guid": "0b43826f-a0ef-40b2-b6de-5fd934a27144",
                "language": "sql",
                "vscode": {
                    "languageId": "sql"
                }
            },
            "outputs": [
                {
                    "output_type": "display_data",
                    "data": {
                        "text/html": "(6 rows affected)"
                    },
                    "metadata": {}
                },
                {
                    "output_type": "display_data",
                    "data": {
                        "text/html": "Total execution time: 00:00:00.002"
                    },
                    "metadata": {}
                },
                {
                    "output_type": "execute_result",
                    "execution_count": 20,
                    "data": {
                        "application/vnd.dataresource+json": {
                            "schema": {
                                "fields": [
                                    {
                                        "name": "Employee_ID"
                                    },
                                    {
                                        "name": "Last_Name"
                                    },
                                    {
                                        "name": "First_Name"
                                    },
                                    {
                                        "name": "Middle_Name"
                                    },
                                    {
                                        "name": "Job_ID"
                                    },
                                    {
                                        "name": "Manager_ID"
                                    },
                                    {
                                        "name": "Hire_Date"
                                    },
                                    {
                                        "name": "Salary"
                                    },
                                    {
                                        "name": "Comm"
                                    },
                                    {
                                        "name": "Department_ID"
                                    }
                                ]
                            },
                            "data": [
                                {
                                    "0": "7499",
                                    "1": "ALLEN",
                                    "2": "KEVIN",
                                    "3": "J",
                                    "4": "670",
                                    "5": "7698",
                                    "6": "1985-02-20",
                                    "7": "1600.00",
                                    "8": "300",
                                    "9": "30"
                                },
                                {
                                    "0": "7507",
                                    "1": "BAKER",
                                    "2": "LESLIE",
                                    "3": "D",
                                    "4": "671",
                                    "5": "7839",
                                    "6": "1985-06-10",
                                    "7": "2200.00",
                                    "8": "NULL",
                                    "9": "40"
                                },
                                {
                                    "0": "7506",
                                    "1": "DENNIS",
                                    "2": "LYNN",
                                    "3": "S",
                                    "4": "671",
                                    "5": "7839",
                                    "6": "1985-05-15",
                                    "7": "2750.00",
                                    "8": "NULL",
                                    "9": "30"
                                },
                                {
                                    "0": "7505",
                                    "1": "DOYLE",
                                    "2": "JEAN",
                                    "3": "K",
                                    "4": "671",
                                    "5": "7839",
                                    "6": "1985-04-04",
                                    "7": "2850.00",
                                    "8": "NULL",
                                    "9": "30"
                                },
                                {
                                    "0": "7369",
                                    "1": "SMITH",
                                    "2": "JOHN",
                                    "3": "Q",
                                    "4": "667",
                                    "5": "7902",
                                    "6": "1984-12-17",
                                    "7": "800.00",
                                    "8": "NULL",
                                    "9": "20"
                                },
                                {
                                    "0": "7521",
                                    "1": "WARK",
                                    "2": "CYNTHIA",
                                    "3": "D",
                                    "4": "670",
                                    "5": "7698",
                                    "6": "1985-02-22",
                                    "7": "1250.00",
                                    "8": "500",
                                    "9": "30"
                                }
                            ]
                        },
                        "text/html": "<table><tr><th>Employee_ID</th><th>Last_Name</th><th>First_Name</th><th>Middle_Name</th><th>Job_ID</th><th>Manager_ID</th><th>Hire_Date</th><th>Salary</th><th>Comm</th><th>Department_ID</th></tr><tr><td>7499</td><td>ALLEN</td><td>KEVIN</td><td>J</td><td>670</td><td>7698</td><td>1985-02-20</td><td>1600.00</td><td>300</td><td>30</td></tr><tr><td>7507</td><td>BAKER</td><td>LESLIE</td><td>D</td><td>671</td><td>7839</td><td>1985-06-10</td><td>2200.00</td><td>NULL</td><td>40</td></tr><tr><td>7506</td><td>DENNIS</td><td>LYNN</td><td>S</td><td>671</td><td>7839</td><td>1985-05-15</td><td>2750.00</td><td>NULL</td><td>30</td></tr><tr><td>7505</td><td>DOYLE</td><td>JEAN</td><td>K</td><td>671</td><td>7839</td><td>1985-04-04</td><td>2850.00</td><td>NULL</td><td>30</td></tr><tr><td>7369</td><td>SMITH</td><td>JOHN</td><td>Q</td><td>667</td><td>7902</td><td>1984-12-17</td><td>800.00</td><td>NULL</td><td>20</td></tr><tr><td>7521</td><td>WARK</td><td>CYNTHIA</td><td>D</td><td>670</td><td>7698</td><td>1985-02-22</td><td>1250.00</td><td>500</td><td>30</td></tr></table>"
                    },
                    "metadata": {}
                }
            ],
            "execution_count": 20
        },
        {
            "cell_type": "code",
            "source": [
                "-- 4. LIST OUT THE EMPLOYEE DETAILS ACCORDING TO THEIR LAST-NAME IN ASCENDING ORDER AND\n",
                "-- THEN ON DEPARTMENT_ID IN DESCENDING ORDER.\n",
                "SELECT * FROM EMPLOYEE ORDER BY Last_Name, Department_ID DESC\n"
            ],
            "metadata": {
                "azdata_cell_guid": "ea0ae8fc-9dc7-4c66-93dd-7c48577e26cc",
                "language": "sql",
                "vscode": {
                    "languageId": "sql"
                }
            },
            "outputs": [
                {
                    "output_type": "display_data",
                    "data": {
                        "text/html": "(6 rows affected)"
                    },
                    "metadata": {}
                },
                {
                    "output_type": "display_data",
                    "data": {
                        "text/html": "Total execution time: 00:00:00.003"
                    },
                    "metadata": {}
                },
                {
                    "output_type": "execute_result",
                    "execution_count": 21,
                    "data": {
                        "application/vnd.dataresource+json": {
                            "schema": {
                                "fields": [
                                    {
                                        "name": "Employee_ID"
                                    },
                                    {
                                        "name": "Last_Name"
                                    },
                                    {
                                        "name": "First_Name"
                                    },
                                    {
                                        "name": "Middle_Name"
                                    },
                                    {
                                        "name": "Job_ID"
                                    },
                                    {
                                        "name": "Manager_ID"
                                    },
                                    {
                                        "name": "Hire_Date"
                                    },
                                    {
                                        "name": "Salary"
                                    },
                                    {
                                        "name": "Comm"
                                    },
                                    {
                                        "name": "Department_ID"
                                    }
                                ]
                            },
                            "data": [
                                {
                                    "0": "7499",
                                    "1": "ALLEN",
                                    "2": "KEVIN",
                                    "3": "J",
                                    "4": "670",
                                    "5": "7698",
                                    "6": "1985-02-20",
                                    "7": "1600.00",
                                    "8": "300",
                                    "9": "30"
                                },
                                {
                                    "0": "7507",
                                    "1": "BAKER",
                                    "2": "LESLIE",
                                    "3": "D",
                                    "4": "671",
                                    "5": "7839",
                                    "6": "1985-06-10",
                                    "7": "2200.00",
                                    "8": "NULL",
                                    "9": "40"
                                },
                                {
                                    "0": "7506",
                                    "1": "DENNIS",
                                    "2": "LYNN",
                                    "3": "S",
                                    "4": "671",
                                    "5": "7839",
                                    "6": "1985-05-15",
                                    "7": "2750.00",
                                    "8": "NULL",
                                    "9": "30"
                                },
                                {
                                    "0": "7505",
                                    "1": "DOYLE",
                                    "2": "JEAN",
                                    "3": "K",
                                    "4": "671",
                                    "5": "7839",
                                    "6": "1985-04-04",
                                    "7": "2850.00",
                                    "8": "NULL",
                                    "9": "30"
                                },
                                {
                                    "0": "7369",
                                    "1": "SMITH",
                                    "2": "JOHN",
                                    "3": "Q",
                                    "4": "667",
                                    "5": "7902",
                                    "6": "1984-12-17",
                                    "7": "800.00",
                                    "8": "NULL",
                                    "9": "20"
                                },
                                {
                                    "0": "7521",
                                    "1": "WARK",
                                    "2": "CYNTHIA",
                                    "3": "D",
                                    "4": "670",
                                    "5": "7698",
                                    "6": "1985-02-22",
                                    "7": "1250.00",
                                    "8": "500",
                                    "9": "30"
                                }
                            ]
                        },
                        "text/html": "<table><tr><th>Employee_ID</th><th>Last_Name</th><th>First_Name</th><th>Middle_Name</th><th>Job_ID</th><th>Manager_ID</th><th>Hire_Date</th><th>Salary</th><th>Comm</th><th>Department_ID</th></tr><tr><td>7499</td><td>ALLEN</td><td>KEVIN</td><td>J</td><td>670</td><td>7698</td><td>1985-02-20</td><td>1600.00</td><td>300</td><td>30</td></tr><tr><td>7507</td><td>BAKER</td><td>LESLIE</td><td>D</td><td>671</td><td>7839</td><td>1985-06-10</td><td>2200.00</td><td>NULL</td><td>40</td></tr><tr><td>7506</td><td>DENNIS</td><td>LYNN</td><td>S</td><td>671</td><td>7839</td><td>1985-05-15</td><td>2750.00</td><td>NULL</td><td>30</td></tr><tr><td>7505</td><td>DOYLE</td><td>JEAN</td><td>K</td><td>671</td><td>7839</td><td>1985-04-04</td><td>2850.00</td><td>NULL</td><td>30</td></tr><tr><td>7369</td><td>SMITH</td><td>JOHN</td><td>Q</td><td>667</td><td>7902</td><td>1984-12-17</td><td>800.00</td><td>NULL</td><td>20</td></tr><tr><td>7521</td><td>WARK</td><td>CYNTHIA</td><td>D</td><td>670</td><td>7698</td><td>1985-02-22</td><td>1250.00</td><td>500</td><td>30</td></tr></table>"
                    },
                    "metadata": {}
                }
            ],
            "execution_count": 21
        },
        {
            "cell_type": "markdown",
            "source": [
                "## GROUP BY & HAVING CLAUSE\n",
                "hint keywords - wise\n"
            ],
            "metadata": {
                "azdata_cell_guid": "b4a50058-34cb-4068-b142-a7d08fe197d4",
                "language": "sql"
            },
            "attachments": {}
        },
        {
            "cell_type": "code",
            "source": [
                "-- 1. HOW MANY EMPLOYEES WHO ARE IN DIFFERENT DEPARTMENTS WISE IN THE ORGANIZATION.\n",
                "SELECT Department_ID, COUNT(*) AS EMP_COUNT FROM EMPLOYEE GROUP BY Department_ID"
            ],
            "metadata": {
                "azdata_cell_guid": "85dd1ad1-1272-4b51-9c58-dd6a0aca694b",
                "language": "sql",
                "vscode": {
                    "languageId": "sql"
                }
            },
            "outputs": [
                {
                    "output_type": "display_data",
                    "data": {
                        "text/html": "(3 rows affected)"
                    },
                    "metadata": {}
                },
                {
                    "output_type": "display_data",
                    "data": {
                        "text/html": "Total execution time: 00:00:00.002"
                    },
                    "metadata": {}
                },
                {
                    "output_type": "execute_result",
                    "execution_count": 22,
                    "data": {
                        "application/vnd.dataresource+json": {
                            "schema": {
                                "fields": [
                                    {
                                        "name": "Department_ID"
                                    },
                                    {
                                        "name": "EMP_COUNT"
                                    }
                                ]
                            },
                            "data": [
                                {
                                    "0": "20",
                                    "1": "1"
                                },
                                {
                                    "0": "30",
                                    "1": "4"
                                },
                                {
                                    "0": "40",
                                    "1": "1"
                                }
                            ]
                        },
                        "text/html": "<table><tr><th>Department_ID</th><th>EMP_COUNT</th></tr><tr><td>20</td><td>1</td></tr><tr><td>30</td><td>4</td></tr><tr><td>40</td><td>1</td></tr></table>"
                    },
                    "metadata": {}
                }
            ],
            "execution_count": 22
        },
        {
            "cell_type": "code",
            "source": [
                "-- 2. LIST OUT THE DEPARTMENT WISE MAXIMUM SALARY, MINIMUM SALARY, AVERAGE SALARY OF\n",
                "-- THE EMPLOYEES.\n",
                "SELECT Department_ID, MAX(Salary) AS MAX_SAL, MIN(Salary) AS MIN_SAL, AVG(Salary) AS AVG_SAL\n",
                "FROM EMPLOYEE GROUP BY Department_ID"
            ],
            "metadata": {
                "azdata_cell_guid": "c3456379-994b-436c-a5c2-767752fe4c4e",
                "language": "sql",
                "vscode": {
                    "languageId": "sql"
                }
            },
            "outputs": [
                {
                    "output_type": "display_data",
                    "data": {
                        "text/html": "(3 rows affected)"
                    },
                    "metadata": {}
                },
                {
                    "output_type": "display_data",
                    "data": {
                        "text/html": "Total execution time: 00:00:00.003"
                    },
                    "metadata": {}
                },
                {
                    "output_type": "execute_result",
                    "execution_count": 23,
                    "data": {
                        "application/vnd.dataresource+json": {
                            "schema": {
                                "fields": [
                                    {
                                        "name": "Department_ID"
                                    },
                                    {
                                        "name": "MAX_SAL"
                                    },
                                    {
                                        "name": "MIN_SAL"
                                    },
                                    {
                                        "name": "AVG_SAL"
                                    }
                                ]
                            },
                            "data": [
                                {
                                    "0": "20",
                                    "1": "800.00",
                                    "2": "800.00",
                                    "3": "800.00"
                                },
                                {
                                    "0": "30",
                                    "1": "2850.00",
                                    "2": "1250.00",
                                    "3": "2112.50"
                                },
                                {
                                    "0": "40",
                                    "1": "2200.00",
                                    "2": "2200.00",
                                    "3": "2200.00"
                                }
                            ]
                        },
                        "text/html": "<table><tr><th>Department_ID</th><th>MAX_SAL</th><th>MIN_SAL</th><th>AVG_SAL</th></tr><tr><td>20</td><td>800.00</td><td>800.00</td><td>800.00</td></tr><tr><td>30</td><td>2850.00</td><td>1250.00</td><td>2112.50</td></tr><tr><td>40</td><td>2200.00</td><td>2200.00</td><td>2200.00</td></tr></table>"
                    },
                    "metadata": {}
                }
            ],
            "execution_count": 23
        },
        {
            "cell_type": "code",
            "source": [
                "-- 3. LIST OUT JOB WISE MAXIMUM SALARY, MINIMUM SALARY, AVERAGE SALARIES OF THE\n",
                "-- EMPLOYEES.\n",
                "SELECT Job_ID, MAX(Salary) AS MAX_SAL, MIN(Salary) AS MIN_SAL, AVG(Salary) AS AVG_SAL\n",
                "FROM EMPLOYEE GROUP BY Job_ID"
            ],
            "metadata": {
                "azdata_cell_guid": "fb737771-c08a-4c18-9bd1-aadd6673a5f5",
                "language": "sql",
                "vscode": {
                    "languageId": "sql"
                }
            },
            "outputs": [
                {
                    "output_type": "display_data",
                    "data": {
                        "text/html": "(3 rows affected)"
                    },
                    "metadata": {}
                },
                {
                    "output_type": "display_data",
                    "data": {
                        "text/html": "Total execution time: 00:00:00.003"
                    },
                    "metadata": {}
                },
                {
                    "output_type": "execute_result",
                    "execution_count": 24,
                    "data": {
                        "application/vnd.dataresource+json": {
                            "schema": {
                                "fields": [
                                    {
                                        "name": "Job_ID"
                                    },
                                    {
                                        "name": "MAX_SAL"
                                    },
                                    {
                                        "name": "MIN_SAL"
                                    },
                                    {
                                        "name": "AVG_SAL"
                                    }
                                ]
                            },
                            "data": [
                                {
                                    "0": "667",
                                    "1": "800.00",
                                    "2": "800.00",
                                    "3": "800.00"
                                },
                                {
                                    "0": "670",
                                    "1": "1600.00",
                                    "2": "1250.00",
                                    "3": "1425.00"
                                },
                                {
                                    "0": "671",
                                    "1": "2850.00",
                                    "2": "2200.00",
                                    "3": "2600.00"
                                }
                            ]
                        },
                        "text/html": "<table><tr><th>Job_ID</th><th>MAX_SAL</th><th>MIN_SAL</th><th>AVG_SAL</th></tr><tr><td>667</td><td>800.00</td><td>800.00</td><td>800.00</td></tr><tr><td>670</td><td>1600.00</td><td>1250.00</td><td>1425.00</td></tr><tr><td>671</td><td>2850.00</td><td>2200.00</td><td>2600.00</td></tr></table>"
                    },
                    "metadata": {}
                }
            ],
            "execution_count": 24
        },
        {
            "cell_type": "code",
            "source": [
                "-- 4. LIST OUT THE NUMBER OF EMPLOYEES JOINED IN EVERY MONTH IN ASCENDING ORDER.\n",
                "SELECT DATENAME(MM,Hire_Date) AS JOINING_MONTH, COUNT(*) AS NO_OF_EMPLOYEE FROM EMPLOYEE GROUP BY DATENAME(MM,Hire_Date) ORDER BY DATENAME(MM,Hire_Date)"
            ],
            "metadata": {
                "azdata_cell_guid": "d1c22b5c-4ca3-43a0-9b77-c8968fdae759",
                "language": "sql",
                "vscode": {
                    "languageId": "sql"
                }
            },
            "outputs": [
                {
                    "output_type": "display_data",
                    "data": {
                        "text/html": "(5 rows affected)"
                    },
                    "metadata": {}
                },
                {
                    "output_type": "display_data",
                    "data": {
                        "text/html": "Total execution time: 00:00:00.003"
                    },
                    "metadata": {}
                },
                {
                    "output_type": "execute_result",
                    "execution_count": 25,
                    "data": {
                        "application/vnd.dataresource+json": {
                            "schema": {
                                "fields": [
                                    {
                                        "name": "JOINING_MONTH"
                                    },
                                    {
                                        "name": "NO_OF_EMPLOYEE"
                                    }
                                ]
                            },
                            "data": [
                                {
                                    "0": "April",
                                    "1": "1"
                                },
                                {
                                    "0": "December",
                                    "1": "1"
                                },
                                {
                                    "0": "February",
                                    "1": "2"
                                },
                                {
                                    "0": "June",
                                    "1": "1"
                                },
                                {
                                    "0": "May",
                                    "1": "1"
                                }
                            ]
                        },
                        "text/html": "<table><tr><th>JOINING_MONTH</th><th>NO_OF_EMPLOYEE</th></tr><tr><td>April</td><td>1</td></tr><tr><td>December</td><td>1</td></tr><tr><td>February</td><td>2</td></tr><tr><td>June</td><td>1</td></tr><tr><td>May</td><td>1</td></tr></table>"
                    },
                    "metadata": {}
                }
            ],
            "execution_count": 25
        },
        {
            "cell_type": "code",
            "source": [
                "-- 5. LIST OUT THE NUMBER OF EMPLOYEES FOR EACH MONTH AND YEAR, IN THE ASCENDING\n",
                "-- ORDER BASED ON THE YEAR, MONTH.\n",
                "SELECT MONTH(Hire_Date) AS [MONTH], YEAR(Hire_Date) AS [YEAR], COUNT(*) AS EMP_COUNT\n",
                "FROM EMPLOYEE\n",
                "GROUP BY MONTH(Hire_Date),YEAR(Hire_Date)\n",
                "ORDER BY MONTH(Hire_Date),YEAR(Hire_Date)"
            ],
            "metadata": {
                "azdata_cell_guid": "7dce34f5-e0c5-4345-819a-1e324ef11dc2",
                "language": "sql",
                "vscode": {
                    "languageId": "sql"
                }
            },
            "outputs": [
                {
                    "output_type": "display_data",
                    "data": {
                        "text/html": "(5 rows affected)"
                    },
                    "metadata": {}
                },
                {
                    "output_type": "display_data",
                    "data": {
                        "text/html": "Total execution time: 00:00:00.003"
                    },
                    "metadata": {}
                },
                {
                    "output_type": "execute_result",
                    "execution_count": 26,
                    "data": {
                        "application/vnd.dataresource+json": {
                            "schema": {
                                "fields": [
                                    {
                                        "name": "MONTH"
                                    },
                                    {
                                        "name": "YEAR"
                                    },
                                    {
                                        "name": "EMP_COUNT"
                                    }
                                ]
                            },
                            "data": [
                                {
                                    "0": "2",
                                    "1": "1985",
                                    "2": "2"
                                },
                                {
                                    "0": "4",
                                    "1": "1985",
                                    "2": "1"
                                },
                                {
                                    "0": "5",
                                    "1": "1985",
                                    "2": "1"
                                },
                                {
                                    "0": "6",
                                    "1": "1985",
                                    "2": "1"
                                },
                                {
                                    "0": "12",
                                    "1": "1984",
                                    "2": "1"
                                }
                            ]
                        },
                        "text/html": "<table><tr><th>MONTH</th><th>YEAR</th><th>EMP_COUNT</th></tr><tr><td>2</td><td>1985</td><td>2</td></tr><tr><td>4</td><td>1985</td><td>1</td></tr><tr><td>5</td><td>1985</td><td>1</td></tr><tr><td>6</td><td>1985</td><td>1</td></tr><tr><td>12</td><td>1984</td><td>1</td></tr></table>"
                    },
                    "metadata": {}
                }
            ],
            "execution_count": 26
        },
        {
            "cell_type": "code",
            "source": [
                "-- 6. LIST OUT THE DEPARTMENT ID HAVING ATLEAST FOUR EMPLOYEES.\n",
                "SELECT Department_ID,COUNT(*) AS NO_OF_EMP FROM EMPLOYEE GROUP BY Department_ID HAVING COUNT(*) >=4"
            ],
            "metadata": {
                "azdata_cell_guid": "7fb0908f-22d5-473a-9fc7-21fd5cfa2544",
                "language": "sql",
                "vscode": {
                    "languageId": "sql"
                }
            },
            "outputs": [
                {
                    "output_type": "display_data",
                    "data": {
                        "text/html": "(1 row affected)"
                    },
                    "metadata": {}
                },
                {
                    "output_type": "display_data",
                    "data": {
                        "text/html": "Total execution time: 00:00:00.003"
                    },
                    "metadata": {}
                },
                {
                    "output_type": "execute_result",
                    "execution_count": 27,
                    "data": {
                        "application/vnd.dataresource+json": {
                            "schema": {
                                "fields": [
                                    {
                                        "name": "Department_ID"
                                    },
                                    {
                                        "name": "NO_OF_EMP"
                                    }
                                ]
                            },
                            "data": [
                                {
                                    "0": "30",
                                    "1": "4"
                                }
                            ]
                        },
                        "text/html": "<table><tr><th>Department_ID</th><th>NO_OF_EMP</th></tr><tr><td>30</td><td>4</td></tr></table>"
                    },
                    "metadata": {}
                }
            ],
            "execution_count": 27
        },
        {
            "cell_type": "code",
            "source": [
                "-- 7. HOW MANY EMPLOYEES JOINED IN JANUARY MONTH.\n",
                "SELECT COUNT(*) AS EMP_JOINED_IN_JAN FROM EMPLOYEE WHERE DATENAME(MM,Hire_Date)='Jan'"
            ],
            "metadata": {
                "azdata_cell_guid": "bd7c934a-9aa3-4592-9edb-70f0089d6a62",
                "language": "sql",
                "vscode": {
                    "languageId": "sql"
                }
            },
            "outputs": [
                {
                    "output_type": "display_data",
                    "data": {
                        "text/html": "(1 row affected)"
                    },
                    "metadata": {}
                },
                {
                    "output_type": "display_data",
                    "data": {
                        "text/html": "Total execution time: 00:00:00.002"
                    },
                    "metadata": {}
                },
                {
                    "output_type": "execute_result",
                    "execution_count": 28,
                    "data": {
                        "application/vnd.dataresource+json": {
                            "schema": {
                                "fields": [
                                    {
                                        "name": "EMP_JOINED_IN_JAN"
                                    }
                                ]
                            },
                            "data": [
                                {
                                    "0": "0"
                                }
                            ]
                        },
                        "text/html": "<table><tr><th>EMP_JOINED_IN_JAN</th></tr><tr><td>0</td></tr></table>"
                    },
                    "metadata": {}
                }
            ],
            "execution_count": 28
        },
        {
            "cell_type": "code",
            "source": [
                "-- 8. HOW MANY EMPLOYEES JOINED IN JANUARY OR SEPTEMBER MONTH.\n",
                "SELECT COUNT(*) AS EMP_JOINED_IN_JAN FROM EMPLOYEE WHERE MONTH(Hire_Date) IN (1,9)\n"
            ],
            "metadata": {
                "azdata_cell_guid": "9c09c145-2d16-4b0e-a0df-662fd85b991f",
                "language": "sql",
                "vscode": {
                    "languageId": "sql"
                }
            },
            "outputs": [
                {
                    "output_type": "display_data",
                    "data": {
                        "text/html": "(1 row affected)"
                    },
                    "metadata": {}
                },
                {
                    "output_type": "display_data",
                    "data": {
                        "text/html": "Total execution time: 00:00:00.001"
                    },
                    "metadata": {}
                },
                {
                    "output_type": "execute_result",
                    "execution_count": 29,
                    "data": {
                        "application/vnd.dataresource+json": {
                            "schema": {
                                "fields": [
                                    {
                                        "name": "EMP_JOINED_IN_JAN"
                                    }
                                ]
                            },
                            "data": [
                                {
                                    "0": "0"
                                }
                            ]
                        },
                        "text/html": "<table><tr><th>EMP_JOINED_IN_JAN</th></tr><tr><td>0</td></tr></table>"
                    },
                    "metadata": {}
                }
            ],
            "execution_count": 29
        },
        {
            "cell_type": "code",
            "source": [
                "-- 9. HOW MANY EMPLOYEES WERE JOINED IN 1985?\n",
                "SELECT YEAR(Hire_Date),COUNT(*) AS EMP_JOINED_IN_1985 FROM EMPLOYEE WHERE YEAR(Hire_Date)=1985\n"
            ],
            "metadata": {
                "azdata_cell_guid": "08b3db43-f7dd-4bad-89a2-481366902b33",
                "language": "sql",
                "vscode": {
                    "languageId": "sql"
                }
            },
            "outputs": [
                {
                    "output_type": "error",
                    "ename": "",
                    "evalue": "Msg 8120, Level 16, State 1, Line 2\r\nColumn 'EMPLOYEE.Hire_Date' is invalid in the select list because it is not contained in either an aggregate function or the GROUP BY clause.",
                    "traceback": []
                },
                {
                    "output_type": "display_data",
                    "data": {
                        "text/html": "Total execution time: 00:00:00"
                    },
                    "metadata": {}
                }
            ],
            "execution_count": 30
        },
        {
            "cell_type": "code",
            "source": [
                "-- 10. HOW MANY EMPLOYEES WERE JOINED EACH MONTH IN 1985.\n",
                "\n",
                "SELECT DATENAME(MM,Hire_Date) AS [MONTH],COUNT(*) AS EMP_JOINED_IN_1985\n",
                "FROM EMPLOYEE\n",
                "GROUP BY YEAR(Hire_Date), DATENAME(MM,Hire_Date)\n",
                "HAVING YEAR(Hire_Date)=1985"
            ],
            "metadata": {
                "azdata_cell_guid": "031ca6c4-870b-44d2-8143-4b4b0b473883",
                "language": "sql",
                "tags": [],
                "vscode": {
                    "languageId": "sql"
                }
            },
            "outputs": [
                {
                    "output_type": "display_data",
                    "data": {
                        "text/html": "(4 rows affected)"
                    },
                    "metadata": {}
                },
                {
                    "output_type": "display_data",
                    "data": {
                        "text/html": "Total execution time: 00:00:00.003"
                    },
                    "metadata": {}
                },
                {
                    "output_type": "execute_result",
                    "execution_count": 81,
                    "data": {
                        "application/vnd.dataresource+json": {
                            "data": [
                                {
                                    "0": "April",
                                    "1": "1"
                                },
                                {
                                    "0": "February",
                                    "1": "2"
                                },
                                {
                                    "0": "June",
                                    "1": "1"
                                },
                                {
                                    "0": "May",
                                    "1": "1"
                                }
                            ],
                            "schema": {
                                "fields": [
                                    {
                                        "name": "MONTH"
                                    },
                                    {
                                        "name": "EMP_JOINED_IN_1985"
                                    }
                                ]
                            }
                        },
                        "text/html": "<table>\n<tr><th>MONTH</th><th>EMP_JOINED_IN_1985</th></tr>\n<tr><td>April</td><td>1</td></tr>\n<tr><td>February</td><td>2</td></tr>\n<tr><td>June</td><td>1</td></tr>\n<tr><td>May</td><td>1</td></tr>\n</table>"
                    },
                    "metadata": {}
                }
            ],
            "execution_count": 81
        },
        {
            "cell_type": "code",
            "source": [
                "-- 11. HOW MANY EMPLOYEES WERE JOINED IN MARCH 1985?\n",
                "SELECT DATENAME(MM,Hire_Date) AS [MONTH],COUNT(*) AS EMP_JOINED_IN_1985\n",
                "FROM EMPLOYEE\n",
                "GROUP BY YEAR(Hire_Date), DATENAME(MM,Hire_Date)\n",
                "HAVING YEAR(Hire_Date)=1985 AND DATENAME(MM,Hire_Date)='MAR'"
            ],
            "metadata": {
                "azdata_cell_guid": "893beea6-95d1-4ae4-af3a-12232d032e0c",
                "language": "sql",
                "vscode": {
                    "languageId": "sql"
                }
            },
            "outputs": [
                {
                    "output_type": "display_data",
                    "data": {
                        "text/html": "(0 rows affected)"
                    },
                    "metadata": {}
                },
                {
                    "output_type": "display_data",
                    "data": {
                        "text/html": "Total execution time: 00:00:00.002"
                    },
                    "metadata": {}
                },
                {
                    "output_type": "execute_result",
                    "execution_count": 91,
                    "data": {
                        "application/vnd.dataresource+json": {
                            "data": [],
                            "schema": {
                                "fields": [
                                    {
                                        "name": "MONTH"
                                    },
                                    {
                                        "name": "EMP_JOINED_IN_1985"
                                    }
                                ]
                            }
                        },
                        "text/html": "<table>\n<tr><th>MONTH</th><th>EMP_JOINED_IN_1985</th></tr>\n</table>"
                    },
                    "metadata": {}
                }
            ],
            "execution_count": 91
        },
        {
            "cell_type": "code",
            "source": [
                "-- 12. WHICH IS THE DEPARTMENT ID, HAVING GREATER THAN OR EQUAL TO 3 EMPLOYEES JOINED IN\n",
                "-- APRIL 1985?\n",
                "SELECT Department_ID, COUNT(*) AS EMP_COUNT\n",
                "FROM EMPLOYEE\n",
                "GROUP BY Department_ID,YEAR(Hire_Date), MONTH(Hire_Date)\n",
                "HAVING YEAR(Hire_Date)=1985 AND MONTH(Hire_Date)=4 AND COUNT(*)>=3"
            ],
            "metadata": {
                "azdata_cell_guid": "10afc821-602d-4efe-acf5-b12d4b2b7c12",
                "language": "sql",
                "vscode": {
                    "languageId": "sql"
                }
            },
            "outputs": [
                {
                    "output_type": "display_data",
                    "data": {
                        "text/html": "(0 rows affected)"
                    },
                    "metadata": {}
                },
                {
                    "output_type": "display_data",
                    "data": {
                        "text/html": "Total execution time: 00:00:00.001"
                    },
                    "metadata": {}
                },
                {
                    "output_type": "execute_result",
                    "execution_count": 90,
                    "data": {
                        "application/vnd.dataresource+json": {
                            "data": [],
                            "schema": {
                                "fields": [
                                    {
                                        "name": "Department_ID"
                                    },
                                    {
                                        "name": "EMP_COUNT"
                                    }
                                ]
                            }
                        },
                        "text/html": "<table>\n<tr><th>Department_ID</th><th>EMP_COUNT</th></tr>\n</table>"
                    },
                    "metadata": {}
                }
            ],
            "execution_count": 90
        },
        {
            "cell_type": "markdown",
            "source": [
                "## JOINS"
            ],
            "metadata": {
                "azdata_cell_guid": "7d70bcc8-1ab4-4194-b80d-650e1dd19c9a",
                "language": "sql"
            },
            "attachments": {}
        },
        {
            "cell_type": "code",
            "source": [
                "-- 1. LIST OUT EMPLOYEES WITH THEIR DEPARTMENT NAMES.\r\n",
                "SELECT E.First_Name,D.NAME FROM EMPLOYEE E LEFT JOIN DEPARTMENT D ON E.Department_ID=D.DEPARTMENT_ID\r\n",
                ""
            ],
            "metadata": {
                "azdata_cell_guid": "a5610fdd-6b30-40ec-a62d-0eb5bda3a5a4",
                "language": "sql",
                "vscode": {
                    "languageId": "sql"
                }
            },
            "outputs": [
                {
                    "output_type": "display_data",
                    "data": {
                        "text/html": "(6 rows affected)"
                    },
                    "metadata": {}
                },
                {
                    "output_type": "display_data",
                    "data": {
                        "text/html": "Total execution time: 00:00:00.006"
                    },
                    "metadata": {}
                },
                {
                    "output_type": "execute_result",
                    "execution_count": 31,
                    "data": {
                        "application/vnd.dataresource+json": {
                            "schema": {
                                "fields": [
                                    {
                                        "name": "First_Name"
                                    },
                                    {
                                        "name": "NAME"
                                    }
                                ]
                            },
                            "data": [
                                {
                                    "0": "JOHN",
                                    "1": "Sales"
                                },
                                {
                                    "0": "KEVIN",
                                    "1": "Research"
                                },
                                {
                                    "0": "JEAN",
                                    "1": "Research"
                                },
                                {
                                    "0": "LYNN",
                                    "1": "Research"
                                },
                                {
                                    "0": "LESLIE",
                                    "1": "Operations"
                                },
                                {
                                    "0": "CYNTHIA",
                                    "1": "Research"
                                }
                            ]
                        },
                        "text/html": "<table><tr><th>First_Name</th><th>NAME</th></tr><tr><td>JOHN</td><td>Sales</td></tr><tr><td>KEVIN</td><td>Research</td></tr><tr><td>JEAN</td><td>Research</td></tr><tr><td>LYNN</td><td>Research</td></tr><tr><td>LESLIE</td><td>Operations</td></tr><tr><td>CYNTHIA</td><td>Research</td></tr></table>"
                    },
                    "metadata": {}
                }
            ],
            "execution_count": 31
        },
        {
            "cell_type": "code",
            "source": [
                "-- 2. DISPLAY EMPLOYEES WITH THEIR DESIGNATIONS.\r\n",
                "SELECT E.First_Name,J.DESIGNATION FROM EMPLOYEE E LEFT JOIN JOB J ON E.Job_ID=J.JOB_ID"
            ],
            "metadata": {
                "language": "sql",
                "azdata_cell_guid": "2ff74ac5-ba9c-453c-ad2c-dfaffc636106"
            },
            "outputs": [
                {
                    "output_type": "display_data",
                    "data": {
                        "text/html": "(6 rows affected)"
                    },
                    "metadata": {}
                },
                {
                    "output_type": "display_data",
                    "data": {
                        "text/html": "Total execution time: 00:00:00.022"
                    },
                    "metadata": {}
                },
                {
                    "output_type": "execute_result",
                    "execution_count": 32,
                    "data": {
                        "application/vnd.dataresource+json": {
                            "schema": {
                                "fields": [
                                    {
                                        "name": "First_Name"
                                    },
                                    {
                                        "name": "DESIGNATION"
                                    }
                                ]
                            },
                            "data": [
                                {
                                    "0": "JOHN",
                                    "1": "Clerk"
                                },
                                {
                                    "0": "KEVIN",
                                    "1": "Sales Person"
                                },
                                {
                                    "0": "JEAN",
                                    "1": "Manager"
                                },
                                {
                                    "0": "LYNN",
                                    "1": "Manager"
                                },
                                {
                                    "0": "LESLIE",
                                    "1": "Manager"
                                },
                                {
                                    "0": "CYNTHIA",
                                    "1": "Sales Person"
                                }
                            ]
                        },
                        "text/html": "<table><tr><th>First_Name</th><th>DESIGNATION</th></tr><tr><td>JOHN</td><td>Clerk</td></tr><tr><td>KEVIN</td><td>Sales Person</td></tr><tr><td>JEAN</td><td>Manager</td></tr><tr><td>LYNN</td><td>Manager</td></tr><tr><td>LESLIE</td><td>Manager</td></tr><tr><td>CYNTHIA</td><td>Sales Person</td></tr></table>"
                    },
                    "metadata": {}
                }
            ],
            "execution_count": 32
        },
        {
            "cell_type": "code",
            "source": [
                "-- 3. DISPLAY THE EMPLOYEES WITH THEIR DEPARTMENT NAMES AND REGIONAL GROUPS.\r\n",
                "SELECT E.First_Name,D.NAME AS DEPARTMENT_NAME,L.CITY FROM EMPLOYEE E LEFT JOIN DEPARTMENT D ON E.Department_ID=D.DEPARTMENT_ID LEFT JOIN [LOCATION] L ON D.LOCATION_ID=L.LOCATION_ID"
            ],
            "metadata": {
                "language": "sql",
                "azdata_cell_guid": "d81162cd-6ab5-4d1b-96b4-053bcfa4eaca"
            },
            "outputs": [
                {
                    "output_type": "display_data",
                    "data": {
                        "text/html": "(6 rows affected)"
                    },
                    "metadata": {}
                },
                {
                    "output_type": "display_data",
                    "data": {
                        "text/html": "Total execution time: 00:00:00.002"
                    },
                    "metadata": {}
                },
                {
                    "output_type": "execute_result",
                    "execution_count": 41,
                    "data": {
                        "application/vnd.dataresource+json": {
                            "schema": {
                                "fields": [
                                    {
                                        "name": "First_Name"
                                    },
                                    {
                                        "name": "DEPARTMENT_NAME"
                                    },
                                    {
                                        "name": "CITY"
                                    }
                                ]
                            },
                            "data": [
                                {
                                    "0": "JOHN",
                                    "1": "Sales",
                                    "2": "Chicago"
                                },
                                {
                                    "0": "KEVIN",
                                    "1": "Research",
                                    "2": "Dallas"
                                },
                                {
                                    "0": "JEAN",
                                    "1": "Research",
                                    "2": "Dallas"
                                },
                                {
                                    "0": "LYNN",
                                    "1": "Research",
                                    "2": "Dallas"
                                },
                                {
                                    "0": "LESLIE",
                                    "1": "Operations",
                                    "2": "Boston"
                                },
                                {
                                    "0": "CYNTHIA",
                                    "1": "Research",
                                    "2": "Dallas"
                                }
                            ]
                        },
                        "text/html": "<table><tr><th>First_Name</th><th>DEPARTMENT_NAME</th><th>CITY</th></tr><tr><td>JOHN</td><td>Sales</td><td>Chicago</td></tr><tr><td>KEVIN</td><td>Research</td><td>Dallas</td></tr><tr><td>JEAN</td><td>Research</td><td>Dallas</td></tr><tr><td>LYNN</td><td>Research</td><td>Dallas</td></tr><tr><td>LESLIE</td><td>Operations</td><td>Boston</td></tr><tr><td>CYNTHIA</td><td>Research</td><td>Dallas</td></tr></table>"
                    },
                    "metadata": {}
                }
            ],
            "execution_count": 41
        },
        {
            "cell_type": "code",
            "source": [
                "-- 4. HOW MANY EMPLOYEES WHO ARE WORKING IN DIFFERENT DEPARTMENTS AND DISPLAY WITH DEPARTMENT NAMES.\r\n",
                "SELECT D.NAME, COUNT(*) AS NO_OF_EMPLOYEES\r\n",
                "FROM EMPLOYEE E LEFT JOIN DEPARTMENT D ON E.DEPARTMENT_ID=D.DEPARTMENT_ID\r\n",
                "GROUP BY D.NAME"
            ],
            "metadata": {
                "language": "sql",
                "azdata_cell_guid": "53a4bb61-a0ce-45b4-8392-e29d67c09b4b",
                "tags": []
            },
            "outputs": [
                {
                    "output_type": "display_data",
                    "data": {
                        "text/html": "(3 rows affected)"
                    },
                    "metadata": {}
                },
                {
                    "output_type": "display_data",
                    "data": {
                        "text/html": "Total execution time: 00:00:00.003"
                    },
                    "metadata": {}
                },
                {
                    "output_type": "execute_result",
                    "execution_count": 42,
                    "data": {
                        "application/vnd.dataresource+json": {
                            "schema": {
                                "fields": [
                                    {
                                        "name": "NAME"
                                    },
                                    {
                                        "name": "NO_OF_EMPLOYEES"
                                    }
                                ]
                            },
                            "data": [
                                {
                                    "0": "Operations",
                                    "1": "1"
                                },
                                {
                                    "0": "Research",
                                    "1": "4"
                                },
                                {
                                    "0": "Sales",
                                    "1": "1"
                                }
                            ]
                        },
                        "text/html": "<table><tr><th>NAME</th><th>NO_OF_EMPLOYEES</th></tr><tr><td>Operations</td><td>1</td></tr><tr><td>Research</td><td>4</td></tr><tr><td>Sales</td><td>1</td></tr></table>"
                    },
                    "metadata": {}
                }
            ],
            "execution_count": 42
        },
        {
            "cell_type": "code",
            "source": [
                "-- 5. HOW MANY EMPLOYEES WHO ARE WORKING IN SALES DEPARTMENT.\r\n",
                "SELECT COUNT(*) FROM EMPLOYEE E LEFT JOIN DEPARTMENT D ON E.Department_ID=D.DEPARTMENT_ID WHERE D.NAME='SALES'"
            ],
            "metadata": {
                "language": "sql",
                "azdata_cell_guid": "85886def-cc6b-439b-b24f-d471c092c2f9"
            },
            "outputs": [
                {
                    "output_type": "display_data",
                    "data": {
                        "text/html": "(1 row affected)"
                    },
                    "metadata": {}
                },
                {
                    "output_type": "display_data",
                    "data": {
                        "text/html": "Total execution time: 00:00:00.003"
                    },
                    "metadata": {}
                },
                {
                    "output_type": "execute_result",
                    "execution_count": 40,
                    "data": {
                        "application/vnd.dataresource+json": {
                            "schema": {
                                "fields": [
                                    {
                                        "name": "(No column name)"
                                    }
                                ]
                            },
                            "data": [
                                {
                                    "0": "1"
                                }
                            ]
                        },
                        "text/html": "<table><tr><th>(No column name)</th></tr><tr><td>1</td></tr></table>"
                    },
                    "metadata": {}
                }
            ],
            "execution_count": 40
        },
        {
            "cell_type": "code",
            "source": [
                "-- 6. WHICH IS THE DEPARTMENT HAVING GREATER THAN OR EQUAL TO 5\r\n",
                "-- EMPLOYEES AND DISPLAY THE DEPARTMENT NAMES IN ASCENDING ORDER.\r\n",
                "SELECT D.NAME, COUNT(*) AS NO_OF_EMPLOYEES\r\n",
                "FROM EMPLOYEE E LEFT JOIN DEPARTMENT D ON E.DEPARTMENT_ID=D.DEPARTMENT_ID\r\n",
                "GROUP BY D.NAME\r\n",
                "HAVING COUNT(*)>=5\r\n",
                "ORDER BY D.NAME"
            ],
            "metadata": {
                "language": "sql",
                "azdata_cell_guid": "c76d9534-da59-4b13-9d41-56df10481b72",
                "tags": []
            },
            "outputs": [
                {
                    "output_type": "display_data",
                    "data": {
                        "text/html": "(0 rows affected)"
                    },
                    "metadata": {}
                },
                {
                    "output_type": "display_data",
                    "data": {
                        "text/html": "Total execution time: 00:00:00.039"
                    },
                    "metadata": {}
                },
                {
                    "output_type": "execute_result",
                    "metadata": {},
                    "execution_count": 1,
                    "data": {
                        "application/vnd.dataresource+json": {
                            "schema": {
                                "fields": [
                                    {
                                        "name": "NAME"
                                    },
                                    {
                                        "name": "NO_OF_EMPLOYEES"
                                    }
                                ]
                            },
                            "data": []
                        },
                        "text/html": [
                            "<table>",
                            "<tr><th>NAME</th><th>NO_OF_EMPLOYEES</th></tr>",
                            "</table>"
                        ]
                    }
                }
            ],
            "execution_count": 1
        },
        {
            "cell_type": "code",
            "source": [
                "-- 7. HOW MANY JOBS IN THE ORGANIZATION WITH DESIGNATIONS.\r\n",
                "SELECT COUNT(*) AS NO_OF_JOBS FROM EMPLOYEE E LEFT JOIN JOB J ON E.Job_ID=J.JOB_ID"
            ],
            "metadata": {
                "language": "sql",
                "azdata_cell_guid": "49cb65b1-0be9-4a50-ad17-094d30678fdf"
            },
            "outputs": [
                {
                    "output_type": "display_data",
                    "data": {
                        "text/html": "(1 row affected)"
                    },
                    "metadata": {}
                },
                {
                    "output_type": "display_data",
                    "data": {
                        "text/html": "Total execution time: 00:00:00.003"
                    },
                    "metadata": {}
                },
                {
                    "output_type": "execute_result",
                    "metadata": {},
                    "execution_count": 2,
                    "data": {
                        "application/vnd.dataresource+json": {
                            "schema": {
                                "fields": [
                                    {
                                        "name": "NO_OF_JOBS"
                                    }
                                ]
                            },
                            "data": [
                                {
                                    "0": "6"
                                }
                            ]
                        },
                        "text/html": [
                            "<table>",
                            "<tr><th>NO_OF_JOBS</th></tr>",
                            "<tr><td>6</td></tr>",
                            "</table>"
                        ]
                    }
                }
            ],
            "execution_count": 2
        },
        {
            "cell_type": "code",
            "source": [
                "-- 8. HOW MANY EMPLOYEES ARE WORKING IN \"NEW YORK\".\r\n",
                "SELECT COUNT(*)\r\n",
                "FROM EMPLOYEE E \r\n",
                "LEFT JOIN DEPARTMENT D ON E.Department_ID=D.DEPARTMENT_ID \r\n",
                "LEFT JOIN [LOCATION] L ON D.LOCATION_ID= L.LOCATION_ID\r\n",
                "WHERE L.CITY='NEW YORK'"
            ],
            "metadata": {
                "language": "sql",
                "azdata_cell_guid": "f59088a0-91bc-4dab-b30c-b48f2b82a9ad"
            },
            "outputs": [
                {
                    "output_type": "display_data",
                    "data": {
                        "text/html": "(1 row affected)"
                    },
                    "metadata": {}
                },
                {
                    "output_type": "display_data",
                    "data": {
                        "text/html": "Total execution time: 00:00:00.008"
                    },
                    "metadata": {}
                },
                {
                    "output_type": "execute_result",
                    "metadata": {},
                    "execution_count": 3,
                    "data": {
                        "application/vnd.dataresource+json": {
                            "schema": {
                                "fields": [
                                    {
                                        "name": "(No column name)"
                                    }
                                ]
                            },
                            "data": [
                                {
                                    "0": "0"
                                }
                            ]
                        },
                        "text/html": [
                            "<table>",
                            "<tr><th>(No column name)</th></tr>",
                            "<tr><td>0</td></tr>",
                            "</table>"
                        ]
                    }
                }
            ],
            "execution_count": 3
        },
        {
            "cell_type": "code",
            "source": [
                "-- 9. DISPLAY THE EMPLOYEE DETAILS WITH SALARY GRADES.\r\n",
                ""
            ],
            "metadata": {
                "language": "sql",
                "azdata_cell_guid": "1b71b414-1c2f-45db-a5ae-4fcc11cba5ed"
            },
            "outputs": [],
            "execution_count": null
        },
        {
            "cell_type": "code",
            "source": [
                "-- 10. LIST OUT THE NO. OF EMPLOYEES ON GRADE WISE."
            ],
            "metadata": {
                "language": "sql",
                "azdata_cell_guid": "92a65b93-6585-4267-a0cd-fcff971021c9"
            },
            "outputs": [],
            "execution_count": null
        },
        {
            "cell_type": "code",
            "source": [
                "-- 11. DISPLAY THE EMPLOYEE SALARY GRADES AND NO. OF EMPLOYEES BETWEEN 2000 TO\r\n",
                "-- 5000 RANGE OF SALARY.\r\n",
                "\r\n",
                "SELECT * FROM EMPLOYEE WHERE Salary BETWEEN 2000 AND 5000"
            ],
            "metadata": {
                "language": "sql",
                "azdata_cell_guid": "63503364-1876-4ac3-b883-a0b12e5c27e6"
            },
            "outputs": [
                {
                    "output_type": "display_data",
                    "data": {
                        "text/html": "(3 rows affected)"
                    },
                    "metadata": {}
                },
                {
                    "output_type": "display_data",
                    "data": {
                        "text/html": "Total execution time: 00:00:00.003"
                    },
                    "metadata": {}
                },
                {
                    "output_type": "execute_result",
                    "metadata": {},
                    "execution_count": 4,
                    "data": {
                        "application/vnd.dataresource+json": {
                            "schema": {
                                "fields": [
                                    {
                                        "name": "Employee_ID"
                                    },
                                    {
                                        "name": "Last_Name"
                                    },
                                    {
                                        "name": "First_Name"
                                    },
                                    {
                                        "name": "Middle_Name"
                                    },
                                    {
                                        "name": "Job_ID"
                                    },
                                    {
                                        "name": "Manager_ID"
                                    },
                                    {
                                        "name": "Hire_Date"
                                    },
                                    {
                                        "name": "Salary"
                                    },
                                    {
                                        "name": "Comm"
                                    },
                                    {
                                        "name": "Department_ID"
                                    }
                                ]
                            },
                            "data": [
                                {
                                    "0": "7505",
                                    "1": "DOYLE",
                                    "2": "JEAN",
                                    "3": "K",
                                    "4": "671",
                                    "5": "7839",
                                    "6": "1985-04-04",
                                    "7": "2850.00",
                                    "8": "NULL",
                                    "9": "30"
                                },
                                {
                                    "0": "7506",
                                    "1": "DENNIS",
                                    "2": "LYNN",
                                    "3": "S",
                                    "4": "671",
                                    "5": "7839",
                                    "6": "1985-05-15",
                                    "7": "2750.00",
                                    "8": "NULL",
                                    "9": "30"
                                },
                                {
                                    "0": "7507",
                                    "1": "BAKER",
                                    "2": "LESLIE",
                                    "3": "D",
                                    "4": "671",
                                    "5": "7839",
                                    "6": "1985-06-10",
                                    "7": "2200.00",
                                    "8": "NULL",
                                    "9": "40"
                                }
                            ]
                        },
                        "text/html": [
                            "<table>",
                            "<tr><th>Employee_ID</th><th>Last_Name</th><th>First_Name</th><th>Middle_Name</th><th>Job_ID</th><th>Manager_ID</th><th>Hire_Date</th><th>Salary</th><th>Comm</th><th>Department_ID</th></tr>",
                            "<tr><td>7505</td><td>DOYLE</td><td>JEAN</td><td>K</td><td>671</td><td>7839</td><td>1985-04-04</td><td>2850.00</td><td>NULL</td><td>30</td></tr>",
                            "<tr><td>7506</td><td>DENNIS</td><td>LYNN</td><td>S</td><td>671</td><td>7839</td><td>1985-05-15</td><td>2750.00</td><td>NULL</td><td>30</td></tr>",
                            "<tr><td>7507</td><td>BAKER</td><td>LESLIE</td><td>D</td><td>671</td><td>7839</td><td>1985-06-10</td><td>2200.00</td><td>NULL</td><td>40</td></tr>",
                            "</table>"
                        ]
                    }
                }
            ],
            "execution_count": 4
        },
        {
            "cell_type": "code",
            "source": [
                "-- 12. DISPLAY THE EMPLOYEE DETAILS WITH THEIR MANAGER NAMES.\r\n",
                "\r\n",
                ""
            ],
            "metadata": {
                "language": "sql",
                "azdata_cell_guid": "c97ca80b-8b7d-4e40-a878-a74f54c77796"
            },
            "outputs": [],
            "execution_count": null
        },
        {
            "cell_type": "code",
            "source": [
                "-- 13. DISPLAY THE EMPLOYEE DETAILS WHO EARN MORE THAN THEIR MANAGERS SALARIES.\r\n",
                ""
            ],
            "metadata": {
                "language": "sql",
                "azdata_cell_guid": "56dc3f13-0346-4569-abad-732323d2c12b"
            },
            "outputs": [],
            "execution_count": null
        },
        {
            "cell_type": "code",
            "source": [
                "-- 14. SHOW THE NO. OF EMPLOYEES WORKING UNDER EVERY MANAGER.\r\n",
                "SELECT Manager_ID,COUNT(*) AS NO_OF_EMPLOYEES FROM EMPLOYEE GROUP BY Manager_ID"
            ],
            "metadata": {
                "language": "sql",
                "azdata_cell_guid": "e5a3f1b9-c33a-4f18-848d-cccbb1c44c01"
            },
            "outputs": [
                {
                    "output_type": "display_data",
                    "data": {
                        "text/html": "(3 rows affected)"
                    },
                    "metadata": {}
                },
                {
                    "output_type": "display_data",
                    "data": {
                        "text/html": "Total execution time: 00:00:00.007"
                    },
                    "metadata": {}
                },
                {
                    "output_type": "execute_result",
                    "metadata": {},
                    "execution_count": 5,
                    "data": {
                        "application/vnd.dataresource+json": {
                            "schema": {
                                "fields": [
                                    {
                                        "name": "Manager_ID"
                                    },
                                    {
                                        "name": "NO_OF_EMPLOYEES"
                                    }
                                ]
                            },
                            "data": [
                                {
                                    "0": "7698",
                                    "1": "2"
                                },
                                {
                                    "0": "7839",
                                    "1": "3"
                                },
                                {
                                    "0": "7902",
                                    "1": "1"
                                }
                            ]
                        },
                        "text/html": [
                            "<table>",
                            "<tr><th>Manager_ID</th><th>NO_OF_EMPLOYEES</th></tr>",
                            "<tr><td>7698</td><td>2</td></tr>",
                            "<tr><td>7839</td><td>3</td></tr>",
                            "<tr><td>7902</td><td>1</td></tr>",
                            "</table>"
                        ]
                    }
                }
            ],
            "execution_count": 5
        },
        {
            "cell_type": "code",
            "source": [
                "-- 15. DISPLAY EMPLOYEE DETAILS WITH THEIR MANAGER NAMES.\r\n",
                "-- SAME AS Q.12\r\n",
                ""
            ],
            "metadata": {
                "language": "sql",
                "azdata_cell_guid": "82d38a4a-5f96-435c-b560-aa4c30ff6da2"
            },
            "outputs": [],
            "execution_count": null
        },
        {
            "cell_type": "code",
            "source": [
                "-- 16. DISPLAY ALL EMPLOYEES IN SALES OR OPERATION DEPARTMENTS\r\n",
                "SELECT *\r\n",
                "FROM EMPLOYEE E LEFT JOIN DEPARTMENT D ON E.Department_ID=D.DEPARTMENT_ID\r\n",
                "WHERE D.NAME IN ('SALES','OPERATIONS')"
            ],
            "metadata": {
                "language": "sql",
                "azdata_cell_guid": "e9e6c2cb-0176-4629-85c3-450271fe9286"
            },
            "outputs": [
                {
                    "output_type": "display_data",
                    "data": {
                        "text/html": "(2 rows affected)"
                    },
                    "metadata": {}
                },
                {
                    "output_type": "display_data",
                    "data": {
                        "text/html": "Total execution time: 00:00:00.004"
                    },
                    "metadata": {}
                },
                {
                    "output_type": "execute_result",
                    "metadata": {},
                    "execution_count": 7,
                    "data": {
                        "application/vnd.dataresource+json": {
                            "schema": {
                                "fields": [
                                    {
                                        "name": "Employee_ID"
                                    },
                                    {
                                        "name": "Last_Name"
                                    },
                                    {
                                        "name": "First_Name"
                                    },
                                    {
                                        "name": "Middle_Name"
                                    },
                                    {
                                        "name": "Job_ID"
                                    },
                                    {
                                        "name": "Manager_ID"
                                    },
                                    {
                                        "name": "Hire_Date"
                                    },
                                    {
                                        "name": "Salary"
                                    },
                                    {
                                        "name": "Comm"
                                    },
                                    {
                                        "name": "Department_ID"
                                    },
                                    {
                                        "name": "DEPARTMENT_ID"
                                    },
                                    {
                                        "name": "NAME"
                                    },
                                    {
                                        "name": "LOCATION_ID"
                                    }
                                ]
                            },
                            "data": [
                                {
                                    "0": "7369",
                                    "1": "SMITH",
                                    "2": "JOHN",
                                    "3": "Q",
                                    "4": "667",
                                    "5": "7902",
                                    "6": "1984-12-17",
                                    "7": "800.00",
                                    "8": "NULL",
                                    "9": "20",
                                    "10": "20",
                                    "11": "Sales",
                                    "12": "124"
                                },
                                {
                                    "0": "7507",
                                    "1": "BAKER",
                                    "2": "LESLIE",
                                    "3": "D",
                                    "4": "671",
                                    "5": "7839",
                                    "6": "1985-06-10",
                                    "7": "2200.00",
                                    "8": "NULL",
                                    "9": "40",
                                    "10": "40",
                                    "11": "Operations",
                                    "12": "167"
                                }
                            ]
                        },
                        "text/html": [
                            "<table>",
                            "<tr><th>Employee_ID</th><th>Last_Name</th><th>First_Name</th><th>Middle_Name</th><th>Job_ID</th><th>Manager_ID</th><th>Hire_Date</th><th>Salary</th><th>Comm</th><th>Department_ID</th><th>DEPARTMENT_ID</th><th>NAME</th><th>LOCATION_ID</th></tr>",
                            "<tr><td>7369</td><td>SMITH</td><td>JOHN</td><td>Q</td><td>667</td><td>7902</td><td>1984-12-17</td><td>800.00</td><td>NULL</td><td>20</td><td>20</td><td>Sales</td><td>124</td></tr>",
                            "<tr><td>7507</td><td>BAKER</td><td>LESLIE</td><td>D</td><td>671</td><td>7839</td><td>1985-06-10</td><td>2200.00</td><td>NULL</td><td>40</td><td>40</td><td>Operations</td><td>167</td></tr>",
                            "</table>"
                        ]
                    }
                }
            ],
            "execution_count": 7
        },
        {
            "cell_type": "markdown",
            "source": [
                "# SET OPERATORS"
            ],
            "metadata": {
                "language": "sql",
                "azdata_cell_guid": "3ecc876d-6751-4e04-86da-4fc41f0dbb64"
            },
            "attachments": {}
        },
        {
            "cell_type": "code",
            "source": [
                "-- 1. LIST OUT THE DISTINCT JOBS IN SALES AND ACCOUNTING DEPARTMENTS.\r\n",
                "SELECT distinct *\r\n",
                "FROM EMPLOYEE E LEFT JOIN DEPARTMENT D ON E.Department_ID=D.DEPARTMENT_ID LEFT JOIN JOB J ON E.Job_ID=J.JOB_ID\r\n",
                "WHERE D.NAME IN ('SALES','ACCOUNTING')"
            ],
            "metadata": {
                "language": "sql",
                "azdata_cell_guid": "e6c1be64-f695-4197-a0d8-f90b652ae9e0"
            },
            "outputs": [
                {
                    "output_type": "display_data",
                    "data": {
                        "text/html": "(1 row affected)"
                    },
                    "metadata": {}
                },
                {
                    "output_type": "display_data",
                    "data": {
                        "text/html": "Total execution time: 00:00:00.006"
                    },
                    "metadata": {}
                },
                {
                    "output_type": "execute_result",
                    "metadata": {},
                    "execution_count": 10,
                    "data": {
                        "application/vnd.dataresource+json": {
                            "schema": {
                                "fields": [
                                    {
                                        "name": "Employee_ID"
                                    },
                                    {
                                        "name": "Last_Name"
                                    },
                                    {
                                        "name": "First_Name"
                                    },
                                    {
                                        "name": "Middle_Name"
                                    },
                                    {
                                        "name": "Job_ID"
                                    },
                                    {
                                        "name": "Manager_ID"
                                    },
                                    {
                                        "name": "Hire_Date"
                                    },
                                    {
                                        "name": "Salary"
                                    },
                                    {
                                        "name": "Comm"
                                    },
                                    {
                                        "name": "Department_ID"
                                    },
                                    {
                                        "name": "DEPARTMENT_ID"
                                    },
                                    {
                                        "name": "NAME"
                                    },
                                    {
                                        "name": "LOCATION_ID"
                                    },
                                    {
                                        "name": "JOB_ID"
                                    },
                                    {
                                        "name": "DESIGNATION"
                                    }
                                ]
                            },
                            "data": [
                                {
                                    "0": "7369",
                                    "1": "SMITH",
                                    "2": "JOHN",
                                    "3": "Q",
                                    "4": "667",
                                    "5": "7902",
                                    "6": "1984-12-17",
                                    "7": "800.00",
                                    "8": "NULL",
                                    "9": "20",
                                    "10": "20",
                                    "11": "Sales",
                                    "12": "124",
                                    "13": "667",
                                    "14": "Clerk"
                                }
                            ]
                        },
                        "text/html": [
                            "<table>",
                            "<tr><th>Employee_ID</th><th>Last_Name</th><th>First_Name</th><th>Middle_Name</th><th>Job_ID</th><th>Manager_ID</th><th>Hire_Date</th><th>Salary</th><th>Comm</th><th>Department_ID</th><th>DEPARTMENT_ID</th><th>NAME</th><th>LOCATION_ID</th><th>JOB_ID</th><th>DESIGNATION</th></tr>",
                            "<tr><td>7369</td><td>SMITH</td><td>JOHN</td><td>Q</td><td>667</td><td>7902</td><td>1984-12-17</td><td>800.00</td><td>NULL</td><td>20</td><td>20</td><td>Sales</td><td>124</td><td>667</td><td>Clerk</td></tr>",
                            "</table>"
                        ]
                    }
                }
            ],
            "execution_count": 10
        },
        {
            "cell_type": "code",
            "source": [
                "-- 2. LIST OUT ALL THE JOBS IN SALES AND ACCOUNTING DEPARTMENTS.\r\n",
                "SELECT *\r\n",
                "FROM EMPLOYEE E LEFT JOIN DEPARTMENT D ON E.Department_ID=D.DEPARTMENT_ID\r\n",
                "WHERE D.NAME IN ('SALES','ACCOUNTING')"
            ],
            "metadata": {
                "language": "sql",
                "azdata_cell_guid": "92a3c3fb-248c-4704-9fa7-d2eca739e978"
            },
            "outputs": [
                {
                    "output_type": "display_data",
                    "data": {
                        "text/html": "(1 row affected)"
                    },
                    "metadata": {}
                },
                {
                    "output_type": "display_data",
                    "data": {
                        "text/html": "Total execution time: 00:00:00.003"
                    },
                    "metadata": {}
                },
                {
                    "output_type": "execute_result",
                    "metadata": {},
                    "execution_count": 11,
                    "data": {
                        "application/vnd.dataresource+json": {
                            "schema": {
                                "fields": [
                                    {
                                        "name": "Employee_ID"
                                    },
                                    {
                                        "name": "Last_Name"
                                    },
                                    {
                                        "name": "First_Name"
                                    },
                                    {
                                        "name": "Middle_Name"
                                    },
                                    {
                                        "name": "Job_ID"
                                    },
                                    {
                                        "name": "Manager_ID"
                                    },
                                    {
                                        "name": "Hire_Date"
                                    },
                                    {
                                        "name": "Salary"
                                    },
                                    {
                                        "name": "Comm"
                                    },
                                    {
                                        "name": "Department_ID"
                                    },
                                    {
                                        "name": "DEPARTMENT_ID"
                                    },
                                    {
                                        "name": "NAME"
                                    },
                                    {
                                        "name": "LOCATION_ID"
                                    }
                                ]
                            },
                            "data": [
                                {
                                    "0": "7369",
                                    "1": "SMITH",
                                    "2": "JOHN",
                                    "3": "Q",
                                    "4": "667",
                                    "5": "7902",
                                    "6": "1984-12-17",
                                    "7": "800.00",
                                    "8": "NULL",
                                    "9": "20",
                                    "10": "20",
                                    "11": "Sales",
                                    "12": "124"
                                }
                            ]
                        },
                        "text/html": [
                            "<table>",
                            "<tr><th>Employee_ID</th><th>Last_Name</th><th>First_Name</th><th>Middle_Name</th><th>Job_ID</th><th>Manager_ID</th><th>Hire_Date</th><th>Salary</th><th>Comm</th><th>Department_ID</th><th>DEPARTMENT_ID</th><th>NAME</th><th>LOCATION_ID</th></tr>",
                            "<tr><td>7369</td><td>SMITH</td><td>JOHN</td><td>Q</td><td>667</td><td>7902</td><td>1984-12-17</td><td>800.00</td><td>NULL</td><td>20</td><td>20</td><td>Sales</td><td>124</td></tr>",
                            "</table>"
                        ]
                    }
                }
            ],
            "execution_count": 11
        },
        {
            "cell_type": "code",
            "source": [
                "-- 3. LIST OUT THE COMMON JOBS IN RESEARCH AND ACCOUNTING DEPARTMENTS IN \r\n",
                "--  ASCENDING ORDER\r\n",
                "SELECT *\r\n",
                "FROM EMPLOYEE E LEFT JOIN DEPARTMENT D ON E.Department_ID = D.DEPARTMENT_ID\r\n",
                "WHERE D.NAME='RESEARCH' AND D.NAME='ACCOUNTING'"
            ],
            "metadata": {
                "language": "sql",
                "azdata_cell_guid": "32c2d782-2e9f-41de-88ca-93fc03321553"
            },
            "outputs": [
                {
                    "output_type": "display_data",
                    "data": {
                        "text/html": "(0 rows affected)"
                    },
                    "metadata": {}
                },
                {
                    "output_type": "display_data",
                    "data": {
                        "text/html": "Total execution time: 00:00:00.002"
                    },
                    "metadata": {}
                },
                {
                    "output_type": "execute_result",
                    "metadata": {},
                    "execution_count": 12,
                    "data": {
                        "application/vnd.dataresource+json": {
                            "schema": {
                                "fields": [
                                    {
                                        "name": "Employee_ID"
                                    },
                                    {
                                        "name": "Last_Name"
                                    },
                                    {
                                        "name": "First_Name"
                                    },
                                    {
                                        "name": "Middle_Name"
                                    },
                                    {
                                        "name": "Job_ID"
                                    },
                                    {
                                        "name": "Manager_ID"
                                    },
                                    {
                                        "name": "Hire_Date"
                                    },
                                    {
                                        "name": "Salary"
                                    },
                                    {
                                        "name": "Comm"
                                    },
                                    {
                                        "name": "Department_ID"
                                    },
                                    {
                                        "name": "DEPARTMENT_ID"
                                    },
                                    {
                                        "name": "NAME"
                                    },
                                    {
                                        "name": "LOCATION_ID"
                                    }
                                ]
                            },
                            "data": []
                        },
                        "text/html": [
                            "<table>",
                            "<tr><th>Employee_ID</th><th>Last_Name</th><th>First_Name</th><th>Middle_Name</th><th>Job_ID</th><th>Manager_ID</th><th>Hire_Date</th><th>Salary</th><th>Comm</th><th>Department_ID</th><th>DEPARTMENT_ID</th><th>NAME</th><th>LOCATION_ID</th></tr>",
                            "</table>"
                        ]
                    }
                }
            ],
            "execution_count": 12
        },
        {
            "cell_type": "markdown",
            "source": [
                "# SUB QUERIES"
            ],
            "metadata": {
                "language": "sql",
                "azdata_cell_guid": "a8ea7122-4fbd-48c5-b8d1-a38679e86039"
            },
            "attachments": {}
        },
        {
            "cell_type": "code",
            "source": [
                "-- 1. DISPLAY THE EMPLOYEES LIST WHO GOT THE MAXIMUM SALARY.\r\n",
                "SELECT *\r\n",
                "FROM EMPLOYEE\r\n",
                "WHERE Salary = (SELECT MAX(Salary)\r\n",
                "FROM EMPLOYEE)"
            ],
            "metadata": {
                "language": "sql",
                "azdata_cell_guid": "cce4ba02-af19-4ba2-ba30-172021239ffb"
            },
            "outputs": [
                {
                    "output_type": "display_data",
                    "data": {
                        "text/html": "(1 row affected)"
                    },
                    "metadata": {}
                },
                {
                    "output_type": "display_data",
                    "data": {
                        "text/html": "Total execution time: 00:00:00.003"
                    },
                    "metadata": {}
                },
                {
                    "output_type": "execute_result",
                    "metadata": {},
                    "execution_count": 13,
                    "data": {
                        "application/vnd.dataresource+json": {
                            "schema": {
                                "fields": [
                                    {
                                        "name": "Employee_ID"
                                    },
                                    {
                                        "name": "Last_Name"
                                    },
                                    {
                                        "name": "First_Name"
                                    },
                                    {
                                        "name": "Middle_Name"
                                    },
                                    {
                                        "name": "Job_ID"
                                    },
                                    {
                                        "name": "Manager_ID"
                                    },
                                    {
                                        "name": "Hire_Date"
                                    },
                                    {
                                        "name": "Salary"
                                    },
                                    {
                                        "name": "Comm"
                                    },
                                    {
                                        "name": "Department_ID"
                                    }
                                ]
                            },
                            "data": [
                                {
                                    "0": "7505",
                                    "1": "DOYLE",
                                    "2": "JEAN",
                                    "3": "K",
                                    "4": "671",
                                    "5": "7839",
                                    "6": "1985-04-04",
                                    "7": "2850.00",
                                    "8": "NULL",
                                    "9": "30"
                                }
                            ]
                        },
                        "text/html": [
                            "<table>",
                            "<tr><th>Employee_ID</th><th>Last_Name</th><th>First_Name</th><th>Middle_Name</th><th>Job_ID</th><th>Manager_ID</th><th>Hire_Date</th><th>Salary</th><th>Comm</th><th>Department_ID</th></tr>",
                            "<tr><td>7505</td><td>DOYLE</td><td>JEAN</td><td>K</td><td>671</td><td>7839</td><td>1985-04-04</td><td>2850.00</td><td>NULL</td><td>30</td></tr>",
                            "</table>"
                        ]
                    }
                }
            ],
            "execution_count": 13
        },
        {
            "cell_type": "code",
            "source": [
                "-- 2. DISPLAY THE EMPLOYEES WHO ARE WORKING IN SALES DEPARTMENT.\r\n",
                "SELECT *\r\n",
                "FROM EMPLOYEE E LEFT JOIN DEPARTMENT D ON E.Department_ID=D.DEPARTMENT_ID\r\n",
                "WHERE D.NAME='SALES'"
            ],
            "metadata": {
                "language": "sql",
                "azdata_cell_guid": "8cd6e31d-8d90-482f-8c2b-1ed0db5b220f"
            },
            "outputs": [
                {
                    "output_type": "display_data",
                    "data": {
                        "text/html": "(1 row affected)"
                    },
                    "metadata": {}
                },
                {
                    "output_type": "display_data",
                    "data": {
                        "text/html": "Total execution time: 00:00:00.003"
                    },
                    "metadata": {}
                },
                {
                    "output_type": "execute_result",
                    "metadata": {},
                    "execution_count": 14,
                    "data": {
                        "application/vnd.dataresource+json": {
                            "schema": {
                                "fields": [
                                    {
                                        "name": "Employee_ID"
                                    },
                                    {
                                        "name": "Last_Name"
                                    },
                                    {
                                        "name": "First_Name"
                                    },
                                    {
                                        "name": "Middle_Name"
                                    },
                                    {
                                        "name": "Job_ID"
                                    },
                                    {
                                        "name": "Manager_ID"
                                    },
                                    {
                                        "name": "Hire_Date"
                                    },
                                    {
                                        "name": "Salary"
                                    },
                                    {
                                        "name": "Comm"
                                    },
                                    {
                                        "name": "Department_ID"
                                    },
                                    {
                                        "name": "DEPARTMENT_ID"
                                    },
                                    {
                                        "name": "NAME"
                                    },
                                    {
                                        "name": "LOCATION_ID"
                                    }
                                ]
                            },
                            "data": [
                                {
                                    "0": "7369",
                                    "1": "SMITH",
                                    "2": "JOHN",
                                    "3": "Q",
                                    "4": "667",
                                    "5": "7902",
                                    "6": "1984-12-17",
                                    "7": "800.00",
                                    "8": "NULL",
                                    "9": "20",
                                    "10": "20",
                                    "11": "Sales",
                                    "12": "124"
                                }
                            ]
                        },
                        "text/html": [
                            "<table>",
                            "<tr><th>Employee_ID</th><th>Last_Name</th><th>First_Name</th><th>Middle_Name</th><th>Job_ID</th><th>Manager_ID</th><th>Hire_Date</th><th>Salary</th><th>Comm</th><th>Department_ID</th><th>DEPARTMENT_ID</th><th>NAME</th><th>LOCATION_ID</th></tr>",
                            "<tr><td>7369</td><td>SMITH</td><td>JOHN</td><td>Q</td><td>667</td><td>7902</td><td>1984-12-17</td><td>800.00</td><td>NULL</td><td>20</td><td>20</td><td>Sales</td><td>124</td></tr>",
                            "</table>"
                        ]
                    }
                }
            ],
            "execution_count": 14
        },
        {
            "cell_type": "code",
            "source": [
                "-- 3. DISPLAY THE EMPLOYEES WHO ARE WORKING AS 'CLERCK'.\r\n",
                "SELECT *\r\n",
                "FROM EMPLOYEE E JOIN JOB J ON E.Job_ID=J.JOB_ID\r\n",
                "WHERE DESIGNATION='CLERK'"
            ],
            "metadata": {
                "language": "sql",
                "azdata_cell_guid": "ea25fb13-c540-453d-a90a-e196381d7a8c"
            },
            "outputs": [
                {
                    "output_type": "display_data",
                    "data": {
                        "text/html": "(1 row affected)"
                    },
                    "metadata": {}
                },
                {
                    "output_type": "display_data",
                    "data": {
                        "text/html": "Total execution time: 00:00:00.005"
                    },
                    "metadata": {}
                },
                {
                    "output_type": "execute_result",
                    "metadata": {},
                    "execution_count": 15,
                    "data": {
                        "application/vnd.dataresource+json": {
                            "schema": {
                                "fields": [
                                    {
                                        "name": "Employee_ID"
                                    },
                                    {
                                        "name": "Last_Name"
                                    },
                                    {
                                        "name": "First_Name"
                                    },
                                    {
                                        "name": "Middle_Name"
                                    },
                                    {
                                        "name": "Job_ID"
                                    },
                                    {
                                        "name": "Manager_ID"
                                    },
                                    {
                                        "name": "Hire_Date"
                                    },
                                    {
                                        "name": "Salary"
                                    },
                                    {
                                        "name": "Comm"
                                    },
                                    {
                                        "name": "Department_ID"
                                    },
                                    {
                                        "name": "JOB_ID"
                                    },
                                    {
                                        "name": "DESIGNATION"
                                    }
                                ]
                            },
                            "data": [
                                {
                                    "0": "7369",
                                    "1": "SMITH",
                                    "2": "JOHN",
                                    "3": "Q",
                                    "4": "667",
                                    "5": "7902",
                                    "6": "1984-12-17",
                                    "7": "800.00",
                                    "8": "NULL",
                                    "9": "20",
                                    "10": "667",
                                    "11": "Clerk"
                                }
                            ]
                        },
                        "text/html": [
                            "<table>",
                            "<tr><th>Employee_ID</th><th>Last_Name</th><th>First_Name</th><th>Middle_Name</th><th>Job_ID</th><th>Manager_ID</th><th>Hire_Date</th><th>Salary</th><th>Comm</th><th>Department_ID</th><th>JOB_ID</th><th>DESIGNATION</th></tr>",
                            "<tr><td>7369</td><td>SMITH</td><td>JOHN</td><td>Q</td><td>667</td><td>7902</td><td>1984-12-17</td><td>800.00</td><td>NULL</td><td>20</td><td>667</td><td>Clerk</td></tr>",
                            "</table>"
                        ]
                    }
                }
            ],
            "execution_count": 15
        },
        {
            "cell_type": "code",
            "source": [
                "-- 4. DISPLAY THE LIST OF EMPLOYEES WHO ARE LIVING IN \"NEW YORK\".\r\n",
                "SELECT *\r\n",
                "FROM EMPLOYEE E \r\n",
                "LEFT JOIN DEPARTMENT D ON E.Department_ID=D.DEPARTMENT_ID \r\n",
                "LEFT JOIN [LOCATION] L ON D.LOCATION_ID=L.LOCATION_ID\r\n",
                "WHERE CITY='NEW YORK'"
            ],
            "metadata": {
                "language": "sql",
                "azdata_cell_guid": "a778ed9b-c5cd-47a7-b84c-caf3c0353574"
            },
            "outputs": [
                {
                    "output_type": "display_data",
                    "data": {
                        "text/html": "(0 rows affected)"
                    },
                    "metadata": {}
                },
                {
                    "output_type": "display_data",
                    "data": {
                        "text/html": "Total execution time: 00:00:00.004"
                    },
                    "metadata": {}
                },
                {
                    "output_type": "execute_result",
                    "metadata": {},
                    "execution_count": 16,
                    "data": {
                        "application/vnd.dataresource+json": {
                            "schema": {
                                "fields": [
                                    {
                                        "name": "Employee_ID"
                                    },
                                    {
                                        "name": "Last_Name"
                                    },
                                    {
                                        "name": "First_Name"
                                    },
                                    {
                                        "name": "Middle_Name"
                                    },
                                    {
                                        "name": "Job_ID"
                                    },
                                    {
                                        "name": "Manager_ID"
                                    },
                                    {
                                        "name": "Hire_Date"
                                    },
                                    {
                                        "name": "Salary"
                                    },
                                    {
                                        "name": "Comm"
                                    },
                                    {
                                        "name": "Department_ID"
                                    },
                                    {
                                        "name": "DEPARTMENT_ID"
                                    },
                                    {
                                        "name": "NAME"
                                    },
                                    {
                                        "name": "LOCATION_ID"
                                    },
                                    {
                                        "name": "LOCATION_ID"
                                    },
                                    {
                                        "name": "CITY"
                                    }
                                ]
                            },
                            "data": []
                        },
                        "text/html": [
                            "<table>",
                            "<tr><th>Employee_ID</th><th>Last_Name</th><th>First_Name</th><th>Middle_Name</th><th>Job_ID</th><th>Manager_ID</th><th>Hire_Date</th><th>Salary</th><th>Comm</th><th>Department_ID</th><th>DEPARTMENT_ID</th><th>NAME</th><th>LOCATION_ID</th><th>LOCATION_ID</th><th>CITY</th></tr>",
                            "</table>"
                        ]
                    }
                }
            ],
            "execution_count": 16
        },
        {
            "cell_type": "code",
            "source": [
                "-- 5. FIND OUT NO. OF EMPLOYEES WORKING IN \"SALES\" DEPARTMENT.\r\n",
                "SELECT COUNT(*) AS NO_OF_EMPLOYEES_IN_SALES\r\n",
                "FROM EMPLOYEE E JOIN DEPARTMENT D ON E.Department_ID=D.DEPARTMENT_ID\r\n",
                "WHERE D.NAME='SALES'"
            ],
            "metadata": {
                "language": "sql",
                "azdata_cell_guid": "8013e6a5-f535-42f4-9583-c952f5ef1c69"
            },
            "outputs": [
                {
                    "output_type": "display_data",
                    "data": {
                        "text/html": "(1 row affected)"
                    },
                    "metadata": {}
                },
                {
                    "output_type": "display_data",
                    "data": {
                        "text/html": "Total execution time: 00:00:00.003"
                    },
                    "metadata": {}
                },
                {
                    "output_type": "execute_result",
                    "metadata": {},
                    "execution_count": 17,
                    "data": {
                        "application/vnd.dataresource+json": {
                            "schema": {
                                "fields": [
                                    {
                                        "name": "NO_OF_EMPLOYEES_IN_SALES"
                                    }
                                ]
                            },
                            "data": [
                                {
                                    "0": "1"
                                }
                            ]
                        },
                        "text/html": [
                            "<table>",
                            "<tr><th>NO_OF_EMPLOYEES_IN_SALES</th></tr>",
                            "<tr><td>1</td></tr>",
                            "</table>"
                        ]
                    }
                }
            ],
            "execution_count": 17
        },
        {
            "cell_type": "code",
            "source": [
                "-- 6. UPDATE THE EMPLOYEES SALARIES, WHO ARE WORKING AS CLERK ON THE BASIS OF 10%.\r\n",
                "UPDATE EMPLOYEE\r\n",
                "SET Salary=(Salary+Salary*0.10)\r\n",
                "FROM EMPLOYEE E\r\n",
                "JOIN JOB J ON E.Job_ID=J.JOB_ID\r\n",
                "WHERE DESIGNATION='CLERK'"
            ],
            "metadata": {
                "language": "sql",
                "azdata_cell_guid": "37cc1a95-838a-4264-b97d-49b2729c94d5"
            },
            "outputs": [
                {
                    "output_type": "display_data",
                    "data": {
                        "text/html": "(1 row affected)"
                    },
                    "metadata": {}
                },
                {
                    "output_type": "display_data",
                    "data": {
                        "text/html": "Total execution time: 00:00:00.006"
                    },
                    "metadata": {}
                }
            ],
            "execution_count": 18
        },
        {
            "cell_type": "code",
            "source": [
                "-- 7. DELETE THE EMPLOYEES WHO ARE WORKING IN ACCOUNTING DEPARTMENT.\r\n",
                "DELETE EMPLOYEE FROM EMPLOYEE E\r\n",
                "JOIN DEPARTMENT D\r\n",
                "ON E.Department_ID=D.DEPARTMENT_ID\r\n",
                "WHERE D.NAME='ACCOUNTING'"
            ],
            "metadata": {
                "language": "sql",
                "azdata_cell_guid": "fc789f71-ef25-422b-ba26-ae08f4ab238a"
            },
            "outputs": [
                {
                    "output_type": "display_data",
                    "data": {
                        "text/html": "(0 rows affected)"
                    },
                    "metadata": {}
                },
                {
                    "output_type": "display_data",
                    "data": {
                        "text/html": "Total execution time: 00:00:00.005"
                    },
                    "metadata": {}
                }
            ],
            "execution_count": 20
        },
        {
            "cell_type": "code",
            "source": [
                "-- 8. DISPLAY THE SECOND HIGHEST SALARY DRAWING EMPLOYEE DETAILS.\r\n",
                "-- SELECT *\r\n",
                "-- FROM EMPLOYEE\r\n",
                "-- ORDER BY Salary DESC OFFSET 1 ROWS FETCH NEXT 1 ROWS ONLY\r\n",
                "SELECT *\r\n",
                "FROM (SELECT *, DENSE_RANK()OVER(ORDER BY SALARY DESC) AS RANK\r\n",
                "    FROM EMPLOYEE) A\r\n",
                "WHERE RANK=2"
            ],
            "metadata": {
                "language": "sql",
                "azdata_cell_guid": "b624c1dd-c073-45ab-82fb-e5d3534d24be"
            },
            "outputs": [
                {
                    "output_type": "display_data",
                    "data": {
                        "text/html": "(1 row affected)"
                    },
                    "metadata": {}
                },
                {
                    "output_type": "display_data",
                    "data": {
                        "text/html": "Total execution time: 00:00:00.004"
                    },
                    "metadata": {}
                },
                {
                    "output_type": "execute_result",
                    "metadata": {},
                    "execution_count": 27,
                    "data": {
                        "application/vnd.dataresource+json": {
                            "schema": {
                                "fields": [
                                    {
                                        "name": "Employee_ID"
                                    },
                                    {
                                        "name": "Last_Name"
                                    },
                                    {
                                        "name": "First_Name"
                                    },
                                    {
                                        "name": "Middle_Name"
                                    },
                                    {
                                        "name": "Job_ID"
                                    },
                                    {
                                        "name": "Manager_ID"
                                    },
                                    {
                                        "name": "Hire_Date"
                                    },
                                    {
                                        "name": "Salary"
                                    },
                                    {
                                        "name": "Comm"
                                    },
                                    {
                                        "name": "Department_ID"
                                    },
                                    {
                                        "name": "RANK"
                                    }
                                ]
                            },
                            "data": [
                                {
                                    "0": "7506",
                                    "1": "DENNIS",
                                    "2": "LYNN",
                                    "3": "S",
                                    "4": "671",
                                    "5": "7839",
                                    "6": "1985-05-15",
                                    "7": "2750.00",
                                    "8": "NULL",
                                    "9": "30",
                                    "10": "2"
                                }
                            ]
                        },
                        "text/html": [
                            "<table>",
                            "<tr><th>Employee_ID</th><th>Last_Name</th><th>First_Name</th><th>Middle_Name</th><th>Job_ID</th><th>Manager_ID</th><th>Hire_Date</th><th>Salary</th><th>Comm</th><th>Department_ID</th><th>RANK</th></tr>",
                            "<tr><td>7506</td><td>DENNIS</td><td>LYNN</td><td>S</td><td>671</td><td>7839</td><td>1985-05-15</td><td>2750.00</td><td>NULL</td><td>30</td><td>2</td></tr>",
                            "</table>"
                        ]
                    }
                }
            ],
            "execution_count": 27
        },
        {
            "cell_type": "code",
            "source": [
                "-- 9. DISPLAY THE N'TH HIGHEST SALARY DRAWING EMPLOYEE DETAILS.\r\n",
                "SELECT TOP 1 * FROM EMPLOYEE ORDER BY Salary"
            ],
            "metadata": {
                "language": "sql",
                "azdata_cell_guid": "d4b13920-1452-46fa-9ca6-b82386a02067"
            },
            "outputs": [
                {
                    "output_type": "display_data",
                    "data": {
                        "text/html": "(1 row affected)"
                    },
                    "metadata": {}
                },
                {
                    "output_type": "display_data",
                    "data": {
                        "text/html": "Total execution time: 00:00:00.002"
                    },
                    "metadata": {}
                },
                {
                    "output_type": "execute_result",
                    "metadata": {},
                    "execution_count": 28,
                    "data": {
                        "application/vnd.dataresource+json": {
                            "schema": {
                                "fields": [
                                    {
                                        "name": "Employee_ID"
                                    },
                                    {
                                        "name": "Last_Name"
                                    },
                                    {
                                        "name": "First_Name"
                                    },
                                    {
                                        "name": "Middle_Name"
                                    },
                                    {
                                        "name": "Job_ID"
                                    },
                                    {
                                        "name": "Manager_ID"
                                    },
                                    {
                                        "name": "Hire_Date"
                                    },
                                    {
                                        "name": "Salary"
                                    },
                                    {
                                        "name": "Comm"
                                    },
                                    {
                                        "name": "Department_ID"
                                    }
                                ]
                            },
                            "data": [
                                {
                                    "0": "7369",
                                    "1": "SMITH",
                                    "2": "JOHN",
                                    "3": "Q",
                                    "4": "667",
                                    "5": "7902",
                                    "6": "1984-12-17",
                                    "7": "880.00",
                                    "8": "NULL",
                                    "9": "20"
                                }
                            ]
                        },
                        "text/html": [
                            "<table>",
                            "<tr><th>Employee_ID</th><th>Last_Name</th><th>First_Name</th><th>Middle_Name</th><th>Job_ID</th><th>Manager_ID</th><th>Hire_Date</th><th>Salary</th><th>Comm</th><th>Department_ID</th></tr>",
                            "<tr><td>7369</td><td>SMITH</td><td>JOHN</td><td>Q</td><td>667</td><td>7902</td><td>1984-12-17</td><td>880.00</td><td>NULL</td><td>20</td></tr>",
                            "</table>"
                        ]
                    }
                }
            ],
            "execution_count": 28
        },
        {
            "cell_type": "code",
            "source": [
                "-- 10. LIST OUT THE EMPLOYEES WHO EARN MORE THAN EVERY EMPLOYEE IN DEPARTMENT 30.\r\n",
                "SELECT TOP 1 * FROM EMPLOYEE E WHERE Department_ID=30 ORDER BY Salary DESC"
            ],
            "metadata": {
                "language": "sql",
                "azdata_cell_guid": "21f6c222-f623-43b6-992d-19152097602b"
            },
            "outputs": [
                {
                    "output_type": "display_data",
                    "data": {
                        "text/html": "(1 row affected)"
                    },
                    "metadata": {}
                },
                {
                    "output_type": "display_data",
                    "data": {
                        "text/html": "Total execution time: 00:00:00.003"
                    },
                    "metadata": {}
                },
                {
                    "output_type": "execute_result",
                    "metadata": {},
                    "execution_count": 29,
                    "data": {
                        "application/vnd.dataresource+json": {
                            "schema": {
                                "fields": [
                                    {
                                        "name": "Employee_ID"
                                    },
                                    {
                                        "name": "Last_Name"
                                    },
                                    {
                                        "name": "First_Name"
                                    },
                                    {
                                        "name": "Middle_Name"
                                    },
                                    {
                                        "name": "Job_ID"
                                    },
                                    {
                                        "name": "Manager_ID"
                                    },
                                    {
                                        "name": "Hire_Date"
                                    },
                                    {
                                        "name": "Salary"
                                    },
                                    {
                                        "name": "Comm"
                                    },
                                    {
                                        "name": "Department_ID"
                                    }
                                ]
                            },
                            "data": [
                                {
                                    "0": "7505",
                                    "1": "DOYLE",
                                    "2": "JEAN",
                                    "3": "K",
                                    "4": "671",
                                    "5": "7839",
                                    "6": "1985-04-04",
                                    "7": "2850.00",
                                    "8": "NULL",
                                    "9": "30"
                                }
                            ]
                        },
                        "text/html": [
                            "<table>",
                            "<tr><th>Employee_ID</th><th>Last_Name</th><th>First_Name</th><th>Middle_Name</th><th>Job_ID</th><th>Manager_ID</th><th>Hire_Date</th><th>Salary</th><th>Comm</th><th>Department_ID</th></tr>",
                            "<tr><td>7505</td><td>DOYLE</td><td>JEAN</td><td>K</td><td>671</td><td>7839</td><td>1985-04-04</td><td>2850.00</td><td>NULL</td><td>30</td></tr>",
                            "</table>"
                        ]
                    }
                }
            ],
            "execution_count": 29
        },
        {
            "cell_type": "code",
            "source": [
                "-- 11. LIST OUT THE EMPLOYEES WHO EARN MORE THAN THE LOWEST SALARY IN DEPARTMENT 30.\r\n",
                "SELECT *\r\n",
                "FROM EMPLOYEE\r\n",
                "WHERE Department_ID=30 AND Salary> (SELECT MIN(Salary)\r\n",
                "    FROM EMPLOYEE\r\n",
                "    WHERE Department_ID=30)"
            ],
            "metadata": {
                "language": "sql",
                "azdata_cell_guid": "6b8f262b-da17-4b88-bf71-196394fcef99"
            },
            "outputs": [
                {
                    "output_type": "display_data",
                    "data": {
                        "text/html": "(3 rows affected)"
                    },
                    "metadata": {}
                },
                {
                    "output_type": "display_data",
                    "data": {
                        "text/html": "Total execution time: 00:00:00.004"
                    },
                    "metadata": {}
                },
                {
                    "output_type": "execute_result",
                    "metadata": {},
                    "execution_count": 30,
                    "data": {
                        "application/vnd.dataresource+json": {
                            "schema": {
                                "fields": [
                                    {
                                        "name": "Employee_ID"
                                    },
                                    {
                                        "name": "Last_Name"
                                    },
                                    {
                                        "name": "First_Name"
                                    },
                                    {
                                        "name": "Middle_Name"
                                    },
                                    {
                                        "name": "Job_ID"
                                    },
                                    {
                                        "name": "Manager_ID"
                                    },
                                    {
                                        "name": "Hire_Date"
                                    },
                                    {
                                        "name": "Salary"
                                    },
                                    {
                                        "name": "Comm"
                                    },
                                    {
                                        "name": "Department_ID"
                                    }
                                ]
                            },
                            "data": [
                                {
                                    "0": "7499",
                                    "1": "ALLEN",
                                    "2": "KEVIN",
                                    "3": "J",
                                    "4": "670",
                                    "5": "7698",
                                    "6": "1985-02-20",
                                    "7": "1600.00",
                                    "8": "300",
                                    "9": "30"
                                },
                                {
                                    "0": "7505",
                                    "1": "DOYLE",
                                    "2": "JEAN",
                                    "3": "K",
                                    "4": "671",
                                    "5": "7839",
                                    "6": "1985-04-04",
                                    "7": "2850.00",
                                    "8": "NULL",
                                    "9": "30"
                                },
                                {
                                    "0": "7506",
                                    "1": "DENNIS",
                                    "2": "LYNN",
                                    "3": "S",
                                    "4": "671",
                                    "5": "7839",
                                    "6": "1985-05-15",
                                    "7": "2750.00",
                                    "8": "NULL",
                                    "9": "30"
                                }
                            ]
                        },
                        "text/html": [
                            "<table>",
                            "<tr><th>Employee_ID</th><th>Last_Name</th><th>First_Name</th><th>Middle_Name</th><th>Job_ID</th><th>Manager_ID</th><th>Hire_Date</th><th>Salary</th><th>Comm</th><th>Department_ID</th></tr>",
                            "<tr><td>7499</td><td>ALLEN</td><td>KEVIN</td><td>J</td><td>670</td><td>7698</td><td>1985-02-20</td><td>1600.00</td><td>300</td><td>30</td></tr>",
                            "<tr><td>7505</td><td>DOYLE</td><td>JEAN</td><td>K</td><td>671</td><td>7839</td><td>1985-04-04</td><td>2850.00</td><td>NULL</td><td>30</td></tr>",
                            "<tr><td>7506</td><td>DENNIS</td><td>LYNN</td><td>S</td><td>671</td><td>7839</td><td>1985-05-15</td><td>2750.00</td><td>NULL</td><td>30</td></tr>",
                            "</table>"
                        ]
                    }
                }
            ],
            "execution_count": 30
        },
        {
            "cell_type": "code",
            "source": [
                "-- 12. FIND OUT WHOSE DEPARTMENT HAS NOT EMPLOYEES.\r\n",
                "SELECT D.NAME\r\n",
                "FROM DEPARTMENT D LEFT JOIN EMPLOYEE E ON D.Department_ID=E.DEPARTMENT_ID\r\n",
                "WHERE Employee_ID IS NULL"
            ],
            "metadata": {
                "language": "sql",
                "azdata_cell_guid": "9f012bbf-ac11-4374-bdd9-535d93d8b7a9"
            },
            "outputs": [
                {
                    "output_type": "display_data",
                    "data": {
                        "text/html": "(1 row affected)"
                    },
                    "metadata": {}
                },
                {
                    "output_type": "display_data",
                    "data": {
                        "text/html": "Total execution time: 00:00:00.003"
                    },
                    "metadata": {}
                },
                {
                    "output_type": "execute_result",
                    "metadata": {},
                    "execution_count": 41,
                    "data": {
                        "application/vnd.dataresource+json": {
                            "schema": {
                                "fields": [
                                    {
                                        "name": "NAME"
                                    }
                                ]
                            },
                            "data": [
                                {
                                    "0": "Accounting"
                                }
                            ]
                        },
                        "text/html": [
                            "<table>",
                            "<tr><th>NAME</th></tr>",
                            "<tr><td>Accounting</td></tr>",
                            "</table>"
                        ]
                    }
                }
            ],
            "execution_count": 41
        },
        {
            "cell_type": "code",
            "source": [
                "-- 13. FIND OUT WHICH DEPARTMENT DOES NOT HAVE ANY EMPLOYEES.\r\n",
                "-- SAME AS Q.12"
            ],
            "metadata": {
                "language": "sql",
                "azdata_cell_guid": "a81c8cbc-879e-4daf-8b22-ab98faaf29f7"
            },
            "outputs": [],
            "execution_count": null
        },
        {
            "cell_type": "code",
            "source": [
                "-- 14. FIND OUT THE EMPLOYEES WHO EARN GREATER THAN THE AVERAGE SALARY FOR THEIR \r\n",
                "-- DEPARTMENT\r\n",
                "\r\n",
                "WITH\r\n",
                "    CTE\r\n",
                "    AS\r\n",
                "    \r\n",
                "    (\r\n",
                "        SELECT Department_ID, AVG(Salary) AS AVG_SAL\r\n",
                "        FROM EMPLOYEE\r\n",
                "        GROUP BY Department_ID\r\n",
                "    )\r\n",
                "\r\n",
                "SELECT *\r\n",
                "FROM EMPLOYEE E LEFT JOIN CTE C ON E.Department_ID=C.Department_ID\r\n",
                "WHERE Salary>C.AVG_SAL"
            ],
            "metadata": {
                "language": "sql",
                "azdata_cell_guid": "08b01ea1-55cd-4996-913c-4dcfba3799db"
            },
            "outputs": [
                {
                    "output_type": "display_data",
                    "data": {
                        "text/html": "(2 rows affected)"
                    },
                    "metadata": {}
                },
                {
                    "output_type": "display_data",
                    "data": {
                        "text/html": "Total execution time: 00:00:00.004"
                    },
                    "metadata": {}
                },
                {
                    "output_type": "execute_result",
                    "metadata": {},
                    "execution_count": 44,
                    "data": {
                        "application/vnd.dataresource+json": {
                            "schema": {
                                "fields": [
                                    {
                                        "name": "Employee_ID"
                                    },
                                    {
                                        "name": "Last_Name"
                                    },
                                    {
                                        "name": "First_Name"
                                    },
                                    {
                                        "name": "Middle_Name"
                                    },
                                    {
                                        "name": "Job_ID"
                                    },
                                    {
                                        "name": "Manager_ID"
                                    },
                                    {
                                        "name": "Hire_Date"
                                    },
                                    {
                                        "name": "Salary"
                                    },
                                    {
                                        "name": "Comm"
                                    },
                                    {
                                        "name": "Department_ID"
                                    },
                                    {
                                        "name": "Department_ID"
                                    },
                                    {
                                        "name": "AVG_SAL"
                                    }
                                ]
                            },
                            "data": [
                                {
                                    "0": "7505",
                                    "1": "DOYLE",
                                    "2": "JEAN",
                                    "3": "K",
                                    "4": "671",
                                    "5": "7839",
                                    "6": "1985-04-04",
                                    "7": "2850.00",
                                    "8": "NULL",
                                    "9": "30",
                                    "10": "30",
                                    "11": "2112.50"
                                },
                                {
                                    "0": "7506",
                                    "1": "DENNIS",
                                    "2": "LYNN",
                                    "3": "S",
                                    "4": "671",
                                    "5": "7839",
                                    "6": "1985-05-15",
                                    "7": "2750.00",
                                    "8": "NULL",
                                    "9": "30",
                                    "10": "30",
                                    "11": "2112.50"
                                }
                            ]
                        },
                        "text/html": [
                            "<table>",
                            "<tr><th>Employee_ID</th><th>Last_Name</th><th>First_Name</th><th>Middle_Name</th><th>Job_ID</th><th>Manager_ID</th><th>Hire_Date</th><th>Salary</th><th>Comm</th><th>Department_ID</th><th>Department_ID</th><th>AVG_SAL</th></tr>",
                            "<tr><td>7505</td><td>DOYLE</td><td>JEAN</td><td>K</td><td>671</td><td>7839</td><td>1985-04-04</td><td>2850.00</td><td>NULL</td><td>30</td><td>30</td><td>2112.50</td></tr>",
                            "<tr><td>7506</td><td>DENNIS</td><td>LYNN</td><td>S</td><td>671</td><td>7839</td><td>1985-05-15</td><td>2750.00</td><td>NULL</td><td>30</td><td>30</td><td>2112.50</td></tr>",
                            "</table>"
                        ]
                    }
                }
            ],
            "execution_count": 44
        }
    ]
}
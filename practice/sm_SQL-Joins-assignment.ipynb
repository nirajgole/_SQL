{
    "metadata": {
        "kernelspec": {
            "name": "SQL",
            "display_name": "SQL",
            "language": "sql"
        },
        "language_info": {
            "name": "sql",
            "version": ""
        }
    },
    "nbformat_minor": 2,
    "nbformat": 4,
    "cells": [
        {
            "cell_type": "markdown",
            "source": [
                "## "
            ],
            "metadata": {
                "language": "sql",
                "azdata_cell_guid": "7b1aa4b1-8d26-425a-b189-635a460f912d"
            },
            "attachments": {}
        },
        {
            "cell_type": "code",
            "source": [
                "-- 1. How many Programmers Don’t know PASCAL and C\r\n",
                "SELECT COUNT(*) AS \"Programmers Don’t know PASCAL and C\"\r\n",
                "FROM PROGRAMMER\r\n",
                "WHERE PROF1 NOT IN ('PASCAL','C') AND PROF2 NOT IN ('PASCAL','C')"
            ],
            "metadata": {
                "azdata_cell_guid": "de1f3487-b253-4c7a-9b87-1808531cb3f6",
                "language": "sql"
            },
            "outputs": [
                {
                    "output_type": "display_data",
                    "data": {
                        "text/html": "(1 row affected)"
                    },
                    "metadata": {}
                },
                {
                    "output_type": "display_data",
                    "data": {
                        "text/html": "Total execution time: 00:00:00.065"
                    },
                    "metadata": {}
                },
                {
                    "output_type": "execute_result",
                    "metadata": {},
                    "execution_count": 1,
                    "data": {
                        "application/vnd.dataresource+json": {
                            "schema": {
                                "fields": [
                                    {
                                        "name": "Programmers Don’t know PASCAL and C"
                                    }
                                ]
                            },
                            "data": [
                                {
                                    "0": "5"
                                }
                            ]
                        },
                        "text/html": [
                            "<table>",
                            "<tr><th>Programmers Don’t know PASCAL and C</th></tr>",
                            "<tr><td>5</td></tr>",
                            "</table>"
                        ]
                    }
                }
            ],
            "execution_count": 1
        },
        {
            "cell_type": "code",
            "source": [
                "-- 2. Display the details of those who don’t know Clipper, COBOL or PASCAL.\r\n",
                "-- DECLARE @ABC VARCHAR(255) = ('COBOL PASCAL')\r\n",
                "SELECT *\r\n",
                "FROM PROGRAMMER\r\n",
                "WHERE PROF1 NOT IN ('Clipper','COBOL','PASCAL') AND PROF2 NOT IN ('Clipper','COBOL','PASCAL')"
            ],
            "metadata": {
                "language": "sql",
                "azdata_cell_guid": "bbac3ca7-fa6f-423b-b695-ef5002125a95",
                "tags": []
            },
            "outputs": [
                {
                    "output_type": "display_data",
                    "data": {
                        "text/html": "(5 rows affected)"
                    },
                    "metadata": {}
                },
                {
                    "output_type": "display_data",
                    "data": {
                        "text/html": "Total execution time: 00:00:00.008"
                    },
                    "metadata": {}
                },
                {
                    "output_type": "execute_result",
                    "metadata": {},
                    "execution_count": 2,
                    "data": {
                        "application/vnd.dataresource+json": {
                            "schema": {
                                "fields": [
                                    {
                                        "name": "PNAME"
                                    },
                                    {
                                        "name": "DOB"
                                    },
                                    {
                                        "name": "DOJ"
                                    },
                                    {
                                        "name": "GENDER"
                                    },
                                    {
                                        "name": "PROF1"
                                    },
                                    {
                                        "name": "PROF2"
                                    },
                                    {
                                        "name": "SALARY"
                                    }
                                ]
                            },
                            "data": [
                                {
                                    "0": "KAMALA",
                                    "1": "1968-10-30",
                                    "2": "1992-01-02",
                                    "3": "F",
                                    "4": "C",
                                    "5": "DBASE",
                                    "6": "2900"
                                },
                                {
                                    "0": "MARY",
                                    "1": "1970-06-24",
                                    "2": "1991-02-01",
                                    "3": "F",
                                    "4": "CPP",
                                    "5": "ORACLE",
                                    "6": "4500"
                                },
                                {
                                    "0": "QADIR",
                                    "1": "1965-08-31",
                                    "2": "1991-04-21",
                                    "3": "M",
                                    "4": "ASSEMBLY",
                                    "5": "C",
                                    "6": "3000"
                                },
                                {
                                    "0": "REMITHA",
                                    "1": "1970-04-19",
                                    "2": "1993-04-20",
                                    "3": "F",
                                    "4": "C",
                                    "5": "ASSEMBLY",
                                    "6": "3600"
                                },
                                {
                                    "0": "VIJAYA",
                                    "1": "1965-12-14",
                                    "2": "1992-05-02",
                                    "3": "F",
                                    "4": "FOXPRO",
                                    "5": "C",
                                    "6": "3500"
                                }
                            ]
                        },
                        "text/html": [
                            "<table>",
                            "<tr><th>PNAME</th><th>DOB</th><th>DOJ</th><th>GENDER</th><th>PROF1</th><th>PROF2</th><th>SALARY</th></tr>",
                            "<tr><td>KAMALA</td><td>1968-10-30</td><td>1992-01-02</td><td>F</td><td>C</td><td>DBASE</td><td>2900</td></tr>",
                            "<tr><td>MARY</td><td>1970-06-24</td><td>1991-02-01</td><td>F</td><td>CPP</td><td>ORACLE</td><td>4500</td></tr>",
                            "<tr><td>QADIR</td><td>1965-08-31</td><td>1991-04-21</td><td>M</td><td>ASSEMBLY</td><td>C</td><td>3000</td></tr>",
                            "<tr><td>REMITHA</td><td>1970-04-19</td><td>1993-04-20</td><td>F</td><td>C</td><td>ASSEMBLY</td><td>3600</td></tr>",
                            "<tr><td>VIJAYA</td><td>1965-12-14</td><td>1992-05-02</td><td>F</td><td>FOXPRO</td><td>C</td><td>3500</td></tr>",
                            "</table>"
                        ]
                    }
                }
            ],
            "execution_count": 2
        },
        {
            "cell_type": "code",
            "source": [
                "-- 3. Display each language name with AVG Development Cost, AVG Selling Cost and AVG Price per Copy.\r\n",
                "SELECT TITLE, COUNT(*), AVG(DCOST) AS AVG_DCOST, AVG(SCOST) AS AVG_SCOST, AVG(SOLD*SCOST) AS AVG_PRICE_PER_COPY\r\n",
                "FROM SOFTWARE\r\n",
                "GROUP BY TITLE"
            ],
            "metadata": {
                "language": "sql",
                "azdata_cell_guid": "ea3b3dc9-d021-4457-9bd3-e08011edbb31",
                "tags": []
            },
            "outputs": [
                {
                    "output_type": "display_data",
                    "data": {
                        "text/html": "(15 rows affected)"
                    },
                    "metadata": {}
                },
                {
                    "output_type": "display_data",
                    "data": {
                        "text/html": "Total execution time: 00:00:00.016"
                    },
                    "metadata": {}
                },
                {
                    "output_type": "execute_result",
                    "metadata": {},
                    "execution_count": 3,
                    "data": {
                        "application/vnd.dataresource+json": {
                            "schema": {
                                "fields": [
                                    {
                                        "name": "TITLE"
                                    },
                                    {
                                        "name": "(No column name)"
                                    },
                                    {
                                        "name": "AVG_DCOST"
                                    },
                                    {
                                        "name": "AVG_SCOST"
                                    },
                                    {
                                        "name": "AVG_PRICE_PER_COPY"
                                    }
                                ]
                            },
                            "data": [
                                {
                                    "0": "BOMBS AWAY",
                                    "1": "1",
                                    "2": "3000",
                                    "3": "750",
                                    "4": "8250"
                                },
                                {
                                    "0": "CODE GENERATOR",
                                    "1": "1",
                                    "2": "20000",
                                    "3": "4500",
                                    "4": "103500"
                                },
                                {
                                    "0": "DEAD LEE",
                                    "1": "1",
                                    "2": "4500",
                                    "3": "599.95",
                                    "4": "43796.350000000006"
                                },
                                {
                                    "0": "FINANCIAL ACCT.",
                                    "1": "1",
                                    "2": "85000",
                                    "3": "18000",
                                    "4": "72000"
                                },
                                {
                                    "0": "HOSPITAL MGMT.",
                                    "1": "1",
                                    "2": "75000",
                                    "3": "1100",
                                    "4": "2200"
                                },
                                {
                                    "0": "HOTEL MGMT.",
                                    "1": "1",
                                    "2": "35000",
                                    "3": "13000",
                                    "4": "52000"
                                },
                                {
                                    "0": "INVENTORY",
                                    "1": "1",
                                    "2": "3500",
                                    "3": "3000",
                                    "4": "0"
                                },
                                {
                                    "0": "PARACHUTES",
                                    "1": "1",
                                    "2": "6000",
                                    "3": "399.95",
                                    "4": "17197.85"
                                },
                                {
                                    "0": "PAYROLL PKG.",
                                    "1": "1",
                                    "2": "20000",
                                    "3": "9000",
                                    "4": "63000"
                                },
                                {
                                    "0": "PC UTILITIES",
                                    "1": "1",
                                    "2": "5000",
                                    "3": "725",
                                    "4": "36975"
                                },
                                {
                                    "0": "README",
                                    "1": "2",
                                    "2": "1200",
                                    "3": "300",
                                    "4": "25200"
                                },
                                {
                                    "0": "TSR EDITOR",
                                    "1": "1",
                                    "2": "700",
                                    "3": "900",
                                    "4": "5400"
                                },
                                {
                                    "0": "TSR HELP PKG.",
                                    "1": "1",
                                    "2": "6000",
                                    "3": "2500",
                                    "4": "17500"
                                },
                                {
                                    "0": "VACCINES",
                                    "1": "1",
                                    "2": "3100",
                                    "3": "1900",
                                    "4": "39900"
                                },
                                {
                                    "0": "VIDEO TITLING",
                                    "1": "1",
                                    "2": "16000",
                                    "3": "7500",
                                    "4": "67500"
                                }
                            ]
                        },
                        "text/html": [
                            "<table>",
                            "<tr><th>TITLE</th><th>(No column name)</th><th>AVG_DCOST</th><th>AVG_SCOST</th><th>AVG_PRICE_PER_COPY</th></tr>",
                            "<tr><td>BOMBS AWAY</td><td>1</td><td>3000</td><td>750</td><td>8250</td></tr>",
                            "<tr><td>CODE GENERATOR</td><td>1</td><td>20000</td><td>4500</td><td>103500</td></tr>",
                            "<tr><td>DEAD LEE</td><td>1</td><td>4500</td><td>599.95</td><td>43796.350000000006</td></tr>",
                            "<tr><td>FINANCIAL ACCT.</td><td>1</td><td>85000</td><td>18000</td><td>72000</td></tr>",
                            "<tr><td>HOSPITAL MGMT.</td><td>1</td><td>75000</td><td>1100</td><td>2200</td></tr>",
                            "<tr><td>HOTEL MGMT.</td><td>1</td><td>35000</td><td>13000</td><td>52000</td></tr>",
                            "<tr><td>INVENTORY</td><td>1</td><td>3500</td><td>3000</td><td>0</td></tr>",
                            "<tr><td>PARACHUTES</td><td>1</td><td>6000</td><td>399.95</td><td>17197.85</td></tr>",
                            "<tr><td>PAYROLL PKG.</td><td>1</td><td>20000</td><td>9000</td><td>63000</td></tr>",
                            "<tr><td>PC UTILITIES</td><td>1</td><td>5000</td><td>725</td><td>36975</td></tr>",
                            "<tr><td>README</td><td>2</td><td>1200</td><td>300</td><td>25200</td></tr>",
                            "<tr><td>TSR EDITOR</td><td>1</td><td>700</td><td>900</td><td>5400</td></tr>",
                            "<tr><td>TSR HELP PKG.</td><td>1</td><td>6000</td><td>2500</td><td>17500</td></tr>",
                            "<tr><td>VACCINES</td><td>1</td><td>3100</td><td>1900</td><td>39900</td></tr>",
                            "<tr><td>VIDEO TITLING</td><td>1</td><td>16000</td><td>7500</td><td>67500</td></tr>",
                            "</table>"
                        ]
                    }
                }
            ],
            "execution_count": 3
        },
        {
            "cell_type": "code",
            "source": [
                "-- 4. List the programmer names (from the programmer table) and No. Of Packages each has developed.\r\n",
                "SELECT PNAME, COUNT(*) AS NO_OF_PACKAGES\r\n",
                "FROM SOFTWARE\r\n",
                "GROUP BY PNAME"
            ],
            "metadata": {
                "language": "sql",
                "azdata_cell_guid": "2c87ce19-fbb4-4096-9d55-ab2419fc5f9a"
            },
            "outputs": [
                {
                    "output_type": "display_data",
                    "data": {
                        "text/html": "(10 rows affected)"
                    },
                    "metadata": {}
                },
                {
                    "output_type": "display_data",
                    "data": {
                        "text/html": "Total execution time: 00:00:00.004"
                    },
                    "metadata": {}
                },
                {
                    "output_type": "execute_result",
                    "metadata": {},
                    "execution_count": 4,
                    "data": {
                        "application/vnd.dataresource+json": {
                            "schema": {
                                "fields": [
                                    {
                                        "name": "PNAME"
                                    },
                                    {
                                        "name": "NO_OF_PACKAGES"
                                    }
                                ]
                            },
                            "data": [
                                {
                                    "0": "ANAND",
                                    "1": "2"
                                },
                                {
                                    "0": "JULIANA",
                                    "1": "1"
                                },
                                {
                                    "0": "KAMALA",
                                    "1": "1"
                                },
                                {
                                    "0": "MARY",
                                    "1": "3"
                                },
                                {
                                    "0": "PATTRICK",
                                    "1": "1"
                                },
                                {
                                    "0": "QADIR",
                                    "1": "2"
                                },
                                {
                                    "0": "RAMESH",
                                    "1": "2"
                                },
                                {
                                    "0": "REMITHA",
                                    "1": "2"
                                },
                                {
                                    "0": "REVATHI",
                                    "1": "1"
                                },
                                {
                                    "0": "VIJAYA",
                                    "1": "1"
                                }
                            ]
                        },
                        "text/html": [
                            "<table>",
                            "<tr><th>PNAME</th><th>NO_OF_PACKAGES</th></tr>",
                            "<tr><td>ANAND</td><td>2</td></tr>",
                            "<tr><td>JULIANA</td><td>1</td></tr>",
                            "<tr><td>KAMALA</td><td>1</td></tr>",
                            "<tr><td>MARY</td><td>3</td></tr>",
                            "<tr><td>PATTRICK</td><td>1</td></tr>",
                            "<tr><td>QADIR</td><td>2</td></tr>",
                            "<tr><td>RAMESH</td><td>2</td></tr>",
                            "<tr><td>REMITHA</td><td>2</td></tr>",
                            "<tr><td>REVATHI</td><td>1</td></tr>",
                            "<tr><td>VIJAYA</td><td>1</td></tr>",
                            "</table>"
                        ]
                    }
                }
            ],
            "execution_count": 4
        },
        {
            "cell_type": "code",
            "source": [
                "-- 5. List each PROF with the number of Programmers having that \r\n",
                "-- PROF and the number of the packages in that PROF.\r\n",
                "\r\n",
                "SELECT  P.PROF1,P.NO_OF_PROGRAMMER,S.NO_OF_PACKAGES FROM (SELECT PROF1,SUM(NO_OF_PROGRAMMER) AS NO_OF_PROGRAMMER FROM \r\n",
                "(SELECT PROF1,COUNT(*) AS NO_OF_PROGRAMMER\r\n",
                "FROM PROGRAMMER\r\n",
                "GROUP BY PROF1\r\n",
                "UNION ALL\r\n",
                "SELECT PROF2,COUNT(*) AS NO_OF_PROGRAMMER\r\n",
                "FROM PROGRAMMER\r\n",
                "GROUP BY PROF2) P \r\n",
                "GROUP BY PROF1) P\r\n",
                "INNER JOIN (\r\n",
                "    SELECT DEVELOPIN,COUNT(*) AS NO_OF_PACKAGES\r\n",
                "FROM SOFTWARE\r\n",
                "GROUP BY DEVELOPIN\r\n",
                ") S ON P.PROF1=S.DEVELOPIN\r\n",
                ""
            ],
            "metadata": {
                "language": "sql",
                "azdata_cell_guid": "da29d700-307e-4c4b-b728-e150226e9efe",
                "tags": []
            },
            "outputs": [
                {
                    "output_type": "display_data",
                    "data": {
                        "text/html": "(8 rows affected)"
                    },
                    "metadata": {}
                },
                {
                    "output_type": "display_data",
                    "data": {
                        "text/html": "Total execution time: 00:00:00.019"
                    },
                    "metadata": {}
                },
                {
                    "output_type": "execute_result",
                    "metadata": {},
                    "execution_count": 5,
                    "data": {
                        "application/vnd.dataresource+json": {
                            "schema": {
                                "fields": [
                                    {
                                        "name": "PROF1"
                                    },
                                    {
                                        "name": "NO_OF_PROGRAMMER"
                                    },
                                    {
                                        "name": "NO_OF_PACKAGES"
                                    }
                                ]
                            },
                            "data": [
                                {
                                    "0": "ASSEMBLY",
                                    "1": "2",
                                    "2": "2"
                                },
                                {
                                    "0": "BASIC",
                                    "1": "3",
                                    "2": "1"
                                },
                                {
                                    "0": "C",
                                    "1": "4",
                                    "2": "4"
                                },
                                {
                                    "0": "COBOL",
                                    "1": "4",
                                    "2": "1"
                                },
                                {
                                    "0": "CPP",
                                    "1": "1",
                                    "2": "2"
                                },
                                {
                                    "0": "DBASE",
                                    "1": "4",
                                    "2": "2"
                                },
                                {
                                    "0": "ORACLE",
                                    "1": "1",
                                    "2": "1"
                                },
                                {
                                    "0": "PASCAL",
                                    "1": "4",
                                    "2": "3"
                                }
                            ]
                        },
                        "text/html": [
                            "<table>",
                            "<tr><th>PROF1</th><th>NO_OF_PROGRAMMER</th><th>NO_OF_PACKAGES</th></tr>",
                            "<tr><td>ASSEMBLY</td><td>2</td><td>2</td></tr>",
                            "<tr><td>BASIC</td><td>3</td><td>1</td></tr>",
                            "<tr><td>C</td><td>4</td><td>4</td></tr>",
                            "<tr><td>COBOL</td><td>4</td><td>1</td></tr>",
                            "<tr><td>CPP</td><td>1</td><td>2</td></tr>",
                            "<tr><td>DBASE</td><td>4</td><td>2</td></tr>",
                            "<tr><td>ORACLE</td><td>1</td><td>1</td></tr>",
                            "<tr><td>PASCAL</td><td>4</td><td>3</td></tr>",
                            "</table>"
                        ]
                    }
                }
            ],
            "execution_count": 5
        },
        {
            "cell_type": "code",
            "source": [
                "-- 6. How many packages are developed by the most experienced programmer from BDPS.\r\n",
                "\r\n",
                "SELECT TOP 1 S.PNAME, COUNT(*) AS NO_OF_PACKAGES\r\n",
                "FROM SOFTWARE S INNER JOIN STUDIES SS ON S.PNAME=SS.PNAME INNER JOIN PROGRAMMER P ON S.PNAME=P.PNAME\r\n",
                "GROUP BY S.PNAME,SS.INSTITUTE,P.DOJ\r\n",
                "HAVING SS.INSTITUTE='BDPS'\r\n",
                "ORDER BY P.DOJ ASC"
            ],
            "metadata": {
                "azdata_cell_guid": "8a06c2ef-51fb-4195-97af-568f7fcaa87b",
                "language": "sql"
            },
            "outputs": [
                {
                    "output_type": "display_data",
                    "data": {
                        "text/html": "(1 row affected)"
                    },
                    "metadata": {}
                },
                {
                    "output_type": "display_data",
                    "data": {
                        "text/html": "Total execution time: 00:00:00.007"
                    },
                    "metadata": {}
                },
                {
                    "output_type": "execute_result",
                    "metadata": {},
                    "execution_count": 6,
                    "data": {
                        "application/vnd.dataresource+json": {
                            "schema": {
                                "fields": [
                                    {
                                        "name": "PNAME"
                                    },
                                    {
                                        "name": "NO_OF_PACKAGES"
                                    }
                                ]
                            },
                            "data": [
                                {
                                    "0": "JULIANA",
                                    "1": "1"
                                }
                            ]
                        },
                        "text/html": [
                            "<table>",
                            "<tr><th>PNAME</th><th>NO_OF_PACKAGES</th></tr>",
                            "<tr><td>JULIANA</td><td>1</td></tr>",
                            "</table>"
                        ]
                    }
                }
            ],
            "execution_count": 6
        },
        {
            "cell_type": "code",
            "source": [
                "-- 7. How many packages were developed by the female programmers earning more than the\r\n",
                "-- highest paid male programmer?\r\n",
                "SELECT COUNT(*) AS NO_OF_PACKAGES\r\n",
                "FROM SOFTWARE S INNER JOIN PROGRAMMER P ON S.PNAME=P.PNAME\r\n",
                "WHERE GENDER='F' AND P.SALARY > (SELECT MAX(SALARY)\r\n",
                "    FROM PROGRAMMER\r\n",
                "    WHERE GENDER='M')"
            ],
            "metadata": {
                "language": "sql",
                "azdata_cell_guid": "739357f7-53b7-4bc8-8486-26108f822bd3"
            },
            "outputs": [
                {
                    "output_type": "display_data",
                    "data": {
                        "text/html": "(1 row affected)"
                    },
                    "metadata": {}
                },
                {
                    "output_type": "display_data",
                    "data": {
                        "text/html": "Total execution time: 00:00:00.005"
                    },
                    "metadata": {}
                },
                {
                    "output_type": "execute_result",
                    "metadata": {},
                    "execution_count": 7,
                    "data": {
                        "application/vnd.dataresource+json": {
                            "schema": {
                                "fields": [
                                    {
                                        "name": "NO_OF_PACKAGES"
                                    }
                                ]
                            },
                            "data": [
                                {
                                    "0": "7"
                                }
                            ]
                        },
                        "text/html": [
                            "<table>",
                            "<tr><th>NO_OF_PACKAGES</th></tr>",
                            "<tr><td>7</td></tr>",
                            "</table>"
                        ]
                    }
                }
            ],
            "execution_count": 7
        },
        {
            "cell_type": "code",
            "source": [
                "-- 8. How much does the person who developed the highest selling package earn and what course\r\n",
                "-- did HE/SHE undergo.\r\n",
                "\r\n",
                "SELECT TOP 1 P.PNAME, P.SALARY, SS.COURSE\r\n",
                "FROM SOFTWARE S INNER JOIN PROGRAMMER P ON S.PNAME=P.PNAME INNER JOIN STUDIES SS ON S.PNAME=SS.PNAME\r\n",
                "ORDER BY SCOST DESC"
            ],
            "metadata": {
                "language": "sql",
                "azdata_cell_guid": "d7f591df-d9c7-4ec4-a56d-a583c7266360"
            },
            "outputs": [
                {
                    "output_type": "display_data",
                    "data": {
                        "text/html": "(1 row affected)"
                    },
                    "metadata": {}
                },
                {
                    "output_type": "display_data",
                    "data": {
                        "text/html": "Total execution time: 00:00:00.004"
                    },
                    "metadata": {}
                },
                {
                    "output_type": "execute_result",
                    "metadata": {},
                    "execution_count": 8,
                    "data": {
                        "application/vnd.dataresource+json": {
                            "schema": {
                                "fields": [
                                    {
                                        "name": "PNAME"
                                    },
                                    {
                                        "name": "SALARY"
                                    },
                                    {
                                        "name": "COURSE"
                                    }
                                ]
                            },
                            "data": [
                                {
                                    "0": "MARY",
                                    "1": "4500",
                                    "2": "PGDCA"
                                }
                            ]
                        },
                        "text/html": [
                            "<table>",
                            "<tr><th>PNAME</th><th>SALARY</th><th>COURSE</th></tr>",
                            "<tr><td>MARY</td><td>4500</td><td>PGDCA</td></tr>",
                            "</table>"
                        ]
                    }
                }
            ],
            "execution_count": 8
        },
        {
            "cell_type": "code",
            "source": [
                "-- 9. In which institute did the person who developed the costliest package study?\r\n",
                "SELECT TOP 1 S.PNAME,SS.INSTITUTE\r\n",
                "FROM SOFTWARE S INNER JOIN STUDIES SS ON S.PNAME=SS.PNAME\r\n",
                "ORDER BY DCOST DESC"
            ],
            "metadata": {
                "language": "sql",
                "azdata_cell_guid": "97621bba-378b-4a7e-9c4a-f18306a8095e"
            },
            "outputs": [
                {
                    "output_type": "display_data",
                    "data": {
                        "text/html": "(1 row affected)"
                    },
                    "metadata": {}
                },
                {
                    "output_type": "display_data",
                    "data": {
                        "text/html": "Total execution time: 00:00:00.003"
                    },
                    "metadata": {}
                },
                {
                    "output_type": "execute_result",
                    "metadata": {},
                    "execution_count": 9,
                    "data": {
                        "application/vnd.dataresource+json": {
                            "schema": {
                                "fields": [
                                    {
                                        "name": "PNAME"
                                    },
                                    {
                                        "name": "INSTITUTE"
                                    }
                                ]
                            },
                            "data": [
                                {
                                    "0": "MARY",
                                    "1": "SABHARI"
                                }
                            ]
                        },
                        "text/html": [
                            "<table>",
                            "<tr><th>PNAME</th><th>INSTITUTE</th></tr>",
                            "<tr><td>MARY</td><td>SABHARI</td></tr>",
                            "</table>"
                        ]
                    }
                }
            ],
            "execution_count": 9
        },
        {
            "cell_type": "code",
            "source": [
                "-- 10. Display the names of the programmers who have not developed any packages.\r\n",
                "SELECT P.PNAME\r\n",
                "FROM PROGRAMMER P LEFT JOIN SOFTWARE S ON P.PNAME=S.PNAME\r\n",
                "WHERE DEVELOPIN IS NULL"
            ],
            "metadata": {
                "language": "sql",
                "azdata_cell_guid": "17217c81-8fd7-4f7c-a5b2-794a0f530354"
            },
            "outputs": [
                {
                    "output_type": "display_data",
                    "data": {
                        "text/html": "(3 rows affected)"
                    },
                    "metadata": {}
                },
                {
                    "output_type": "display_data",
                    "data": {
                        "text/html": "Total execution time: 00:00:00.003"
                    },
                    "metadata": {}
                },
                {
                    "output_type": "execute_result",
                    "metadata": {},
                    "execution_count": 10,
                    "data": {
                        "application/vnd.dataresource+json": {
                            "schema": {
                                "fields": [
                                    {
                                        "name": "PNAME"
                                    }
                                ]
                            },
                            "data": [
                                {
                                    "0": "ALTAF"
                                },
                                {
                                    "0": "NELSON"
                                },
                                {
                                    "0": "REBECCA"
                                }
                            ]
                        },
                        "text/html": [
                            "<table>",
                            "<tr><th>PNAME</th></tr>",
                            "<tr><td>ALTAF</td></tr>",
                            "<tr><td>NELSON</td></tr>",
                            "<tr><td>REBECCA</td></tr>",
                            "</table>"
                        ]
                    }
                }
            ],
            "execution_count": 10
        },
        {
            "cell_type": "code",
            "source": [
                "-- 11. Display the details of the software that has developed in the language which is neither the\r\n",
                "-- first nor the second proficiency\r\n",
                "SELECT TITLE\r\n",
                "FROM PROGRAMMER P LEFT JOIN SOFTWARE S ON P.PNAME=S.PNAME\r\n",
                "WHERE S.DEVELOPIN NOT IN (P.PROF1,P.PROF2)"
            ],
            "metadata": {
                "language": "sql",
                "azdata_cell_guid": "155719b8-7738-4227-aac8-c792ad601b31"
            },
            "outputs": [
                {
                    "output_type": "display_data",
                    "data": {
                        "text/html": "(2 rows affected)"
                    },
                    "metadata": {}
                },
                {
                    "output_type": "display_data",
                    "data": {
                        "text/html": "Total execution time: 00:00:00.003"
                    },
                    "metadata": {}
                },
                {
                    "output_type": "execute_result",
                    "metadata": {},
                    "execution_count": 11,
                    "data": {
                        "application/vnd.dataresource+json": {
                            "schema": {
                                "fields": [
                                    {
                                        "name": "TITLE"
                                    }
                                ]
                            },
                            "data": [
                                {
                                    "0": "CODE GENERATOR"
                                },
                                {
                                    "0": "README"
                                }
                            ]
                        },
                        "text/html": [
                            "<table>",
                            "<tr><th>TITLE</th></tr>",
                            "<tr><td>CODE GENERATOR</td></tr>",
                            "<tr><td>README</td></tr>",
                            "</table>"
                        ]
                    }
                }
            ],
            "execution_count": 11
        },
        {
            "cell_type": "code",
            "source": [
                "-- 12. Display the details of the software Developed by the male programmers Born before 1965\r\n",
                "-- and female programmers born after 1975\r\n",
                "    SELECT S.PNAME, S.TITLE, S.DCOST, S.SCOST, S.SOLD, S.DEVELOPIN\r\n",
                "    FROM SOFTWARE S JOIN PROGRAMMER P ON S.PNAME=P.PNAME\r\n",
                "    WHERE YEAR(DOB) < 1965 AND GENDER='M'\r\n",
                "UNION ALL\r\n",
                "    SELECT S.PNAME, S.TITLE, S.DCOST, S.SCOST, S.SOLD, S.DEVELOPIN\r\n",
                "    FROM SOFTWARE S JOIN PROGRAMMER P ON S.PNAME=P.PNAME\r\n",
                "    WHERE YEAR(DOB) > 1975 AND GENDER='F'"
            ],
            "metadata": {
                "language": "sql",
                "azdata_cell_guid": "50268f18-84c2-427c-866b-56b86a41935a"
            },
            "outputs": [
                {
                    "output_type": "display_data",
                    "data": {
                        "text/html": "(0 rows affected)"
                    },
                    "metadata": {}
                },
                {
                    "output_type": "display_data",
                    "data": {
                        "text/html": "Total execution time: 00:00:00.005"
                    },
                    "metadata": {}
                },
                {
                    "output_type": "execute_result",
                    "metadata": {},
                    "execution_count": 12,
                    "data": {
                        "application/vnd.dataresource+json": {
                            "schema": {
                                "fields": [
                                    {
                                        "name": "PNAME"
                                    },
                                    {
                                        "name": "TITLE"
                                    },
                                    {
                                        "name": "DCOST"
                                    },
                                    {
                                        "name": "SCOST"
                                    },
                                    {
                                        "name": "SOLD"
                                    },
                                    {
                                        "name": "DEVELOPIN"
                                    }
                                ]
                            },
                            "data": []
                        },
                        "text/html": [
                            "<table>",
                            "<tr><th>PNAME</th><th>TITLE</th><th>DCOST</th><th>SCOST</th><th>SOLD</th><th>DEVELOPIN</th></tr>",
                            "</table>"
                        ]
                    }
                }
            ],
            "execution_count": 12
        },
        {
            "cell_type": "code",
            "source": [
                "-- 13. Display the number of packages, No. of Copies Sold and sales value of each programmer\r\n",
                "-- institute wise.\r\n",
                "SELECT P.PNAME, SS.INSTITUTE, COUNT(TITLE) AS NO_OF_PACKAGES, SUM(S.SOLD) AS \"No. of Copies Sold\", SUM(S.SCOST) AS \"sales value\"\r\n",
                "FROM PROGRAMMER P LEFT JOIN SOFTWARE S ON P.PNAME=S.PNAME LEFT JOIN STUDIES SS ON P.PNAME=SS.PNAME\r\n",
                "GROUP BY P.PNAME,SS.INSTITUTE\r\n",
                "ORDER BY P.PNAME"
            ],
            "metadata": {
                "language": "sql",
                "azdata_cell_guid": "a743895f-8d15-4dba-bbe4-362fe4b81804"
            },
            "outputs": [
                {
                    "output_type": "display_data",
                    "data": {
                        "text/html": "Warning: Null value is eliminated by an aggregate or other SET operation."
                    },
                    "metadata": {}
                },
                {
                    "output_type": "display_data",
                    "data": {
                        "text/html": "(13 rows affected)"
                    },
                    "metadata": {}
                },
                {
                    "output_type": "display_data",
                    "data": {
                        "text/html": "Total execution time: 00:00:00.006"
                    },
                    "metadata": {}
                },
                {
                    "output_type": "execute_result",
                    "metadata": {},
                    "execution_count": 13,
                    "data": {
                        "application/vnd.dataresource+json": {
                            "schema": {
                                "fields": [
                                    {
                                        "name": "PNAME"
                                    },
                                    {
                                        "name": "INSTITUTE"
                                    },
                                    {
                                        "name": "NO_OF_PACKAGES"
                                    },
                                    {
                                        "name": "No. of Copies Sold"
                                    },
                                    {
                                        "name": "sales value"
                                    }
                                ]
                            },
                            "data": [
                                {
                                    "0": "ALTAF",
                                    "1": "COIT",
                                    "2": "0",
                                    "3": "NULL",
                                    "4": "NULL"
                                },
                                {
                                    "0": "ANAND",
                                    "1": "SABHARI",
                                    "2": "2",
                                    "3": "52",
                                    "4": "7899.95"
                                },
                                {
                                    "0": "JULIANA",
                                    "1": "BDPS",
                                    "2": "1",
                                    "3": "0",
                                    "4": "3000"
                                },
                                {
                                    "0": "KAMALA",
                                    "1": "PRAGATHI",
                                    "2": "1",
                                    "3": "7",
                                    "4": "9000"
                                },
                                {
                                    "0": "MARY",
                                    "1": "SABHARI",
                                    "2": "3",
                                    "3": "111",
                                    "4": "22800"
                                },
                                {
                                    "0": "NELSON",
                                    "1": "PRAGATHI",
                                    "2": "0",
                                    "3": "NULL",
                                    "4": "NULL"
                                },
                                {
                                    "0": "PATTRICK",
                                    "1": "NULL",
                                    "2": "1",
                                    "3": "84",
                                    "4": "300"
                                },
                                {
                                    "0": "QADIR",
                                    "1": "APPLE",
                                    "2": "2",
                                    "3": "32",
                                    "4": "2650"
                                },
                                {
                                    "0": "RAMESH",
                                    "1": "SABHARI",
                                    "2": "2",
                                    "3": "77",
                                    "4": "13599.95"
                                },
                                {
                                    "0": "REBECCA",
                                    "1": "BRILLIANT",
                                    "2": "0",
                                    "3": "NULL",
                                    "4": "NULL"
                                },
                                {
                                    "0": "REMITHA",
                                    "1": "BDPS",
                                    "2": "2",
                                    "3": "58",
                                    "4": "3225"
                                },
                                {
                                    "0": "REVATHI",
                                    "1": "SABHARI",
                                    "2": "1",
                                    "3": "2",
                                    "4": "1100"
                                },
                                {
                                    "0": "VIJAYA",
                                    "1": "BDPS",
                                    "2": "1",
                                    "3": "6",
                                    "4": "900"
                                }
                            ]
                        },
                        "text/html": [
                            "<table>",
                            "<tr><th>PNAME</th><th>INSTITUTE</th><th>NO_OF_PACKAGES</th><th>No. of Copies Sold</th><th>sales value</th></tr>",
                            "<tr><td>ALTAF</td><td>COIT</td><td>0</td><td>NULL</td><td>NULL</td></tr>",
                            "<tr><td>ANAND</td><td>SABHARI</td><td>2</td><td>52</td><td>7899.95</td></tr>",
                            "<tr><td>JULIANA</td><td>BDPS</td><td>1</td><td>0</td><td>3000</td></tr>",
                            "<tr><td>KAMALA</td><td>PRAGATHI</td><td>1</td><td>7</td><td>9000</td></tr>",
                            "<tr><td>MARY</td><td>SABHARI</td><td>3</td><td>111</td><td>22800</td></tr>",
                            "<tr><td>NELSON</td><td>PRAGATHI</td><td>0</td><td>NULL</td><td>NULL</td></tr>",
                            "<tr><td>PATTRICK</td><td>NULL</td><td>1</td><td>84</td><td>300</td></tr>",
                            "<tr><td>QADIR</td><td>APPLE</td><td>2</td><td>32</td><td>2650</td></tr>",
                            "<tr><td>RAMESH</td><td>SABHARI</td><td>2</td><td>77</td><td>13599.95</td></tr>",
                            "<tr><td>REBECCA</td><td>BRILLIANT</td><td>0</td><td>NULL</td><td>NULL</td></tr>",
                            "<tr><td>REMITHA</td><td>BDPS</td><td>2</td><td>58</td><td>3225</td></tr>",
                            "<tr><td>REVATHI</td><td>SABHARI</td><td>1</td><td>2</td><td>1100</td></tr>",
                            "<tr><td>VIJAYA</td><td>BDPS</td><td>1</td><td>6</td><td>900</td></tr>",
                            "</table>"
                        ]
                    }
                }
            ],
            "execution_count": 13
        },
        {
            "cell_type": "code",
            "source": [
                "-- 14. Display the details of the Software Developed by the Male Programmers Earning More than\r\n",
                "-- 3000\r\n",
                "SELECT S.PNAME, S.TITLE, S.DCOST, S.DEVELOPIN, S.SCOST, S.SOLD\r\n",
                "FROM SOFTWARE S JOIN PROGRAMMER P ON S.PNAME=P.PNAME\r\n",
                "WHERE GENDER='M' AND SALARY>3000"
            ],
            "metadata": {
                "language": "sql",
                "azdata_cell_guid": "479a09ce-6af8-42c5-8a30-7065429acaca"
            },
            "outputs": [
                {
                    "output_type": "display_data",
                    "data": {
                        "text/html": "(4 rows affected)"
                    },
                    "metadata": {}
                },
                {
                    "output_type": "display_data",
                    "data": {
                        "text/html": "Total execution time: 00:00:00.003"
                    },
                    "metadata": {}
                },
                {
                    "output_type": "execute_result",
                    "metadata": {},
                    "execution_count": 14,
                    "data": {
                        "application/vnd.dataresource+json": {
                            "schema": {
                                "fields": [
                                    {
                                        "name": "PNAME"
                                    },
                                    {
                                        "name": "TITLE"
                                    },
                                    {
                                        "name": "DCOST"
                                    },
                                    {
                                        "name": "DEVELOPIN"
                                    },
                                    {
                                        "name": "SCOST"
                                    },
                                    {
                                        "name": "SOLD"
                                    }
                                ]
                            },
                            "data": [
                                {
                                    "0": "ANAND",
                                    "1": "PARACHUTES",
                                    "2": "6000",
                                    "3": "BASIC",
                                    "4": "399.95",
                                    "5": "43"
                                },
                                {
                                    "0": "ANAND",
                                    "1": "VIDEO TITLING",
                                    "2": "16000",
                                    "3": "PASCAL",
                                    "4": "7500",
                                    "5": "9"
                                },
                                {
                                    "0": "RAMESH",
                                    "1": "HOTEL MGMT.",
                                    "2": "35000",
                                    "3": "DBASE",
                                    "4": "13000",
                                    "5": "4"
                                },
                                {
                                    "0": "RAMESH",
                                    "1": "DEAD LEE",
                                    "2": "4500",
                                    "3": "PASCAL",
                                    "4": "599.95",
                                    "5": "73"
                                }
                            ]
                        },
                        "text/html": [
                            "<table>",
                            "<tr><th>PNAME</th><th>TITLE</th><th>DCOST</th><th>DEVELOPIN</th><th>SCOST</th><th>SOLD</th></tr>",
                            "<tr><td>ANAND</td><td>PARACHUTES</td><td>6000</td><td>BASIC</td><td>399.95</td><td>43</td></tr>",
                            "<tr><td>ANAND</td><td>VIDEO TITLING</td><td>16000</td><td>PASCAL</td><td>7500</td><td>9</td></tr>",
                            "<tr><td>RAMESH</td><td>HOTEL MGMT.</td><td>35000</td><td>DBASE</td><td>13000</td><td>4</td></tr>",
                            "<tr><td>RAMESH</td><td>DEAD LEE</td><td>4500</td><td>PASCAL</td><td>599.95</td><td>73</td></tr>",
                            "</table>"
                        ]
                    }
                }
            ],
            "execution_count": 14
        },
        {
            "cell_type": "code",
            "source": [
                "-- 15. Who are the Female Programmers earning more than the Highest Paid male?\r\n",
                "SELECT *\r\n",
                "FROM PROGRAMMER P\r\n",
                "WHERE GENDER='F' AND\r\n",
                "SALARY >\r\n",
                "(SELECT MAX(SALARY)\r\n",
                "FROM PROGRAMMER\r\n",
                "WHERE GENDER='M')"
            ],
            "metadata": {
                "language": "sql",
                "azdata_cell_guid": "b05c2ae3-2f38-4b51-b201-6f4e33b43f62"
            },
            "outputs": [
                {
                    "output_type": "display_data",
                    "data": {
                        "text/html": "(4 rows affected)"
                    },
                    "metadata": {}
                },
                {
                    "output_type": "display_data",
                    "data": {
                        "text/html": "Total execution time: 00:00:00.006"
                    },
                    "metadata": {}
                },
                {
                    "output_type": "execute_result",
                    "metadata": {},
                    "execution_count": 15,
                    "data": {
                        "application/vnd.dataresource+json": {
                            "schema": {
                                "fields": [
                                    {
                                        "name": "PNAME"
                                    },
                                    {
                                        "name": "DOB"
                                    },
                                    {
                                        "name": "DOJ"
                                    },
                                    {
                                        "name": "GENDER"
                                    },
                                    {
                                        "name": "PROF1"
                                    },
                                    {
                                        "name": "PROF2"
                                    },
                                    {
                                        "name": "SALARY"
                                    }
                                ]
                            },
                            "data": [
                                {
                                    "0": "MARY",
                                    "1": "1970-06-24",
                                    "2": "1991-02-01",
                                    "3": "F",
                                    "4": "CPP",
                                    "5": "ORACLE",
                                    "6": "4500"
                                },
                                {
                                    "0": "REMITHA",
                                    "1": "1970-04-19",
                                    "2": "1993-04-20",
                                    "3": "F",
                                    "4": "C",
                                    "5": "ASSEMBLY",
                                    "6": "3600"
                                },
                                {
                                    "0": "REVATHI",
                                    "1": "1969-12-02",
                                    "2": "1992-01-02",
                                    "3": "F",
                                    "4": "PASCAL",
                                    "5": "BASIC",
                                    "6": "3700"
                                },
                                {
                                    "0": "VIJAYA",
                                    "1": "1965-12-14",
                                    "2": "1992-05-02",
                                    "3": "F",
                                    "4": "FOXPRO",
                                    "5": "C",
                                    "6": "3500"
                                }
                            ]
                        },
                        "text/html": [
                            "<table>",
                            "<tr><th>PNAME</th><th>DOB</th><th>DOJ</th><th>GENDER</th><th>PROF1</th><th>PROF2</th><th>SALARY</th></tr>",
                            "<tr><td>MARY</td><td>1970-06-24</td><td>1991-02-01</td><td>F</td><td>CPP</td><td>ORACLE</td><td>4500</td></tr>",
                            "<tr><td>REMITHA</td><td>1970-04-19</td><td>1993-04-20</td><td>F</td><td>C</td><td>ASSEMBLY</td><td>3600</td></tr>",
                            "<tr><td>REVATHI</td><td>1969-12-02</td><td>1992-01-02</td><td>F</td><td>PASCAL</td><td>BASIC</td><td>3700</td></tr>",
                            "<tr><td>VIJAYA</td><td>1965-12-14</td><td>1992-05-02</td><td>F</td><td>FOXPRO</td><td>C</td><td>3500</td></tr>",
                            "</table>"
                        ]
                    }
                }
            ],
            "execution_count": 15
        },
        {
            "cell_type": "code",
            "source": [
                "-- 16. Who are the male programmers earning below the AVG salary of Female Programmers?\r\n",
                "SELECT *\r\n",
                "FROM PROGRAMMER P\r\n",
                "WHERE GENDER='M' AND SALARY < (SELECT AVG(SALARY)\r\n",
                "    FROM PROGRAMMER\r\n",
                "    WHERE GENDER='F')"
            ],
            "metadata": {
                "language": "sql",
                "azdata_cell_guid": "cedaea0c-3187-4d49-869f-5ecd9a8dd646"
            },
            "outputs": [
                {
                    "output_type": "display_data",
                    "data": {
                        "text/html": "(6 rows affected)"
                    },
                    "metadata": {}
                },
                {
                    "output_type": "display_data",
                    "data": {
                        "text/html": "Total execution time: 00:00:00.013"
                    },
                    "metadata": {}
                },
                {
                    "output_type": "execute_result",
                    "metadata": {},
                    "execution_count": 16,
                    "data": {
                        "application/vnd.dataresource+json": {
                            "schema": {
                                "fields": [
                                    {
                                        "name": "PNAME"
                                    },
                                    {
                                        "name": "DOB"
                                    },
                                    {
                                        "name": "DOJ"
                                    },
                                    {
                                        "name": "GENDER"
                                    },
                                    {
                                        "name": "PROF1"
                                    },
                                    {
                                        "name": "PROF2"
                                    },
                                    {
                                        "name": "SALARY"
                                    }
                                ]
                            },
                            "data": [
                                {
                                    "0": "ANAND",
                                    "1": "1966-04-12",
                                    "2": "1992-04-21",
                                    "3": "M",
                                    "4": "PASCAL",
                                    "5": "BASIC",
                                    "6": "3200"
                                },
                                {
                                    "0": "ALTAF",
                                    "1": "1964-07-02",
                                    "2": "1990-11-13",
                                    "3": "M",
                                    "4": "CLIPPER",
                                    "5": "COBOL",
                                    "6": "2800"
                                },
                                {
                                    "0": "NELSON",
                                    "1": "1985-09-11",
                                    "2": "1989-10-11",
                                    "3": "M",
                                    "4": "COBOL",
                                    "5": "DBASE",
                                    "6": "2500"
                                },
                                {
                                    "0": "PATTRICK",
                                    "1": "1965-11-10",
                                    "2": "1990-04-21",
                                    "3": "M",
                                    "4": "PASCAL",
                                    "5": "CLIPPER",
                                    "6": "2800"
                                },
                                {
                                    "0": "QADIR",
                                    "1": "1965-08-31",
                                    "2": "1991-04-21",
                                    "3": "M",
                                    "4": "ASSEMBLY",
                                    "5": "C",
                                    "6": "3000"
                                },
                                {
                                    "0": "RAMESH",
                                    "1": "1967-05-03",
                                    "2": "1991-02-28",
                                    "3": "M",
                                    "4": "PASCAL",
                                    "5": "DBASE",
                                    "6": "3200"
                                }
                            ]
                        },
                        "text/html": [
                            "<table>",
                            "<tr><th>PNAME</th><th>DOB</th><th>DOJ</th><th>GENDER</th><th>PROF1</th><th>PROF2</th><th>SALARY</th></tr>",
                            "<tr><td>ANAND</td><td>1966-04-12</td><td>1992-04-21</td><td>M</td><td>PASCAL</td><td>BASIC</td><td>3200</td></tr>",
                            "<tr><td>ALTAF</td><td>1964-07-02</td><td>1990-11-13</td><td>M</td><td>CLIPPER</td><td>COBOL</td><td>2800</td></tr>",
                            "<tr><td>NELSON</td><td>1985-09-11</td><td>1989-10-11</td><td>M</td><td>COBOL</td><td>DBASE</td><td>2500</td></tr>",
                            "<tr><td>PATTRICK</td><td>1965-11-10</td><td>1990-04-21</td><td>M</td><td>PASCAL</td><td>CLIPPER</td><td>2800</td></tr>",
                            "<tr><td>QADIR</td><td>1965-08-31</td><td>1991-04-21</td><td>M</td><td>ASSEMBLY</td><td>C</td><td>3000</td></tr>",
                            "<tr><td>RAMESH</td><td>1967-05-03</td><td>1991-02-28</td><td>M</td><td>PASCAL</td><td>DBASE</td><td>3200</td></tr>",
                            "</table>"
                        ]
                    }
                }
            ],
            "execution_count": 16
        },
        {
            "cell_type": "code",
            "source": [
                "-- 17. Display the language used by each programmer to develop the Highest Selling and\r\n",
                "-- Lowest-selling package."
            ],
            "metadata": {
                "language": "sql",
                "azdata_cell_guid": "fa45be61-5dfa-4312-8d56-78ba2666ad32"
            },
            "outputs": [
                {
                    "output_type": "display_data",
                    "data": {
                        "text/html": "Commands completed successfully."
                    },
                    "metadata": {}
                },
                {
                    "output_type": "display_data",
                    "data": {
                        "text/html": "Total execution time: 00:00:00"
                    },
                    "metadata": {}
                }
            ],
            "execution_count": 17
        },
        {
            "cell_type": "code",
            "source": [
                "-- 18. Display the names of the packages, which have sold less than the AVG number of copies.\r\n",
                "SELECT TITLE\r\n",
                "FROM SOFTWARE\r\n",
                "WHERE SOLD< (SELECT AVG(SOLD)\r\n",
                "FROM SOFTWARE)"
            ],
            "metadata": {
                "language": "sql",
                "azdata_cell_guid": "fb2b46ba-0f64-4221-bddd-19d3eb04c0cc"
            },
            "outputs": [
                {
                    "output_type": "display_data",
                    "data": {
                        "text/html": "(11 rows affected)"
                    },
                    "metadata": {}
                },
                {
                    "output_type": "display_data",
                    "data": {
                        "text/html": "Total execution time: 00:00:00.009"
                    },
                    "metadata": {}
                },
                {
                    "output_type": "execute_result",
                    "metadata": {},
                    "execution_count": 18,
                    "data": {
                        "application/vnd.dataresource+json": {
                            "schema": {
                                "fields": [
                                    {
                                        "name": "TITLE"
                                    }
                                ]
                            },
                            "data": [
                                {
                                    "0": "VIDEO TITLING"
                                },
                                {
                                    "0": "INVENTORY"
                                },
                                {
                                    "0": "PAYROLL PKG."
                                },
                                {
                                    "0": "FINANCIAL ACCT."
                                },
                                {
                                    "0": "CODE GENERATOR"
                                },
                                {
                                    "0": "BOMBS AWAY"
                                },
                                {
                                    "0": "VACCINES"
                                },
                                {
                                    "0": "HOTEL MGMT."
                                },
                                {
                                    "0": "TSR HELP PKG."
                                },
                                {
                                    "0": "HOSPITAL MGMT."
                                },
                                {
                                    "0": "TSR EDITOR"
                                }
                            ]
                        },
                        "text/html": [
                            "<table>",
                            "<tr><th>TITLE</th></tr>",
                            "<tr><td>VIDEO TITLING</td></tr>",
                            "<tr><td>INVENTORY</td></tr>",
                            "<tr><td>PAYROLL PKG.</td></tr>",
                            "<tr><td>FINANCIAL ACCT.</td></tr>",
                            "<tr><td>CODE GENERATOR</td></tr>",
                            "<tr><td>BOMBS AWAY</td></tr>",
                            "<tr><td>VACCINES</td></tr>",
                            "<tr><td>HOTEL MGMT.</td></tr>",
                            "<tr><td>TSR HELP PKG.</td></tr>",
                            "<tr><td>HOSPITAL MGMT.</td></tr>",
                            "<tr><td>TSR EDITOR</td></tr>",
                            "</table>"
                        ]
                    }
                }
            ],
            "execution_count": 18
        },
        {
            "cell_type": "code",
            "source": [
                "-- 19. Which is the costliest package developed in PASCAL.\r\n",
                "-- SELECT TITLE\r\n",
                "-- FROM SOFTWARE\r\n",
                "-- WHERE DEVELOPIN='PASCAL' AND SCOST=(SELECT MAX(SCOST)\r\n",
                "--     FROM SOFTWARE WHERE DEVELOPIN='PASCAL')\r\n",
                "SELECT TITLE\r\n",
                "FROM SOFTWARE S JOIN (SELECT MAX(SCOST) AS MAX_SCOST\r\n",
                "    FROM SOFTWARE\r\n",
                "    WHERE DEVELOPIN='PASCAL') A ON S.SCOST=A.MAX_SCOST"
            ],
            "metadata": {
                "language": "sql",
                "azdata_cell_guid": "f8b00f46-faa6-461d-a936-b0c313002487"
            },
            "outputs": [
                {
                    "output_type": "display_data",
                    "data": {
                        "text/html": "(1 row affected)"
                    },
                    "metadata": {}
                },
                {
                    "output_type": "display_data",
                    "data": {
                        "text/html": "Total execution time: 00:00:00.003"
                    },
                    "metadata": {}
                },
                {
                    "output_type": "execute_result",
                    "metadata": {},
                    "execution_count": 25,
                    "data": {
                        "application/vnd.dataresource+json": {
                            "schema": {
                                "fields": [
                                    {
                                        "name": "TITLE"
                                    }
                                ]
                            },
                            "data": [
                                {
                                    "0": "VIDEO TITLING"
                                }
                            ]
                        },
                        "text/html": [
                            "<table>",
                            "<tr><th>TITLE</th></tr>",
                            "<tr><td>VIDEO TITLING</td></tr>",
                            "</table>"
                        ]
                    }
                }
            ],
            "execution_count": 25
        },
        {
            "cell_type": "code",
            "source": [
                "-- 20. How many copies of the package that has the least difference between development and\r\n",
                "-- selling cost were sold.\r\n",
                "SELECT TITLE, SOLD\r\n",
                "FROM SOFTWARE\r\n",
                "WHERE ABS(SCOST-DCOST) = (SELECT MIN(ABS(SCOST-DCOST))\r\n",
                "FROM SOFTWARE)\r\n",
                ""
            ],
            "metadata": {
                "language": "sql",
                "azdata_cell_guid": "0173356a-8a61-45df-af07-bb655d716852"
            },
            "outputs": [
                {
                    "output_type": "display_data",
                    "data": {
                        "text/html": "(1 row affected)"
                    },
                    "metadata": {}
                },
                {
                    "output_type": "display_data",
                    "data": {
                        "text/html": "Total execution time: 00:00:00.015"
                    },
                    "metadata": {}
                },
                {
                    "output_type": "execute_result",
                    "metadata": {},
                    "execution_count": 26,
                    "data": {
                        "application/vnd.dataresource+json": {
                            "schema": {
                                "fields": [
                                    {
                                        "name": "TITLE"
                                    },
                                    {
                                        "name": "SOLD"
                                    }
                                ]
                            },
                            "data": [
                                {
                                    "0": "TSR EDITOR",
                                    "1": "6"
                                }
                            ]
                        },
                        "text/html": [
                            "<table>",
                            "<tr><th>TITLE</th><th>SOLD</th></tr>",
                            "<tr><td>TSR EDITOR</td><td>6</td></tr>",
                            "</table>"
                        ]
                    }
                }
            ],
            "execution_count": 26
        },
        {
            "cell_type": "code",
            "source": [
                "-- 21. Which language has been used to develop the package, which has the highest sales\r\n",
                "-- amount?\r\n",
                "SELECT DEVELOPIN\r\n",
                "FROM SOFTWARE\r\n",
                "WHERE (SCOST*SOLD) = (SELECT MAX(SOLD*SCOST)\r\n",
                "FROM SOFTWARE)"
            ],
            "metadata": {
                "language": "sql",
                "azdata_cell_guid": "8fdcc12d-42ad-47fc-8b88-d341e41138f0"
            },
            "outputs": [
                {
                    "output_type": "display_data",
                    "data": {
                        "text/html": "(1 row affected)"
                    },
                    "metadata": {}
                },
                {
                    "output_type": "display_data",
                    "data": {
                        "text/html": "Total execution time: 00:00:00.010"
                    },
                    "metadata": {}
                },
                {
                    "output_type": "execute_result",
                    "metadata": {},
                    "execution_count": 28,
                    "data": {
                        "application/vnd.dataresource+json": {
                            "schema": {
                                "fields": [
                                    {
                                        "name": "DEVELOPIN"
                                    }
                                ]
                            },
                            "data": [
                                {
                                    "0": "C"
                                }
                            ]
                        },
                        "text/html": [
                            "<table>",
                            "<tr><th>DEVELOPIN</th></tr>",
                            "<tr><td>C</td></tr>",
                            "</table>"
                        ]
                    }
                }
            ],
            "execution_count": 28
        },
        {
            "cell_type": "code",
            "source": [
                "-- 22. Who Developed the Package that has sold the least number of copies?\r\n",
                "SELECT PNAME FROM SOFTWARE WHERE SOLD=(SELECT MIN(SOLD) FROM SOFTWARE)"
            ],
            "metadata": {
                "language": "sql",
                "azdata_cell_guid": "356e18c8-39a1-4977-abd2-3fcbe1f31c8d"
            },
            "outputs": [
                {
                    "output_type": "display_data",
                    "data": {
                        "text/html": "(1 row affected)"
                    },
                    "metadata": {}
                },
                {
                    "output_type": "display_data",
                    "data": {
                        "text/html": "Total execution time: 00:00:00.008"
                    },
                    "metadata": {}
                },
                {
                    "output_type": "execute_result",
                    "metadata": {},
                    "execution_count": 30,
                    "data": {
                        "application/vnd.dataresource+json": {
                            "schema": {
                                "fields": [
                                    {
                                        "name": "PNAME"
                                    }
                                ]
                            },
                            "data": [
                                {
                                    "0": "JULIANA"
                                }
                            ]
                        },
                        "text/html": [
                            "<table>",
                            "<tr><th>PNAME</th></tr>",
                            "<tr><td>JULIANA</td></tr>",
                            "</table>"
                        ]
                    }
                }
            ],
            "execution_count": 30
        },
        {
            "cell_type": "code",
            "source": [
                "-- 23. Display the names of the courses whose fees are within 1000 (+ or -) of the Average Fee\r\n",
                "WITH\r\n",
                "    CTE\r\n",
                "    AS\r\n",
                "    (\r\n",
                "        SELECT AVG([COURSE FEE]) AS AVG_FEE\r\n",
                "        FROM STUDIES\r\n",
                "    )\r\n",
                "\r\n",
                "SELECT *\r\n",
                "FROM STUDIES\r\n",
                "WHERE [COURSE FEE] BETWEEN ((SELECT AVG_FEE\r\n",
                "FROM CTE)-1000) AND ((SELECT AVG_FEE\r\n",
                "FROM CTE)+1000)\r\n",
                ""
            ],
            "metadata": {
                "language": "sql",
                "azdata_cell_guid": "894f700c-6505-40cd-96f1-b920d928447b"
            },
            "outputs": [
                {
                    "output_type": "display_data",
                    "data": {
                        "text/html": "(1 row affected)"
                    },
                    "metadata": {}
                },
                {
                    "output_type": "display_data",
                    "data": {
                        "text/html": "Total execution time: 00:00:00.014"
                    },
                    "metadata": {}
                },
                {
                    "output_type": "execute_result",
                    "metadata": {},
                    "execution_count": 32,
                    "data": {
                        "application/vnd.dataresource+json": {
                            "schema": {
                                "fields": [
                                    {
                                        "name": "PNAME"
                                    },
                                    {
                                        "name": "INSTITUTE"
                                    },
                                    {
                                        "name": "COURSE"
                                    },
                                    {
                                        "name": "COURSE FEE"
                                    }
                                ]
                            },
                            "data": [
                                {
                                    "0": "REBECCA",
                                    "1": "BRILLIANT",
                                    "2": "DCAP",
                                    "3": "11000"
                                }
                            ]
                        },
                        "text/html": [
                            "<table>",
                            "<tr><th>PNAME</th><th>INSTITUTE</th><th>COURSE</th><th>COURSE FEE</th></tr>",
                            "<tr><td>REBECCA</td><td>BRILLIANT</td><td>DCAP</td><td>11000</td></tr>",
                            "</table>"
                        ]
                    }
                }
            ],
            "execution_count": 32
        },
        {
            "cell_type": "code",
            "source": [
                "-- 24. Display the name of the Institute and Course, which has below AVG course fee.\r\n",
                "SELECT INSTITUTE, COURSE\r\n",
                "FROM STUDIES\r\n",
                "WHERE [COURSE FEE]<(SELECT AVG([COURSE FEE])\r\n",
                "FROM STUDIES)\r\n",
                ""
            ],
            "metadata": {
                "language": "sql",
                "azdata_cell_guid": "24edf146-3df3-4a85-933f-e75b854241ba"
            },
            "outputs": [
                {
                    "output_type": "display_data",
                    "data": {
                        "text/html": "(10 rows affected)"
                    },
                    "metadata": {}
                },
                {
                    "output_type": "display_data",
                    "data": {
                        "text/html": "Total execution time: 00:00:00.008"
                    },
                    "metadata": {}
                },
                {
                    "output_type": "execute_result",
                    "metadata": {},
                    "execution_count": 35,
                    "data": {
                        "application/vnd.dataresource+json": {
                            "schema": {
                                "fields": [
                                    {
                                        "name": "INSTITUTE"
                                    },
                                    {
                                        "name": "COURSE"
                                    }
                                ]
                            },
                            "data": [
                                {
                                    "0": "SABHARI",
                                    "1": "PGDCA"
                                },
                                {
                                    "0": "COIT",
                                    "1": "DCA"
                                },
                                {
                                    "0": "PRAGATHI",
                                    "1": "DCA"
                                },
                                {
                                    "0": "SABHARI",
                                    "1": "PGDCA"
                                },
                                {
                                    "0": "PRAGATHI",
                                    "1": "DAP"
                                },
                                {
                                    "0": "PRAGATHI",
                                    "1": "DCAP"
                                },
                                {
                                    "0": "SABHARI",
                                    "1": "PGDCA"
                                },
                                {
                                    "0": "BRILLIANT",
                                    "1": "DCAP"
                                },
                                {
                                    "0": "BDPS",
                                    "1": "DCS"
                                },
                                {
                                    "0": "SABHARI",
                                    "1": "DAP"
                                }
                            ]
                        },
                        "text/html": [
                            "<table>",
                            "<tr><th>INSTITUTE</th><th>COURSE</th></tr>",
                            "<tr><td>SABHARI</td><td>PGDCA</td></tr>",
                            "<tr><td>COIT</td><td>DCA</td></tr>",
                            "<tr><td>PRAGATHI</td><td>DCA</td></tr>",
                            "<tr><td>SABHARI</td><td>PGDCA</td></tr>",
                            "<tr><td>PRAGATHI</td><td>DAP</td></tr>",
                            "<tr><td>PRAGATHI</td><td>DCAP</td></tr>",
                            "<tr><td>SABHARI</td><td>PGDCA</td></tr>",
                            "<tr><td>BRILLIANT</td><td>DCAP</td></tr>",
                            "<tr><td>BDPS</td><td>DCS</td></tr>",
                            "<tr><td>SABHARI</td><td>DAP</td></tr>",
                            "</table>"
                        ]
                    }
                }
            ],
            "execution_count": 35
        },
        {
            "cell_type": "code",
            "source": [
                "-- 25. Which Institute conducts costliest course.\r\n",
                "SELECT INSTITUTE\r\n",
                "FROM STUDIES\r\n",
                "WHERE [COURSE FEE]=(SELECT MAX([COURSE FEE])\r\n",
                "FROM STUDIES)"
            ],
            "metadata": {
                "language": "sql",
                "azdata_cell_guid": "49d8c17f-402e-4c88-ab18-2c5b46d94e98"
            },
            "outputs": [
                {
                    "output_type": "display_data",
                    "data": {
                        "text/html": "(1 row affected)"
                    },
                    "metadata": {}
                },
                {
                    "output_type": "display_data",
                    "data": {
                        "text/html": "Total execution time: 00:00:00.009"
                    },
                    "metadata": {}
                },
                {
                    "output_type": "execute_result",
                    "metadata": {},
                    "execution_count": 37,
                    "data": {
                        "application/vnd.dataresource+json": {
                            "schema": {
                                "fields": [
                                    {
                                        "name": "INSTITUTE"
                                    }
                                ]
                            },
                            "data": [
                                {
                                    "0": "BDPS"
                                }
                            ]
                        },
                        "text/html": [
                            "<table>",
                            "<tr><th>INSTITUTE</th></tr>",
                            "<tr><td>BDPS</td></tr>",
                            "</table>"
                        ]
                    }
                }
            ],
            "execution_count": 37
        },
        {
            "cell_type": "code",
            "source": [
                "-- 26. What is the Costliest course?\r\n",
                "SELECT COURSE FROM STUDIES WHERE [COURSE FEE]=(SELECT MAX([COURSE FEE]) FROM STUDIES)"
            ],
            "metadata": {
                "language": "sql",
                "azdata_cell_guid": "3d2ed834-d9aa-4dfd-8d98-bd6f32b78fb5"
            },
            "outputs": [
                {
                    "output_type": "display_data",
                    "data": {
                        "text/html": "(1 row affected)"
                    },
                    "metadata": {}
                },
                {
                    "output_type": "display_data",
                    "data": {
                        "text/html": "Total execution time: 00:00:00.066"
                    },
                    "metadata": {}
                },
                {
                    "output_type": "execute_result",
                    "metadata": {},
                    "execution_count": 38,
                    "data": {
                        "application/vnd.dataresource+json": {
                            "schema": {
                                "fields": [
                                    {
                                        "name": "COURSE"
                                    }
                                ]
                            },
                            "data": [
                                {
                                    "0": "DCA"
                                }
                            ]
                        },
                        "text/html": [
                            "<table>",
                            "<tr><th>COURSE</th></tr>",
                            "<tr><td>DCA</td></tr>",
                            "</table>"
                        ]
                    }
                }
            ],
            "execution_count": 38
        }
    ]
}
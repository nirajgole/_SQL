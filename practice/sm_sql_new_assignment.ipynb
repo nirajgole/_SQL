{
    "metadata": {
        "kernelspec": {
            "name": "SQL",
            "display_name": "SQL",
            "language": "sql"
        },
        "language_info": {
            "name": "sql",
            "version": ""
        }
    },
    "nbformat_minor": 2,
    "nbformat": 4,
    "cells": [
        {
            "cell_type": "code",
            "source": [
                "-- 1 Display the “FIRST_NAME” from Employee table using the alias name \r\n",
                "-- as Employee_name.\r\n",
                "SELECT FIRST_NAME Employee_name FROM EmployeeDetails"
            ],
            "metadata": {
                "azdata_cell_guid": "55f2b0af-85eb-4067-94dc-ede652407f8c",
                "language": "sql"
            },
            "outputs": [
                {
                    "output_type": "display_data",
                    "data": {
                        "text/html": "(8 rows affected)"
                    },
                    "metadata": {}
                },
                {
                    "output_type": "display_data",
                    "data": {
                        "text/html": "Total execution time: 00:00:00.001"
                    },
                    "metadata": {}
                },
                {
                    "output_type": "execute_result",
                    "metadata": {},
                    "execution_count": 1,
                    "data": {
                        "application/vnd.dataresource+json": {
                            "schema": {
                                "fields": [
                                    {
                                        "name": "Employee_name"
                                    }
                                ]
                            },
                            "data": [
                                {
                                    "0": "Anika"
                                },
                                {
                                    "0": "Veena"
                                },
                                {
                                    "0": "Vishal"
                                },
                                {
                                    "0": "Sushanth"
                                },
                                {
                                    "0": "Bhupal"
                                },
                                {
                                    "0": "Dheeraj"
                                },
                                {
                                    "0": "Karan"
                                },
                                {
                                    "0": "Chandrika"
                                }
                            ]
                        },
                        "text/html": [
                            "<table>",
                            "<tr><th>Employee_name</th></tr>",
                            "<tr><td>Anika</td></tr>",
                            "<tr><td>Veena</td></tr>",
                            "<tr><td>Vishal</td></tr>",
                            "<tr><td>Sushanth</td></tr>",
                            "<tr><td>Bhupal</td></tr>",
                            "<tr><td>Dheeraj</td></tr>",
                            "<tr><td>Karan</td></tr>",
                            "<tr><td>Chandrika</td></tr>",
                            "</table>"
                        ]
                    }
                }
            ],
            "execution_count": 1
        },
        {
            "cell_type": "code",
            "source": [
                "-- 2 Display “LAST_NAME” from Employee table in upper case.\r\n",
                "SELECT UPPER(LAST_NAME) AS LAST_NAME FROM EmployeeDetails"
            ],
            "metadata": {
                "language": "sql",
                "azdata_cell_guid": "14e7de14-e6e6-4b9e-adbd-422e4bc2da71"
            },
            "outputs": [
                {
                    "output_type": "display_data",
                    "data": {
                        "text/html": "(8 rows affected)"
                    },
                    "metadata": {}
                },
                {
                    "output_type": "display_data",
                    "data": {
                        "text/html": "Total execution time: 00:00:00.002"
                    },
                    "metadata": {}
                },
                {
                    "output_type": "execute_result",
                    "metadata": {},
                    "execution_count": 2,
                    "data": {
                        "application/vnd.dataresource+json": {
                            "schema": {
                                "fields": [
                                    {
                                        "name": "LAST_NAME"
                                    }
                                ]
                            },
                            "data": [
                                {
                                    "0": "ARORA"
                                },
                                {
                                    "0": "VERMA"
                                },
                                {
                                    "0": "SINGHAL"
                                },
                                {
                                    "0": "SINGH"
                                },
                                {
                                    "0": "BHATI"
                                },
                                {
                                    "0": "DIWAN"
                                },
                                {
                                    "0": "KUMAR"
                                },
                                {
                                    "0": "CHAUHAN"
                                }
                            ]
                        },
                        "text/html": [
                            "<table>",
                            "<tr><th>LAST_NAME</th></tr>",
                            "<tr><td>ARORA</td></tr>",
                            "<tr><td>VERMA</td></tr>",
                            "<tr><td>SINGHAL</td></tr>",
                            "<tr><td>SINGH</td></tr>",
                            "<tr><td>BHATI</td></tr>",
                            "<tr><td>DIWAN</td></tr>",
                            "<tr><td>KUMAR</td></tr>",
                            "<tr><td>CHAUHAN</td></tr>",
                            "</table>"
                        ]
                    }
                }
            ],
            "execution_count": 2
        },
        {
            "cell_type": "code",
            "source": [
                "-- 3 Display unique values of DEPARTMENT from EMPLOYEE table.\r\n",
                "SELECT DISTINCT Department FROM EmployeeDetails"
            ],
            "metadata": {
                "language": "sql",
                "azdata_cell_guid": "54aeb453-b7bb-494b-93c5-fdca884e8c3e"
            },
            "outputs": [
                {
                    "output_type": "display_data",
                    "data": {
                        "text/html": "(3 rows affected)"
                    },
                    "metadata": {}
                },
                {
                    "output_type": "display_data",
                    "data": {
                        "text/html": "Total execution time: 00:00:00.006"
                    },
                    "metadata": {}
                },
                {
                    "output_type": "execute_result",
                    "metadata": {},
                    "execution_count": 3,
                    "data": {
                        "application/vnd.dataresource+json": {
                            "schema": {
                                "fields": [
                                    {
                                        "name": "Department"
                                    }
                                ]
                            },
                            "data": [
                                {
                                    "0": "Account"
                                },
                                {
                                    "0": "Admin"
                                },
                                {
                                    "0": "HR"
                                }
                            ]
                        },
                        "text/html": [
                            "<table>",
                            "<tr><th>Department</th></tr>",
                            "<tr><td>Account</td></tr>",
                            "<tr><td>Admin</td></tr>",
                            "<tr><td>HR</td></tr>",
                            "</table>"
                        ]
                    }
                }
            ],
            "execution_count": 3
        },
        {
            "cell_type": "code",
            "source": [
                "-- 4 Display the first three characters of LAST_NAME from EMPLOYEE table.\r\n",
                "SELECT SUBSTRING(Last_Name,1,3) FROM EmployeeDetails"
            ],
            "metadata": {
                "language": "sql",
                "azdata_cell_guid": "b081d63a-4528-4a24-8986-99540859c845"
            },
            "outputs": [
                {
                    "output_type": "display_data",
                    "data": {
                        "text/html": "(8 rows affected)"
                    },
                    "metadata": {}
                },
                {
                    "output_type": "display_data",
                    "data": {
                        "text/html": "Total execution time: 00:00:00.002"
                    },
                    "metadata": {}
                },
                {
                    "output_type": "execute_result",
                    "metadata": {},
                    "execution_count": 4,
                    "data": {
                        "application/vnd.dataresource+json": {
                            "schema": {
                                "fields": [
                                    {
                                        "name": "(No column name)"
                                    }
                                ]
                            },
                            "data": [
                                {
                                    "0": "Aro"
                                },
                                {
                                    "0": "Ver"
                                },
                                {
                                    "0": "Sin"
                                },
                                {
                                    "0": "Sin"
                                },
                                {
                                    "0": "Bha"
                                },
                                {
                                    "0": "Diw"
                                },
                                {
                                    "0": "Kum"
                                },
                                {
                                    "0": "Cha"
                                }
                            ]
                        },
                        "text/html": [
                            "<table>",
                            "<tr><th>(No column name)</th></tr>",
                            "<tr><td>Aro</td></tr>",
                            "<tr><td>Ver</td></tr>",
                            "<tr><td>Sin</td></tr>",
                            "<tr><td>Sin</td></tr>",
                            "<tr><td>Bha</td></tr>",
                            "<tr><td>Diw</td></tr>",
                            "<tr><td>Kum</td></tr>",
                            "<tr><td>Cha</td></tr>",
                            "</table>"
                        ]
                    }
                }
            ],
            "execution_count": 4
        },
        {
            "cell_type": "code",
            "source": [
                "-- 5 Display the unique values of DEPARTMENT from EMPLOYEE table and \r\n",
                "-- prints its length.\r\n",
                "SELECT DISTINCT LEN(DEPARTMENT) FROM EmployeeDetails"
            ],
            "metadata": {
                "language": "sql",
                "azdata_cell_guid": "f5a42b0f-9059-4ed1-bf54-c20834ffcf04"
            },
            "outputs": [
                {
                    "output_type": "display_data",
                    "data": {
                        "text/html": "(3 rows affected)"
                    },
                    "metadata": {}
                },
                {
                    "output_type": "display_data",
                    "data": {
                        "text/html": "Total execution time: 00:00:00.003"
                    },
                    "metadata": {}
                },
                {
                    "output_type": "execute_result",
                    "metadata": {},
                    "execution_count": 5,
                    "data": {
                        "application/vnd.dataresource+json": {
                            "schema": {
                                "fields": [
                                    {
                                        "name": "(No column name)"
                                    }
                                ]
                            },
                            "data": [
                                {
                                    "0": "2"
                                },
                                {
                                    "0": "5"
                                },
                                {
                                    "0": "7"
                                }
                            ]
                        },
                        "text/html": [
                            "<table>",
                            "<tr><th>(No column name)</th></tr>",
                            "<tr><td>2</td></tr>",
                            "<tr><td>5</td></tr>",
                            "<tr><td>7</td></tr>",
                            "</table>"
                        ]
                    }
                }
            ],
            "execution_count": 5
        },
        {
            "cell_type": "code",
            "source": [
                "-- 6 Display the FIRST_NAME and LAST_NAME from EMPLOYEE table into a \r\n",
                "-- single column AS FULL_NAME. \r\n",
                "--  a space char should separate them.\r\n",
                "SELECT CONCAT_WS(' ',First_name,Last_Name) AS FULL_NAME\r\n",
                "FROM EmployeeDetails"
            ],
            "metadata": {
                "language": "sql",
                "azdata_cell_guid": "e299f09f-7a7a-4cd3-85d2-67bc2f213abb"
            },
            "outputs": [
                {
                    "output_type": "display_data",
                    "data": {
                        "text/html": "(8 rows affected)"
                    },
                    "metadata": {}
                },
                {
                    "output_type": "display_data",
                    "data": {
                        "text/html": "Total execution time: 00:00:00.002"
                    },
                    "metadata": {}
                },
                {
                    "output_type": "execute_result",
                    "metadata": {},
                    "execution_count": 7,
                    "data": {
                        "application/vnd.dataresource+json": {
                            "schema": {
                                "fields": [
                                    {
                                        "name": "FULL_NAME"
                                    }
                                ]
                            },
                            "data": [
                                {
                                    "0": "Anika Arora"
                                },
                                {
                                    "0": "Veena Verma"
                                },
                                {
                                    "0": "Vishal Singhal"
                                },
                                {
                                    "0": "Sushanth Singh"
                                },
                                {
                                    "0": "Bhupal Bhati"
                                },
                                {
                                    "0": "Dheeraj Diwan"
                                },
                                {
                                    "0": "Karan Kumar"
                                },
                                {
                                    "0": "Chandrika Chauhan"
                                }
                            ]
                        },
                        "text/html": [
                            "<table>",
                            "<tr><th>FULL_NAME</th></tr>",
                            "<tr><td>Anika Arora</td></tr>",
                            "<tr><td>Veena Verma</td></tr>",
                            "<tr><td>Vishal Singhal</td></tr>",
                            "<tr><td>Sushanth Singh</td></tr>",
                            "<tr><td>Bhupal Bhati</td></tr>",
                            "<tr><td>Dheeraj Diwan</td></tr>",
                            "<tr><td>Karan Kumar</td></tr>",
                            "<tr><td>Chandrika Chauhan</td></tr>",
                            "</table>"
                        ]
                    }
                }
            ],
            "execution_count": 7
        },
        {
            "cell_type": "code",
            "source": [
                "-- 7 DISPLAY all EMPLOYEE details from the employee table \r\n",
                "-- order by FIRST_NAME Ascending.\r\n",
                "SELECT * FROM EmployeeDetails ORDER BY First_name"
            ],
            "metadata": {
                "language": "sql",
                "azdata_cell_guid": "7262c33e-4965-4202-ae42-0a9d25f97d71"
            },
            "outputs": [
                {
                    "output_type": "display_data",
                    "data": {
                        "text/html": "(8 rows affected)"
                    },
                    "metadata": {}
                },
                {
                    "output_type": "display_data",
                    "data": {
                        "text/html": "Total execution time: 00:00:00.002"
                    },
                    "metadata": {}
                },
                {
                    "output_type": "execute_result",
                    "metadata": {},
                    "execution_count": 8,
                    "data": {
                        "application/vnd.dataresource+json": {
                            "schema": {
                                "fields": [
                                    {
                                        "name": "Employee_id"
                                    },
                                    {
                                        "name": "First_name"
                                    },
                                    {
                                        "name": "Last_Name"
                                    },
                                    {
                                        "name": "Salary"
                                    },
                                    {
                                        "name": "Joining_date"
                                    },
                                    {
                                        "name": "Department"
                                    }
                                ]
                            },
                            "data": [
                                {
                                    "0": "1",
                                    "1": "Anika",
                                    "2": "Arora",
                                    "3": "100000",
                                    "4": "2020-02-14 09:00:00.0000000",
                                    "5": "HR"
                                },
                                {
                                    "0": "5",
                                    "1": "Bhupal",
                                    "2": "Bhati",
                                    "3": "500000",
                                    "4": "2011-06-18 09:00:00.0000000",
                                    "5": "Admin"
                                },
                                {
                                    "0": "8",
                                    "1": "Chandrika",
                                    "2": "Chauhan",
                                    "3": "90000",
                                    "4": "2011-04-15 09:00:00.0000000",
                                    "5": "Admin"
                                },
                                {
                                    "0": "6",
                                    "1": "Dheeraj",
                                    "2": "Diwan",
                                    "3": "200000",
                                    "4": "2011-06-19 09:00:00.0000000",
                                    "5": "Account"
                                },
                                {
                                    "0": "7",
                                    "1": "Karan",
                                    "2": "Kumar",
                                    "3": "75000",
                                    "4": "2020-01-14 09:00:00.0000000",
                                    "5": "Account"
                                },
                                {
                                    "0": "4",
                                    "1": "Sushanth",
                                    "2": "Singh",
                                    "3": "500000",
                                    "4": "2020-02-17 09:00:00.0000000",
                                    "5": "Admin"
                                },
                                {
                                    "0": "2",
                                    "1": "Veena",
                                    "2": "Verma",
                                    "3": "80000",
                                    "4": "2011-06-15 09:00:00.0000000",
                                    "5": "Admin"
                                },
                                {
                                    "0": "3",
                                    "1": "Vishal",
                                    "2": "Singhal",
                                    "3": "300000",
                                    "4": "2020-02-16 09:00:00.0000000",
                                    "5": "HR"
                                }
                            ]
                        },
                        "text/html": [
                            "<table>",
                            "<tr><th>Employee_id</th><th>First_name</th><th>Last_Name</th><th>Salary</th><th>Joining_date</th><th>Department</th></tr>",
                            "<tr><td>1</td><td>Anika</td><td>Arora</td><td>100000</td><td>2020-02-14 09:00:00.0000000</td><td>HR</td></tr>",
                            "<tr><td>5</td><td>Bhupal</td><td>Bhati</td><td>500000</td><td>2011-06-18 09:00:00.0000000</td><td>Admin</td></tr>",
                            "<tr><td>8</td><td>Chandrika</td><td>Chauhan</td><td>90000</td><td>2011-04-15 09:00:00.0000000</td><td>Admin</td></tr>",
                            "<tr><td>6</td><td>Dheeraj</td><td>Diwan</td><td>200000</td><td>2011-06-19 09:00:00.0000000</td><td>Account</td></tr>",
                            "<tr><td>7</td><td>Karan</td><td>Kumar</td><td>75000</td><td>2020-01-14 09:00:00.0000000</td><td>Account</td></tr>",
                            "<tr><td>4</td><td>Sushanth</td><td>Singh</td><td>500000</td><td>2020-02-17 09:00:00.0000000</td><td>Admin</td></tr>",
                            "<tr><td>2</td><td>Veena</td><td>Verma</td><td>80000</td><td>2011-06-15 09:00:00.0000000</td><td>Admin</td></tr>",
                            "<tr><td>3</td><td>Vishal</td><td>Singhal</td><td>300000</td><td>2020-02-16 09:00:00.0000000</td><td>HR</td></tr>",
                            "</table>"
                        ]
                    }
                }
            ],
            "execution_count": 8
        },
        {
            "cell_type": "code",
            "source": [
                "-- 8. Display all EMPLOYEE details order by FIRST_NAME Ascending and\r\n",
                "-- DEPARTMENT Descending.\r\n",
                "SELECT * FROM EmployeeDetails ORDER BY First_name, Department DESC"
            ],
            "metadata": {
                "language": "sql",
                "azdata_cell_guid": "01364cc6-dd10-4cef-9d12-631818750b70"
            },
            "outputs": [
                {
                    "output_type": "display_data",
                    "data": {
                        "text/html": "(8 rows affected)"
                    },
                    "metadata": {}
                },
                {
                    "output_type": "display_data",
                    "data": {
                        "text/html": "Total execution time: 00:00:00.002"
                    },
                    "metadata": {}
                },
                {
                    "output_type": "execute_result",
                    "metadata": {},
                    "execution_count": 9,
                    "data": {
                        "application/vnd.dataresource+json": {
                            "schema": {
                                "fields": [
                                    {
                                        "name": "Employee_id"
                                    },
                                    {
                                        "name": "First_name"
                                    },
                                    {
                                        "name": "Last_Name"
                                    },
                                    {
                                        "name": "Salary"
                                    },
                                    {
                                        "name": "Joining_date"
                                    },
                                    {
                                        "name": "Department"
                                    }
                                ]
                            },
                            "data": [
                                {
                                    "0": "1",
                                    "1": "Anika",
                                    "2": "Arora",
                                    "3": "100000",
                                    "4": "2020-02-14 09:00:00.0000000",
                                    "5": "HR"
                                },
                                {
                                    "0": "5",
                                    "1": "Bhupal",
                                    "2": "Bhati",
                                    "3": "500000",
                                    "4": "2011-06-18 09:00:00.0000000",
                                    "5": "Admin"
                                },
                                {
                                    "0": "8",
                                    "1": "Chandrika",
                                    "2": "Chauhan",
                                    "3": "90000",
                                    "4": "2011-04-15 09:00:00.0000000",
                                    "5": "Admin"
                                },
                                {
                                    "0": "6",
                                    "1": "Dheeraj",
                                    "2": "Diwan",
                                    "3": "200000",
                                    "4": "2011-06-19 09:00:00.0000000",
                                    "5": "Account"
                                },
                                {
                                    "0": "7",
                                    "1": "Karan",
                                    "2": "Kumar",
                                    "3": "75000",
                                    "4": "2020-01-14 09:00:00.0000000",
                                    "5": "Account"
                                },
                                {
                                    "0": "4",
                                    "1": "Sushanth",
                                    "2": "Singh",
                                    "3": "500000",
                                    "4": "2020-02-17 09:00:00.0000000",
                                    "5": "Admin"
                                },
                                {
                                    "0": "2",
                                    "1": "Veena",
                                    "2": "Verma",
                                    "3": "80000",
                                    "4": "2011-06-15 09:00:00.0000000",
                                    "5": "Admin"
                                },
                                {
                                    "0": "3",
                                    "1": "Vishal",
                                    "2": "Singhal",
                                    "3": "300000",
                                    "4": "2020-02-16 09:00:00.0000000",
                                    "5": "HR"
                                }
                            ]
                        },
                        "text/html": [
                            "<table>",
                            "<tr><th>Employee_id</th><th>First_name</th><th>Last_Name</th><th>Salary</th><th>Joining_date</th><th>Department</th></tr>",
                            "<tr><td>1</td><td>Anika</td><td>Arora</td><td>100000</td><td>2020-02-14 09:00:00.0000000</td><td>HR</td></tr>",
                            "<tr><td>5</td><td>Bhupal</td><td>Bhati</td><td>500000</td><td>2011-06-18 09:00:00.0000000</td><td>Admin</td></tr>",
                            "<tr><td>8</td><td>Chandrika</td><td>Chauhan</td><td>90000</td><td>2011-04-15 09:00:00.0000000</td><td>Admin</td></tr>",
                            "<tr><td>6</td><td>Dheeraj</td><td>Diwan</td><td>200000</td><td>2011-06-19 09:00:00.0000000</td><td>Account</td></tr>",
                            "<tr><td>7</td><td>Karan</td><td>Kumar</td><td>75000</td><td>2020-01-14 09:00:00.0000000</td><td>Account</td></tr>",
                            "<tr><td>4</td><td>Sushanth</td><td>Singh</td><td>500000</td><td>2020-02-17 09:00:00.0000000</td><td>Admin</td></tr>",
                            "<tr><td>2</td><td>Veena</td><td>Verma</td><td>80000</td><td>2011-06-15 09:00:00.0000000</td><td>Admin</td></tr>",
                            "<tr><td>3</td><td>Vishal</td><td>Singhal</td><td>300000</td><td>2020-02-16 09:00:00.0000000</td><td>HR</td></tr>",
                            "</table>"
                        ]
                    }
                }
            ],
            "execution_count": 9
        },
        {
            "cell_type": "code",
            "source": [
                "-- 9 Display details for EMPLOYEE with the first name as “VEENA” and \r\n",
                "-- “KARAN” from EMPLOYEE table.\r\n",
                "SELECT * FROM EmployeeDetails WHERE First_name IN ('VEENA','KARAN')"
            ],
            "metadata": {
                "language": "sql",
                "azdata_cell_guid": "df3af37b-eac9-4def-a991-a7de82f1fbba"
            },
            "outputs": [
                {
                    "output_type": "display_data",
                    "data": {
                        "text/html": "(2 rows affected)"
                    },
                    "metadata": {}
                },
                {
                    "output_type": "display_data",
                    "data": {
                        "text/html": "Total execution time: 00:00:00.008"
                    },
                    "metadata": {}
                },
                {
                    "output_type": "execute_result",
                    "metadata": {},
                    "execution_count": 10,
                    "data": {
                        "application/vnd.dataresource+json": {
                            "schema": {
                                "fields": [
                                    {
                                        "name": "Employee_id"
                                    },
                                    {
                                        "name": "First_name"
                                    },
                                    {
                                        "name": "Last_Name"
                                    },
                                    {
                                        "name": "Salary"
                                    },
                                    {
                                        "name": "Joining_date"
                                    },
                                    {
                                        "name": "Department"
                                    }
                                ]
                            },
                            "data": [
                                {
                                    "0": "2",
                                    "1": "Veena",
                                    "2": "Verma",
                                    "3": "80000",
                                    "4": "2011-06-15 09:00:00.0000000",
                                    "5": "Admin"
                                },
                                {
                                    "0": "7",
                                    "1": "Karan",
                                    "2": "Kumar",
                                    "3": "75000",
                                    "4": "2020-01-14 09:00:00.0000000",
                                    "5": "Account"
                                }
                            ]
                        },
                        "text/html": [
                            "<table>",
                            "<tr><th>Employee_id</th><th>First_name</th><th>Last_Name</th><th>Salary</th><th>Joining_date</th><th>Department</th></tr>",
                            "<tr><td>2</td><td>Veena</td><td>Verma</td><td>80000</td><td>2011-06-15 09:00:00.0000000</td><td>Admin</td></tr>",
                            "<tr><td>7</td><td>Karan</td><td>Kumar</td><td>75000</td><td>2020-01-14 09:00:00.0000000</td><td>Account</td></tr>",
                            "</table>"
                        ]
                    }
                }
            ],
            "execution_count": 10
        },
        {
            "cell_type": "code",
            "source": [
                "-- 10 Display details of EMPLOYEE with DEPARTMENT name as “Admin”.\r\n",
                "SELECT * FROM EmployeeDetails WHERE Department='ADMIN'"
            ],
            "metadata": {
                "language": "sql",
                "azdata_cell_guid": "f30d6fb9-73cb-4276-959e-fe148323f4d1"
            },
            "outputs": [
                {
                    "output_type": "display_data",
                    "data": {
                        "text/html": "(4 rows affected)"
                    },
                    "metadata": {}
                },
                {
                    "output_type": "display_data",
                    "data": {
                        "text/html": "Total execution time: 00:00:00.003"
                    },
                    "metadata": {}
                },
                {
                    "output_type": "execute_result",
                    "metadata": {},
                    "execution_count": 11,
                    "data": {
                        "application/vnd.dataresource+json": {
                            "schema": {
                                "fields": [
                                    {
                                        "name": "Employee_id"
                                    },
                                    {
                                        "name": "First_name"
                                    },
                                    {
                                        "name": "Last_Name"
                                    },
                                    {
                                        "name": "Salary"
                                    },
                                    {
                                        "name": "Joining_date"
                                    },
                                    {
                                        "name": "Department"
                                    }
                                ]
                            },
                            "data": [
                                {
                                    "0": "2",
                                    "1": "Veena",
                                    "2": "Verma",
                                    "3": "80000",
                                    "4": "2011-06-15 09:00:00.0000000",
                                    "5": "Admin"
                                },
                                {
                                    "0": "4",
                                    "1": "Sushanth",
                                    "2": "Singh",
                                    "3": "500000",
                                    "4": "2020-02-17 09:00:00.0000000",
                                    "5": "Admin"
                                },
                                {
                                    "0": "5",
                                    "1": "Bhupal",
                                    "2": "Bhati",
                                    "3": "500000",
                                    "4": "2011-06-18 09:00:00.0000000",
                                    "5": "Admin"
                                },
                                {
                                    "0": "8",
                                    "1": "Chandrika",
                                    "2": "Chauhan",
                                    "3": "90000",
                                    "4": "2011-04-15 09:00:00.0000000",
                                    "5": "Admin"
                                }
                            ]
                        },
                        "text/html": [
                            "<table>",
                            "<tr><th>Employee_id</th><th>First_name</th><th>Last_Name</th><th>Salary</th><th>Joining_date</th><th>Department</th></tr>",
                            "<tr><td>2</td><td>Veena</td><td>Verma</td><td>80000</td><td>2011-06-15 09:00:00.0000000</td><td>Admin</td></tr>",
                            "<tr><td>4</td><td>Sushanth</td><td>Singh</td><td>500000</td><td>2020-02-17 09:00:00.0000000</td><td>Admin</td></tr>",
                            "<tr><td>5</td><td>Bhupal</td><td>Bhati</td><td>500000</td><td>2011-06-18 09:00:00.0000000</td><td>Admin</td></tr>",
                            "<tr><td>8</td><td>Chandrika</td><td>Chauhan</td><td>90000</td><td>2011-04-15 09:00:00.0000000</td><td>Admin</td></tr>",
                            "</table>"
                        ]
                    }
                }
            ],
            "execution_count": 11
        },
        {
            "cell_type": "code",
            "source": [
                "-- 11 DISPLAY details of the EMPLOYEES whose FIRST_NAME contains ‘V’.\r\n",
                "SELECT * FROM EmployeeDetails WHERE First_name LIKE 'v%'"
            ],
            "metadata": {
                "language": "sql",
                "azdata_cell_guid": "81e28997-f750-4bdc-9590-9fc8da461d6d"
            },
            "outputs": [
                {
                    "output_type": "display_data",
                    "data": {
                        "text/html": "(2 rows affected)"
                    },
                    "metadata": {}
                },
                {
                    "output_type": "display_data",
                    "data": {
                        "text/html": "Total execution time: 00:00:00.002"
                    },
                    "metadata": {}
                },
                {
                    "output_type": "execute_result",
                    "metadata": {},
                    "execution_count": 12,
                    "data": {
                        "application/vnd.dataresource+json": {
                            "schema": {
                                "fields": [
                                    {
                                        "name": "Employee_id"
                                    },
                                    {
                                        "name": "First_name"
                                    },
                                    {
                                        "name": "Last_Name"
                                    },
                                    {
                                        "name": "Salary"
                                    },
                                    {
                                        "name": "Joining_date"
                                    },
                                    {
                                        "name": "Department"
                                    }
                                ]
                            },
                            "data": [
                                {
                                    "0": "2",
                                    "1": "Veena",
                                    "2": "Verma",
                                    "3": "80000",
                                    "4": "2011-06-15 09:00:00.0000000",
                                    "5": "Admin"
                                },
                                {
                                    "0": "3",
                                    "1": "Vishal",
                                    "2": "Singhal",
                                    "3": "300000",
                                    "4": "2020-02-16 09:00:00.0000000",
                                    "5": "HR"
                                }
                            ]
                        },
                        "text/html": [
                            "<table>",
                            "<tr><th>Employee_id</th><th>First_name</th><th>Last_Name</th><th>Salary</th><th>Joining_date</th><th>Department</th></tr>",
                            "<tr><td>2</td><td>Veena</td><td>Verma</td><td>80000</td><td>2011-06-15 09:00:00.0000000</td><td>Admin</td></tr>",
                            "<tr><td>3</td><td>Vishal</td><td>Singhal</td><td>300000</td><td>2020-02-16 09:00:00.0000000</td><td>HR</td></tr>",
                            "</table>"
                        ]
                    }
                }
            ],
            "execution_count": 12
        },
        {
            "cell_type": "code",
            "source": [
                "-- 12 DISPLAY details of the EMPLOYEES whose SALARY lies between \r\n",
                "-- 100000 and 500000.\r\n",
                "SELECT * FROM EmployeeDetails WHERE Salary BETWEEN 100000 AND 500000"
            ],
            "metadata": {
                "language": "sql",
                "azdata_cell_guid": "e818217f-43bc-4143-af51-f68f5af3e9e6"
            },
            "outputs": [
                {
                    "output_type": "display_data",
                    "data": {
                        "text/html": "(5 rows affected)"
                    },
                    "metadata": {}
                },
                {
                    "output_type": "display_data",
                    "data": {
                        "text/html": "Total execution time: 00:00:00.027"
                    },
                    "metadata": {}
                },
                {
                    "output_type": "execute_result",
                    "metadata": {},
                    "execution_count": 13,
                    "data": {
                        "application/vnd.dataresource+json": {
                            "schema": {
                                "fields": [
                                    {
                                        "name": "Employee_id"
                                    },
                                    {
                                        "name": "First_name"
                                    },
                                    {
                                        "name": "Last_Name"
                                    },
                                    {
                                        "name": "Salary"
                                    },
                                    {
                                        "name": "Joining_date"
                                    },
                                    {
                                        "name": "Department"
                                    }
                                ]
                            },
                            "data": [
                                {
                                    "0": "1",
                                    "1": "Anika",
                                    "2": "Arora",
                                    "3": "100000",
                                    "4": "2020-02-14 09:00:00.0000000",
                                    "5": "HR"
                                },
                                {
                                    "0": "3",
                                    "1": "Vishal",
                                    "2": "Singhal",
                                    "3": "300000",
                                    "4": "2020-02-16 09:00:00.0000000",
                                    "5": "HR"
                                },
                                {
                                    "0": "4",
                                    "1": "Sushanth",
                                    "2": "Singh",
                                    "3": "500000",
                                    "4": "2020-02-17 09:00:00.0000000",
                                    "5": "Admin"
                                },
                                {
                                    "0": "5",
                                    "1": "Bhupal",
                                    "2": "Bhati",
                                    "3": "500000",
                                    "4": "2011-06-18 09:00:00.0000000",
                                    "5": "Admin"
                                },
                                {
                                    "0": "6",
                                    "1": "Dheeraj",
                                    "2": "Diwan",
                                    "3": "200000",
                                    "4": "2011-06-19 09:00:00.0000000",
                                    "5": "Account"
                                }
                            ]
                        },
                        "text/html": [
                            "<table>",
                            "<tr><th>Employee_id</th><th>First_name</th><th>Last_Name</th><th>Salary</th><th>Joining_date</th><th>Department</th></tr>",
                            "<tr><td>1</td><td>Anika</td><td>Arora</td><td>100000</td><td>2020-02-14 09:00:00.0000000</td><td>HR</td></tr>",
                            "<tr><td>3</td><td>Vishal</td><td>Singhal</td><td>300000</td><td>2020-02-16 09:00:00.0000000</td><td>HR</td></tr>",
                            "<tr><td>4</td><td>Sushanth</td><td>Singh</td><td>500000</td><td>2020-02-17 09:00:00.0000000</td><td>Admin</td></tr>",
                            "<tr><td>5</td><td>Bhupal</td><td>Bhati</td><td>500000</td><td>2011-06-18 09:00:00.0000000</td><td>Admin</td></tr>",
                            "<tr><td>6</td><td>Dheeraj</td><td>Diwan</td><td>200000</td><td>2011-06-19 09:00:00.0000000</td><td>Account</td></tr>",
                            "</table>"
                        ]
                    }
                }
            ],
            "execution_count": 13
        },
        {
            "cell_type": "code",
            "source": [
                "-- 13 Display details of the employees who have joined in Feb-2020.\r\n",
                "SELECT * FROM EmployeeDetails WHERE Joining_date BETWEEN '2020-02-01' AND '2020-02-29'"
            ],
            "metadata": {
                "language": "sql",
                "azdata_cell_guid": "ceb1616f-e815-4c53-97b4-e81be0c84de4"
            },
            "outputs": [
                {
                    "output_type": "display_data",
                    "data": {
                        "text/html": "(3 rows affected)"
                    },
                    "metadata": {}
                },
                {
                    "output_type": "display_data",
                    "data": {
                        "text/html": "Total execution time: 00:00:00.002"
                    },
                    "metadata": {}
                },
                {
                    "output_type": "execute_result",
                    "metadata": {},
                    "execution_count": 16,
                    "data": {
                        "application/vnd.dataresource+json": {
                            "schema": {
                                "fields": [
                                    {
                                        "name": "Employee_id"
                                    },
                                    {
                                        "name": "First_name"
                                    },
                                    {
                                        "name": "Last_Name"
                                    },
                                    {
                                        "name": "Salary"
                                    },
                                    {
                                        "name": "Joining_date"
                                    },
                                    {
                                        "name": "Department"
                                    }
                                ]
                            },
                            "data": [
                                {
                                    "0": "1",
                                    "1": "Anika",
                                    "2": "Arora",
                                    "3": "100000",
                                    "4": "2020-02-14 09:00:00.0000000",
                                    "5": "HR"
                                },
                                {
                                    "0": "3",
                                    "1": "Vishal",
                                    "2": "Singhal",
                                    "3": "300000",
                                    "4": "2020-02-16 09:00:00.0000000",
                                    "5": "HR"
                                },
                                {
                                    "0": "4",
                                    "1": "Sushanth",
                                    "2": "Singh",
                                    "3": "500000",
                                    "4": "2020-02-17 09:00:00.0000000",
                                    "5": "Admin"
                                }
                            ]
                        },
                        "text/html": [
                            "<table>",
                            "<tr><th>Employee_id</th><th>First_name</th><th>Last_Name</th><th>Salary</th><th>Joining_date</th><th>Department</th></tr>",
                            "<tr><td>1</td><td>Anika</td><td>Arora</td><td>100000</td><td>2020-02-14 09:00:00.0000000</td><td>HR</td></tr>",
                            "<tr><td>3</td><td>Vishal</td><td>Singhal</td><td>300000</td><td>2020-02-16 09:00:00.0000000</td><td>HR</td></tr>",
                            "<tr><td>4</td><td>Sushanth</td><td>Singh</td><td>500000</td><td>2020-02-17 09:00:00.0000000</td><td>Admin</td></tr>",
                            "</table>"
                        ]
                    }
                }
            ],
            "execution_count": 16
        },
        {
            "cell_type": "code",
            "source": [
                "-- 14 Display employee names with salaries >= 50000 and <= 100000.\r\n",
                "SELECT First_name FROM EmployeeDetails WHERE Salary BETWEEN 50000 AND 100000"
            ],
            "metadata": {
                "language": "sql",
                "azdata_cell_guid": "d8cce8d8-6e4a-4272-aea6-6cb867a8a46d"
            },
            "outputs": [
                {
                    "output_type": "display_data",
                    "data": {
                        "text/html": "(4 rows affected)"
                    },
                    "metadata": {}
                },
                {
                    "output_type": "display_data",
                    "data": {
                        "text/html": "Total execution time: 00:00:00.002"
                    },
                    "metadata": {}
                },
                {
                    "output_type": "execute_result",
                    "metadata": {},
                    "execution_count": 17,
                    "data": {
                        "application/vnd.dataresource+json": {
                            "schema": {
                                "fields": [
                                    {
                                        "name": "First_name"
                                    }
                                ]
                            },
                            "data": [
                                {
                                    "0": "Anika"
                                },
                                {
                                    "0": "Veena"
                                },
                                {
                                    "0": "Karan"
                                },
                                {
                                    "0": "Chandrika"
                                }
                            ]
                        },
                        "text/html": [
                            "<table>",
                            "<tr><th>First_name</th></tr>",
                            "<tr><td>Anika</td></tr>",
                            "<tr><td>Veena</td></tr>",
                            "<tr><td>Karan</td></tr>",
                            "<tr><td>Chandrika</td></tr>",
                            "</table>"
                        ]
                    }
                }
            ],
            "execution_count": 17
        },
        {
            "cell_type": "code",
            "source": [
                "-- 15 Display the number of Employees for each department in the \r\n",
                "-- descenting order.\r\n",
                "SELECT Department,COUNT(*) AS \"number of Employees\" FROM EmployeeDetails GROUP BY Department"
            ],
            "metadata": {
                "language": "sql",
                "azdata_cell_guid": "013f8f87-99b8-48e9-9790-b49e38759db8"
            },
            "outputs": [
                {
                    "output_type": "display_data",
                    "data": {
                        "text/html": "(3 rows affected)"
                    },
                    "metadata": {}
                },
                {
                    "output_type": "display_data",
                    "data": {
                        "text/html": "Total execution time: 00:00:00.002"
                    },
                    "metadata": {}
                },
                {
                    "output_type": "execute_result",
                    "metadata": {},
                    "execution_count": 19,
                    "data": {
                        "application/vnd.dataresource+json": {
                            "schema": {
                                "fields": [
                                    {
                                        "name": "Department"
                                    },
                                    {
                                        "name": "number of Employees"
                                    }
                                ]
                            },
                            "data": [
                                {
                                    "0": "Account",
                                    "1": "2"
                                },
                                {
                                    "0": "Admin",
                                    "1": "4"
                                },
                                {
                                    "0": "HR",
                                    "1": "2"
                                }
                            ]
                        },
                        "text/html": [
                            "<table>",
                            "<tr><th>Department</th><th>number of Employees</th></tr>",
                            "<tr><td>Account</td><td>2</td></tr>",
                            "<tr><td>Admin</td><td>4</td></tr>",
                            "<tr><td>HR</td><td>2</td></tr>",
                            "</table>"
                        ]
                    }
                }
            ],
            "execution_count": 19
        },
        {
            "cell_type": "code",
            "source": [
                "-- 16 DISPLAY details of the EMPLOYEES who are also Managers.\r\n",
                "SELECT * FROM EmployeeDetails E LEFT JOIN EmployeeTitle ET ON E.Employee_id=ET.Employee_ref_id WHERE Employee_Title='Manager'"
            ],
            "metadata": {
                "language": "sql",
                "azdata_cell_guid": "b80ebf77-876d-436f-b27e-060eab5f3007"
            },
            "outputs": [
                {
                    "output_type": "display_data",
                    "data": {
                        "text/html": "(2 rows affected)"
                    },
                    "metadata": {}
                },
                {
                    "output_type": "display_data",
                    "data": {
                        "text/html": "Total execution time: 00:00:00.011"
                    },
                    "metadata": {}
                },
                {
                    "output_type": "execute_result",
                    "metadata": {},
                    "execution_count": 20,
                    "data": {
                        "application/vnd.dataresource+json": {
                            "schema": {
                                "fields": [
                                    {
                                        "name": "Employee_id"
                                    },
                                    {
                                        "name": "First_name"
                                    },
                                    {
                                        "name": "Last_Name"
                                    },
                                    {
                                        "name": "Salary"
                                    },
                                    {
                                        "name": "Joining_date"
                                    },
                                    {
                                        "name": "Department"
                                    },
                                    {
                                        "name": "Employee_ref_id"
                                    },
                                    {
                                        "name": "Employee_title"
                                    },
                                    {
                                        "name": "Affective_Date"
                                    }
                                ]
                            },
                            "data": [
                                {
                                    "0": "1",
                                    "1": "Anika",
                                    "2": "Arora",
                                    "3": "100000",
                                    "4": "2020-02-14 09:00:00.0000000",
                                    "5": "HR",
                                    "6": "1",
                                    "7": "Manager",
                                    "8": "2016-02-20 00:00:00.0000000"
                                },
                                {
                                    "0": "5",
                                    "1": "Bhupal",
                                    "2": "Bhati",
                                    "3": "500000",
                                    "4": "2011-06-18 09:00:00.0000000",
                                    "5": "Admin",
                                    "6": "5",
                                    "7": "Manager",
                                    "8": "2016-06-11 00:00:00.0000000"
                                }
                            ]
                        },
                        "text/html": [
                            "<table>",
                            "<tr><th>Employee_id</th><th>First_name</th><th>Last_Name</th><th>Salary</th><th>Joining_date</th><th>Department</th><th>Employee_ref_id</th><th>Employee_title</th><th>Affective_Date</th></tr>",
                            "<tr><td>1</td><td>Anika</td><td>Arora</td><td>100000</td><td>2020-02-14 09:00:00.0000000</td><td>HR</td><td>1</td><td>Manager</td><td>2016-02-20 00:00:00.0000000</td></tr>",
                            "<tr><td>5</td><td>Bhupal</td><td>Bhati</td><td>500000</td><td>2011-06-18 09:00:00.0000000</td><td>Admin</td><td>5</td><td>Manager</td><td>2016-06-11 00:00:00.0000000</td></tr>",
                            "</table>"
                        ]
                    }
                }
            ],
            "execution_count": 20
        },
        {
            "cell_type": "code",
            "source": [
                "-- 17 DISPLAY duplicate records having matching data in some fields of a \r\n",
                "-- table. \r\n",
                "-- ???????????? please explain this "
            ],
            "metadata": {
                "language": "sql",
                "azdata_cell_guid": "5a031d6c-d733-4909-b32e-bbed4efddab2"
            },
            "outputs": [],
            "execution_count": null
        },
        {
            "cell_type": "code",
            "source": [
                "-- 18 Display only odd rows from a table. \r\n",
                "SELECT * FROM (SELECT *,ROW_NUMBER() OVER(ORDER BY Employee_id) AS RWN FROM EmployeeDetails) A WHERE RWN%2!=0"
            ],
            "metadata": {
                "language": "sql",
                "azdata_cell_guid": "cd11f79a-9b84-4943-9d5a-fabf8cc0b37b"
            },
            "outputs": [
                {
                    "output_type": "display_data",
                    "data": {
                        "text/html": "(4 rows affected)"
                    },
                    "metadata": {}
                },
                {
                    "output_type": "display_data",
                    "data": {
                        "text/html": "Total execution time: 00:00:00.002"
                    },
                    "metadata": {}
                },
                {
                    "output_type": "execute_result",
                    "metadata": {},
                    "execution_count": 26,
                    "data": {
                        "application/vnd.dataresource+json": {
                            "schema": {
                                "fields": [
                                    {
                                        "name": "Employee_id"
                                    },
                                    {
                                        "name": "First_name"
                                    },
                                    {
                                        "name": "Last_Name"
                                    },
                                    {
                                        "name": "Salary"
                                    },
                                    {
                                        "name": "Joining_date"
                                    },
                                    {
                                        "name": "Department"
                                    },
                                    {
                                        "name": "RWN"
                                    }
                                ]
                            },
                            "data": [
                                {
                                    "0": "1",
                                    "1": "Anika",
                                    "2": "Arora",
                                    "3": "100000",
                                    "4": "2020-02-14 09:00:00.0000000",
                                    "5": "HR",
                                    "6": "1"
                                },
                                {
                                    "0": "3",
                                    "1": "Vishal",
                                    "2": "Singhal",
                                    "3": "300000",
                                    "4": "2020-02-16 09:00:00.0000000",
                                    "5": "HR",
                                    "6": "3"
                                },
                                {
                                    "0": "5",
                                    "1": "Bhupal",
                                    "2": "Bhati",
                                    "3": "500000",
                                    "4": "2011-06-18 09:00:00.0000000",
                                    "5": "Admin",
                                    "6": "5"
                                },
                                {
                                    "0": "7",
                                    "1": "Karan",
                                    "2": "Kumar",
                                    "3": "75000",
                                    "4": "2020-01-14 09:00:00.0000000",
                                    "5": "Account",
                                    "6": "7"
                                }
                            ]
                        },
                        "text/html": [
                            "<table>",
                            "<tr><th>Employee_id</th><th>First_name</th><th>Last_Name</th><th>Salary</th><th>Joining_date</th><th>Department</th><th>RWN</th></tr>",
                            "<tr><td>1</td><td>Anika</td><td>Arora</td><td>100000</td><td>2020-02-14 09:00:00.0000000</td><td>HR</td><td>1</td></tr>",
                            "<tr><td>3</td><td>Vishal</td><td>Singhal</td><td>300000</td><td>2020-02-16 09:00:00.0000000</td><td>HR</td><td>3</td></tr>",
                            "<tr><td>5</td><td>Bhupal</td><td>Bhati</td><td>500000</td><td>2011-06-18 09:00:00.0000000</td><td>Admin</td><td>5</td></tr>",
                            "<tr><td>7</td><td>Karan</td><td>Kumar</td><td>75000</td><td>2020-01-14 09:00:00.0000000</td><td>Account</td><td>7</td></tr>",
                            "</table>"
                        ]
                    }
                }
            ],
            "execution_count": 26
        },
        {
            "cell_type": "code",
            "source": [
                "-- 19 Clone a new table from EMPLOYEE table.\r\n",
                "-- SIMPLE CLONING\r\n",
                "-- select *\r\n",
                "-- into EMPD1\r\n",
                "-- from EmployeeDetails\r\n",
                "-- where 1 = 0;\r\n",
                "\r\n",
                "-- DEEP CLONING\r\n",
                "select *\r\n",
                "into EMPD1\r\n",
                "from EmployeeDetails"
            ],
            "metadata": {
                "language": "sql",
                "azdata_cell_guid": "85a00728-237e-4e81-8b54-0059ae5827b8"
            },
            "outputs": [
                {
                    "output_type": "display_data",
                    "data": {
                        "text/html": "(8 rows affected)"
                    },
                    "metadata": {}
                },
                {
                    "output_type": "display_data",
                    "data": {
                        "text/html": "Total execution time: 00:00:00.025"
                    },
                    "metadata": {}
                }
            ],
            "execution_count": 29
        },
        {
            "cell_type": "code",
            "source": [
                "-- 20 DISPLAY the TOP 2 highest salary from a table.\r\n",
                "SELECT DISTINCT TOP 2 SALARY FROM EmployeeDetails ORDER BY Salary DESC"
            ],
            "metadata": {
                "language": "sql",
                "azdata_cell_guid": "0e7f5f86-5c8e-4a8e-8869-0eb00ae2851e"
            },
            "outputs": [
                {
                    "output_type": "display_data",
                    "data": {
                        "text/html": "(2 rows affected)"
                    },
                    "metadata": {}
                },
                {
                    "output_type": "display_data",
                    "data": {
                        "text/html": "Total execution time: 00:00:00.002"
                    },
                    "metadata": {}
                },
                {
                    "output_type": "execute_result",
                    "metadata": {},
                    "execution_count": 31,
                    "data": {
                        "application/vnd.dataresource+json": {
                            "schema": {
                                "fields": [
                                    {
                                        "name": "SALARY"
                                    }
                                ]
                            },
                            "data": [
                                {
                                    "0": "500000"
                                },
                                {
                                    "0": "300000"
                                }
                            ]
                        },
                        "text/html": [
                            "<table>",
                            "<tr><th>SALARY</th></tr>",
                            "<tr><td>500000</td></tr>",
                            "<tr><td>300000</td></tr>",
                            "</table>"
                        ]
                    }
                }
            ],
            "execution_count": 31
        },
        {
            "cell_type": "code",
            "source": [
                "-- 21. DISPLAY the list of employees with the same salary.\r\n",
                "SELECT *\r\n",
                "FROM EmployeeDetails\r\n",
                "WHERE SALARY IN (SELECT SALARY\r\n",
                "FROM EmployeeDetails\r\n",
                "GROUP BY Salary\r\n",
                "HAVING COUNT(*)>1)"
            ],
            "metadata": {
                "language": "sql",
                "azdata_cell_guid": "fea1be26-7b36-4c42-92a5-36ad4cae4182"
            },
            "outputs": [
                {
                    "output_type": "display_data",
                    "data": {
                        "text/html": "(2 rows affected)"
                    },
                    "metadata": {}
                },
                {
                    "output_type": "display_data",
                    "data": {
                        "text/html": "Total execution time: 00:00:00.004"
                    },
                    "metadata": {}
                },
                {
                    "output_type": "execute_result",
                    "metadata": {},
                    "execution_count": 34,
                    "data": {
                        "application/vnd.dataresource+json": {
                            "schema": {
                                "fields": [
                                    {
                                        "name": "Employee_id"
                                    },
                                    {
                                        "name": "First_name"
                                    },
                                    {
                                        "name": "Last_Name"
                                    },
                                    {
                                        "name": "Salary"
                                    },
                                    {
                                        "name": "Joining_date"
                                    },
                                    {
                                        "name": "Department"
                                    }
                                ]
                            },
                            "data": [
                                {
                                    "0": "4",
                                    "1": "Sushanth",
                                    "2": "Singh",
                                    "3": "500000",
                                    "4": "2020-02-17 09:00:00.0000000",
                                    "5": "Admin"
                                },
                                {
                                    "0": "5",
                                    "1": "Bhupal",
                                    "2": "Bhati",
                                    "3": "500000",
                                    "4": "2011-06-18 09:00:00.0000000",
                                    "5": "Admin"
                                }
                            ]
                        },
                        "text/html": [
                            "<table>",
                            "<tr><th>Employee_id</th><th>First_name</th><th>Last_Name</th><th>Salary</th><th>Joining_date</th><th>Department</th></tr>",
                            "<tr><td>4</td><td>Sushanth</td><td>Singh</td><td>500000</td><td>2020-02-17 09:00:00.0000000</td><td>Admin</td></tr>",
                            "<tr><td>5</td><td>Bhupal</td><td>Bhati</td><td>500000</td><td>2011-06-18 09:00:00.0000000</td><td>Admin</td></tr>",
                            "</table>"
                        ]
                    }
                }
            ],
            "execution_count": 34
        },
        {
            "cell_type": "code",
            "source": [
                "-- 22 Display the second highest salary from a table. \r\n",
                "SELECT SALARY\r\n",
                "FROM (SELECT SALARY, DENSE_RANK()OVER(ORDER BY SALARY DESC) AS RANK\r\n",
                "    FROM EmployeeDetails\r\n",
                "    GROUP BY SALARY) A\r\n",
                "WHERE RANK=2"
            ],
            "metadata": {
                "language": "sql",
                "azdata_cell_guid": "81b021d9-7e5d-4f35-b866-c96aa29b83c3"
            },
            "outputs": [
                {
                    "output_type": "display_data",
                    "data": {
                        "text/html": "(1 row affected)"
                    },
                    "metadata": {}
                },
                {
                    "output_type": "display_data",
                    "data": {
                        "text/html": "Total execution time: 00:00:00.003"
                    },
                    "metadata": {}
                },
                {
                    "output_type": "execute_result",
                    "metadata": {},
                    "execution_count": 39,
                    "data": {
                        "application/vnd.dataresource+json": {
                            "schema": {
                                "fields": [
                                    {
                                        "name": "SALARY"
                                    }
                                ]
                            },
                            "data": [
                                {
                                    "0": "300000"
                                }
                            ]
                        },
                        "text/html": [
                            "<table>",
                            "<tr><th>SALARY</th></tr>",
                            "<tr><td>300000</td></tr>",
                            "</table>"
                        ]
                    }
                }
            ],
            "execution_count": 39
        },
        {
            "cell_type": "code",
            "source": [
                "-- 23 Display the first 50% records from a table. \r\n",
                "SELECT * FROM (SELECT *,NTILE(2) OVER(ORDER BY Employee_id) AS NTILE FROM EmployeeDetails) A WHERE NTILE=1"
            ],
            "metadata": {
                "language": "sql",
                "azdata_cell_guid": "a46dc06b-131a-42eb-b019-f963a1f3289b"
            },
            "outputs": [
                {
                    "output_type": "display_data",
                    "data": {
                        "text/html": "(4 rows affected)"
                    },
                    "metadata": {}
                },
                {
                    "output_type": "display_data",
                    "data": {
                        "text/html": "Total execution time: 00:00:00.004"
                    },
                    "metadata": {}
                },
                {
                    "output_type": "execute_result",
                    "metadata": {},
                    "execution_count": 45,
                    "data": {
                        "application/vnd.dataresource+json": {
                            "schema": {
                                "fields": [
                                    {
                                        "name": "Employee_id"
                                    },
                                    {
                                        "name": "First_name"
                                    },
                                    {
                                        "name": "Last_Name"
                                    },
                                    {
                                        "name": "Salary"
                                    },
                                    {
                                        "name": "Joining_date"
                                    },
                                    {
                                        "name": "Department"
                                    },
                                    {
                                        "name": "NTILE"
                                    }
                                ]
                            },
                            "data": [
                                {
                                    "0": "1",
                                    "1": "Anika",
                                    "2": "Arora",
                                    "3": "100000",
                                    "4": "2020-02-14 09:00:00.0000000",
                                    "5": "HR",
                                    "6": "1"
                                },
                                {
                                    "0": "2",
                                    "1": "Veena",
                                    "2": "Verma",
                                    "3": "80000",
                                    "4": "2011-06-15 09:00:00.0000000",
                                    "5": "Admin",
                                    "6": "1"
                                },
                                {
                                    "0": "3",
                                    "1": "Vishal",
                                    "2": "Singhal",
                                    "3": "300000",
                                    "4": "2020-02-16 09:00:00.0000000",
                                    "5": "HR",
                                    "6": "1"
                                },
                                {
                                    "0": "4",
                                    "1": "Sushanth",
                                    "2": "Singh",
                                    "3": "500000",
                                    "4": "2020-02-17 09:00:00.0000000",
                                    "5": "Admin",
                                    "6": "1"
                                }
                            ]
                        },
                        "text/html": [
                            "<table>",
                            "<tr><th>Employee_id</th><th>First_name</th><th>Last_Name</th><th>Salary</th><th>Joining_date</th><th>Department</th><th>NTILE</th></tr>",
                            "<tr><td>1</td><td>Anika</td><td>Arora</td><td>100000</td><td>2020-02-14 09:00:00.0000000</td><td>HR</td><td>1</td></tr>",
                            "<tr><td>2</td><td>Veena</td><td>Verma</td><td>80000</td><td>2011-06-15 09:00:00.0000000</td><td>Admin</td><td>1</td></tr>",
                            "<tr><td>3</td><td>Vishal</td><td>Singhal</td><td>300000</td><td>2020-02-16 09:00:00.0000000</td><td>HR</td><td>1</td></tr>",
                            "<tr><td>4</td><td>Sushanth</td><td>Singh</td><td>500000</td><td>2020-02-17 09:00:00.0000000</td><td>Admin</td><td>1</td></tr>",
                            "</table>"
                        ]
                    }
                }
            ],
            "execution_count": 45
        },
        {
            "cell_type": "code",
            "source": [
                "-- 24. Display the departments that have less than 4 people in it.\r\n",
                "SELECT DEPARTMENT FROM EmployeeDetails GROUP BY Department HAVING COUNT(*)<4"
            ],
            "metadata": {
                "language": "sql",
                "azdata_cell_guid": "0bd41dcc-ae1e-4a57-bff4-ef807b76c02c"
            },
            "outputs": [
                {
                    "output_type": "display_data",
                    "data": {
                        "text/html": "(2 rows affected)"
                    },
                    "metadata": {}
                },
                {
                    "output_type": "display_data",
                    "data": {
                        "text/html": "Total execution time: 00:00:00.002"
                    },
                    "metadata": {}
                },
                {
                    "output_type": "execute_result",
                    "metadata": {},
                    "execution_count": 46,
                    "data": {
                        "application/vnd.dataresource+json": {
                            "schema": {
                                "fields": [
                                    {
                                        "name": "DEPARTMENT"
                                    }
                                ]
                            },
                            "data": [
                                {
                                    "0": "Account"
                                },
                                {
                                    "0": "HR"
                                }
                            ]
                        },
                        "text/html": [
                            "<table>",
                            "<tr><th>DEPARTMENT</th></tr>",
                            "<tr><td>Account</td></tr>",
                            "<tr><td>HR</td></tr>",
                            "</table>"
                        ]
                    }
                }
            ],
            "execution_count": 46
        },
        {
            "cell_type": "code",
            "source": [
                "-- 25. Display all departments along with the number of people in there.\r\n",
                "SELECT DEPARTMENT,COUNT(*) AS NO_OF_EMP FROM EmployeeDetails GROUP BY Department"
            ],
            "metadata": {
                "language": "sql",
                "azdata_cell_guid": "572e8fac-5a6f-40dd-afc4-5023fc29040c"
            },
            "outputs": [
                {
                    "output_type": "display_data",
                    "data": {
                        "text/html": "(3 rows affected)"
                    },
                    "metadata": {}
                },
                {
                    "output_type": "display_data",
                    "data": {
                        "text/html": "Total execution time: 00:00:00.002"
                    },
                    "metadata": {}
                },
                {
                    "output_type": "execute_result",
                    "metadata": {},
                    "execution_count": 47,
                    "data": {
                        "application/vnd.dataresource+json": {
                            "schema": {
                                "fields": [
                                    {
                                        "name": "DEPARTMENT"
                                    },
                                    {
                                        "name": "NO_OF_EMP"
                                    }
                                ]
                            },
                            "data": [
                                {
                                    "0": "Account",
                                    "1": "2"
                                },
                                {
                                    "0": "Admin",
                                    "1": "4"
                                },
                                {
                                    "0": "HR",
                                    "1": "2"
                                }
                            ]
                        },
                        "text/html": [
                            "<table>",
                            "<tr><th>DEPARTMENT</th><th>NO_OF_EMP</th></tr>",
                            "<tr><td>Account</td><td>2</td></tr>",
                            "<tr><td>Admin</td><td>4</td></tr>",
                            "<tr><td>HR</td><td>2</td></tr>",
                            "</table>"
                        ]
                    }
                }
            ],
            "execution_count": 47
        },
        {
            "cell_type": "code",
            "source": [
                "-- 26 Display the name of employees having the highest salary in \r\n",
                "-- each department.\r\n",
                "SELECT First_name, Department\r\n",
                "FROM (SELECT First_name, Department, DENSE_RANK()OVER(PARTITION BY DEPARTMENT ORDER BY SALARY DESC) RNK\r\n",
                "    FROM EmployeeDetails\r\n",
                "    GROUP BY Department,SALARY,First_name) A\r\n",
                "WHERE RNK=1"
            ],
            "metadata": {
                "language": "sql",
                "azdata_cell_guid": "006e765b-6c4a-4c80-ba30-0ce5d98c0c48"
            },
            "outputs": [
                {
                    "output_type": "display_data",
                    "data": {
                        "text/html": "(4 rows affected)"
                    },
                    "metadata": {}
                },
                {
                    "output_type": "display_data",
                    "data": {
                        "text/html": "Total execution time: 00:00:00.003"
                    },
                    "metadata": {}
                },
                {
                    "output_type": "execute_result",
                    "metadata": {},
                    "execution_count": 55,
                    "data": {
                        "application/vnd.dataresource+json": {
                            "schema": {
                                "fields": [
                                    {
                                        "name": "First_name"
                                    },
                                    {
                                        "name": "Department"
                                    }
                                ]
                            },
                            "data": [
                                {
                                    "0": "Dheeraj",
                                    "1": "Account"
                                },
                                {
                                    "0": "Bhupal",
                                    "1": "Admin"
                                },
                                {
                                    "0": "Sushanth",
                                    "1": "Admin"
                                },
                                {
                                    "0": "Vishal",
                                    "1": "HR"
                                }
                            ]
                        },
                        "text/html": [
                            "<table>",
                            "<tr><th>First_name</th><th>Department</th></tr>",
                            "<tr><td>Dheeraj</td><td>Account</td></tr>",
                            "<tr><td>Bhupal</td><td>Admin</td></tr>",
                            "<tr><td>Sushanth</td><td>Admin</td></tr>",
                            "<tr><td>Vishal</td><td>HR</td></tr>",
                            "</table>"
                        ]
                    }
                }
            ],
            "execution_count": 55
        },
        {
            "cell_type": "code",
            "source": [
                "-- 27 Display the names of employees who earn the highest salary.\r\n",
                "SELECT First_name FROM EmployeeDetails WHERE SALARY = (SELECT MAX(SALARY) FROM EmployeeDetails)"
            ],
            "metadata": {
                "language": "sql",
                "azdata_cell_guid": "2c5dfa70-52f0-424a-a887-6bc6e526b01c"
            },
            "outputs": [
                {
                    "output_type": "display_data",
                    "data": {
                        "text/html": "(2 rows affected)"
                    },
                    "metadata": {}
                },
                {
                    "output_type": "display_data",
                    "data": {
                        "text/html": "Total execution time: 00:00:00.029"
                    },
                    "metadata": {}
                },
                {
                    "output_type": "execute_result",
                    "metadata": {},
                    "execution_count": 56,
                    "data": {
                        "application/vnd.dataresource+json": {
                            "schema": {
                                "fields": [
                                    {
                                        "name": "First_name"
                                    }
                                ]
                            },
                            "data": [
                                {
                                    "0": "Sushanth"
                                },
                                {
                                    "0": "Bhupal"
                                }
                            ]
                        },
                        "text/html": [
                            "<table>",
                            "<tr><th>First_name</th></tr>",
                            "<tr><td>Sushanth</td></tr>",
                            "<tr><td>Bhupal</td></tr>",
                            "</table>"
                        ]
                    }
                }
            ],
            "execution_count": 56
        },
        {
            "cell_type": "code",
            "source": [
                "-- 28 Diplay the average salaries for each department \r\n",
                "SELECT Department,AVG(SALARY) AS AVG_SAL FROM EmployeeDetails GROUP BY Department"
            ],
            "metadata": {
                "language": "sql",
                "azdata_cell_guid": "71ed7742-5887-4005-a3b1-ed4e713eb156"
            },
            "outputs": [
                {
                    "output_type": "display_data",
                    "data": {
                        "text/html": "(3 rows affected)"
                    },
                    "metadata": {}
                },
                {
                    "output_type": "display_data",
                    "data": {
                        "text/html": "Total execution time: 00:00:00.004"
                    },
                    "metadata": {}
                },
                {
                    "output_type": "execute_result",
                    "metadata": {},
                    "execution_count": 58,
                    "data": {
                        "application/vnd.dataresource+json": {
                            "schema": {
                                "fields": [
                                    {
                                        "name": "Department"
                                    },
                                    {
                                        "name": "AVG_SAL"
                                    }
                                ]
                            },
                            "data": [
                                {
                                    "0": "Account",
                                    "1": "137500"
                                },
                                {
                                    "0": "Admin",
                                    "1": "292500"
                                },
                                {
                                    "0": "HR",
                                    "1": "200000"
                                }
                            ]
                        },
                        "text/html": [
                            "<table>",
                            "<tr><th>Department</th><th>AVG_SAL</th></tr>",
                            "<tr><td>Account</td><td>137500</td></tr>",
                            "<tr><td>Admin</td><td>292500</td></tr>",
                            "<tr><td>HR</td><td>200000</td></tr>",
                            "</table>"
                        ]
                    }
                }
            ],
            "execution_count": 58
        },
        {
            "cell_type": "code",
            "source": [
                "-- 29 display the name of the employee who has got maximum bonus\r\n",
                "SELECT *\r\n",
                "FROM EmployeeDetails E LEFT JOIN EmployeeBonus EB ON E.Employee_id=EB.Employee_ref_id_FK\r\n",
                "WHERE Bonus_Amount=(SELECT MAX(Bonus_Amount)\r\n",
                "FROM EmployeeBonus)"
            ],
            "metadata": {
                "language": "sql",
                "azdata_cell_guid": "4fe65ebb-d96d-4e89-b97c-c2289d0c9de5"
            },
            "outputs": [
                {
                    "output_type": "display_data",
                    "data": {
                        "text/html": "(1 row affected)"
                    },
                    "metadata": {}
                },
                {
                    "output_type": "display_data",
                    "data": {
                        "text/html": "Total execution time: 00:00:00.004"
                    },
                    "metadata": {}
                },
                {
                    "output_type": "execute_result",
                    "metadata": {},
                    "execution_count": 61,
                    "data": {
                        "application/vnd.dataresource+json": {
                            "schema": {
                                "fields": [
                                    {
                                        "name": "Employee_id"
                                    },
                                    {
                                        "name": "First_name"
                                    },
                                    {
                                        "name": "Last_Name"
                                    },
                                    {
                                        "name": "Salary"
                                    },
                                    {
                                        "name": "Joining_date"
                                    },
                                    {
                                        "name": "Department"
                                    },
                                    {
                                        "name": "Employee_ref_id_FK"
                                    },
                                    {
                                        "name": "Bonus_Amount"
                                    },
                                    {
                                        "name": "Bonus_Date"
                                    }
                                ]
                            },
                            "data": [
                                {
                                    "0": "1",
                                    "1": "Anika",
                                    "2": "Arora",
                                    "3": "100000",
                                    "4": "2020-02-14 09:00:00.0000000",
                                    "5": "HR",
                                    "6": "1",
                                    "7": "5000",
                                    "8": "2020-02-16 00:00:00.0000000"
                                }
                            ]
                        },
                        "text/html": [
                            "<table>",
                            "<tr><th>Employee_id</th><th>First_name</th><th>Last_Name</th><th>Salary</th><th>Joining_date</th><th>Department</th><th>Employee_ref_id_FK</th><th>Bonus_Amount</th><th>Bonus_Date</th></tr>",
                            "<tr><td>1</td><td>Anika</td><td>Arora</td><td>100000</td><td>2020-02-14 09:00:00.0000000</td><td>HR</td><td>1</td><td>5000</td><td>2020-02-16 00:00:00.0000000</td></tr>",
                            "</table>"
                        ]
                    }
                }
            ],
            "execution_count": 61
        },
        {
            "cell_type": "code",
            "source": [
                "-- 30 Display the first name and title of all the employees\r\n",
                "SELECT First_name,Employee_title FROM EmployeeDetails ED LEFT JOIN EmployeeTitle ET ON ED.Employee_id=ET.Employee_ref_id"
            ],
            "metadata": {
                "language": "sql",
                "azdata_cell_guid": "16a86a40-1070-4f82-a21d-291749757bae"
            },
            "outputs": [
                {
                    "output_type": "display_data",
                    "data": {
                        "text/html": "(8 rows affected)"
                    },
                    "metadata": {}
                },
                {
                    "output_type": "display_data",
                    "data": {
                        "text/html": "Total execution time: 00:00:00.001"
                    },
                    "metadata": {}
                },
                {
                    "output_type": "execute_result",
                    "metadata": {},
                    "execution_count": 63,
                    "data": {
                        "application/vnd.dataresource+json": {
                            "schema": {
                                "fields": [
                                    {
                                        "name": "First_name"
                                    },
                                    {
                                        "name": "Employee_title"
                                    }
                                ]
                            },
                            "data": [
                                {
                                    "0": "Anika",
                                    "1": "Manager"
                                },
                                {
                                    "0": "Veena",
                                    "1": "Executive"
                                },
                                {
                                    "0": "Vishal",
                                    "1": "Lead"
                                },
                                {
                                    "0": "Sushanth",
                                    "1": "Asst. Manager"
                                },
                                {
                                    "0": "Bhupal",
                                    "1": "Manager"
                                },
                                {
                                    "0": "Dheeraj",
                                    "1": "Lead"
                                },
                                {
                                    "0": "Karan",
                                    "1": "Executive"
                                },
                                {
                                    "0": "Chandrika",
                                    "1": "Executive"
                                }
                            ]
                        },
                        "text/html": [
                            "<table>",
                            "<tr><th>First_name</th><th>Employee_title</th></tr>",
                            "<tr><td>Anika</td><td>Manager</td></tr>",
                            "<tr><td>Veena</td><td>Executive</td></tr>",
                            "<tr><td>Vishal</td><td>Lead</td></tr>",
                            "<tr><td>Sushanth</td><td>Asst. Manager</td></tr>",
                            "<tr><td>Bhupal</td><td>Manager</td></tr>",
                            "<tr><td>Dheeraj</td><td>Lead</td></tr>",
                            "<tr><td>Karan</td><td>Executive</td></tr>",
                            "<tr><td>Chandrika</td><td>Executive</td></tr>",
                            "</table>"
                        ]
                    }
                }
            ],
            "execution_count": 63
        }
    ]
}
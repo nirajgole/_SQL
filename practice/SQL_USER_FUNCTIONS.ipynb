{
    "metadata": {
        "kernelspec": {
            "name": "SQL",
            "display_name": "SQL",
            "language": "sql"
        },
        "language_info": {
            "name": "sql",
            "version": ""
        }
    },
    "nbformat_minor": 2,
    "nbformat": 4,
    "cells": [
        {
            "cell_type": "code",
            "source": [
                "CREATE FUNCTION udf_get_total_salary\r\n",
                "(\r\n",
                "    @deptName VARCHAR(255)\r\n",
                ")\r\n",
                "RETURNS INT\r\n",
                "AS\r\n",
                "BEGIN\r\n",
                "DECLARE @TOTAL_SALARY INT\r\n",
                "\r\n",
                "SELECT @TOTAL_SALARY=SUM(E.SALARY)\r\n",
                "FROM EmployeeDetails E\r\n",
                "JOIN Department D\r\n",
                "ON E.DepartmentID = D.DepartmentID\r\n",
                "GROUP BY D.DepartmentName\r\n",
                "HAVING D.DepartmentName=@deptName\r\n",
                "\r\n",
                "RETURN @TOTAL_SALARY\r\n",
                "END"
            ],
            "metadata": {
                "azdata_cell_guid": "5edc6f2f-5432-4c9b-8e49-46e21c5971ce",
                "language": "sql"
            },
            "outputs": [
                {
                    "output_type": "display_data",
                    "data": {
                        "text/html": "Commands completed successfully."
                    },
                    "metadata": {}
                },
                {
                    "output_type": "display_data",
                    "data": {
                        "text/html": "Total execution time: 00:00:00.215"
                    },
                    "metadata": {}
                }
            ],
            "execution_count": 7
        },
        {
            "cell_type": "code",
            "source": [
                "-- SELECT SUM(E.SALARY)\r\n",
                "-- FROM EmployeeDetails E\r\n",
                "-- GROUP BY E.DepartmentID\r\n",
                "\r\n",
                "-- SELECT SUM(E.SALARY) AS TOTAL_SAL\r\n",
                "-- FROM EmployeeDetails E\r\n",
                "-- JOIN Department D\r\n",
                "-- ON E.DepartmentID = D.DepartmentID\r\n",
                "-- GROUP BY D.DepartmentName\r\n",
                "-- HAVING D.DepartmentName='ACCOUNT'\r\n",
                "\r\n",
                "SELECT DBO.udf_get_total_salary('ACCOUNT')\r\n",
                ""
            ],
            "metadata": {
                "azdata_cell_guid": "e1ca6c34-2e42-43a0-8844-d656d8393971",
                "language": "sql"
            },
            "outputs": [
                {
                    "output_type": "display_data",
                    "data": {
                        "text/html": "(1 row affected)"
                    },
                    "metadata": {}
                },
                {
                    "output_type": "display_data",
                    "data": {
                        "text/html": "Total execution time: 00:00:00.004"
                    },
                    "metadata": {}
                },
                {
                    "output_type": "execute_result",
                    "metadata": {},
                    "execution_count": 12,
                    "data": {
                        "application/vnd.dataresource+json": {
                            "schema": {
                                "fields": [
                                    {
                                        "name": "(No column name)"
                                    }
                                ]
                            },
                            "data": [
                                {
                                    "0": "65311"
                                }
                            ]
                        },
                        "text/html": [
                            "<table>",
                            "<tr><th>(No column name)</th></tr>",
                            "<tr><td>65311</td></tr>",
                            "</table>"
                        ]
                    }
                }
            ],
            "execution_count": 12
        },
        {
            "cell_type": "code",
            "source": [
                "CREATE FUNCTION udf_get_employee\r\n",
                "(\r\n",
                "    @dept VARCHAR(255),\r\n",
                "    @client VARCHAR(255)\r\n",
                ")\r\n",
                "RETURNS TABLE\r\n",
                "AS\r\n",
                "RETURN\r\n",
                "(\r\n",
                "    SELECT E.FirstName\r\n",
                "    FROM EmployeeDetails E\r\n",
                "    JOIN Department D ON E.DepartmentID=D.DepartmentID\r\n",
                "    JOIN Client C ON E.ClientID=C.ClientID\r\n",
                "    WHERE D.DepartmentName=@dept AND C.ClientName=@client\r\n",
                ")"
            ],
            "metadata": {
                "language": "sql",
                "azdata_cell_guid": "3aafebaa-baae-498b-acc2-ea02ea9e583e"
            },
            "outputs": [
                {
                    "output_type": "error",
                    "evalue": "Msg 2714, Level 16, State 3, Procedure udf_get_employee, Line 1\r\nThere is already an object named 'udf_get_employee' in the database.",
                    "ename": "",
                    "traceback": []
                },
                {
                    "output_type": "display_data",
                    "data": {
                        "text/html": "Total execution time: 00:00:00.001"
                    },
                    "metadata": {}
                }
            ],
            "execution_count": 18
        },
        {
            "cell_type": "code",
            "source": [
                "    -- SELECT E.FirstName\r\n",
                "    -- FROM EmployeeDetails E\r\n",
                "    -- JOIN Department D ON E.DepartmentID=D.DepartmentID\r\n",
                "    -- JOIN Client C ON E.ClientID=C.ClientID\r\n",
                "    -- WHERE D.DepartmentName=\"\" AND C.ClientName=\"\"\r\n",
                "\r\n",
                "    SELECT DBO.udf_get_employee(\"account\",\"tcs\")"
            ],
            "metadata": {
                "language": "sql",
                "azdata_cell_guid": "bacfa867-3da2-49c7-b242-6436232cc4b7"
            },
            "outputs": [
                {
                    "output_type": "error",
                    "evalue": "Msg 4121, Level 16, State 1, Line 7\r\nCannot find either column \"DBO\" or the user-defined function or aggregate \"DBO.udf_get_employee\", or the name is ambiguous.",
                    "ename": "",
                    "traceback": []
                },
                {
                    "output_type": "display_data",
                    "data": {
                        "text/html": "Total execution time: 00:00:00"
                    },
                    "metadata": {}
                }
            ],
            "execution_count": 19
        },
        {
            "cell_type": "code",
            "source": [
                ""
            ],
            "metadata": {
                "language": "sql",
                "azdata_cell_guid": "edf322ed-84eb-4839-92d7-e0f5086308e2"
            },
            "outputs": [],
            "execution_count": null
        }
    ]
}
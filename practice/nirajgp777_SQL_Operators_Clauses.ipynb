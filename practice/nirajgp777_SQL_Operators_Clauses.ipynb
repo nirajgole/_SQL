{
    "metadata": {
        "kernelspec": {
            "name": "SQL",
            "display_name": "SQL",
            "language": "sql"
        },
        "language_info": {
            "name": "sql",
            "version": ""
        }
    },
    "nbformat_minor": 2,
    "nbformat": 4,
    "cells": [
        {
            "cell_type": "markdown",
            "source": [
                "# Operators & Clauses – Assignment"
            ],
            "metadata": {
                "language": "sql",
                "azdata_cell_guid": "10814e7b-39e1-431c-a4e2-0d63067daebd"
            },
            "attachments": {}
        },
        {
            "cell_type": "code",
            "source": [
                "-- 27) Display Highest, Lowest and Average Salaries for those earning more than 2000\r\n",
                "SELECT MAX(SALARY) MAX_SAL, MIN(SALARY) MIN_SAL, AVG(SALARY) AVG_SAL\r\n",
                "FROM PROGRAMMER\r\n",
                "WHERE SALARY>2000"
            ],
            "metadata": {
                "language": "sql",
                "azdata_cell_guid": "a3b25d8d-b649-4779-8032-bb31f6dda857"
            },
            "outputs": [
                {
                    "output_type": "display_data",
                    "data": {
                        "text/html": "(1 row affected)"
                    },
                    "metadata": {}
                },
                {
                    "output_type": "display_data",
                    "data": {
                        "text/html": "Total execution time: 00:00:00.002"
                    },
                    "metadata": {}
                },
                {
                    "output_type": "execute_result",
                    "metadata": {},
                    "execution_count": 26,
                    "data": {
                        "application/vnd.dataresource+json": {
                            "schema": {
                                "fields": [
                                    {
                                        "name": "MAX_SAL"
                                    },
                                    {
                                        "name": "MIN_SAL"
                                    },
                                    {
                                        "name": "AVG_SAL"
                                    }
                                ]
                            },
                            "data": [
                                {
                                    "0": "4500",
                                    "1": "2500",
                                    "2": "3169"
                                }
                            ]
                        },
                        "text/html": [
                            "<table>",
                            "<tr><th>MAX_SAL</th><th>MIN_SAL</th><th>AVG_SAL</th></tr>",
                            "<tr><td>4500</td><td>2500</td><td>3169</td></tr>",
                            "</table>"
                        ]
                    }
                }
            ],
            "execution_count": 26
        },
        {
            "cell_type": "code",
            "source": [
                "-- 26) Display the Number of Packages in Each Language for which Development Cost is less than 1000.\r\n",
                "SELECT DEVELOPIN, COUNT(*) AS NO_OF_PACKAGES\r\n",
                "FROM SOFTWARE\r\n",
                "GROUP BY DEVELOPIN,DCOST\r\n",
                "HAVING DCOST<1000"
            ],
            "metadata": {
                "language": "sql",
                "azdata_cell_guid": "840eda9a-7ecd-40a1-80b2-4d35558a89ea",
                "tags": []
            },
            "outputs": [
                {
                    "output_type": "display_data",
                    "data": {
                        "text/html": "(1 row affected)"
                    },
                    "metadata": {}
                },
                {
                    "output_type": "display_data",
                    "data": {
                        "text/html": "Total execution time: 00:00:00.008"
                    },
                    "metadata": {}
                },
                {
                    "output_type": "execute_result",
                    "metadata": {},
                    "execution_count": 18,
                    "data": {
                        "application/vnd.dataresource+json": {
                            "schema": {
                                "fields": [
                                    {
                                        "name": "DEVELOPIN"
                                    },
                                    {
                                        "name": "NO_OF_PACKAGES"
                                    }
                                ]
                            },
                            "data": [
                                {
                                    "0": "C",
                                    "1": "1"
                                }
                            ]
                        },
                        "text/html": [
                            "<table>",
                            "<tr><th>DEVELOPIN</th><th>NO_OF_PACKAGES</th></tr>",
                            "<tr><td>C</td><td>1</td></tr>",
                            "</table>"
                        ]
                    }
                }
            ],
            "execution_count": 18
        },
        {
            "cell_type": "code",
            "source": [
                "-- 25) Who is the least experienced Programmer?\r\n",
                "SELECT TOP(1)\r\n",
                "    PNAME\r\n",
                "FROM PROGRAMMER\r\n",
                "ORDER BY DOJ DESC"
            ],
            "metadata": {
                "language": "sql",
                "azdata_cell_guid": "50a960b9-24ab-41ae-8f9c-e6ba71076c3c"
            },
            "outputs": [
                {
                    "output_type": "display_data",
                    "data": {
                        "text/html": "(1 row affected)"
                    },
                    "metadata": {}
                },
                {
                    "output_type": "display_data",
                    "data": {
                        "text/html": "Total execution time: 00:00:00.002"
                    },
                    "metadata": {}
                },
                {
                    "output_type": "execute_result",
                    "metadata": {},
                    "execution_count": 10,
                    "data": {
                        "application/vnd.dataresource+json": {
                            "schema": {
                                "fields": [
                                    {
                                        "name": "PNAME"
                                    }
                                ]
                            },
                            "data": [
                                {
                                    "0": "REMITHA"
                                }
                            ]
                        },
                        "text/html": [
                            "<table>",
                            "<tr><th>PNAME</th></tr>",
                            "<tr><td>REMITHA</td></tr>",
                            "</table>"
                        ]
                    }
                }
            ],
            "execution_count": 10
        },
        {
            "cell_type": "code",
            "source": [
                "-- 24) Who is the most experienced male programmer knowing PASCAL?\r\n",
                "\r\n",
                "SELECT TOP(1) PNAME\r\n",
                "FROM PROGRAMMER\r\n",
                "WHERE 'PASCAL' IN (PROF1,PROF2)\r\n",
                "ORDER BY DOJ"
            ],
            "metadata": {
                "language": "sql",
                "azdata_cell_guid": "70f9ad86-3d56-4177-b9b4-8abd54d3b045"
            },
            "outputs": [
                {
                    "output_type": "display_data",
                    "data": {
                        "text/html": "(1 row affected)"
                    },
                    "metadata": {}
                },
                {
                    "output_type": "display_data",
                    "data": {
                        "text/html": "Total execution time: 00:00:00.002"
                    },
                    "metadata": {}
                },
                {
                    "output_type": "execute_result",
                    "metadata": {},
                    "execution_count": 9,
                    "data": {
                        "application/vnd.dataresource+json": {
                            "schema": {
                                "fields": [
                                    {
                                        "name": "PNAME"
                                    }
                                ]
                            },
                            "data": [
                                {
                                    "0": "PATTRICK"
                                }
                            ]
                        },
                        "text/html": [
                            "<table>",
                            "<tr><th>PNAME</th></tr>",
                            "<tr><td>PATTRICK</td></tr>",
                            "</table>"
                        ]
                    }
                }
            ],
            "execution_count": 9
        },
        {
            "cell_type": "code",
            "source": [
                "-- 23) Which Language is known by only one Programmer?\r\n",
                "\r\n",
                "WITH cte\r\n",
                "AS (SELECT PROF1\r\n",
                "    FROM PROGRAMMER\r\n",
                "    UNION ALL\r\n",
                "    SELECT PROF2\r\n",
                "    FROM PROGRAMMER)\r\n",
                "    \r\n",
                "SELECT PROF1,\r\n",
                "       COUNT(*) AS CNT\r\n",
                "FROM cte\r\n",
                "GROUP BY PROF1\r\n",
                "\r\n",
                "-- SELECT PROF1,COUNT(*) AS CNT\r\n",
                "-- FROM PROGRAMMER \r\n",
                "-- GROUP BY PROF1\r\n",
                ""
            ],
            "metadata": {
                "azdata_cell_guid": "bbc9b9ca-12b2-47dd-9c8d-761c2ca2d95f",
                "language": "sql"
            },
            "outputs": [
                {
                    "output_type": "display_data",
                    "data": {
                        "text/html": "(10 rows affected)"
                    },
                    "metadata": {}
                },
                {
                    "output_type": "display_data",
                    "data": {
                        "text/html": "Total execution time: 00:00:00.002"
                    },
                    "metadata": {}
                },
                {
                    "output_type": "execute_result",
                    "execution_count": 32,
                    "data": {
                        "application/vnd.dataresource+json": {
                            "schema": {
                                "fields": [
                                    {
                                        "name": "PROF1"
                                    },
                                    {
                                        "name": "CNT"
                                    }
                                ]
                            },
                            "data": [
                                {
                                    "0": "ASSEMBLY",
                                    "1": "2"
                                },
                                {
                                    "0": "BASIC",
                                    "1": "3"
                                },
                                {
                                    "0": "C",
                                    "1": "4"
                                },
                                {
                                    "0": "CLIPPER",
                                    "1": "2"
                                },
                                {
                                    "0": "COBOL",
                                    "1": "4"
                                },
                                {
                                    "0": "CPP",
                                    "1": "1"
                                },
                                {
                                    "0": "DBASE",
                                    "1": "4"
                                },
                                {
                                    "0": "FOXPRO",
                                    "1": "1"
                                },
                                {
                                    "0": "ORACLE",
                                    "1": "1"
                                },
                                {
                                    "0": "PASCAL",
                                    "1": "4"
                                }
                            ]
                        },
                        "text/html": "<table><tr><th>PROF1</th><th>CNT</th></tr><tr><td>ASSEMBLY</td><td>2</td></tr><tr><td>BASIC</td><td>3</td></tr><tr><td>C</td><td>4</td></tr><tr><td>CLIPPER</td><td>2</td></tr><tr><td>COBOL</td><td>4</td></tr><tr><td>CPP</td><td>1</td></tr><tr><td>DBASE</td><td>4</td></tr><tr><td>FOXPRO</td><td>1</td></tr><tr><td>ORACLE</td><td>1</td></tr><tr><td>PASCAL</td><td>4</td></tr></table>"
                    },
                    "metadata": {}
                }
            ],
            "execution_count": 32
        },
        {
            "cell_type": "code",
            "source": [
                "-- 22) Who is the Youngest Programmer knowing DBASE?\r\n",
                "SELECT PNAME FROM PROGRAMMER WHERE DOB=\r\n",
                "(SELECT MAX(DOB)\r\n",
                "FROM PROGRAMMER\r\n",
                ") AND (PROF1='DBASE' OR PROF2='DBASE')"
            ],
            "metadata": {
                "azdata_cell_guid": "e520bcdf-31ce-4b40-9af5-30138e74663f",
                "language": "sql",
                "tags": []
            },
            "outputs": [
                {
                    "output_type": "display_data",
                    "data": {
                        "text/html": "(1 row affected)"
                    },
                    "metadata": {}
                },
                {
                    "output_type": "display_data",
                    "data": {
                        "text/html": "Total execution time: 00:00:00.004"
                    },
                    "metadata": {}
                },
                {
                    "output_type": "execute_result",
                    "execution_count": 7,
                    "data": {
                        "application/vnd.dataresource+json": {
                            "schema": {
                                "fields": [
                                    {
                                        "name": "PNAME"
                                    }
                                ]
                            },
                            "data": [
                                {
                                    "0": "NELSON"
                                }
                            ]
                        },
                        "text/html": "<table><tr><th>PNAME</th></tr><tr><td>NELSON</td></tr></table>"
                    },
                    "metadata": {}
                }
            ],
            "execution_count": 7
        },
        {
            "cell_type": "code",
            "source": [
                "-- 21) Which Female Programmer earning more than 3000 does not know C, C++, ORACLE or DBASE?\r\n",
                "SELECT PNAME\r\n",
                "FROM PROGRAMMER\r\n",
                "WHERE GENDER='F' AND SALARY>3000 AND (PROF1 NOT IN ('C','C++','ORACLE','DBASE')) AND (PROF2 NOT IN ('C','C++','ORACLE','DBASE'))"
            ],
            "metadata": {
                "azdata_cell_guid": "99036440-56ab-4766-adc2-d3a3ddb98de9",
                "language": "sql"
            },
            "outputs": [
                {
                    "output_type": "display_data",
                    "data": {
                        "text/html": "(1 row affected)"
                    },
                    "metadata": {}
                },
                {
                    "output_type": "display_data",
                    "data": {
                        "text/html": "Total execution time: 00:00:00.002"
                    },
                    "metadata": {}
                },
                {
                    "output_type": "execute_result",
                    "execution_count": 24,
                    "data": {
                        "application/vnd.dataresource+json": {
                            "schema": {
                                "fields": [
                                    {
                                        "name": "PNAME"
                                    }
                                ]
                            },
                            "data": [
                                {
                                    "0": "REVATHI"
                                }
                            ]
                        },
                        "text/html": "<table><tr><th>PNAME</th></tr><tr><td>REVATHI</td></tr></table>"
                    },
                    "metadata": {}
                }
            ],
            "execution_count": 24
        },
        {
            "cell_type": "code",
            "source": [
                "-- 20) Which Package has the lowest selling cost?\r\n",
                "SELECT TITLE\r\n",
                "FROM SOFTWARE\r\n",
                "WHERE SCOST=(SELECT MIN(SCOST)\r\n",
                "FROM SOFTWARE)"
            ],
            "metadata": {
                "azdata_cell_guid": "df1b65c6-4e02-46ed-be7c-9385619d6a5d",
                "language": "sql"
            },
            "outputs": [
                {
                    "output_type": "display_data",
                    "data": {
                        "text/html": "(1 row affected)"
                    },
                    "metadata": {}
                },
                {
                    "output_type": "display_data",
                    "data": {
                        "text/html": "Total execution time: 00:00:00.001"
                    },
                    "metadata": {}
                },
                {
                    "output_type": "execute_result",
                    "execution_count": 15,
                    "data": {
                        "application/vnd.dataresource+json": {
                            "schema": {
                                "fields": [
                                    {
                                        "name": "TITLE"
                                    }
                                ]
                            },
                            "data": [
                                {
                                    "0": "HOSPITAL MGMT."
                                }
                            ]
                        },
                        "text/html": "<table><tr><th>TITLE</th></tr><tr><td>HOSPITAL MGMT.</td></tr></table>"
                    },
                    "metadata": {}
                }
            ],
            "execution_count": 15
        },
        {
            "cell_type": "code",
            "source": [
                "-- 19) Who is the youngest male Programmer born in 1965?\r\n",
                "SELECT PNAME FROM PROGRAMMER WHERE DOB=\r\n",
                "(SELECT MAX(DOB)\r\n",
                "FROM PROGRAMMER\r\n",
                "WHERE GENDER='F' AND DATENAME(YY,DOJ)=1965)"
            ],
            "metadata": {
                "language": "sql",
                "azdata_cell_guid": "8050c827-69ee-4646-89dd-7290228f188b"
            },
            "outputs": [
                {
                    "output_type": "display_data",
                    "data": {
                        "text/html": "(0 rows affected)"
                    },
                    "metadata": {}
                },
                {
                    "output_type": "display_data",
                    "data": {
                        "text/html": "Total execution time: 00:00:00.008"
                    },
                    "metadata": {}
                },
                {
                    "output_type": "execute_result",
                    "execution_count": 7,
                    "data": {
                        "application/vnd.dataresource+json": {
                            "schema": {
                                "fields": [
                                    {
                                        "name": "PNAME"
                                    }
                                ]
                            },
                            "data": []
                        },
                        "text/html": "<table><tr><th>PNAME</th></tr></table>"
                    },
                    "metadata": {}
                }
            ],
            "execution_count": 7
        },
        {
            "cell_type": "code",
            "source": [
                "-- 18) Who is the oldest Female Programmer who joined in 1992?\r\n",
                "SELECT PNAME FROM PROGRAMMER WHERE DOB=\r\n",
                "(SELECT MIN(DOB)\r\n",
                "FROM PROGRAMMER\r\n",
                "WHERE GENDER='F' AND DATENAME(YY,DOJ)=1992)"
            ],
            "metadata": {
                "language": "sql",
                "azdata_cell_guid": "bb655675-8892-4cc9-949d-e8afba70765b"
            },
            "outputs": [
                {
                    "output_type": "display_data",
                    "data": {
                        "text/html": "(1 row affected)"
                    },
                    "metadata": {}
                },
                {
                    "output_type": "display_data",
                    "data": {
                        "text/html": "Total execution time: 00:00:00.005"
                    },
                    "metadata": {}
                },
                {
                    "output_type": "execute_result",
                    "execution_count": 23,
                    "data": {
                        "application/vnd.dataresource+json": {
                            "schema": {
                                "fields": [
                                    {
                                        "name": "PNAME"
                                    },
                                    {
                                        "name": "DOB"
                                    },
                                    {
                                        "name": "DOJ"
                                    },
                                    {
                                        "name": "GENDER"
                                    },
                                    {
                                        "name": "PROF1"
                                    },
                                    {
                                        "name": "PROF2"
                                    },
                                    {
                                        "name": "SALARY"
                                    }
                                ]
                            },
                            "data": [
                                {
                                    "0": "VIJAYA",
                                    "1": "1965-12-14",
                                    "2": "1992-05-02",
                                    "3": "F",
                                    "4": "FOXPRO",
                                    "5": "C",
                                    "6": "3500"
                                }
                            ]
                        },
                        "text/html": "<table><tr><th>PNAME</th><th>DOB</th><th>DOJ</th><th>GENDER</th><th>PROF1</th><th>PROF2</th><th>SALARY</th></tr><tr><td>VIJAYA</td><td>1965-12-14</td><td>1992-05-02</td><td>F</td><td>FOXPRO</td><td>C</td><td>3500</td></tr></table>"
                    },
                    "metadata": {}
                }
            ],
            "execution_count": 23
        },
        {
            "cell_type": "code",
            "source": [
                "--  17) Display the details of the software developed by the male students of Sabhari.\r\n",
                "\r\n",
                "SELECT * \r\n",
                "FROM SOFTWARE\r\n",
                "WHERE PNAME IN\r\n",
                "(SELECT PNAME\r\n",
                "FROM STUDIES\r\n",
                "WHERE INSTITUTE='Sabhari'\r\n",
                "INTERSECT\r\n",
                "SELECT PNAME\r\n",
                "FROM PROGRAMMER\r\n",
                "WHERE GENDER='M')\r\n",
                ""
            ],
            "metadata": {
                "language": "sql",
                "azdata_cell_guid": "c156cd76-ce8a-410e-ab15-40830ba79505"
            },
            "outputs": [
                {
                    "output_type": "display_data",
                    "data": {
                        "text/html": "(4 rows affected)"
                    },
                    "metadata": {}
                },
                {
                    "output_type": "display_data",
                    "data": {
                        "text/html": "Total execution time: 00:00:00.012"
                    },
                    "metadata": {}
                },
                {
                    "output_type": "execute_result",
                    "execution_count": 70,
                    "data": {
                        "application/vnd.dataresource+json": {
                            "schema": {
                                "fields": [
                                    {
                                        "name": "PNAME"
                                    },
                                    {
                                        "name": "TITLE"
                                    },
                                    {
                                        "name": "DEVELOPIN"
                                    },
                                    {
                                        "name": "SCOST"
                                    },
                                    {
                                        "name": "DCOST"
                                    },
                                    {
                                        "name": "SOLD"
                                    }
                                ]
                            },
                            "data": [
                                {
                                    "0": "ANAND",
                                    "1": "PARACHUTES",
                                    "2": "BASIC",
                                    "3": "399.95",
                                    "4": "6000",
                                    "5": "43"
                                },
                                {
                                    "0": "ANAND",
                                    "1": "VIDEO TITLING",
                                    "2": "PASCAL",
                                    "3": "7500",
                                    "4": "16000",
                                    "5": "9"
                                },
                                {
                                    "0": "RAMESH",
                                    "1": "HOTEL MGMT.",
                                    "2": "DBASE",
                                    "3": "13000",
                                    "4": "35000",
                                    "5": "4"
                                },
                                {
                                    "0": "RAMESH",
                                    "1": "DEAD LEE",
                                    "2": "PASCAL",
                                    "3": "599.95",
                                    "4": "4500",
                                    "5": "73"
                                }
                            ]
                        },
                        "text/html": "<table><tr><th>PNAME</th><th>TITLE</th><th>DEVELOPIN</th><th>SCOST</th><th>DCOST</th><th>SOLD</th></tr><tr><td>ANAND</td><td>PARACHUTES</td><td>BASIC</td><td>399.95</td><td>6000</td><td>43</td></tr><tr><td>ANAND</td><td>VIDEO TITLING</td><td>PASCAL</td><td>7500</td><td>16000</td><td>9</td></tr><tr><td>RAMESH</td><td>HOTEL MGMT.</td><td>DBASE</td><td>13000</td><td>35000</td><td>4</td></tr><tr><td>RAMESH</td><td>DEAD LEE</td><td>PASCAL</td><td>599.95</td><td>4500</td><td>73</td></tr></table>"
                    },
                    "metadata": {}
                }
            ],
            "execution_count": 70
        },
        {
            "cell_type": "code",
            "source": [
                "-- 16) Display the sales cost of the packages Developed by each Programmer Language wise\r\n",
                "SELECT *\r\n",
                "FROM SOFTWARE"
            ],
            "metadata": {
                "language": "sql",
                "azdata_cell_guid": "0c547c7e-e9f3-45c5-a097-0ec1a540f2db"
            },
            "outputs": [
                {
                    "output_type": "display_data",
                    "data": {
                        "text/html": "(16 rows affected)"
                    },
                    "metadata": {}
                },
                {
                    "output_type": "display_data",
                    "data": {
                        "text/html": "Total execution time: 00:00:00.006"
                    },
                    "metadata": {}
                },
                {
                    "output_type": "execute_result",
                    "execution_count": 64,
                    "data": {
                        "application/vnd.dataresource+json": {
                            "schema": {
                                "fields": [
                                    {
                                        "name": "PNAME"
                                    },
                                    {
                                        "name": "TITLE"
                                    },
                                    {
                                        "name": "DEVELOPIN"
                                    },
                                    {
                                        "name": "SCOST"
                                    },
                                    {
                                        "name": "DCOST"
                                    },
                                    {
                                        "name": "SOLD"
                                    }
                                ]
                            },
                            "data": [
                                {
                                    "0": "MARY",
                                    "1": "README",
                                    "2": "CPP",
                                    "3": "300",
                                    "4": "1200",
                                    "5": "84"
                                },
                                {
                                    "0": "ANAND",
                                    "1": "PARACHUTES",
                                    "2": "BASIC",
                                    "3": "399.95",
                                    "4": "6000",
                                    "5": "43"
                                },
                                {
                                    "0": "ANAND",
                                    "1": "VIDEO TITLING",
                                    "2": "PASCAL",
                                    "3": "7500",
                                    "4": "16000",
                                    "5": "9"
                                },
                                {
                                    "0": "JULIANA",
                                    "1": "INVENTORY",
                                    "2": "COBOL",
                                    "3": "3000",
                                    "4": "3500",
                                    "5": "0"
                                },
                                {
                                    "0": "KAMALA",
                                    "1": "PAYROLL PKG.",
                                    "2": "DBASE",
                                    "3": "9000",
                                    "4": "20000",
                                    "5": "7"
                                },
                                {
                                    "0": "MARY",
                                    "1": "FINANCIAL ACCT.",
                                    "2": "ORACLE",
                                    "3": "18000",
                                    "4": "85000",
                                    "5": "4"
                                },
                                {
                                    "0": "MARY",
                                    "1": "CODE GENERATOR",
                                    "2": "C",
                                    "3": "4500",
                                    "4": "20000",
                                    "5": "23"
                                },
                                {
                                    "0": "PATTRICK",
                                    "1": "README",
                                    "2": "CPP",
                                    "3": "300",
                                    "4": "1200",
                                    "5": "84"
                                },
                                {
                                    "0": "QADIR",
                                    "1": "BOMBS AWAY",
                                    "2": "ASSEMBLY",
                                    "3": "750",
                                    "4": "3000",
                                    "5": "11"
                                },
                                {
                                    "0": "QADIR",
                                    "1": "VACCINES",
                                    "2": "C",
                                    "3": "1900",
                                    "4": "3100",
                                    "5": "21"
                                },
                                {
                                    "0": "RAMESH",
                                    "1": "HOTEL MGMT.",
                                    "2": "DBASE",
                                    "3": "13000",
                                    "4": "35000",
                                    "5": "4"
                                },
                                {
                                    "0": "RAMESH",
                                    "1": "DEAD LEE",
                                    "2": "PASCAL",
                                    "3": "599.95",
                                    "4": "4500",
                                    "5": "73"
                                },
                                {
                                    "0": "REMITHA",
                                    "1": "PC UTILITIES",
                                    "2": "C",
                                    "3": "725",
                                    "4": "5000",
                                    "5": "51"
                                },
                                {
                                    "0": "REMITHA",
                                    "1": "TSR HELP PKG.",
                                    "2": "ASSEMBLY",
                                    "3": "2500",
                                    "4": "6000",
                                    "5": "7"
                                },
                                {
                                    "0": "REVATHI",
                                    "1": "HOSPITAL MGMT.",
                                    "2": "PASCAL",
                                    "3": "1100",
                                    "4": "75000",
                                    "5": "2"
                                },
                                {
                                    "0": "VIJAYA",
                                    "1": "TSR EDITOR",
                                    "2": "C",
                                    "3": "900",
                                    "4": "700",
                                    "5": "6"
                                }
                            ]
                        },
                        "text/html": "<table><tr><th>PNAME</th><th>TITLE</th><th>DEVELOPIN</th><th>SCOST</th><th>DCOST</th><th>SOLD</th></tr><tr><td>MARY</td><td>README</td><td>CPP</td><td>300</td><td>1200</td><td>84</td></tr><tr><td>ANAND</td><td>PARACHUTES</td><td>BASIC</td><td>399.95</td><td>6000</td><td>43</td></tr><tr><td>ANAND</td><td>VIDEO TITLING</td><td>PASCAL</td><td>7500</td><td>16000</td><td>9</td></tr><tr><td>JULIANA</td><td>INVENTORY</td><td>COBOL</td><td>3000</td><td>3500</td><td>0</td></tr><tr><td>KAMALA</td><td>PAYROLL PKG.</td><td>DBASE</td><td>9000</td><td>20000</td><td>7</td></tr><tr><td>MARY</td><td>FINANCIAL ACCT.</td><td>ORACLE</td><td>18000</td><td>85000</td><td>4</td></tr><tr><td>MARY</td><td>CODE GENERATOR</td><td>C</td><td>4500</td><td>20000</td><td>23</td></tr><tr><td>PATTRICK</td><td>README</td><td>CPP</td><td>300</td><td>1200</td><td>84</td></tr><tr><td>QADIR</td><td>BOMBS AWAY</td><td>ASSEMBLY</td><td>750</td><td>3000</td><td>11</td></tr><tr><td>QADIR</td><td>VACCINES</td><td>C</td><td>1900</td><td>3100</td><td>21</td></tr><tr><td>RAMESH</td><td>HOTEL MGMT.</td><td>DBASE</td><td>13000</td><td>35000</td><td>4</td></tr><tr><td>RAMESH</td><td>DEAD LEE</td><td>PASCAL</td><td>599.95</td><td>4500</td><td>73</td></tr><tr><td>REMITHA</td><td>PC UTILITIES</td><td>C</td><td>725</td><td>5000</td><td>51</td></tr><tr><td>REMITHA</td><td>TSR HELP PKG.</td><td>ASSEMBLY</td><td>2500</td><td>6000</td><td>7</td></tr><tr><td>REVATHI</td><td>HOSPITAL MGMT.</td><td>PASCAL</td><td>1100</td><td>75000</td><td>2</td></tr><tr><td>VIJAYA</td><td>TSR EDITOR</td><td>C</td><td>900</td><td>700</td><td>6</td></tr></table>"
                    },
                    "metadata": {}
                }
            ],
            "execution_count": 64
        },
        {
            "cell_type": "code",
            "source": [
                "--  15) How many people draw salary 2000 to 4000?\r\n",
                "SELECT COUNT(*) AS \"people draw salary 2000 to 4000\"\r\n",
                "FROM PROGRAMMER\r\n",
                "WHERE SALARY BETWEEN 2000 AND 4000"
            ],
            "metadata": {
                "language": "sql",
                "azdata_cell_guid": "7d114c0c-57c7-46d1-a7ec-635ce14037bf"
            },
            "outputs": [
                {
                    "output_type": "display_data",
                    "data": {
                        "text/html": "(1 row affected)"
                    },
                    "metadata": {}
                },
                {
                    "output_type": "display_data",
                    "data": {
                        "text/html": "Total execution time: 00:00:00.002"
                    },
                    "metadata": {}
                },
                {
                    "output_type": "execute_result",
                    "execution_count": 57,
                    "data": {
                        "application/vnd.dataresource+json": {
                            "schema": {
                                "fields": [
                                    {
                                        "name": "people draw salary 2000 to 4000"
                                    }
                                ]
                            },
                            "data": [
                                {
                                    "0": "12"
                                }
                            ]
                        },
                        "text/html": "<table><tr><th>people draw salary 2000 to 4000</th></tr><tr><td>12</td></tr></table>"
                    },
                    "metadata": {}
                }
            ],
            "execution_count": 57
        },
        {
            "cell_type": "code",
            "source": [
                "-- 14) What is the AVG Salary? \r\n",
                "SELECT AVG(CAST(SALARY AS INT)) AS AVG_SALARY\r\n",
                "FROM PROGRAMMER"
            ],
            "metadata": {
                "azdata_cell_guid": "6ba20e56-8f35-4f37-8d23-dfe55c333efa",
                "language": "sql"
            },
            "outputs": [
                {
                    "output_type": "display_data",
                    "data": {
                        "text/html": "(1 row affected)"
                    },
                    "metadata": {}
                },
                {
                    "output_type": "display_data",
                    "data": {
                        "text/html": "Total execution time: 00:00:00.003"
                    },
                    "metadata": {}
                },
                {
                    "output_type": "execute_result",
                    "execution_count": 56,
                    "data": {
                        "application/vnd.dataresource+json": {
                            "schema": {
                                "fields": [
                                    {
                                        "name": "AVG_SALARY"
                                    }
                                ]
                            },
                            "data": [
                                {
                                    "0": "3169"
                                }
                            ]
                        },
                        "text/html": "<table><tr><th>AVG_SALARY</th></tr><tr><td>3169</td></tr></table>"
                    },
                    "metadata": {}
                }
            ],
            "execution_count": 56
        },
        {
            "cell_type": "code",
            "source": [
                "-- 1) What is the Highest Number of copies sold by a Package?\r\n",
                "SELECT TITLE,SUM(CAST(SOLD AS INT)) AS NO_COPIES_SOLD\r\n",
                "FROM SOFTWARE\r\n",
                "GROUP BY TITLE\r\n",
                "ORDER BY NO_COPIES_SOLD DESC"
            ],
            "metadata": {
                "azdata_cell_guid": "6ebbaf62-24d9-46cb-9952-46a58d6ff63a",
                "language": "sql"
            },
            "outputs": [
                {
                    "output_type": "display_data",
                    "data": {
                        "text/html": "(15 rows affected)"
                    },
                    "metadata": {}
                },
                {
                    "output_type": "display_data",
                    "data": {
                        "text/html": "Total execution time: 00:00:00.002"
                    },
                    "metadata": {}
                },
                {
                    "output_type": "execute_result",
                    "execution_count": 20,
                    "data": {
                        "application/vnd.dataresource+json": {
                            "schema": {
                                "fields": [
                                    {
                                        "name": "TITLE"
                                    },
                                    {
                                        "name": "NO_COPIES_SOLD"
                                    }
                                ]
                            },
                            "data": [
                                {
                                    "0": "README",
                                    "1": "168"
                                },
                                {
                                    "0": "DEAD LEE",
                                    "1": "73"
                                },
                                {
                                    "0": "PC UTILITIES",
                                    "1": "51"
                                },
                                {
                                    "0": "PARACHUTES",
                                    "1": "43"
                                },
                                {
                                    "0": "CODE GENERATOR",
                                    "1": "23"
                                },
                                {
                                    "0": "VACCINES",
                                    "1": "21"
                                },
                                {
                                    "0": "BOMBS AWAY",
                                    "1": "11"
                                },
                                {
                                    "0": "VIDEO TITLING",
                                    "1": "9"
                                },
                                {
                                    "0": "TSR HELP PKG.",
                                    "1": "7"
                                },
                                {
                                    "0": "PAYROLL PKG.",
                                    "1": "7"
                                },
                                {
                                    "0": "TSR EDITOR",
                                    "1": "6"
                                },
                                {
                                    "0": "HOTEL MGMT.",
                                    "1": "4"
                                },
                                {
                                    "0": "FINANCIAL ACCT.",
                                    "1": "4"
                                },
                                {
                                    "0": "HOSPITAL MGMT.",
                                    "1": "2"
                                },
                                {
                                    "0": "INVENTORY",
                                    "1": "0"
                                }
                            ]
                        },
                        "text/html": "<table><tr><th>TITLE</th><th>NO_COPIES_SOLD</th></tr><tr><td>README</td><td>168</td></tr><tr><td>DEAD LEE</td><td>73</td></tr><tr><td>PC UTILITIES</td><td>51</td></tr><tr><td>PARACHUTES</td><td>43</td></tr><tr><td>CODE GENERATOR</td><td>23</td></tr><tr><td>VACCINES</td><td>21</td></tr><tr><td>BOMBS AWAY</td><td>11</td></tr><tr><td>VIDEO TITLING</td><td>9</td></tr><tr><td>TSR HELP PKG.</td><td>7</td></tr><tr><td>PAYROLL PKG.</td><td>7</td></tr><tr><td>TSR EDITOR</td><td>6</td></tr><tr><td>HOTEL MGMT.</td><td>4</td></tr><tr><td>FINANCIAL ACCT.</td><td>4</td></tr><tr><td>HOSPITAL MGMT.</td><td>2</td></tr><tr><td>INVENTORY</td><td>0</td></tr></table>"
                    },
                    "metadata": {}
                }
            ],
            "execution_count": 20
        },
        {
            "cell_type": "code",
            "source": [
                "-- 2. Display lowest course Fee. \r\n",
                "SELECT MIN(\"COURSE FEE\") AS LOWEST_COURSE_FEE\r\n",
                "FROM STUDIES"
            ],
            "metadata": {
                "azdata_cell_guid": "d598fc92-cf6e-4346-9a84-e3880f23bc2f",
                "language": "sql",
                "tags": []
            },
            "outputs": [
                {
                    "output_type": "display_data",
                    "data": {
                        "text/html": "(1 row affected)"
                    },
                    "metadata": {}
                },
                {
                    "output_type": "display_data",
                    "data": {
                        "text/html": "Total execution time: 00:00:00.002"
                    },
                    "metadata": {}
                },
                {
                    "output_type": "execute_result",
                    "execution_count": 3,
                    "data": {
                        "application/vnd.dataresource+json": {
                            "schema": {
                                "fields": [
                                    {
                                        "name": "LOWEST_COURSE_FEE"
                                    }
                                ]
                            },
                            "data": [
                                {
                                    "0": "4500"
                                }
                            ]
                        },
                        "text/html": "<table><tr><th>LOWEST_COURSE_FEE</th></tr><tr><td>4500</td></tr></table>"
                    },
                    "metadata": {}
                }
            ],
            "execution_count": 3
        },
        {
            "cell_type": "code",
            "source": [
                "-- 3. How old is the Oldest Male Programmer.\r\n",
                "-- Note: here considering DOB for comparison not DOJ\r\n",
                "\r\n",
                "\r\n",
                "SELECT PNAME, DATEDIFF(yy,DOB,GETDATE())AS \"AGE(years)\"\r\n",
                "FROM PROGRAMMER\r\n",
                "WHERE DOB=(SELECT MIN(DOB)\r\n",
                "FROM PROGRAMMER\r\n",
                "WHERE GENDER='M')\r\n",
                ""
            ],
            "metadata": {
                "language": "sql",
                "azdata_cell_guid": "c34cab3c-de2c-4317-9ad3-19ee61dcefc4"
            },
            "outputs": [
                {
                    "output_type": "display_data",
                    "data": {
                        "text/html": "(1 row affected)"
                    },
                    "metadata": {}
                },
                {
                    "output_type": "display_data",
                    "data": {
                        "text/html": "Total execution time: 00:00:00.005"
                    },
                    "metadata": {}
                },
                {
                    "output_type": "execute_result",
                    "execution_count": 30,
                    "data": {
                        "application/vnd.dataresource+json": {
                            "schema": {
                                "fields": [
                                    {
                                        "name": "PNAME"
                                    },
                                    {
                                        "name": "AGE(years)"
                                    }
                                ]
                            },
                            "data": [
                                {
                                    "0": "ALTAF",
                                    "1": "59"
                                }
                            ]
                        },
                        "text/html": "<table><tr><th>PNAME</th><th>AGE(years)</th></tr><tr><td>ALTAF</td><td>59</td></tr></table>"
                    },
                    "metadata": {}
                }
            ],
            "execution_count": 30
        },
        {
            "cell_type": "code",
            "source": [
                "-- 4) What is the AVG age of Female Programmers?\r\n",
                "SELECT AVG(DATEDIFF(yy,DOB,GETDATE())) AS AVG_AGE_FEMALE\r\n",
                "FROM PROGRAMMER\r\n",
                "WHERE GENDER='F'"
            ],
            "metadata": {
                "language": "sql",
                "azdata_cell_guid": "2eeb8a7a-8930-4d4d-b403-1705e901079c"
            },
            "outputs": [
                {
                    "output_type": "display_data",
                    "data": {
                        "text/html": "(1 row affected)"
                    },
                    "metadata": {}
                },
                {
                    "output_type": "display_data",
                    "data": {
                        "text/html": "Total execution time: 00:00:00.001"
                    },
                    "metadata": {}
                },
                {
                    "output_type": "execute_result",
                    "execution_count": 33,
                    "data": {
                        "application/vnd.dataresource+json": {
                            "schema": {
                                "fields": [
                                    {
                                        "name": "AVG_AGE_FEMALE"
                                    }
                                ]
                            },
                            "data": [
                                {
                                    "0": "56"
                                }
                            ]
                        },
                        "text/html": "<table><tr><th>AVG_AGE_FEMALE</th></tr><tr><td>56</td></tr></table>"
                    },
                    "metadata": {}
                }
            ],
            "execution_count": 33
        },
        {
            "cell_type": "code",
            "source": [
                "-- 5) Calculate the Experience in Years for each Programmer and Display with their names in Descending order. \r\n",
                "SELECT PNAME,DATEDIFF(YY,DOJ,GETDATE()) AS \"EXP(years)\"\r\n",
                "FROM PROGRAMMER\r\n",
                "ORDER BY PNAME DESC"
            ],
            "metadata": {
                "language": "sql",
                "azdata_cell_guid": "c3dd45ed-5642-4016-a417-d115b2186bd4"
            },
            "outputs": [
                {
                    "output_type": "display_data",
                    "data": {
                        "text/html": "(13 rows affected)"
                    },
                    "metadata": {}
                },
                {
                    "output_type": "display_data",
                    "data": {
                        "text/html": "Total execution time: 00:00:00.003"
                    },
                    "metadata": {}
                },
                {
                    "output_type": "execute_result",
                    "execution_count": 36,
                    "data": {
                        "application/vnd.dataresource+json": {
                            "schema": {
                                "fields": [
                                    {
                                        "name": "PNAME"
                                    },
                                    {
                                        "name": "EXP(years)"
                                    }
                                ]
                            },
                            "data": [
                                {
                                    "0": "VIJAYA",
                                    "1": "31"
                                },
                                {
                                    "0": "REVATHI",
                                    "1": "31"
                                },
                                {
                                    "0": "REMITHA",
                                    "1": "30"
                                },
                                {
                                    "0": "REBECCA",
                                    "1": "33"
                                },
                                {
                                    "0": "RAMESH",
                                    "1": "32"
                                },
                                {
                                    "0": "QADIR",
                                    "1": "32"
                                },
                                {
                                    "0": "PATTRICK",
                                    "1": "33"
                                },
                                {
                                    "0": "NELSON",
                                    "1": "34"
                                },
                                {
                                    "0": "MARY",
                                    "1": "32"
                                },
                                {
                                    "0": "KAMALA",
                                    "1": "31"
                                },
                                {
                                    "0": "JULIANA",
                                    "1": "33"
                                },
                                {
                                    "0": "ANAND",
                                    "1": "31"
                                },
                                {
                                    "0": "ALTAF",
                                    "1": "33"
                                }
                            ]
                        },
                        "text/html": "<table><tr><th>PNAME</th><th>EXP(years)</th></tr><tr><td>VIJAYA</td><td>31</td></tr><tr><td>REVATHI</td><td>31</td></tr><tr><td>REMITHA</td><td>30</td></tr><tr><td>REBECCA</td><td>33</td></tr><tr><td>RAMESH</td><td>32</td></tr><tr><td>QADIR</td><td>32</td></tr><tr><td>PATTRICK</td><td>33</td></tr><tr><td>NELSON</td><td>34</td></tr><tr><td>MARY</td><td>32</td></tr><tr><td>KAMALA</td><td>31</td></tr><tr><td>JULIANA</td><td>33</td></tr><tr><td>ANAND</td><td>31</td></tr><tr><td>ALTAF</td><td>33</td></tr></table>"
                    },
                    "metadata": {}
                }
            ],
            "execution_count": 36
        },
        {
            "cell_type": "code",
            "source": [
                "-- 6. How many programmers have done the PGDCA Course? \r\n",
                "SELECT COUNT(*) AS COUNT_PGDCA_COURSE_STUDENTS\r\n",
                "FROM STUDIES\r\n",
                "WHERE COURSE='PGDCA'"
            ],
            "metadata": {
                "language": "sql",
                "azdata_cell_guid": "2ae97968-aa6d-480b-984a-65d90bdc9c37"
            },
            "outputs": [
                {
                    "output_type": "display_data",
                    "data": {
                        "text/html": "(1 row affected)"
                    },
                    "metadata": {}
                },
                {
                    "output_type": "display_data",
                    "data": {
                        "text/html": "Total execution time: 00:00:00.002"
                    },
                    "metadata": {}
                },
                {
                    "output_type": "execute_result",
                    "execution_count": 38,
                    "data": {
                        "application/vnd.dataresource+json": {
                            "schema": {
                                "fields": [
                                    {
                                        "name": "COUNT_PGDCA_COURSE_STUDENTS"
                                    }
                                ]
                            },
                            "data": [
                                {
                                    "0": "3"
                                }
                            ]
                        },
                        "text/html": "<table><tr><th>COUNT_PGDCA_COURSE_STUDENTS</th></tr><tr><td>3</td></tr></table>"
                    },
                    "metadata": {}
                }
            ],
            "execution_count": 38
        },
        {
            "cell_type": "code",
            "source": [
                "-- 7. How much revenue has been earned thru sales of Packages Developed in C.\r\n",
                "SELECT SUM(CAST(SCOST AS INT)) AS REVENUE_C\r\n",
                "FROM SOFTWARE\r\n",
                "WHERE DEVELOPIN='C'"
            ],
            "metadata": {
                "language": "sql",
                "azdata_cell_guid": "27067d6b-8988-4362-97a0-b544495eeedf"
            },
            "outputs": [
                {
                    "output_type": "display_data",
                    "data": {
                        "text/html": "(1 row affected)"
                    },
                    "metadata": {}
                },
                {
                    "output_type": "display_data",
                    "data": {
                        "text/html": "Total execution time: 00:00:00.003"
                    },
                    "metadata": {}
                },
                {
                    "output_type": "execute_result",
                    "execution_count": 42,
                    "data": {
                        "application/vnd.dataresource+json": {
                            "schema": {
                                "fields": [
                                    {
                                        "name": "REVENUE_C"
                                    }
                                ]
                            },
                            "data": [
                                {
                                    "0": "8025"
                                }
                            ]
                        },
                        "text/html": "<table><tr><th>REVENUE_C</th></tr><tr><td>8025</td></tr></table>"
                    },
                    "metadata": {}
                }
            ],
            "execution_count": 42
        },
        {
            "cell_type": "code",
            "source": [
                "-- 8. How many Programmers Studied at Sabhari? \r\n",
                "SELECT COUNT(*) COUNT_PROGRAMMERS_STUDIED_SABHARI\r\n",
                "FROM STUDIES\r\n",
                "WHERE INSTITUTE='Sabhari'"
            ],
            "metadata": {
                "language": "sql",
                "azdata_cell_guid": "dfda7295-5de1-4d05-92af-097252ebd921"
            },
            "outputs": [
                {
                    "output_type": "display_data",
                    "data": {
                        "text/html": "(1 row affected)"
                    },
                    "metadata": {}
                },
                {
                    "output_type": "display_data",
                    "data": {
                        "text/html": "Total execution time: 00:00:00.007"
                    },
                    "metadata": {}
                },
                {
                    "output_type": "execute_result",
                    "execution_count": 46,
                    "data": {
                        "application/vnd.dataresource+json": {
                            "schema": {
                                "fields": [
                                    {
                                        "name": "COUNT_PROGRAMMERS_AT_SABHARI"
                                    }
                                ]
                            },
                            "data": [
                                {
                                    "0": "4"
                                }
                            ]
                        },
                        "text/html": "<table><tr><th>COUNT_PROGRAMMERS_AT_SABHARI</th></tr><tr><td>4</td></tr></table>"
                    },
                    "metadata": {}
                }
            ],
            "execution_count": 46
        },
        {
            "cell_type": "code",
            "source": [
                "-- 9. How many Packages Developed in DBASE? \r\n",
                "SELECT COUNT(*) AS PACKAGES_DEVELOPED_IN_DBASE\r\n",
                "FROM SOFTWARE\r\n",
                "WHERE DEVELOPIN='DBASE'"
            ],
            "metadata": {
                "language": "sql",
                "azdata_cell_guid": "824eaaeb-6489-41d7-bd9d-4e77accdeb93"
            },
            "outputs": [
                {
                    "output_type": "display_data",
                    "data": {
                        "text/html": "(1 row affected)"
                    },
                    "metadata": {}
                },
                {
                    "output_type": "display_data",
                    "data": {
                        "text/html": "Total execution time: 00:00:00.002"
                    },
                    "metadata": {}
                },
                {
                    "output_type": "execute_result",
                    "execution_count": 47,
                    "data": {
                        "application/vnd.dataresource+json": {
                            "schema": {
                                "fields": [
                                    {
                                        "name": "PACKAGES_DEVELOPED_IN_DBASE"
                                    }
                                ]
                            },
                            "data": [
                                {
                                    "0": "2"
                                }
                            ]
                        },
                        "text/html": "<table><tr><th>PACKAGES_DEVELOPED_IN_DBASE</th></tr><tr><td>2</td></tr></table>"
                    },
                    "metadata": {}
                }
            ],
            "execution_count": 47
        },
        {
            "cell_type": "code",
            "source": [
                "-- 10. How many programmers studied in Pragathi? \r\n",
                "SELECT COUNT(*) AS PROGRAMMERS_STUDIED_IN_PRAGATHI\r\n",
                "FROM STUDIES S\r\n",
                "WHERE S.INSTITUTE='Pragathi'\r\n",
                ""
            ],
            "metadata": {
                "language": "sql",
                "azdata_cell_guid": "80e0355b-f81c-431d-8df9-63211c0eb1ad",
                "tags": []
            },
            "outputs": [
                {
                    "output_type": "display_data",
                    "data": {
                        "text/html": "(1 row affected)"
                    },
                    "metadata": {}
                },
                {
                    "output_type": "display_data",
                    "data": {
                        "text/html": "Total execution time: 00:00:00.002"
                    },
                    "metadata": {}
                },
                {
                    "output_type": "execute_result",
                    "execution_count": 49,
                    "data": {
                        "application/vnd.dataresource+json": {
                            "schema": {
                                "fields": [
                                    {
                                        "name": "PROGRAMMERS_STUDIED_IN_PRAGATHI"
                                    }
                                ]
                            },
                            "data": [
                                {
                                    "0": "3"
                                }
                            ]
                        },
                        "text/html": "<table><tr><th>PROGRAMMERS_STUDIED_IN_PRAGATHI</th></tr><tr><td>3</td></tr></table>"
                    },
                    "metadata": {}
                }
            ],
            "execution_count": 49
        },
        {
            "cell_type": "code",
            "source": [
                "-- 11. How many Programmers Paid 5000 to 10000 for their course? \r\n",
                "SELECT COUNT(*) AS PROGRAMMERS_PAID_BETWEEN_5000_10000\r\n",
                "FROM STUDIES S\r\n",
                "WHERE S.[COURSE FEE] BETWEEN 5000 AND 10000\r\n",
                ""
            ],
            "metadata": {
                "language": "sql",
                "azdata_cell_guid": "8b1b5b13-d998-4cd7-9704-0b2dbf98550d"
            },
            "outputs": [
                {
                    "output_type": "display_data",
                    "data": {
                        "text/html": "(1 row affected)"
                    },
                    "metadata": {}
                },
                {
                    "output_type": "display_data",
                    "data": {
                        "text/html": "Total execution time: 00:00:00.002"
                    },
                    "metadata": {}
                },
                {
                    "output_type": "execute_result",
                    "execution_count": 50,
                    "data": {
                        "application/vnd.dataresource+json": {
                            "schema": {
                                "fields": [
                                    {
                                        "name": "PROGRAMMERS_PAID_BETWEEN_5000_10000"
                                    }
                                ]
                            },
                            "data": [
                                {
                                    "0": "6"
                                }
                            ]
                        },
                        "text/html": "<table><tr><th>PROGRAMMERS_PAID_BETWEEN_5000_10000</th></tr><tr><td>6</td></tr></table>"
                    },
                    "metadata": {}
                }
            ],
            "execution_count": 50
        },
        {
            "cell_type": "code",
            "source": [
                "-- 12. How many Programmers know either COBOL or PASCAL? \r\n",
                "SELECT COUNT(*) AS \"Programmers know either COBOL or PASCAL\"\r\n",
                "FROM PROGRAMMER\r\n",
                "WHERE PROF1 IN ('COBOL','PASCAL') OR PROF2 IN ('COBOL','PASCAL')"
            ],
            "metadata": {
                "language": "sql",
                "azdata_cell_guid": "47479f5a-ba64-4e4e-b128-8168d2889dd7"
            },
            "outputs": [
                {
                    "output_type": "display_data",
                    "data": {
                        "text/html": "(1 row affected)"
                    },
                    "metadata": {}
                },
                {
                    "output_type": "display_data",
                    "data": {
                        "text/html": "Total execution time: 00:00:00.002"
                    },
                    "metadata": {}
                },
                {
                    "output_type": "execute_result",
                    "execution_count": 53,
                    "data": {
                        "application/vnd.dataresource+json": {
                            "schema": {
                                "fields": [
                                    {
                                        "name": "Programmers know either COBOL or PASCAL"
                                    }
                                ]
                            },
                            "data": [
                                {
                                    "0": "8"
                                }
                            ]
                        },
                        "text/html": "<table><tr><th>Programmers know either COBOL or PASCAL</th></tr><tr><td>8</td></tr></table>"
                    },
                    "metadata": {}
                }
            ],
            "execution_count": 53
        },
        {
            "cell_type": "code",
            "source": [
                "-- 13) How many Female Programmers are there?\r\n",
                "SELECT COUNT(*) AS FEMALE_PROGRAMMER_COUNT\r\n",
                "FROM PROGRAMMER\r\n",
                "WHERE GENDER='F'"
            ],
            "metadata": {
                "language": "sql",
                "azdata_cell_guid": "35c868eb-6f41-4b6e-ab30-22b69c343a69"
            },
            "outputs": [
                {
                    "output_type": "display_data",
                    "data": {
                        "text/html": "(1 row affected)"
                    },
                    "metadata": {}
                },
                {
                    "output_type": "display_data",
                    "data": {
                        "text/html": "Total execution time: 00:00:00.002"
                    },
                    "metadata": {}
                },
                {
                    "output_type": "execute_result",
                    "execution_count": 54,
                    "data": {
                        "application/vnd.dataresource+json": {
                            "schema": {
                                "fields": [
                                    {
                                        "name": "FEMALE_PROGRAMMER_COUNT"
                                    }
                                ]
                            },
                            "data": [
                                {
                                    "0": "7"
                                }
                            ]
                        },
                        "text/html": "<table><tr><th>FEMALE_PROGRAMMER_COUNT</th></tr><tr><td>7</td></tr></table>"
                    },
                    "metadata": {}
                }
            ],
            "execution_count": 54
        }
    ]
}